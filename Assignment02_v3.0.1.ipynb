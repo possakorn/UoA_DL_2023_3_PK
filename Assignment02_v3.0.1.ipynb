{
  "cells": [
    {
      "cell_type": "markdown",
      "metadata": {
        "id": "view-in-github",
        "colab_type": "text"
      },
      "source": [
        "<a href=\"https://colab.research.google.com/github/possakorn/UoA_DL_2023_3_PK/blob/main/Assignment02_v3.0.1.ipynb\" target=\"_parent\"><img src=\"https://colab.research.google.com/assets/colab-badge.svg\" alt=\"Open In Colab\"/></a>"
      ]
    },
    {
      "cell_type": "markdown",
      "metadata": {
        "id": "2EP7shVVj0tL"
      },
      "source": [
        "# Assessment 2: CNNs for image classification"
      ]
    },
    {
      "cell_type": "markdown",
      "metadata": {
        "id": "XdoZXO-z_riF"
      },
      "source": [
        "## Setup: import lib"
      ]
    },
    {
      "cell_type": "code",
      "execution_count": 35,
      "metadata": {
        "id": "vqbmgXmni9po"
      },
      "outputs": [],
      "source": [
        "## section: Data manioulation\n",
        "import pandas as pd\n",
        "import numpy as np\n",
        "import random\n",
        "## visualization\n",
        "import plotly\n",
        "import matplotlib.pyplot as plt\n",
        "import seaborn as sns\n",
        "\n",
        "## section: neural network\n",
        "import torch\n",
        "## pytorch: dataset\n",
        "import torchvision\n",
        "from torchvision import models\n",
        "## pytorch: network and function\n",
        "import torch.nn as nn\n",
        "import torch.nn.functional as F\n",
        "import torch.optim as optim\n",
        "from torch.optim.lr_scheduler import ExponentialLR, OneCycleLR\n",
        "\n",
        "from torchsummary import summary\n",
        "\n",
        "from torchvision import datasets, transforms\n",
        "from torch.utils.data import DataLoader, Dataset, random_split\n",
        "\n",
        "from sklearn.model_selection import train_test_split\n",
        "from sklearn.preprocessing import StandardScaler"
      ]
    },
    {
      "cell_type": "code",
      "execution_count": 60,
      "metadata": {
        "colab": {
          "base_uri": "https://localhost:8080/"
        },
        "id": "bWdVE73zj_Lc",
        "outputId": "75091090-a156-4056-dac0-ae2ebe69ea0c"
      },
      "outputs": [
        {
          "output_type": "stream",
          "name": "stdout",
          "text": [
            "Using device: cuda Using number of workers:  4\n",
            "\n",
            "Tesla T4\n",
            "Memory Usage:\n",
            "Allocated: 0.6 GB\n",
            "Cached:    0.7 GB\n"
          ]
        },
        {
          "output_type": "stream",
          "name": "stderr",
          "text": [
            "/usr/local/lib/python3.10/dist-packages/torch/cuda/memory.py:444: FutureWarning: torch.cuda.memory_cached has been renamed to torch.cuda.memory_reserved\n",
            "  warnings.warn(\n"
          ]
        }
      ],
      "source": [
        "# setting device on GPU if available, else CPU\n",
        "torch.cuda.empty_cache()\n",
        "device = torch.device('cuda' if torch.cuda.is_available() else 'cpu')\n",
        "if device == torch.device('cuda'):\n",
        "  worker = 4\n",
        "else:\n",
        "  worker = 0\n",
        "print('Using device:', device, 'Using number of workers: ', worker)\n",
        "print()\n",
        "\n",
        "\n",
        "#Additional Info when using cuda\n",
        "if device.type == 'cuda':\n",
        "    print(torch.cuda.get_device_name(0))\n",
        "    print('Memory Usage:')\n",
        "    print('Allocated:', round(torch.cuda.memory_allocated(0)/1024**3,1), 'GB')\n",
        "    print('Cached:   ', round(torch.cuda.memory_cached(0)/1024**3,1), 'GB')\n",
        "\n",
        "# Set the seed for reproducibility\n",
        "def set_seed(seed):\n",
        "    np.random.seed(seed)\n",
        "    torch.manual_seed(seed)\n",
        "    if torch.cuda.is_available():\n",
        "        torch.cuda.manual_seed(seed)\n",
        "        torch.cuda.manual_seed_all(seed)  # if you are using multi-GPU.\n",
        "        torch.backends.cudnn.deterministic = True\n",
        "        torch.backends.cudnn.benchmark = False"
      ]
    },
    {
      "cell_type": "markdown",
      "metadata": {
        "id": "lL7naWpLkRJr"
      },
      "source": [
        "## Step01: Data exploration"
      ]
    },
    {
      "cell_type": "code",
      "execution_count": 37,
      "metadata": {
        "id": "oj7kB9S6kUEo",
        "colab": {
          "base_uri": "https://localhost:8080/"
        },
        "outputId": "3730a6ac-273d-472b-ca15-c4662a6477ab"
      },
      "outputs": [
        {
          "output_type": "stream",
          "name": "stdout",
          "text": [
            "Files already downloaded and verified\n",
            "Files already downloaded and verified\n"
          ]
        }
      ],
      "source": [
        "## Download from cifar10\n",
        "dataset = 'cifar10' # change this one\n",
        "set_seed(1311)\n",
        "training_data = datasets.CIFAR10(\n",
        "    root=\"data\",\n",
        "    train=True,\n",
        "    download = True,\n",
        "    transform= transforms.Compose([\n",
        "        transforms.RandomCrop(32, padding=4),\n",
        "        transforms.RandomHorizontalFlip(),\n",
        "        transforms.ToTensor(),\n",
        "        transforms.Normalize((0.5, 0.5, 0.5), (0.5, 0.5, 0.5))\n",
        "    ])\n",
        ")\n",
        "\n",
        "testing_data = datasets.CIFAR10(\n",
        "    root=\"data\",\n",
        "    train=False,\n",
        "    download = True,\n",
        "    transform= transforms.Compose([\n",
        "        transforms.ToTensor(),\n",
        "        transforms.Normalize((0.5, 0.5, 0.5), (0.5, 0.5, 0.5))\n",
        "    ])\n",
        ")"
      ]
    },
    {
      "cell_type": "markdown",
      "metadata": {
        "id": "h1L2jeNDMKmh"
      },
      "source": [
        "### Exploratory Image analysis"
      ]
    },
    {
      "cell_type": "code",
      "execution_count": 38,
      "metadata": {
        "colab": {
          "base_uri": "https://localhost:8080/",
          "height": 523
        },
        "id": "i6UCnEb7MQz7",
        "outputId": "4e12e3b2-b717-47cc-9c8e-70161101c76f"
      },
      "outputs": [
        {
          "output_type": "stream",
          "name": "stderr",
          "text": [
            "WARNING:matplotlib.image:Clipping input data to the valid range for imshow with RGB data ([0..1] for floats or [0..255] for integers).\n"
          ]
        },
        {
          "output_type": "stream",
          "name": "stdout",
          "text": [
            "Check Shape of images:  torch.Size([3, 32, 32]) 4\n",
            "Preview Images with Label : truck\n",
            "Show of images unique 10 labels:  ['airplane', 'automobile', 'bird', 'cat', 'deer', 'dog', 'frog', 'horse', 'ship', 'truck']\n"
          ]
        },
        {
          "output_type": "display_data",
          "data": {
            "text/plain": [
              "<Figure size 640x480 with 1 Axes>"
            ],
            "image/png": "[encoded data removed]"
          },
          "metadata": {}
        }
      ],
      "source": [
        "## check shape and labels\n",
        "img, label = training_data[3]\n",
        "print(\"Check Shape of images: \",img.shape,label)\n",
        "\n",
        "def display_img(img,label):\n",
        "  print(f\"Preview Images with Label : {training_data.classes[label]}\")\n",
        "  plt.imshow(img.permute(1,2,0)) # for visualization following the plt need to change the shapes\n",
        "\n",
        "#display the first image in the dataset\n",
        "display_img(*training_data[2])\n",
        "\n",
        "#Show all labels\n",
        "classes = training_data.classes\n",
        "num_class = len(classes)\n",
        "print(f\"Show of images unique {num_class} labels: \",classes)\n"
      ]
    },
    {
      "cell_type": "markdown",
      "metadata": {
        "id": "lLhgGFMQ_riJ"
      },
      "source": [
        "### Tranforms to Dataloader"
      ]
    },
    {
      "cell_type": "code",
      "execution_count": 25,
      "metadata": {
        "id": "qgVgyazEqzku",
        "outputId": "465e8f30-da28-4aaa-e73d-5d4dd95ab758",
        "colab": {
          "base_uri": "https://localhost:8080/"
        }
      },
      "outputs": [
        {
          "output_type": "stream",
          "name": "stdout",
          "text": [
            "Training set: 13107 items, 410 batches\n",
            "Validation set: 3277 items, 103 batches\n",
            "Test set: 10000 items, 313 batches\n"
          ]
        }
      ],
      "source": [
        "batch_size = 32\n",
        "\n",
        "## setting the split configuration\n",
        "set_seed(1311)\n",
        "train_size = int(0.8 * len(training_data))\n",
        "val_size = len(training_data) - train_size\n",
        "training_data, val_data = random_split(training_data, [train_size, val_size])\n",
        "\n",
        "## apply the dataloader\n",
        "set_seed(1311)\n",
        "\n",
        "trainloader = torch.utils.data.DataLoader(\n",
        "    training_data,\n",
        "    batch_size=batch_size,\n",
        "    shuffle=True,\n",
        "    num_workers=worker,\n",
        "    pin_memory = True\n",
        "    )\n",
        "valloader = torch.utils.data.DataLoader(\n",
        "    val_data,\n",
        "    batch_size=batch_size,\n",
        "    shuffle=False,\n",
        "    num_workers=worker,\n",
        "    pin_memory = True\n",
        "    )\n",
        "testloader = torch.utils.data.DataLoader(\n",
        "    testing_data,\n",
        "    batch_size=batch_size,\n",
        "    shuffle=False,\n",
        "    num_workers=worker,\n",
        "    pin_memory = True\n",
        "    )\n",
        "\n",
        "# check the splitting\n",
        "num_items_train = len(trainloader.dataset)\n",
        "num_items_val = len(valloader.dataset)\n",
        "num_items_test = len(testloader.dataset)\n",
        "\n",
        "num_batches_train = len(trainloader)\n",
        "num_batches_val = len(valloader)\n",
        "num_batches_test = len(testloader)\n",
        "\n",
        "print(\"Training set: {} items, {} batches\".format(num_items_train, num_batches_train))\n",
        "print(\"Validation set: {} items, {} batches\".format(num_items_val, num_batches_val))\n",
        "print(\"Test set: {} items, {} batches\".format(num_items_test, num_batches_test))"
      ]
    },
    {
      "cell_type": "markdown",
      "metadata": {
        "id": "hauxFqYP_riJ"
      },
      "source": [
        "### Review the Batch fig and size"
      ]
    },
    {
      "cell_type": "code",
      "execution_count": 26,
      "metadata": {
        "colab": {
          "base_uri": "https://localhost:8080/",
          "height": 190
        },
        "id": "fpEkgg_gZ03C",
        "outputId": "3e645b1f-4bf7-44c7-8767-9d7cc0acfebe"
      },
      "outputs": [
        {
          "output_type": "stream",
          "name": "stderr",
          "text": [
            "WARNING:matplotlib.image:Clipping input data to the valid range for imshow with RGB data ([0..1] for floats or [0..255] for integers).\n"
          ]
        },
        {
          "output_type": "stream",
          "name": "stdout",
          "text": [
            "torch.Size([32, 3, 32, 32])\n"
          ]
        },
        {
          "output_type": "display_data",
          "data": {
            "text/plain": [
              "<Figure size 1600x1200 with 1 Axes>"
            ],
            "image/png": "[encoded data removed]"
          },
          "metadata": {}
        }
      ],
      "source": [
        "from torchvision.utils import make_grid\n",
        "import matplotlib.pyplot as plt\n",
        "\n",
        "def show_batch(dl):\n",
        "    \"\"\"Plot images grid of single batch\"\"\"\n",
        "    for images, labels in dl:\n",
        "        fig,ax = plt.subplots(figsize = (16,12))\n",
        "        ax.set_xticks([])\n",
        "        ax.set_yticks([])\n",
        "        ax.imshow(make_grid(images,nrow=16).permute(1,2,0))\n",
        "        break\n",
        "\n",
        "## show the batch fig\n",
        "show_batch(trainloader)\n",
        "\n",
        "## print the size\n",
        "for batch in trainloader:\n",
        "    print(batch[0].shape)  # Assuming batch[0] contains the data and batch[1] contains the labels\n",
        "    break"
      ]
    },
    {
      "cell_type": "markdown",
      "metadata": {
        "id": "QMBsC9B7tfL-"
      },
      "source": [
        "## Base Model Functions For Image Classification"
      ]
    },
    {
      "cell_type": "code",
      "execution_count": null,
      "metadata": {
        "id": "v7sSC0if_riK"
      },
      "outputs": [],
      "source": [
        "## adding the progress bar\n",
        "import time\n",
        "from tqdm import tqdm\n",
        "import gc\n",
        "\n",
        "def reset_memory():\n",
        "    for layer in model.children():\n",
        "        if hasattr(layer, 'reset_parameters'):\n",
        "            layer.reset_parameters()\n",
        "\n",
        "def train_network(model, optimizer, criterion, trainloader, testloader, num_epochs, seed=1311, num_class = num_class):\n",
        "\n",
        "    device = torch.device('cuda' if torch.cuda.is_available() else 'cpu')\n",
        "    set_seed(seed)  # Set the seed\n",
        "    print('Using device:', device,\"with seed: \",seed)\n",
        "    print()\n",
        "\n",
        "    class_correct = list(0. for i in range(num_class))\n",
        "    class_total = list(0. for i in range(num_class))\n",
        "\n",
        "    # create set to collect the output\n",
        "    train_loss = []\n",
        "    train_accuracy = []\n",
        "    test_loss = []\n",
        "    test_accuracy = []\n",
        "\n",
        "    # get the input and output\n",
        "    for epoch in range(num_epochs):\n",
        "        epoch_start_time = time.time()\n",
        "\n",
        "        model.train()\n",
        "        correct_train = 0\n",
        "        total_train = 0\n",
        "        running_loss = 0.0\n",
        "        for inputs, labels in tqdm(trainloader, desc=f'Epoch {epoch+1}/{num_epochs} Training'):\n",
        "            inputs, labels = inputs.to(device), labels.to(device)\n",
        "\n",
        "            # zero the parameter gradients\n",
        "            optimizer.zero_grad()\n",
        "\n",
        "            # forward feed\n",
        "            outputs = model(inputs)\n",
        "            loss = criterion(outputs, labels)\n",
        "            loss.backward()\n",
        "            optimizer.step()\n",
        "\n",
        "            # statistics\n",
        "            running_loss += loss.item() * inputs.size(0)\n",
        "            _, preds = torch.max(outputs, 1)\n",
        "            correct_train += torch.sum(preds == labels.data)\n",
        "            total_train += labels.size(0)\n",
        "\n",
        "        scheduler.step()\n",
        "\n",
        "        epoch_loss = running_loss / total_train\n",
        "        epoch_acc = correct_train.double() / total_train\n",
        "        train_loss.append(epoch_loss)\n",
        "        train_accuracy.append(int(100 * epoch_acc))\n",
        "\n",
        "        # Validation\n",
        "        model.eval()\n",
        "        correct_test = 0\n",
        "        total_test = 0\n",
        "        running_test_loss = 0.0\n",
        "        with torch.no_grad():\n",
        "            for inputs, labels in tqdm(testloader, desc=f'Epoch {epoch+1}/{num_epochs} Testing'):\n",
        "                inputs, labels = inputs.to(device), labels.to(device)\n",
        "                outputs = model(inputs)\n",
        "                loss = criterion(outputs, labels)\n",
        "                running_test_loss += loss.item() * inputs.size(0)\n",
        "                _, preds = torch.max(outputs, 1)\n",
        "                correct_test += torch.sum(preds == labels.data)\n",
        "                total_test += labels.size(0)\n",
        "\n",
        "\n",
        "\n",
        "                if epoch + 1 == num_epochs:\n",
        "                  # class_correct = list(0. for i in range(num_class))\n",
        "                  # class_total = list(0. for i in range(num_class))\n",
        "                  c = (preds == labels).squeeze()\n",
        "                  for i in range(labels.size(0)):\n",
        "                      label = labels[i]\n",
        "                      class_correct[label] += c[i].item()\n",
        "                      class_total[label] += 1\n",
        "\n",
        "\n",
        "\n",
        "        epoch_test_loss = running_test_loss / total_test\n",
        "        test_loss.append(epoch_test_loss)\n",
        "        test_accuracy.append(int(100 * correct_test.double() / total_test))\n",
        "\n",
        "        epoch_end_time = time.time()\n",
        "        print(f'Epoch {epoch+1}/{num_epochs}, '\n",
        "              f'Train Loss: {epoch_loss:.4f}, Train Acc: {100 * epoch_acc:.2f}%, '\n",
        "              f'Test Loss: {epoch_test_loss:.4f}, Test Acc: {100 * correct_test.double() / total_test:.2f}%, '\n",
        "              f'Time: {epoch_end_time - epoch_start_time:.2f}s')\n",
        "\n",
        "        if epoch + 1 == num_epochs:\n",
        "          print('Accuracy for each class')\n",
        "          for i in range(num_class):\n",
        "            # print('Accuracy of %5s : %2d %%' % (classes[i], 100 * class_correct[i] / class_total[i]))\n",
        "            if class_total[i] > 0:\n",
        "                print('Accuracy of %5s : %2d %%' % (classes[i], 100 * class_correct[i] / class_total[i]))\n",
        "            else:\n",
        "                print('Accuracy of %5s : N/A (no training examples)' % (classes[i]))\n",
        "\n",
        "    reset_memory()\n",
        "\n",
        "    return train_loss, train_accuracy, test_loss, test_accuracy\n",
        "\n",
        "\n"
      ]
    },
    {
      "cell_type": "code",
      "source": [
        "import time\n",
        "from tqdm import tqdm\n",
        "\n",
        "def train_epoch(model, trainloader, criterion, optimizer, device):\n",
        "    model.train()\n",
        "    running_loss = 0.0\n",
        "    correct_train = 0\n",
        "    total_train = 0\n",
        "\n",
        "    for inputs, labels in tqdm(trainloader, desc='Training'):\n",
        "        inputs, labels = inputs.to(device), labels.to(device)\n",
        "\n",
        "        optimizer.zero_grad()\n",
        "        outputs = model(inputs)\n",
        "        loss = criterion(outputs, labels)\n",
        "        loss.backward()\n",
        "        optimizer.step()\n",
        "\n",
        "        running_loss += loss.item() * inputs.size(0)\n",
        "        _, preds = torch.max(outputs, 1)\n",
        "        correct_train += torch.sum(preds == labels.data)\n",
        "        total_train += labels.size(0)\n",
        "\n",
        "    epoch_loss = running_loss / total_train\n",
        "    epoch_acc = correct_train.double() / total_train\n",
        "    return epoch_loss, epoch_acc\n",
        "\n",
        "def evaluate(model, dataloader, criterion, device):\n",
        "    model.eval()\n",
        "    running_loss = 0.0\n",
        "    correct = 0\n",
        "    total = 0\n",
        "\n",
        "    with torch.no_grad():\n",
        "        for inputs, labels in tqdm(dataloader, desc='Evaluating'):\n",
        "            inputs, labels = inputs.to(device), labels.to(device)\n",
        "            outputs = model(inputs)\n",
        "            loss = criterion(outputs, labels)\n",
        "            running_loss += loss.item() * inputs.size(0)\n",
        "            _, preds = torch.max(outputs, 1)\n",
        "            correct += torch.sum(preds == labels.data)\n",
        "            total += labels.size(0)\n",
        "\n",
        "    loss = running_loss / total\n",
        "    accuracy = correct.double() / total\n",
        "    return loss, accuracy\n",
        "\n",
        "\n",
        "def train_network(model, optimizer, criterion, scheduler, trainloader, valloader, testloader, num_epochs, device, num_class, model_name, dataset):\n",
        "    set_seed(1311)\n",
        "    ## Set up the path for saving the model\n",
        "    PATH = f'./{dataset}_{model_name}.pth'\n",
        "    print('Model will be saved to:', PATH)\n",
        "    print('Using device:', device, 'with seed: 1311')\n",
        "    print()\n",
        "\n",
        "    ## Initialize variables\n",
        "    best_val_acc = 0  # to track the best validation accuracy\n",
        "    # create set to collect the output\n",
        "    history = {\n",
        "        'train_loss': [],\n",
        "        'train_accuracy': [],\n",
        "        'val_loss': [],\n",
        "        'val_accuracy': [],\n",
        "    }\n",
        "\n",
        "    for epoch in range(num_epochs):\n",
        "        epoch_start_time = time.time()\n",
        "\n",
        "        train_loss, train_acc = train_epoch(model, trainloader, criterion, optimizer, device)\n",
        "        val_loss, val_acc = evaluate(model, valloader, criterion, device)\n",
        "\n",
        "\n",
        "        # Step the scheduler with the validation loss\n",
        "        # scheduler.step()\n",
        "        scheduler.step(val_acc) # for ReduceLROnPlateau\n",
        "\n",
        "        history['train_loss'].append(train_loss)\n",
        "        history['train_accuracy'].append(100 * train_acc)\n",
        "        history['val_loss'].append(val_loss)\n",
        "        history['val_accuracy'].append(100 * val_acc)\n",
        "\n",
        "        # Save the model if it has improved on validation accuracy\n",
        "        if val_acc > best_val_acc:\n",
        "            best_val_acc = val_acc\n",
        "            torch.save(model.state_dict(), PATH)\n",
        "            print(f'Model improved and saved to {PATH}')\n",
        "\n",
        "        # print epoch results\n",
        "        epoch_end_time = time.time()\n",
        "        print(f'Epoch {epoch+1}/{num_epochs}, '\n",
        "              f'Train Loss: {train_loss:.4f}, Train Acc: {100 * train_acc:.2f}%, '\n",
        "              f'Val Loss: {val_loss:.4f}, Val Acc: {100 * val_acc:.2f}%, '\n",
        "              f'Time: {epoch_end_time - epoch_start_time:.2f}s')\n",
        "\n",
        "    print('Training complete. Evaluating on test set with the best model...')\n",
        "\n",
        "    # Load the best model for final evaluation on test set\n",
        "    best_model = model\n",
        "    best_model.load_state_dict(torch.load(PATH))\n",
        "    test_loss, test_acc = evaluate(best_model, testloader, criterion, device)\n",
        "    print(f'Test Loss: {test_loss:.4f}, Test Acc: {100 * test_acc:.2f}%')\n",
        "\n",
        "    # Add test results to history\n",
        "    history['test_loss'] = test_loss\n",
        "    history['test_accuracy'] = 100 * test_acc\n",
        "\n",
        "    return history"
      ],
      "metadata": {
        "id": "POnZ3eTL34w7"
      },
      "execution_count": 77,
      "outputs": []
    },
    {
      "cell_type": "markdown",
      "metadata": {
        "id": "4QCY3e2prCKc"
      },
      "source": [
        "## Initialize network"
      ]
    },
    {
      "cell_type": "markdown",
      "metadata": {
        "id": "F3M0MP-b_riL"
      },
      "source": [
        "### network: workshop CNN"
      ]
    },
    {
      "cell_type": "code",
      "execution_count": null,
      "metadata": {
        "colab": {
          "base_uri": "https://localhost:8080/"
        },
        "id": "VZi-Qovc_riL",
        "outputId": "4cf57687-53e2-4473-fbd5-ff465d724c7a"
      },
      "outputs": [
        {
          "output_type": "stream",
          "name": "stdout",
          "text": [
            "Net(\n",
            "  (conv1): Conv2d(3, 6, kernel_size=(5, 5), stride=(1, 1))\n",
            "  (pool): MaxPool2d(kernel_size=2, stride=2, padding=0, dilation=1, ceil_mode=False)\n",
            "  (conv2): Conv2d(6, 16, kernel_size=(5, 5), stride=(1, 1))\n",
            "  (fc1): Linear(in_features=400, out_features=120, bias=True)\n",
            "  (fc2): Linear(in_features=120, out_features=84, bias=True)\n",
            "  (fc3): Linear(in_features=84, out_features=10, bias=True)\n",
            ")\n"
          ]
        }
      ],
      "source": [
        "import torch.nn as nn\n",
        "import torch.nn.functional as F\n",
        "\n",
        "\n",
        "class Net(nn.Module):\n",
        "    def __init__(self, num_classes=num_class):\n",
        "        super(Net, self).__init__()\n",
        "        self.conv1 = nn.Conv2d(3, 6, 5)\n",
        "        self.pool = nn.MaxPool2d(2, 2)\n",
        "        self.conv2 = nn.Conv2d(6, 16, 5)\n",
        "        if num_class == 10:\n",
        "          self.fc1 = nn.Linear(16 * 5 * 5, 120)\n",
        "          self.fc2 = nn.Linear(120, 84)\n",
        "          self.fc3 = nn.Linear(84, num_class)\n",
        "        else:\n",
        "          self.fc1 = nn.Linear(16 * 5 * 5, 200)\n",
        "          self.fc2 = nn.Linear(200, 120)\n",
        "          self.fc3 = nn.Linear(120, num_class)\n",
        "\n",
        "    def forward(self, x):\n",
        "        x = self.pool(F.relu(self.conv1(x)))\n",
        "        x = self.pool(F.relu(self.conv2(x)))\n",
        "        x = x.view(-1, 16 * 5 * 5)\n",
        "        x = F.relu(self.fc1(x))\n",
        "        x = F.relu(self.fc2(x))\n",
        "        x = self.fc3(x)\n",
        "        return x\n",
        "\n",
        "net = Net().to(device)\n",
        "print(net)"
      ]
    },
    {
      "cell_type": "markdown",
      "metadata": {
        "id": "xgZCOURA_riL"
      },
      "source": [
        "### network: SimpleCNN"
      ]
    },
    {
      "cell_type": "code",
      "execution_count": 29,
      "metadata": {
        "id": "0m8ltkhf_riL"
      },
      "outputs": [],
      "source": [
        "import torch.nn as nn\n",
        "import torch.nn.functional as F\n",
        "\n",
        "class SimpleCNN(nn.Module):\n",
        "    def __init__(self, num_classes=num_class):\n",
        "        super(SimpleCNN, self).__init__()\n",
        "        self.conv1 = nn.Conv2d(3, 32, kernel_size=3, padding=1)\n",
        "        self.conv2 = nn.Conv2d(32, 64, kernel_size=3, padding=1)\n",
        "        self.conv3 = nn.Conv2d(64, 128, kernel_size=3, padding=1)\n",
        "        self.pool = nn.MaxPool2d(2, 2)\n",
        "        self.fc1 = nn.Linear(128 * 4 * 4, 512)\n",
        "        self.fc2 = nn.Linear(512, num_classes)\n",
        "\n",
        "    def forward(self, x):\n",
        "        x = self.pool(F.relu(self.conv1(x)))\n",
        "        x = self.pool(F.relu(self.conv2(x)))\n",
        "        x = self.pool(F.relu(self.conv3(x)))\n",
        "        x = x.view(-1, 128 * 4 * 4)\n",
        "        x = F.relu(self.fc1(x))\n",
        "        x = self.fc2(x)\n",
        "        return x"
      ]
    },
    {
      "cell_type": "markdown",
      "metadata": {
        "id": "dy7L_Orn_riM"
      },
      "source": [
        "### network: Alexnet"
      ]
    },
    {
      "cell_type": "code",
      "execution_count": 53,
      "metadata": {
        "id": "4vQ3SsFC_riM"
      },
      "outputs": [],
      "source": [
        "class AlexNet(nn.Module):\n",
        "    def __init__(self, num_classes=num_class):\n",
        "        super(AlexNet, self).__init__()\n",
        "        self.features = nn.Sequential(\n",
        "            nn.Conv2d(3, 64, kernel_size=3, stride=1, padding=1),\n",
        "            nn.ReLU(inplace=True),\n",
        "            nn.MaxPool2d(kernel_size=2, stride=2),\n",
        "            nn.Conv2d(64, 192, kernel_size=3, padding=1),\n",
        "            nn.ReLU(inplace=True),\n",
        "            nn.MaxPool2d(kernel_size=2, stride=2),\n",
        "            nn.Conv2d(192, 384, kernel_size=3, padding=1),\n",
        "            nn.ReLU(inplace=True),\n",
        "            nn.Conv2d(384, 256, kernel_size=3, padding=1),\n",
        "            nn.ReLU(inplace=True),\n",
        "            nn.Conv2d(256, 256, kernel_size=3, padding=1),\n",
        "            nn.ReLU(inplace=True),\n",
        "            nn.MaxPool2d(kernel_size=2, stride=2),\n",
        "        )\n",
        "        self.avgpool = nn.AdaptiveAvgPool2d((6, 6))\n",
        "        self.classifier = nn.Sequential(\n",
        "            nn.Dropout(),\n",
        "            nn.Linear(256 * 6 * 6, 4096),\n",
        "            nn.ReLU(inplace=True),\n",
        "            nn.Dropout(),\n",
        "            nn.Linear(4096, 4096),\n",
        "            nn.ReLU(inplace=True),\n",
        "            nn.Linear(4096, num_classes),\n",
        "        )\n",
        "\n",
        "    def forward(self, x):\n",
        "        x = self.features(x)\n",
        "        x = self.avgpool(x)\n",
        "        x = torch.flatten(x, 1)\n",
        "        x = self.classifier(x)\n",
        "        return x\n",
        "\n"
      ]
    },
    {
      "cell_type": "markdown",
      "metadata": {
        "id": "AfDY_J3v_riM"
      },
      "source": [
        "### network: ResNet18"
      ]
    },
    {
      "cell_type": "code",
      "execution_count": 56,
      "metadata": {
        "id": "Ms9Y_tB3_riM"
      },
      "outputs": [],
      "source": [
        "class BasicBlock(nn.Module):\n",
        "    expansion = 1\n",
        "\n",
        "    def __init__(self, in_planes, planes, stride=1):\n",
        "        super(BasicBlock, self).__init__()\n",
        "        self.conv1 = nn.Conv2d(in_planes, planes,\n",
        "                               kernel_size=3, stride=stride, padding=1,\n",
        "                               bias=False)\n",
        "        self.bn1 = nn.BatchNorm2d(planes)\n",
        "        self.conv2 = nn.Conv2d(planes, planes,\n",
        "                               kernel_size=3,stride=1, padding=1,\n",
        "                               bias=False)\n",
        "        self.bn2 = nn.BatchNorm2d(planes)\n",
        "\n",
        "        self.shortcut = nn.Sequential()\n",
        "        if stride != 1 or in_planes != self.expansion*planes:\n",
        "            self.shortcut = nn.Sequential(\n",
        "                nn.Conv2d(in_planes, self.expansion*planes,\n",
        "                          kernel_size=1, stride=stride,\n",
        "                          bias=False),\n",
        "                nn.BatchNorm2d(self.expansion*planes)\n",
        "            )\n",
        "\n",
        "    def forward(self, x):\n",
        "        out = F.relu(self.bn1(self.conv1(x)))\n",
        "        out = self.bn2(self.conv2(out))\n",
        "        out += self.shortcut(x)\n",
        "        out = F.relu(out)\n",
        "        return out\n",
        "\n",
        "class Bottleneck(nn.Module):\n",
        "    expansion = 4\n",
        "\n",
        "    def __init__(self, in_planes, planes, stride=1):\n",
        "        super(Bottleneck, self).__init__()\n",
        "        self.conv1 = nn.Conv2d(in_planes, planes, kernel_size=1, bias=False)\n",
        "        self.bn1 = nn.BatchNorm2d(planes)\n",
        "        self.conv2 = nn.Conv2d(planes, planes, kernel_size=3,\n",
        "                               stride=stride, padding=1, bias=False)\n",
        "        self.bn2 = nn.BatchNorm2d(planes)\n",
        "        self.conv3 = nn.Conv2d(planes, self.expansion *\n",
        "                               planes, kernel_size=1, bias=False)\n",
        "        self.bn3 = nn.BatchNorm2d(self.expansion*planes)\n",
        "\n",
        "        self.shortcut = nn.Sequential()\n",
        "        if stride != 1 or in_planes != self.expansion*planes:\n",
        "            self.shortcut = nn.Sequential(\n",
        "                nn.Conv2d(in_planes, self.expansion*planes,\n",
        "                          kernel_size=1, stride=stride, bias=False),\n",
        "                nn.BatchNorm2d(self.expansion*planes)\n",
        "            )\n",
        "\n",
        "    def forward(self, x):\n",
        "        out = F.relu(self.bn1(self.conv1(x)))\n",
        "        out = F.relu(self.bn2(self.conv2(out)))\n",
        "        out = self.bn3(self.conv3(out))\n",
        "        out += self.shortcut(x)\n",
        "        out = F.relu(out)\n",
        "        return out\n",
        "\n",
        "class ResNet(nn.Module):\n",
        "    def __init__(self, block, num_blocks, num_classes=num_class):\n",
        "        super(ResNet, self).__init__()\n",
        "        self.in_planes = 64\n",
        "\n",
        "        self.conv1 = nn.Conv2d(3, 64, kernel_size=3,\n",
        "                               stride=1, padding=1, bias=False)\n",
        "        self.bn1 = nn.BatchNorm2d(64)\n",
        "        self.layer1 = self._make_layer(block, 64, num_blocks[0], stride=1)\n",
        "        self.layer2 = self._make_layer(block, 128, num_blocks[1], stride=2)\n",
        "        self.layer3 = self._make_layer(block, 256, num_blocks[2], stride=2)\n",
        "        self.layer4 = self._make_layer(block, 512, num_blocks[3], stride=2)\n",
        "        self.linear = nn.Linear(512*block.expansion, num_classes)\n",
        "\n",
        "    def _make_layer(self, block, planes, num_blocks, stride):\n",
        "        strides = [stride] + [1]*(num_blocks-1)\n",
        "        layers = []\n",
        "        for stride in strides:\n",
        "            layers.append(block(self.in_planes, planes, stride))\n",
        "            self.in_planes = planes * block.expansion\n",
        "        return nn.Sequential(*layers)\n",
        "\n",
        "    def forward(self, x):\n",
        "        out = F.relu(self.bn1(self.conv1(x)))\n",
        "        out = self.layer1(out)\n",
        "        out = self.layer2(out)\n",
        "        out = self.layer3(out)\n",
        "        out = self.layer4(out)\n",
        "        out = F.avg_pool2d(out, 4)\n",
        "        out = out.view(out.size(0), -1)\n",
        "        out = self.linear(out)\n",
        "        return out\n",
        "\n",
        "def ResNet18():\n",
        "    return ResNet(BasicBlock, [2, 2, 2, 2])\n",
        "\n",
        "def ResNet34():\n",
        "    return ResNet(BasicBlock, [3, 4, 6, 3])\n",
        "\n",
        "def ResNet50():\n",
        "    return ResNet(Bottleneck, [3, 4, 6, 3])\n",
        "\n",
        "def test():\n",
        "    net = ResNet18()\n",
        "    y = net(torch.randn(1, 3, 32, 32))\n",
        "    print(y.size())"
      ]
    },
    {
      "cell_type": "markdown",
      "metadata": {
        "id": "NdBwZD2G_riN"
      },
      "source": [
        "## Train the network"
      ]
    },
    {
      "cell_type": "code",
      "execution_count": 49,
      "metadata": {
        "id": "Yi_8BJwm_riN"
      },
      "outputs": [],
      "source": [
        "def plot_loss(train_loss, val_loss):\n",
        "    if isinstance(train_loss[0], torch.Tensor):\n",
        "        train_loss = [x.cpu().numpy() for x in train_loss]\n",
        "    if isinstance(val_loss[0], torch.Tensor):\n",
        "        val_loss = [x.cpu().numpy() for x in val_loss]\n",
        "\n",
        "    plt.plot(train_loss, '-bx')\n",
        "    plt.plot(val_loss, '-rx')\n",
        "    plt.xlabel('epoch')\n",
        "    plt.ylabel('loss')\n",
        "    plt.legend(['Training', 'Validation'])\n",
        "    plt.title('Loss vs. No. of epochs')\n",
        "    plt.show()\n",
        "\n",
        "def plot_acc(train_acc, val_acc):\n",
        "    if isinstance(train_acc[0], torch.Tensor):\n",
        "        train_acc = [x.cpu().numpy() for x in train_acc]\n",
        "    if isinstance(val_acc[0], torch.Tensor):\n",
        "        val_acc = [x.cpu().numpy() for x in val_acc]\n",
        "\n",
        "    plt.plot(train_acc, '-bx')\n",
        "    plt.plot(val_acc, '-rx')\n",
        "    plt.xlabel('epoch')\n",
        "    plt.ylabel('accuracy')\n",
        "    plt.legend(['Training', 'Validation'])\n",
        "    plt.title('Accuracy vs. No. of epochs')\n",
        "    plt.show()"
      ]
    },
    {
      "cell_type": "code",
      "source": [
        "# set the whole network training\n",
        "num_epochs = 50\n",
        "criterion = nn.CrossEntropyLoss()"
      ],
      "metadata": {
        "id": "mYJujRlaNumT"
      },
      "execution_count": 62,
      "outputs": []
    },
    {
      "cell_type": "markdown",
      "metadata": {
        "id": "ofglxXWr_riN"
      },
      "source": [
        "### Train the network - net"
      ]
    },
    {
      "cell_type": "code",
      "execution_count": null,
      "metadata": {
        "id": "eQt6SUiI_riN"
      },
      "outputs": [],
      "source": [
        "# # individual configuration\n",
        "# net = Net().to(device)\n",
        "# model = net\n",
        "# optimizer = optim.Adam(model.parameters(), lr=0.001)\n",
        "# scheduler = OneCycleLR(optimizer, max_lr=0.01, steps_per_epoch=len(trainloader), epochs=num_epochs)\n",
        "\n",
        "# # training model\n",
        "# net_results = train_network(model,\n",
        "#                             optimizer,\n",
        "#                             criterion,\n",
        "#                             trainloader,\n",
        "#                             testloader,\n",
        "#                             num_epochs\n",
        "#                             )\n",
        "\n",
        "# # plot the chart\n",
        "# plot_loss(net_results[0], net_results[2])\n",
        "# plot_acc(net_results[1], net_results[3])\n",
        "\n",
        "# # save the model info\n",
        "# PATH = './cifar_net.pth'\n",
        "# torch.save(net.state_dict(), PATH)"
      ]
    },
    {
      "cell_type": "markdown",
      "metadata": {
        "id": "UYZ3A-92_riN"
      },
      "source": [
        "\n",
        "### Train the network - simpleCNN"
      ]
    },
    {
      "cell_type": "code",
      "execution_count": null,
      "metadata": {
        "colab": {
          "base_uri": "https://localhost:8080/"
        },
        "id": "gzt-Tl9W_riO",
        "outputId": "95be6f8c-1e09-464b-e709-db04dde90584"
      },
      "outputs": [
        {
          "output_type": "stream",
          "name": "stdout",
          "text": [
            "Model will be saved to: ./cifar10_simplecnn.pth\n",
            "Using device: cuda with seed: 1311\n",
            "\n"
          ]
        },
        {
          "output_type": "stream",
          "name": "stderr",
          "text": [
            "Training: 100%|██████████| 410/410 [00:07<00:00, 57.50it/s]\n",
            "Evaluating: 100%|██████████| 103/103 [00:01<00:00, 62.19it/s]\n",
            "/usr/local/lib/python3.10/dist-packages/torch/optim/lr_scheduler.py:149: UserWarning: The epoch parameter in `scheduler.step()` was not necessary and is being deprecated where possible. Please use `scheduler.step()` to step the scheduler. During the deprecation, if epoch is different from None, the closed form is used instead of the new chainable form, where available. Please open an issue if you are unable to replicate your use case: https://github.com/pytorch/pytorch/issues/new/choose.\n",
            "  warnings.warn(EPOCH_DEPRECATION_WARNING, UserWarning)\n"
          ]
        },
        {
          "output_type": "stream",
          "name": "stdout",
          "text": [
            "Model improved and saved to ./cifar10_simplecnn.pth\n",
            "Epoch 1/50, Train Loss: 2.0370, Train Acc: 24.03%, Val Loss: 1.7966, Val Acc: 33.05%, Time: 8.82s\n"
          ]
        },
        {
          "output_type": "stream",
          "name": "stderr",
          "text": [
            "Training: 100%|██████████| 410/410 [00:06<00:00, 66.26it/s]\n",
            "Evaluating: 100%|██████████| 103/103 [00:01<00:00, 66.05it/s]\n"
          ]
        },
        {
          "output_type": "stream",
          "name": "stdout",
          "text": [
            "Model improved and saved to ./cifar10_simplecnn.pth\n",
            "Epoch 2/50, Train Loss: 1.6695, Train Acc: 38.49%, Val Loss: 1.6308, Val Acc: 38.69%, Time: 7.78s\n"
          ]
        },
        {
          "output_type": "stream",
          "name": "stderr",
          "text": [
            "Training: 100%|██████████| 410/410 [00:07<00:00, 56.05it/s]\n",
            "Evaluating: 100%|██████████| 103/103 [00:01<00:00, 68.18it/s]\n"
          ]
        },
        {
          "output_type": "stream",
          "name": "stdout",
          "text": [
            "Model improved and saved to ./cifar10_simplecnn.pth\n",
            "Epoch 3/50, Train Loss: 1.4982, Train Acc: 45.22%, Val Loss: 1.4283, Val Acc: 48.61%, Time: 8.85s\n"
          ]
        },
        {
          "output_type": "stream",
          "name": "stderr",
          "text": [
            "Training: 100%|██████████| 410/410 [00:07<00:00, 56.69it/s]\n",
            "Evaluating: 100%|██████████| 103/103 [00:01<00:00, 62.91it/s]\n"
          ]
        },
        {
          "output_type": "stream",
          "name": "stdout",
          "text": [
            "Model improved and saved to ./cifar10_simplecnn.pth\n",
            "Epoch 4/50, Train Loss: 1.3856, Train Acc: 49.80%, Val Loss: 1.3739, Val Acc: 51.02%, Time: 8.90s\n"
          ]
        },
        {
          "output_type": "stream",
          "name": "stderr",
          "text": [
            "Training: 100%|██████████| 410/410 [00:06<00:00, 66.32it/s]\n",
            "Evaluating: 100%|██████████| 103/103 [00:01<00:00, 67.81it/s]\n"
          ]
        },
        {
          "output_type": "stream",
          "name": "stdout",
          "text": [
            "Model improved and saved to ./cifar10_simplecnn.pth\n",
            "Epoch 5/50, Train Loss: 1.2990, Train Acc: 52.46%, Val Loss: 1.2409, Val Acc: 55.75%, Time: 7.73s\n"
          ]
        },
        {
          "output_type": "stream",
          "name": "stderr",
          "text": [
            "Training: 100%|██████████| 410/410 [00:07<00:00, 55.93it/s]\n",
            "Evaluating: 100%|██████████| 103/103 [00:01<00:00, 66.45it/s]\n"
          ]
        },
        {
          "output_type": "stream",
          "name": "stdout",
          "text": [
            "Model improved and saved to ./cifar10_simplecnn.pth\n",
            "Epoch 6/50, Train Loss: 1.1955, Train Acc: 57.23%, Val Loss: 1.1428, Val Acc: 58.86%, Time: 8.92s\n"
          ]
        },
        {
          "output_type": "stream",
          "name": "stderr",
          "text": [
            "Training: 100%|██████████| 410/410 [00:07<00:00, 55.23it/s]\n",
            "Evaluating: 100%|██████████| 103/103 [00:01<00:00, 66.36it/s]\n"
          ]
        },
        {
          "output_type": "stream",
          "name": "stdout",
          "text": [
            "Epoch 7/50, Train Loss: 1.1262, Train Acc: 59.53%, Val Loss: 1.1615, Val Acc: 57.83%, Time: 9.00s\n"
          ]
        },
        {
          "output_type": "stream",
          "name": "stderr",
          "text": [
            "Training: 100%|██████████| 410/410 [00:06<00:00, 65.99it/s]\n",
            "Evaluating: 100%|██████████| 103/103 [00:01<00:00, 67.01it/s]\n"
          ]
        },
        {
          "output_type": "stream",
          "name": "stdout",
          "text": [
            "Model improved and saved to ./cifar10_simplecnn.pth\n",
            "Epoch 8/50, Train Loss: 1.0601, Train Acc: 62.29%, Val Loss: 1.0639, Val Acc: 62.13%, Time: 7.78s\n"
          ]
        },
        {
          "output_type": "stream",
          "name": "stderr",
          "text": [
            "Training: 100%|██████████| 410/410 [00:07<00:00, 57.09it/s]\n",
            "Evaluating: 100%|██████████| 103/103 [00:01<00:00, 69.36it/s]\n"
          ]
        },
        {
          "output_type": "stream",
          "name": "stdout",
          "text": [
            "Model improved and saved to ./cifar10_simplecnn.pth\n",
            "Epoch 9/50, Train Loss: 0.9907, Train Acc: 64.86%, Val Loss: 1.0320, Val Acc: 63.66%, Time: 8.70s\n"
          ]
        },
        {
          "output_type": "stream",
          "name": "stderr",
          "text": [
            "Training: 100%|██████████| 410/410 [00:07<00:00, 57.00it/s]\n",
            "Evaluating: 100%|██████████| 103/103 [00:01<00:00, 62.01it/s]\n"
          ]
        },
        {
          "output_type": "stream",
          "name": "stdout",
          "text": [
            "Model improved and saved to ./cifar10_simplecnn.pth\n",
            "Epoch 10/50, Train Loss: 0.9499, Train Acc: 66.59%, Val Loss: 0.9662, Val Acc: 66.28%, Time: 8.89s\n"
          ]
        },
        {
          "output_type": "stream",
          "name": "stderr",
          "text": [
            "Training: 100%|██████████| 410/410 [00:06<00:00, 65.99it/s]\n",
            "Evaluating: 100%|██████████| 103/103 [00:01<00:00, 66.30it/s]\n"
          ]
        },
        {
          "output_type": "stream",
          "name": "stdout",
          "text": [
            "Epoch 11/50, Train Loss: 0.8989, Train Acc: 68.01%, Val Loss: 0.9817, Val Acc: 65.09%, Time: 7.78s\n"
          ]
        },
        {
          "output_type": "stream",
          "name": "stderr",
          "text": [
            "Training: 100%|██████████| 410/410 [00:07<00:00, 56.62it/s]\n",
            "Evaluating: 100%|██████████| 103/103 [00:01<00:00, 66.80it/s]\n"
          ]
        },
        {
          "output_type": "stream",
          "name": "stdout",
          "text": [
            "Model improved and saved to ./cifar10_simplecnn.pth\n",
            "Epoch 12/50, Train Loss: 0.8671, Train Acc: 69.21%, Val Loss: 0.9413, Val Acc: 66.31%, Time: 8.81s\n"
          ]
        },
        {
          "output_type": "stream",
          "name": "stderr",
          "text": [
            "Training: 100%|██████████| 410/410 [00:06<00:00, 59.32it/s]\n",
            "Evaluating: 100%|██████████| 103/103 [00:01<00:00, 56.40it/s]\n"
          ]
        },
        {
          "output_type": "stream",
          "name": "stdout",
          "text": [
            "Model improved and saved to ./cifar10_simplecnn.pth\n",
            "Epoch 13/50, Train Loss: 0.8246, Train Acc: 71.01%, Val Loss: 0.8764, Val Acc: 68.87%, Time: 8.77s\n"
          ]
        },
        {
          "output_type": "stream",
          "name": "stderr",
          "text": [
            "Training: 100%|██████████| 410/410 [00:06<00:00, 63.57it/s]\n",
            "Evaluating: 100%|██████████| 103/103 [00:01<00:00, 66.26it/s]\n"
          ]
        },
        {
          "output_type": "stream",
          "name": "stdout",
          "text": [
            "Epoch 14/50, Train Loss: 0.7913, Train Acc: 72.62%, Val Loss: 0.8892, Val Acc: 68.66%, Time: 8.02s\n"
          ]
        },
        {
          "output_type": "stream",
          "name": "stderr",
          "text": [
            "Training: 100%|██████████| 410/410 [00:07<00:00, 56.93it/s]\n",
            "Evaluating: 100%|██████████| 103/103 [00:01<00:00, 69.57it/s]\n"
          ]
        },
        {
          "output_type": "stream",
          "name": "stdout",
          "text": [
            "Model improved and saved to ./cifar10_simplecnn.pth\n",
            "Epoch 15/50, Train Loss: 0.7650, Train Acc: 73.28%, Val Loss: 0.9032, Val Acc: 69.39%, Time: 8.72s\n"
          ]
        },
        {
          "output_type": "stream",
          "name": "stderr",
          "text": [
            "Training: 100%|██████████| 410/410 [00:07<00:00, 57.62it/s]\n",
            "Evaluating: 100%|██████████| 103/103 [00:01<00:00, 63.58it/s]\n"
          ]
        },
        {
          "output_type": "stream",
          "name": "stdout",
          "text": [
            "Model improved and saved to ./cifar10_simplecnn.pth\n",
            "Epoch 16/50, Train Loss: 0.7351, Train Acc: 74.26%, Val Loss: 0.8511, Val Acc: 70.43%, Time: 8.77s\n"
          ]
        },
        {
          "output_type": "stream",
          "name": "stderr",
          "text": [
            "Training: 100%|██████████| 410/410 [00:06<00:00, 65.99it/s]\n",
            "Evaluating: 100%|██████████| 103/103 [00:01<00:00, 63.78it/s]\n"
          ]
        },
        {
          "output_type": "stream",
          "name": "stdout",
          "text": [
            "Epoch 17/50, Train Loss: 0.7020, Train Acc: 75.15%, Val Loss: 0.8940, Val Acc: 69.18%, Time: 7.85s\n"
          ]
        },
        {
          "output_type": "stream",
          "name": "stderr",
          "text": [
            "Training: 100%|██████████| 410/410 [00:07<00:00, 55.51it/s]\n",
            "Evaluating: 100%|██████████| 103/103 [00:01<00:00, 67.15it/s]\n"
          ]
        },
        {
          "output_type": "stream",
          "name": "stdout",
          "text": [
            "Model improved and saved to ./cifar10_simplecnn.pth\n",
            "Epoch 18/50, Train Loss: 0.6817, Train Acc: 75.76%, Val Loss: 0.8157, Val Acc: 71.35%, Time: 8.95s\n"
          ]
        },
        {
          "output_type": "stream",
          "name": "stderr",
          "text": [
            "Training: 100%|██████████| 410/410 [00:08<00:00, 48.80it/s]\n",
            "Evaluating: 100%|██████████| 103/103 [00:01<00:00, 68.62it/s]\n"
          ]
        },
        {
          "output_type": "stream",
          "name": "stdout",
          "text": [
            "Epoch 19/50, Train Loss: 0.6677, Train Acc: 76.26%, Val Loss: 0.8674, Val Acc: 69.61%, Time: 9.92s\n"
          ]
        },
        {
          "output_type": "stream",
          "name": "stderr",
          "text": [
            "Training: 100%|██████████| 410/410 [00:06<00:00, 65.79it/s]\n",
            "Evaluating: 100%|██████████| 103/103 [00:01<00:00, 66.31it/s]\n"
          ]
        },
        {
          "output_type": "stream",
          "name": "stdout",
          "text": [
            "Model improved and saved to ./cifar10_simplecnn.pth\n",
            "Epoch 20/50, Train Loss: 0.6352, Train Acc: 77.85%, Val Loss: 0.8239, Val Acc: 71.93%, Time: 7.82s\n"
          ]
        },
        {
          "output_type": "stream",
          "name": "stderr",
          "text": [
            "Training: 100%|██████████| 410/410 [00:07<00:00, 56.38it/s]\n",
            "Evaluating: 100%|██████████| 103/103 [00:01<00:00, 66.08it/s]\n"
          ]
        },
        {
          "output_type": "stream",
          "name": "stdout",
          "text": [
            "Model improved and saved to ./cifar10_simplecnn.pth\n",
            "Epoch 21/50, Train Loss: 0.6234, Train Acc: 78.19%, Val Loss: 0.8226, Val Acc: 72.63%, Time: 8.86s\n"
          ]
        },
        {
          "output_type": "stream",
          "name": "stderr",
          "text": [
            "Training: 100%|██████████| 410/410 [00:07<00:00, 57.17it/s]\n",
            "Evaluating: 100%|██████████| 103/103 [00:01<00:00, 68.18it/s]\n"
          ]
        },
        {
          "output_type": "stream",
          "name": "stdout",
          "text": [
            "Epoch 22/50, Train Loss: 0.5893, Train Acc: 79.36%, Val Loss: 0.8111, Val Acc: 71.74%, Time: 8.70s\n"
          ]
        },
        {
          "output_type": "stream",
          "name": "stderr",
          "text": [
            "Training: 100%|██████████| 410/410 [00:06<00:00, 66.13it/s]\n",
            "Evaluating: 100%|██████████| 103/103 [00:01<00:00, 68.94it/s]\n"
          ]
        },
        {
          "output_type": "stream",
          "name": "stdout",
          "text": [
            "Epoch 23/50, Train Loss: 0.5748, Train Acc: 79.50%, Val Loss: 0.8823, Val Acc: 71.13%, Time: 7.71s\n"
          ]
        },
        {
          "output_type": "stream",
          "name": "stderr",
          "text": [
            "Training: 100%|██████████| 410/410 [00:07<00:00, 56.16it/s]\n",
            "Evaluating: 100%|██████████| 103/103 [00:01<00:00, 67.51it/s]\n"
          ]
        },
        {
          "output_type": "stream",
          "name": "stdout",
          "text": [
            "Epoch 24/50, Train Loss: 0.5624, Train Acc: 80.31%, Val Loss: 0.8545, Val Acc: 72.14%, Time: 8.85s\n"
          ]
        },
        {
          "output_type": "stream",
          "name": "stderr",
          "text": [
            "Training: 100%|██████████| 410/410 [00:07<00:00, 56.94it/s]\n",
            "Evaluating: 100%|██████████| 103/103 [00:01<00:00, 66.50it/s]\n"
          ]
        },
        {
          "output_type": "stream",
          "name": "stdout",
          "text": [
            "Epoch 25/50, Train Loss: 0.5397, Train Acc: 81.29%, Val Loss: 0.8535, Val Acc: 72.29%, Time: 8.77s\n"
          ]
        },
        {
          "output_type": "stream",
          "name": "stderr",
          "text": [
            "Training: 100%|██████████| 410/410 [00:06<00:00, 65.60it/s]\n",
            "Evaluating: 100%|██████████| 103/103 [00:01<00:00, 66.58it/s]\n"
          ]
        },
        {
          "output_type": "stream",
          "name": "stdout",
          "text": [
            "Epoch 26/50, Train Loss: 0.5248, Train Acc: 81.26%, Val Loss: 0.8576, Val Acc: 72.20%, Time: 7.82s\n"
          ]
        },
        {
          "output_type": "stream",
          "name": "stderr",
          "text": [
            "Training: 100%|██████████| 410/410 [00:07<00:00, 57.03it/s]\n",
            "Evaluating: 100%|██████████| 103/103 [00:01<00:00, 67.65it/s]\n"
          ]
        },
        {
          "output_type": "stream",
          "name": "stdout",
          "text": [
            "Epoch 27/50, Train Loss: 0.5114, Train Acc: 81.75%, Val Loss: 0.8685, Val Acc: 71.90%, Time: 8.73s\n"
          ]
        },
        {
          "output_type": "stream",
          "name": "stderr",
          "text": [
            "Training: 100%|██████████| 410/410 [00:07<00:00, 55.17it/s]\n",
            "Evaluating: 100%|██████████| 103/103 [00:01<00:00, 68.63it/s]\n"
          ]
        },
        {
          "output_type": "stream",
          "name": "stdout",
          "text": [
            "Epoch 28/50, Train Loss: 0.4978, Train Acc: 82.61%, Val Loss: 0.9011, Val Acc: 71.90%, Time: 8.95s\n"
          ]
        },
        {
          "output_type": "stream",
          "name": "stderr",
          "text": [
            "Training: 100%|██████████| 410/410 [00:06<00:00, 66.47it/s]\n",
            "Evaluating: 100%|██████████| 103/103 [00:01<00:00, 68.52it/s]\n"
          ]
        },
        {
          "output_type": "stream",
          "name": "stdout",
          "text": [
            "Epoch 29/50, Train Loss: 0.4976, Train Acc: 82.54%, Val Loss: 0.9221, Val Acc: 71.01%, Time: 7.69s\n"
          ]
        },
        {
          "output_type": "stream",
          "name": "stderr",
          "text": [
            "Training: 100%|██████████| 410/410 [00:07<00:00, 56.71it/s]\n",
            "Evaluating: 100%|██████████| 103/103 [00:01<00:00, 66.26it/s]\n"
          ]
        },
        {
          "output_type": "stream",
          "name": "stdout",
          "text": [
            "Epoch 30/50, Train Loss: 0.4727, Train Acc: 83.40%, Val Loss: 0.8853, Val Acc: 71.71%, Time: 8.80s\n"
          ]
        },
        {
          "output_type": "stream",
          "name": "stderr",
          "text": [
            "Training: 100%|██████████| 410/410 [00:07<00:00, 55.55it/s]\n",
            "Evaluating: 100%|██████████| 103/103 [00:01<00:00, 60.24it/s]\n"
          ]
        },
        {
          "output_type": "stream",
          "name": "stdout",
          "text": [
            "Model improved and saved to ./cifar10_simplecnn.pth\n",
            "Epoch 31/50, Train Loss: 0.4619, Train Acc: 83.73%, Val Loss: 0.8477, Val Acc: 73.24%, Time: 9.13s\n"
          ]
        },
        {
          "output_type": "stream",
          "name": "stderr",
          "text": [
            "Training: 100%|██████████| 410/410 [00:06<00:00, 62.41it/s]\n",
            "Evaluating: 100%|██████████| 103/103 [00:01<00:00, 55.23it/s]\n"
          ]
        },
        {
          "output_type": "stream",
          "name": "stdout",
          "text": [
            "Epoch 32/50, Train Loss: 0.4418, Train Acc: 84.58%, Val Loss: 0.9672, Val Acc: 70.98%, Time: 8.45s\n"
          ]
        },
        {
          "output_type": "stream",
          "name": "stderr",
          "text": [
            "Training: 100%|██████████| 410/410 [00:07<00:00, 57.95it/s]\n",
            "Evaluating: 100%|██████████| 103/103 [00:01<00:00, 65.01it/s]\n"
          ]
        },
        {
          "output_type": "stream",
          "name": "stdout",
          "text": [
            "Epoch 33/50, Train Loss: 0.4374, Train Acc: 84.65%, Val Loss: 0.9234, Val Acc: 72.69%, Time: 8.68s\n"
          ]
        },
        {
          "output_type": "stream",
          "name": "stderr",
          "text": [
            "Training: 100%|██████████| 410/410 [00:07<00:00, 55.84it/s]\n",
            "Evaluating: 100%|██████████| 103/103 [00:01<00:00, 69.01it/s]\n"
          ]
        },
        {
          "output_type": "stream",
          "name": "stdout",
          "text": [
            "Epoch 34/50, Train Loss: 0.4240, Train Acc: 85.36%, Val Loss: 0.8979, Val Acc: 72.90%, Time: 8.85s\n"
          ]
        },
        {
          "output_type": "stream",
          "name": "stderr",
          "text": [
            "Training: 100%|██████████| 410/410 [00:06<00:00, 64.18it/s]\n",
            "Evaluating: 100%|██████████| 103/103 [00:02<00:00, 47.93it/s]\n"
          ]
        },
        {
          "output_type": "stream",
          "name": "stdout",
          "text": [
            "Epoch 35/50, Train Loss: 0.4194, Train Acc: 85.33%, Val Loss: 0.9362, Val Acc: 71.68%, Time: 8.56s\n"
          ]
        },
        {
          "output_type": "stream",
          "name": "stderr",
          "text": [
            "Training: 100%|██████████| 410/410 [00:06<00:00, 61.35it/s]\n",
            "Evaluating: 100%|██████████| 103/103 [00:01<00:00, 68.13it/s]\n"
          ]
        },
        {
          "output_type": "stream",
          "name": "stdout",
          "text": [
            "Epoch 36/50, Train Loss: 0.4302, Train Acc: 85.08%, Val Loss: 0.9368, Val Acc: 72.90%, Time: 8.21s\n"
          ]
        },
        {
          "output_type": "stream",
          "name": "stderr",
          "text": [
            "Training: 100%|██████████| 410/410 [00:07<00:00, 56.15it/s]\n",
            "Evaluating: 100%|██████████| 103/103 [00:01<00:00, 69.45it/s]\n"
          ]
        },
        {
          "output_type": "stream",
          "name": "stdout",
          "text": [
            "Epoch 37/50, Train Loss: 0.3947, Train Acc: 86.30%, Val Loss: 0.9150, Val Acc: 72.47%, Time: 8.81s\n"
          ]
        },
        {
          "output_type": "stream",
          "name": "stderr",
          "text": [
            "Training: 100%|██████████| 410/410 [00:06<00:00, 66.34it/s]\n",
            "Evaluating: 100%|██████████| 103/103 [00:01<00:00, 55.74it/s]\n"
          ]
        },
        {
          "output_type": "stream",
          "name": "stdout",
          "text": [
            "Model improved and saved to ./cifar10_simplecnn.pth\n",
            "Epoch 38/50, Train Loss: 0.3821, Train Acc: 86.64%, Val Loss: 0.8876, Val Acc: 74.21%, Time: 8.07s\n"
          ]
        },
        {
          "output_type": "stream",
          "name": "stderr",
          "text": [
            "Training: 100%|██████████| 410/410 [00:06<00:00, 59.14it/s]\n",
            "Evaluating: 100%|██████████| 103/103 [00:01<00:00, 65.98it/s]\n"
          ]
        },
        {
          "output_type": "stream",
          "name": "stdout",
          "text": [
            "Epoch 39/50, Train Loss: 0.3793, Train Acc: 86.55%, Val Loss: 0.9270, Val Acc: 72.75%, Time: 8.52s\n"
          ]
        },
        {
          "output_type": "stream",
          "name": "stderr",
          "text": [
            "Training: 100%|██████████| 410/410 [00:07<00:00, 56.04it/s]\n",
            "Evaluating: 100%|██████████| 103/103 [00:01<00:00, 66.20it/s]\n"
          ]
        },
        {
          "output_type": "stream",
          "name": "stdout",
          "text": [
            "Epoch 40/50, Train Loss: 0.3655, Train Acc: 87.29%, Val Loss: 0.9438, Val Acc: 73.21%, Time: 8.89s\n"
          ]
        },
        {
          "output_type": "stream",
          "name": "stderr",
          "text": [
            "Training: 100%|██████████| 410/410 [00:06<00:00, 65.97it/s]\n",
            "Evaluating: 100%|██████████| 103/103 [00:02<00:00, 50.75it/s]\n"
          ]
        },
        {
          "output_type": "stream",
          "name": "stdout",
          "text": [
            "Epoch 41/50, Train Loss: 0.3547, Train Acc: 87.78%, Val Loss: 0.9260, Val Acc: 74.15%, Time: 8.26s\n"
          ]
        },
        {
          "output_type": "stream",
          "name": "stderr",
          "text": [
            "Training: 100%|██████████| 410/410 [00:06<00:00, 59.52it/s]\n",
            "Evaluating: 100%|██████████| 103/103 [00:01<00:00, 66.05it/s]\n"
          ]
        },
        {
          "output_type": "stream",
          "name": "stdout",
          "text": [
            "Epoch 42/50, Train Loss: 0.3504, Train Acc: 87.80%, Val Loss: 0.9071, Val Acc: 74.15%, Time: 8.47s\n"
          ]
        },
        {
          "output_type": "stream",
          "name": "stderr",
          "text": [
            "Training: 100%|██████████| 410/410 [00:07<00:00, 55.65it/s]\n",
            "Evaluating: 100%|██████████| 103/103 [00:01<00:00, 67.81it/s]\n"
          ]
        },
        {
          "output_type": "stream",
          "name": "stdout",
          "text": [
            "Epoch 43/50, Train Loss: 0.3502, Train Acc: 87.48%, Val Loss: 0.9510, Val Acc: 73.63%, Time: 8.90s\n"
          ]
        },
        {
          "output_type": "stream",
          "name": "stderr",
          "text": [
            "Training:  11%|█         | 46/410 [00:00<00:05, 65.10it/s]"
          ]
        }
      ],
      "source": [
        "# individual configuration\n",
        "simplecnn = SimpleCNN().to(device)\n",
        "model_name = \"simplecnn\"\n",
        "model = simplecnn\n",
        "# Assuming `model` is your neural network model and `lr` is your learning rate\n",
        "optimizer = optim.SGD(model.parameters(), lr=0.01, momentum=0.9)\n",
        "from torch.optim.lr_scheduler import CosineAnnealingLR\n",
        "scheduler = CosineAnnealingLR(optimizer, T_max=50, eta_min=0)\n",
        "\n",
        "# training model\n",
        "simplecnn_results = train_network(model,\n",
        "                                  optimizer,\n",
        "                                  criterion,\n",
        "                                  scheduler,\n",
        "                                  trainloader,\n",
        "                                  valloader,\n",
        "                                  testloader,\n",
        "                                  num_epochs,\n",
        "                                  device,\n",
        "                                  num_class,\n",
        "                                  model_name,\n",
        "                                  dataset\n",
        "                                  )\n",
        "\n",
        "# Plot the results\n",
        "plot_loss(simplecnn_results['train_loss'], simplecnn_results['val_loss'])\n",
        "plot_acc(simplecnn_results['train_accuracy'], simplecnn_results['val_accuracy'])\n",
        "# Print Test Loss and Test Accuracy\n",
        "print(f'Test Loss: {simplecnn_results[\"test_loss\"]:.4f}, Test Accuracy: {simplecnn_results[\"test_accuracy\"]:.2f}%')"
      ]
    },
    {
      "cell_type": "code",
      "source": [
        "# individual configuration\n",
        "simplecnn = SimpleCNN().to(device)\n",
        "model_name = \"simplecnn\"\n",
        "model = simplecnn\n",
        "optimizer = optim.Adam(model.parameters(), lr=0.01, weight_decay=0.001)\n",
        "# optimizer = optim.Adam(model.parameters(), lr=0.0001)\n",
        "scheduler = OneCycleLR(optimizer, max_lr=0.01, steps_per_epoch=len(trainloader), epochs=num_epochs)\n",
        "from torch.optim.lr_scheduler import ReduceLROnPlateau\n",
        "scheduler = ReduceLROnPlateau(optimizer, mode='max', factor=0.1, patience=10, verbose=True)\n",
        "\n",
        "# training model\n",
        "simplecnn_results = train_network(model,\n",
        "                                  optimizer,\n",
        "                                  criterion,\n",
        "                                  scheduler,\n",
        "                                  trainloader,\n",
        "                                  valloader,\n",
        "                                  testloader,\n",
        "                                  num_epochs,\n",
        "                                  device,\n",
        "                                  num_class,\n",
        "                                  model_name,\n",
        "                                  dataset\n",
        "                                  )\n",
        "\n",
        "# Plot the results\n",
        "plot_loss(simplecnn_results['train_loss'], simplecnn_results['val_loss'])\n",
        "plot_acc(simplecnn_results['train_accuracy'], simplecnn_results['val_accuracy'])\n",
        "# Print Test Loss and Test Accuracy\n",
        "print(f'Test Loss: {simplecnn_results[\"test_loss\"]:.4f}, Test Accuracy: {simplecnn_results[\"test_accuracy\"]:.2f}%')"
      ],
      "metadata": {
        "id": "b-zG5h46Dw45",
        "outputId": "cb93936c-3d22-4a3f-9ef0-ea31aa0630eb",
        "colab": {
          "base_uri": "https://localhost:8080/",
          "height": 1000
        }
      },
      "execution_count": 80,
      "outputs": [
        {
          "output_type": "stream",
          "name": "stdout",
          "text": [
            "Model will be saved to: ./cifar10_simplecnn.pth\n",
            "Using device: cuda with seed: 1311\n",
            "\n"
          ]
        },
        {
          "output_type": "stream",
          "name": "stderr",
          "text": [
            "Training: 100%|██████████| 410/410 [00:07<00:00, 56.92it/s]\n",
            "Evaluating: 100%|██████████| 103/103 [00:01<00:00, 69.26it/s]\n"
          ]
        },
        {
          "output_type": "stream",
          "name": "stdout",
          "text": [
            "Model improved and saved to ./cifar10_simplecnn.pth\n",
            "Epoch 1/50, Train Loss: 1.8993, Train Acc: 29.95%, Val Loss: 1.6895, Val Acc: 37.38%, Time: 8.72s\n"
          ]
        },
        {
          "output_type": "stream",
          "name": "stderr",
          "text": [
            "Training: 100%|██████████| 410/410 [00:07<00:00, 58.26it/s]\n",
            "Evaluating: 100%|██████████| 103/103 [00:01<00:00, 59.20it/s]\n"
          ]
        },
        {
          "output_type": "stream",
          "name": "stdout",
          "text": [
            "Model improved and saved to ./cifar10_simplecnn.pth\n",
            "Epoch 2/50, Train Loss: 1.5654, Train Acc: 42.40%, Val Loss: 1.5631, Val Acc: 42.45%, Time: 8.81s\n"
          ]
        },
        {
          "output_type": "stream",
          "name": "stderr",
          "text": [
            "Training: 100%|██████████| 410/410 [00:06<00:00, 65.30it/s]\n",
            "Evaluating: 100%|██████████| 103/103 [00:01<00:00, 67.06it/s]\n"
          ]
        },
        {
          "output_type": "stream",
          "name": "stdout",
          "text": [
            "Model improved and saved to ./cifar10_simplecnn.pth\n",
            "Epoch 3/50, Train Loss: 1.4615, Train Acc: 46.53%, Val Loss: 1.4372, Val Acc: 49.19%, Time: 7.84s\n"
          ]
        },
        {
          "output_type": "stream",
          "name": "stderr",
          "text": [
            "Training: 100%|██████████| 410/410 [00:07<00:00, 57.09it/s]\n",
            "Evaluating: 100%|██████████| 103/103 [00:01<00:00, 69.91it/s]\n"
          ]
        },
        {
          "output_type": "stream",
          "name": "stdout",
          "text": [
            "Epoch 4/50, Train Loss: 1.3866, Train Acc: 49.81%, Val Loss: 1.3849, Val Acc: 48.18%, Time: 8.67s\n"
          ]
        },
        {
          "output_type": "stream",
          "name": "stderr",
          "text": [
            "Training: 100%|██████████| 410/410 [00:06<00:00, 58.70it/s]\n",
            "Evaluating: 100%|██████████| 103/103 [00:01<00:00, 58.29it/s]\n"
          ]
        },
        {
          "output_type": "stream",
          "name": "stdout",
          "text": [
            "Model improved and saved to ./cifar10_simplecnn.pth\n",
            "Epoch 5/50, Train Loss: 1.3381, Train Acc: 51.45%, Val Loss: 1.3029, Val Acc: 53.28%, Time: 8.78s\n"
          ]
        },
        {
          "output_type": "stream",
          "name": "stderr",
          "text": [
            "Training: 100%|██████████| 410/410 [00:06<00:00, 65.38it/s]\n",
            "Evaluating: 100%|██████████| 103/103 [00:01<00:00, 68.60it/s]\n"
          ]
        },
        {
          "output_type": "stream",
          "name": "stdout",
          "text": [
            "Model improved and saved to ./cifar10_simplecnn.pth\n",
            "Epoch 6/50, Train Loss: 1.2665, Train Acc: 54.03%, Val Loss: 1.2773, Val Acc: 54.01%, Time: 7.80s\n"
          ]
        },
        {
          "output_type": "stream",
          "name": "stderr",
          "text": [
            "Training: 100%|██████████| 410/410 [00:07<00:00, 56.09it/s]\n",
            "Evaluating: 100%|██████████| 103/103 [00:01<00:00, 70.49it/s]\n"
          ]
        },
        {
          "output_type": "stream",
          "name": "stdout",
          "text": [
            "Model improved and saved to ./cifar10_simplecnn.pth\n",
            "Epoch 7/50, Train Loss: 1.2189, Train Acc: 56.16%, Val Loss: 1.2211, Val Acc: 56.30%, Time: 8.80s\n"
          ]
        },
        {
          "output_type": "stream",
          "name": "stderr",
          "text": [
            "Training: 100%|██████████| 410/410 [00:07<00:00, 58.03it/s]\n",
            "Evaluating: 100%|██████████| 103/103 [00:01<00:00, 58.44it/s]\n"
          ]
        },
        {
          "output_type": "stream",
          "name": "stdout",
          "text": [
            "Model improved and saved to ./cifar10_simplecnn.pth\n",
            "Epoch 8/50, Train Loss: 1.1681, Train Acc: 57.80%, Val Loss: 1.1824, Val Acc: 57.31%, Time: 8.86s\n"
          ]
        },
        {
          "output_type": "stream",
          "name": "stderr",
          "text": [
            "Training: 100%|██████████| 410/410 [00:06<00:00, 66.16it/s]\n",
            "Evaluating: 100%|██████████| 103/103 [00:01<00:00, 65.53it/s]\n"
          ]
        },
        {
          "output_type": "stream",
          "name": "stdout",
          "text": [
            "Epoch 9/50, Train Loss: 1.1232, Train Acc: 60.20%, Val Loss: 1.1749, Val Acc: 56.39%, Time: 7.79s\n"
          ]
        },
        {
          "output_type": "stream",
          "name": "stderr",
          "text": [
            "Training: 100%|██████████| 410/410 [00:07<00:00, 56.70it/s]\n",
            "Evaluating: 100%|██████████| 103/103 [00:01<00:00, 69.97it/s]\n"
          ]
        },
        {
          "output_type": "stream",
          "name": "stdout",
          "text": [
            "Model improved and saved to ./cifar10_simplecnn.pth\n",
            "Epoch 10/50, Train Loss: 1.0717, Train Acc: 61.45%, Val Loss: 1.0932, Val Acc: 60.60%, Time: 8.74s\n"
          ]
        },
        {
          "output_type": "stream",
          "name": "stderr",
          "text": [
            "Training: 100%|██████████| 410/410 [00:08<00:00, 50.50it/s]\n",
            "Evaluating: 100%|██████████| 103/103 [00:01<00:00, 69.81it/s]\n"
          ]
        },
        {
          "output_type": "stream",
          "name": "stdout",
          "text": [
            "Model improved and saved to ./cifar10_simplecnn.pth\n",
            "Epoch 11/50, Train Loss: 1.0569, Train Acc: 62.51%, Val Loss: 1.0449, Val Acc: 62.13%, Time: 9.63s\n"
          ]
        },
        {
          "output_type": "stream",
          "name": "stderr",
          "text": [
            "Training: 100%|██████████| 410/410 [00:06<00:00, 65.34it/s]\n",
            "Evaluating: 100%|██████████| 103/103 [00:01<00:00, 68.39it/s]\n"
          ]
        },
        {
          "output_type": "stream",
          "name": "stdout",
          "text": [
            "Epoch 12/50, Train Loss: 1.0105, Train Acc: 64.10%, Val Loss: 1.0533, Val Acc: 62.10%, Time: 7.80s\n"
          ]
        },
        {
          "output_type": "stream",
          "name": "stderr",
          "text": [
            "Training: 100%|██████████| 410/410 [00:07<00:00, 55.84it/s]\n",
            "Evaluating: 100%|██████████| 103/103 [00:01<00:00, 68.39it/s]\n"
          ]
        },
        {
          "output_type": "stream",
          "name": "stdout",
          "text": [
            "Model improved and saved to ./cifar10_simplecnn.pth\n",
            "Epoch 13/50, Train Loss: 0.9797, Train Acc: 65.06%, Val Loss: 0.9879, Val Acc: 65.00%, Time: 8.88s\n"
          ]
        },
        {
          "output_type": "stream",
          "name": "stderr",
          "text": [
            "Training: 100%|██████████| 410/410 [00:07<00:00, 55.81it/s]\n",
            "Evaluating: 100%|██████████| 103/103 [00:01<00:00, 68.92it/s]\n"
          ]
        },
        {
          "output_type": "stream",
          "name": "stdout",
          "text": [
            "Epoch 14/50, Train Loss: 0.9537, Train Acc: 66.16%, Val Loss: 0.9779, Val Acc: 64.94%, Time: 8.86s\n"
          ]
        },
        {
          "output_type": "stream",
          "name": "stderr",
          "text": [
            "Training: 100%|██████████| 410/410 [00:07<00:00, 56.32it/s]\n",
            "Evaluating: 100%|██████████| 103/103 [00:01<00:00, 53.41it/s]\n"
          ]
        },
        {
          "output_type": "stream",
          "name": "stdout",
          "text": [
            "Epoch 15/50, Train Loss: 0.9223, Train Acc: 67.17%, Val Loss: 0.9849, Val Acc: 64.24%, Time: 9.22s\n"
          ]
        },
        {
          "output_type": "stream",
          "name": "stderr",
          "text": [
            "Training: 100%|██████████| 410/410 [00:09<00:00, 42.19it/s]\n",
            "Evaluating: 100%|██████████| 103/103 [00:02<00:00, 45.41it/s]\n"
          ]
        },
        {
          "output_type": "stream",
          "name": "stdout",
          "text": [
            "Model improved and saved to ./cifar10_simplecnn.pth\n",
            "Epoch 16/50, Train Loss: 0.9056, Train Acc: 67.87%, Val Loss: 0.9553, Val Acc: 65.49%, Time: 12.03s\n"
          ]
        },
        {
          "output_type": "stream",
          "name": "stderr",
          "text": [
            "Training: 100%|██████████| 410/410 [00:07<00:00, 52.91it/s]\n",
            "Evaluating: 100%|██████████| 103/103 [00:01<00:00, 67.81it/s]\n"
          ]
        },
        {
          "output_type": "stream",
          "name": "stdout",
          "text": [
            "Model improved and saved to ./cifar10_simplecnn.pth\n",
            "Epoch 17/50, Train Loss: 0.8842, Train Acc: 68.24%, Val Loss: 0.9520, Val Acc: 66.13%, Time: 9.30s\n"
          ]
        },
        {
          "output_type": "stream",
          "name": "stderr",
          "text": [
            "Training: 100%|██████████| 410/410 [00:10<00:00, 39.18it/s]\n",
            "Evaluating: 100%|██████████| 103/103 [00:02<00:00, 47.66it/s]\n"
          ]
        },
        {
          "output_type": "stream",
          "name": "stdout",
          "text": [
            "Model improved and saved to ./cifar10_simplecnn.pth\n",
            "Epoch 18/50, Train Loss: 0.8608, Train Acc: 69.82%, Val Loss: 0.8911, Val Acc: 68.60%, Time: 12.68s\n"
          ]
        },
        {
          "output_type": "stream",
          "name": "stderr",
          "text": [
            "Training: 100%|██████████| 410/410 [00:07<00:00, 53.36it/s]\n",
            "Evaluating: 100%|██████████| 103/103 [00:01<00:00, 69.02it/s]\n"
          ]
        },
        {
          "output_type": "stream",
          "name": "stdout",
          "text": [
            "Epoch 19/50, Train Loss: 0.8381, Train Acc: 70.25%, Val Loss: 0.9346, Val Acc: 67.20%, Time: 9.20s\n"
          ]
        },
        {
          "output_type": "stream",
          "name": "stderr",
          "text": [
            "Training: 100%|██████████| 410/410 [00:06<00:00, 65.69it/s]\n",
            "Evaluating: 100%|██████████| 103/103 [00:02<00:00, 44.96it/s]\n"
          ]
        },
        {
          "output_type": "stream",
          "name": "stdout",
          "text": [
            "Epoch 20/50, Train Loss: 0.8100, Train Acc: 71.15%, Val Loss: 0.8648, Val Acc: 68.45%, Time: 8.55s\n"
          ]
        },
        {
          "output_type": "stream",
          "name": "stderr",
          "text": [
            "Training: 100%|██████████| 410/410 [00:06<00:00, 64.05it/s]\n",
            "Evaluating: 100%|██████████| 103/103 [00:01<00:00, 69.79it/s]\n"
          ]
        },
        {
          "output_type": "stream",
          "name": "stdout",
          "text": [
            "Model improved and saved to ./cifar10_simplecnn.pth\n",
            "Epoch 21/50, Train Loss: 0.7932, Train Acc: 71.98%, Val Loss: 0.8889, Val Acc: 68.94%, Time: 7.91s\n"
          ]
        },
        {
          "output_type": "stream",
          "name": "stderr",
          "text": [
            "Training: 100%|██████████| 410/410 [00:07<00:00, 56.06it/s]\n",
            "Evaluating: 100%|██████████| 103/103 [00:01<00:00, 69.95it/s]\n"
          ]
        },
        {
          "output_type": "stream",
          "name": "stdout",
          "text": [
            "Epoch 22/50, Train Loss: 0.7764, Train Acc: 72.47%, Val Loss: 0.8472, Val Acc: 68.84%, Time: 8.80s\n"
          ]
        },
        {
          "output_type": "stream",
          "name": "stderr",
          "text": [
            "Training: 100%|██████████| 410/410 [00:06<00:00, 66.19it/s]\n",
            "Evaluating: 100%|██████████| 103/103 [00:02<00:00, 45.75it/s]\n"
          ]
        },
        {
          "output_type": "stream",
          "name": "stdout",
          "text": [
            "Model improved and saved to ./cifar10_simplecnn.pth\n",
            "Epoch 23/50, Train Loss: 0.7681, Train Acc: 72.92%, Val Loss: 0.8692, Val Acc: 69.33%, Time: 8.48s\n"
          ]
        },
        {
          "output_type": "stream",
          "name": "stderr",
          "text": [
            "Training: 100%|██████████| 410/410 [00:06<00:00, 63.05it/s]\n",
            "Evaluating: 100%|██████████| 103/103 [00:01<00:00, 70.28it/s]\n"
          ]
        },
        {
          "output_type": "stream",
          "name": "stdout",
          "text": [
            "Epoch 24/50, Train Loss: 0.7498, Train Acc: 73.40%, Val Loss: 0.8951, Val Acc: 68.39%, Time: 7.99s\n"
          ]
        },
        {
          "output_type": "stream",
          "name": "stderr",
          "text": [
            "Training: 100%|██████████| 410/410 [00:07<00:00, 56.24it/s]\n",
            "Evaluating: 100%|██████████| 103/103 [00:01<00:00, 69.96it/s]\n"
          ]
        },
        {
          "output_type": "stream",
          "name": "stdout",
          "text": [
            "Epoch 25/50, Train Loss: 0.7376, Train Acc: 73.47%, Val Loss: 0.8633, Val Acc: 68.72%, Time: 8.78s\n"
          ]
        },
        {
          "output_type": "stream",
          "name": "stderr",
          "text": [
            "Training: 100%|██████████| 410/410 [00:06<00:00, 64.98it/s]\n",
            "Evaluating: 100%|██████████| 103/103 [00:02<00:00, 49.78it/s]\n"
          ]
        },
        {
          "output_type": "stream",
          "name": "stdout",
          "text": [
            "Model improved and saved to ./cifar10_simplecnn.pth\n",
            "Epoch 26/50, Train Loss: 0.7115, Train Acc: 74.96%, Val Loss: 0.8520, Val Acc: 69.76%, Time: 8.42s\n"
          ]
        },
        {
          "output_type": "stream",
          "name": "stderr",
          "text": [
            "Training: 100%|██████████| 410/410 [00:06<00:00, 61.49it/s]\n",
            "Evaluating: 100%|██████████| 103/103 [00:01<00:00, 69.58it/s]\n"
          ]
        },
        {
          "output_type": "stream",
          "name": "stdout",
          "text": [
            "Model improved and saved to ./cifar10_simplecnn.pth\n",
            "Epoch 27/50, Train Loss: 0.7021, Train Acc: 75.32%, Val Loss: 0.8147, Val Acc: 71.53%, Time: 8.18s\n"
          ]
        },
        {
          "output_type": "stream",
          "name": "stderr",
          "text": [
            "Training: 100%|██████████| 410/410 [00:07<00:00, 56.99it/s]\n",
            "Evaluating: 100%|██████████| 103/103 [00:01<00:00, 69.71it/s]\n"
          ]
        },
        {
          "output_type": "stream",
          "name": "stdout",
          "text": [
            "Epoch 28/50, Train Loss: 0.6865, Train Acc: 75.61%, Val Loss: 0.8375, Val Acc: 70.22%, Time: 8.69s\n"
          ]
        },
        {
          "output_type": "stream",
          "name": "stderr",
          "text": [
            "Training: 100%|██████████| 410/410 [00:06<00:00, 65.82it/s]\n",
            "Evaluating: 100%|██████████| 103/103 [00:01<00:00, 55.84it/s]\n"
          ]
        },
        {
          "output_type": "stream",
          "name": "stdout",
          "text": [
            "Epoch 29/50, Train Loss: 0.6754, Train Acc: 75.97%, Val Loss: 0.8367, Val Acc: 70.58%, Time: 8.09s\n"
          ]
        },
        {
          "output_type": "stream",
          "name": "stderr",
          "text": [
            "Training: 100%|██████████| 410/410 [00:06<00:00, 59.93it/s]\n",
            "Evaluating: 100%|██████████| 103/103 [00:02<00:00, 51.04it/s]\n"
          ]
        },
        {
          "output_type": "stream",
          "name": "stdout",
          "text": [
            "Epoch 30/50, Train Loss: 0.6692, Train Acc: 76.42%, Val Loss: 0.8107, Val Acc: 70.98%, Time: 8.87s\n"
          ]
        },
        {
          "output_type": "stream",
          "name": "stderr",
          "text": [
            "Training: 100%|██████████| 410/410 [00:07<00:00, 55.33it/s]\n",
            "Evaluating: 100%|██████████| 103/103 [00:01<00:00, 66.64it/s]\n"
          ]
        },
        {
          "output_type": "stream",
          "name": "stdout",
          "text": [
            "Epoch 31/50, Train Loss: 0.6508, Train Acc: 77.24%, Val Loss: 0.8145, Val Acc: 71.10%, Time: 8.97s\n"
          ]
        },
        {
          "output_type": "stream",
          "name": "stderr",
          "text": [
            "Training: 100%|██████████| 410/410 [00:06<00:00, 64.45it/s]\n",
            "Evaluating: 100%|██████████| 103/103 [00:02<00:00, 42.06it/s]\n"
          ]
        },
        {
          "output_type": "stream",
          "name": "stdout",
          "text": [
            "Epoch 32/50, Train Loss: 0.6452, Train Acc: 76.95%, Val Loss: 0.8023, Val Acc: 71.44%, Time: 8.83s\n"
          ]
        },
        {
          "output_type": "stream",
          "name": "stderr",
          "text": [
            "Training: 100%|██████████| 410/410 [00:06<00:00, 62.91it/s]\n",
            "Evaluating: 100%|██████████| 103/103 [00:02<00:00, 45.08it/s]\n"
          ]
        },
        {
          "output_type": "stream",
          "name": "stdout",
          "text": [
            "Model improved and saved to ./cifar10_simplecnn.pth\n",
            "Epoch 33/50, Train Loss: 0.6383, Train Acc: 77.45%, Val Loss: 0.7894, Val Acc: 72.41%, Time: 8.84s\n"
          ]
        },
        {
          "output_type": "stream",
          "name": "stderr",
          "text": [
            "Training: 100%|██████████| 410/410 [00:07<00:00, 52.65it/s]\n",
            "Evaluating: 100%|██████████| 103/103 [00:01<00:00, 66.95it/s]\n"
          ]
        },
        {
          "output_type": "stream",
          "name": "stdout",
          "text": [
            "Epoch 34/50, Train Loss: 0.6268, Train Acc: 78.09%, Val Loss: 0.7868, Val Acc: 72.35%, Time: 9.34s\n"
          ]
        },
        {
          "output_type": "stream",
          "name": "stderr",
          "text": [
            "Training: 100%|██████████| 410/410 [00:07<00:00, 56.75it/s]\n",
            "Evaluating: 100%|██████████| 103/103 [00:01<00:00, 64.19it/s]\n"
          ]
        },
        {
          "output_type": "stream",
          "name": "stdout",
          "text": [
            "Epoch 35/50, Train Loss: 0.6257, Train Acc: 77.62%, Val Loss: 0.7937, Val Acc: 71.38%, Time: 8.85s\n"
          ]
        },
        {
          "output_type": "stream",
          "name": "stderr",
          "text": [
            "Training: 100%|██████████| 410/410 [00:06<00:00, 65.10it/s]\n",
            "Evaluating: 100%|██████████| 103/103 [00:01<00:00, 65.76it/s]\n"
          ]
        },
        {
          "output_type": "stream",
          "name": "stdout",
          "text": [
            "Epoch 36/50, Train Loss: 0.6048, Train Acc: 78.79%, Val Loss: 0.8119, Val Acc: 71.41%, Time: 7.88s\n"
          ]
        },
        {
          "output_type": "stream",
          "name": "stderr",
          "text": [
            "Training: 100%|██████████| 410/410 [00:07<00:00, 52.33it/s]\n",
            "Evaluating: 100%|██████████| 103/103 [00:01<00:00, 67.09it/s]\n"
          ]
        },
        {
          "output_type": "stream",
          "name": "stdout",
          "text": [
            "Model improved and saved to ./cifar10_simplecnn.pth\n",
            "Epoch 37/50, Train Loss: 0.6015, Train Acc: 78.74%, Val Loss: 0.7871, Val Acc: 72.57%, Time: 9.41s\n"
          ]
        },
        {
          "output_type": "stream",
          "name": "stderr",
          "text": [
            "Training: 100%|██████████| 410/410 [00:07<00:00, 56.81it/s]\n",
            "Evaluating: 100%|██████████| 103/103 [00:01<00:00, 66.70it/s]\n"
          ]
        },
        {
          "output_type": "stream",
          "name": "stdout",
          "text": [
            "Epoch 38/50, Train Loss: 0.5837, Train Acc: 79.51%, Val Loss: 0.8344, Val Acc: 70.58%, Time: 8.78s\n"
          ]
        },
        {
          "output_type": "stream",
          "name": "stderr",
          "text": [
            "Training: 100%|██████████| 410/410 [00:06<00:00, 63.98it/s]\n",
            "Evaluating: 100%|██████████| 103/103 [00:01<00:00, 65.13it/s]\n"
          ]
        },
        {
          "output_type": "stream",
          "name": "stdout",
          "text": [
            "Model improved and saved to ./cifar10_simplecnn.pth\n",
            "Epoch 39/50, Train Loss: 0.5792, Train Acc: 79.61%, Val Loss: 0.7670, Val Acc: 73.82%, Time: 8.03s\n"
          ]
        },
        {
          "output_type": "stream",
          "name": "stderr",
          "text": [
            "Training: 100%|██████████| 410/410 [00:07<00:00, 54.95it/s]\n",
            "Evaluating: 100%|██████████| 103/103 [00:01<00:00, 66.04it/s]\n"
          ]
        },
        {
          "output_type": "stream",
          "name": "stdout",
          "text": [
            "Epoch 40/50, Train Loss: 0.5692, Train Acc: 80.05%, Val Loss: 0.7554, Val Acc: 73.27%, Time: 9.04s\n"
          ]
        },
        {
          "output_type": "stream",
          "name": "stderr",
          "text": [
            "Training: 100%|██████████| 410/410 [00:07<00:00, 55.57it/s]\n",
            "Evaluating: 100%|██████████| 103/103 [00:01<00:00, 69.07it/s]\n"
          ]
        },
        {
          "output_type": "stream",
          "name": "stdout",
          "text": [
            "Model improved and saved to ./cifar10_simplecnn.pth\n",
            "Epoch 41/50, Train Loss: 0.5624, Train Acc: 80.17%, Val Loss: 0.7431, Val Acc: 74.00%, Time: 8.90s\n"
          ]
        },
        {
          "output_type": "stream",
          "name": "stderr",
          "text": [
            "Training: 100%|██████████| 410/410 [00:06<00:00, 65.53it/s]\n",
            "Evaluating: 100%|██████████| 103/103 [00:01<00:00, 62.50it/s]\n"
          ]
        },
        {
          "output_type": "stream",
          "name": "stdout",
          "text": [
            "Model improved and saved to ./cifar10_simplecnn.pth\n",
            "Epoch 42/50, Train Loss: 0.5521, Train Acc: 80.65%, Val Loss: 0.7304, Val Acc: 74.12%, Time: 7.94s\n"
          ]
        },
        {
          "output_type": "stream",
          "name": "stderr",
          "text": [
            "Training: 100%|██████████| 410/410 [00:07<00:00, 56.31it/s]\n",
            "Evaluating: 100%|██████████| 103/103 [00:01<00:00, 68.53it/s]\n"
          ]
        },
        {
          "output_type": "stream",
          "name": "stdout",
          "text": [
            "Epoch 43/50, Train Loss: 0.5464, Train Acc: 80.85%, Val Loss: 0.7887, Val Acc: 71.96%, Time: 8.81s\n"
          ]
        },
        {
          "output_type": "stream",
          "name": "stderr",
          "text": [
            "Training: 100%|██████████| 410/410 [00:07<00:00, 56.14it/s]\n",
            "Evaluating: 100%|██████████| 103/103 [00:01<00:00, 68.35it/s]\n"
          ]
        },
        {
          "output_type": "stream",
          "name": "stdout",
          "text": [
            "Epoch 44/50, Train Loss: 0.5369, Train Acc: 81.17%, Val Loss: 0.7804, Val Acc: 73.33%, Time: 8.83s\n"
          ]
        },
        {
          "output_type": "stream",
          "name": "stderr",
          "text": [
            "Training: 100%|██████████| 410/410 [00:06<00:00, 64.53it/s]\n",
            "Evaluating: 100%|██████████| 103/103 [00:01<00:00, 55.62it/s]\n"
          ]
        },
        {
          "output_type": "stream",
          "name": "stdout",
          "text": [
            "Epoch 45/50, Train Loss: 0.5301, Train Acc: 81.47%, Val Loss: 0.7704, Val Acc: 74.03%, Time: 8.23s\n"
          ]
        },
        {
          "output_type": "stream",
          "name": "stderr",
          "text": [
            "Training: 100%|██████████| 410/410 [00:07<00:00, 58.17it/s]\n",
            "Evaluating: 100%|██████████| 103/103 [00:01<00:00, 66.24it/s]\n"
          ]
        },
        {
          "output_type": "stream",
          "name": "stdout",
          "text": [
            "Epoch 46/50, Train Loss: 0.5177, Train Acc: 81.45%, Val Loss: 0.7735, Val Acc: 73.15%, Time: 8.62s\n"
          ]
        },
        {
          "output_type": "stream",
          "name": "stderr",
          "text": [
            "Training: 100%|██████████| 410/410 [00:07<00:00, 55.22it/s]\n",
            "Evaluating: 100%|██████████| 103/103 [00:01<00:00, 66.13it/s]\n"
          ]
        },
        {
          "output_type": "stream",
          "name": "stdout",
          "text": [
            "Epoch 47/50, Train Loss: 0.5134, Train Acc: 82.19%, Val Loss: 0.7340, Val Acc: 74.00%, Time: 9.00s\n"
          ]
        },
        {
          "output_type": "stream",
          "name": "stderr",
          "text": [
            "Training: 100%|██████████| 410/410 [00:06<00:00, 65.29it/s]\n",
            "Evaluating: 100%|██████████| 103/103 [00:02<00:00, 50.37it/s]\n"
          ]
        },
        {
          "output_type": "stream",
          "name": "stdout",
          "text": [
            "Model improved and saved to ./cifar10_simplecnn.pth\n",
            "Epoch 48/50, Train Loss: 0.5048, Train Acc: 81.98%, Val Loss: 0.7527, Val Acc: 74.76%, Time: 8.36s\n"
          ]
        },
        {
          "output_type": "stream",
          "name": "stderr",
          "text": [
            "Training: 100%|██████████| 410/410 [00:06<00:00, 60.55it/s]\n",
            "Evaluating: 100%|██████████| 103/103 [00:01<00:00, 67.99it/s]\n"
          ]
        },
        {
          "output_type": "stream",
          "name": "stdout",
          "text": [
            "Epoch 49/50, Train Loss: 0.5125, Train Acc: 82.08%, Val Loss: 0.7461, Val Acc: 74.03%, Time: 8.30s\n"
          ]
        },
        {
          "output_type": "stream",
          "name": "stderr",
          "text": [
            "Training: 100%|██████████| 410/410 [00:07<00:00, 55.13it/s]\n",
            "Evaluating: 100%|██████████| 103/103 [00:01<00:00, 68.43it/s]\n"
          ]
        },
        {
          "output_type": "stream",
          "name": "stdout",
          "text": [
            "Epoch 50/50, Train Loss: 0.4949, Train Acc: 82.44%, Val Loss: 0.7681, Val Acc: 74.18%, Time: 8.96s\n",
            "Training complete. Evaluating on test set with the best model...\n"
          ]
        },
        {
          "output_type": "stream",
          "name": "stderr",
          "text": [
            "Evaluating: 100%|██████████| 313/313 [00:03<00:00, 100.39it/s]\n"
          ]
        },
        {
          "output_type": "stream",
          "name": "stdout",
          "text": [
            "Test Loss: 0.7582, Test Acc: 74.53%\n"
          ]
        },
        {
          "output_type": "display_data",
          "data": {
            "text/plain": [
              "<Figure size 640x480 with 1 Axes>"
            ],
            "image/png": "[encoded data removed]"
          },
          "metadata": {}
        },
        {
          "output_type": "display_data",
          "data": {
            "text/plain": [
              "<Figure size 640x480 with 1 Axes>"
            ],
            "image/png": "[encoded data removed]"
          },
          "metadata": {}
        },
        {
          "output_type": "stream",
          "name": "stdout",
          "text": [
            "Test Loss: 0.7582, Test Accuracy: 74.53%\n"
          ]
        }
      ]
    },
    {
      "cell_type": "markdown",
      "metadata": {
        "id": "qIgKMCms_riO"
      },
      "source": [
        "### Train the network - Alexnet"
      ]
    },
    {
      "cell_type": "code",
      "execution_count": 71,
      "metadata": {
        "colab": {
          "base_uri": "https://localhost:8080/",
          "height": 682
        },
        "id": "OzZey43z_riO",
        "outputId": "aeb593cf-6488-4798-a4ca-7202dc82a44f"
      },
      "outputs": [
        {
          "output_type": "stream",
          "name": "stdout",
          "text": [
            "Model will be saved to: ./cifar10_alexnet.pth\n",
            "Using device: cuda with seed: 1311\n",
            "\n"
          ]
        },
        {
          "output_type": "stream",
          "name": "stderr",
          "text": [
            "Training: 100%|██████████| 410/410 [00:13<00:00, 31.18it/s]\n",
            "Evaluating: 100%|██████████| 103/103 [00:02<00:00, 49.16it/s]\n",
            "/usr/local/lib/python3.10/dist-packages/torch/optim/lr_scheduler.py:149: UserWarning: The epoch parameter in `scheduler.step()` was not necessary and is being deprecated where possible. Please use `scheduler.step()` to step the scheduler. During the deprecation, if epoch is different from None, the closed form is used instead of the new chainable form, where available. Please open an issue if you are unable to replicate your use case: https://github.com/pytorch/pytorch/issues/new/choose.\n",
            "  warnings.warn(EPOCH_DEPRECATION_WARNING, UserWarning)\n"
          ]
        },
        {
          "output_type": "stream",
          "name": "stdout",
          "text": [
            "Model improved and saved to ./cifar10_alexnet.pth\n",
            "Epoch 1/50, Train Loss: 1.9815, Train Acc: 23.93%, Val Loss: 1.7194, Val Acc: 32.93%, Time: 16.05s\n"
          ]
        },
        {
          "output_type": "stream",
          "name": "stderr",
          "text": [
            "Training: 100%|██████████| 410/410 [00:12<00:00, 32.69it/s]\n",
            "Evaluating: 100%|██████████| 103/103 [00:01<00:00, 56.92it/s]\n"
          ]
        },
        {
          "output_type": "stream",
          "name": "stdout",
          "text": [
            "Model improved and saved to ./cifar10_alexnet.pth\n",
            "Epoch 2/50, Train Loss: 1.6516, Train Acc: 36.81%, Val Loss: 1.5727, Val Acc: 40.46%, Time: 14.91s\n"
          ]
        },
        {
          "output_type": "stream",
          "name": "stderr",
          "text": [
            "Training:  93%|█████████▎| 382/410 [00:11<00:00, 32.43it/s]\n"
          ]
        },
        {
          "output_type": "error",
          "ename": "KeyboardInterrupt",
          "evalue": "ignored",
          "traceback": [
            "\u001b[0;31m---------------------------------------------------------------------------\u001b[0m",
            "\u001b[0;31mKeyboardInterrupt\u001b[0m                         Traceback (most recent call last)",
            "\u001b[0;32m<ipython-input-71-28505316f4ef>\u001b[0m in \u001b[0;36m<cell line: 9>\u001b[0;34m()\u001b[0m\n\u001b[1;32m      7\u001b[0m \u001b[0;34m\u001b[0m\u001b[0m\n\u001b[1;32m      8\u001b[0m \u001b[0;31m# training model\u001b[0m\u001b[0;34m\u001b[0m\u001b[0;34m\u001b[0m\u001b[0m\n\u001b[0;32m----> 9\u001b[0;31m alexnet_results = train_network(model,\n\u001b[0m\u001b[1;32m     10\u001b[0m                                   \u001b[0moptimizer\u001b[0m\u001b[0;34m,\u001b[0m\u001b[0;34m\u001b[0m\u001b[0;34m\u001b[0m\u001b[0m\n\u001b[1;32m     11\u001b[0m                                   \u001b[0mcriterion\u001b[0m\u001b[0;34m,\u001b[0m\u001b[0;34m\u001b[0m\u001b[0;34m\u001b[0m\u001b[0m\n",
            "\u001b[0;32m<ipython-input-68-a8e0a68957c6>\u001b[0m in \u001b[0;36mtrain_network\u001b[0;34m(model, optimizer, criterion, scheduler, trainloader, valloader, testloader, num_epochs, device, num_class, model_name, dataset)\u001b[0m\n\u001b[1;32m     68\u001b[0m         \u001b[0mepoch_start_time\u001b[0m \u001b[0;34m=\u001b[0m \u001b[0mtime\u001b[0m\u001b[0;34m.\u001b[0m\u001b[0mtime\u001b[0m\u001b[0;34m(\u001b[0m\u001b[0;34m)\u001b[0m\u001b[0;34m\u001b[0m\u001b[0;34m\u001b[0m\u001b[0m\n\u001b[1;32m     69\u001b[0m \u001b[0;34m\u001b[0m\u001b[0m\n\u001b[0;32m---> 70\u001b[0;31m         \u001b[0mtrain_loss\u001b[0m\u001b[0;34m,\u001b[0m \u001b[0mtrain_acc\u001b[0m \u001b[0;34m=\u001b[0m \u001b[0mtrain_epoch\u001b[0m\u001b[0;34m(\u001b[0m\u001b[0mmodel\u001b[0m\u001b[0;34m,\u001b[0m \u001b[0mtrainloader\u001b[0m\u001b[0;34m,\u001b[0m \u001b[0mcriterion\u001b[0m\u001b[0;34m,\u001b[0m \u001b[0moptimizer\u001b[0m\u001b[0;34m,\u001b[0m \u001b[0mdevice\u001b[0m\u001b[0;34m)\u001b[0m\u001b[0;34m\u001b[0m\u001b[0;34m\u001b[0m\u001b[0m\n\u001b[0m\u001b[1;32m     71\u001b[0m         \u001b[0mval_loss\u001b[0m\u001b[0;34m,\u001b[0m \u001b[0mval_acc\u001b[0m \u001b[0;34m=\u001b[0m \u001b[0mevaluate\u001b[0m\u001b[0;34m(\u001b[0m\u001b[0mmodel\u001b[0m\u001b[0;34m,\u001b[0m \u001b[0mvalloader\u001b[0m\u001b[0;34m,\u001b[0m \u001b[0mcriterion\u001b[0m\u001b[0;34m,\u001b[0m \u001b[0mdevice\u001b[0m\u001b[0;34m)\u001b[0m\u001b[0;34m\u001b[0m\u001b[0;34m\u001b[0m\u001b[0m\n\u001b[1;32m     72\u001b[0m \u001b[0;34m\u001b[0m\u001b[0m\n",
            "\u001b[0;32m<ipython-input-68-a8e0a68957c6>\u001b[0m in \u001b[0;36mtrain_epoch\u001b[0;34m(model, trainloader, criterion, optimizer, device)\u001b[0m\n\u001b[1;32m     17\u001b[0m         \u001b[0moptimizer\u001b[0m\u001b[0;34m.\u001b[0m\u001b[0mstep\u001b[0m\u001b[0;34m(\u001b[0m\u001b[0;34m)\u001b[0m\u001b[0;34m\u001b[0m\u001b[0;34m\u001b[0m\u001b[0m\n\u001b[1;32m     18\u001b[0m \u001b[0;34m\u001b[0m\u001b[0m\n\u001b[0;32m---> 19\u001b[0;31m         \u001b[0mrunning_loss\u001b[0m \u001b[0;34m+=\u001b[0m \u001b[0mloss\u001b[0m\u001b[0;34m.\u001b[0m\u001b[0mitem\u001b[0m\u001b[0;34m(\u001b[0m\u001b[0;34m)\u001b[0m \u001b[0;34m*\u001b[0m \u001b[0minputs\u001b[0m\u001b[0;34m.\u001b[0m\u001b[0msize\u001b[0m\u001b[0;34m(\u001b[0m\u001b[0;36m0\u001b[0m\u001b[0;34m)\u001b[0m\u001b[0;34m\u001b[0m\u001b[0;34m\u001b[0m\u001b[0m\n\u001b[0m\u001b[1;32m     20\u001b[0m         \u001b[0m_\u001b[0m\u001b[0;34m,\u001b[0m \u001b[0mpreds\u001b[0m \u001b[0;34m=\u001b[0m \u001b[0mtorch\u001b[0m\u001b[0;34m.\u001b[0m\u001b[0mmax\u001b[0m\u001b[0;34m(\u001b[0m\u001b[0moutputs\u001b[0m\u001b[0;34m,\u001b[0m \u001b[0;36m1\u001b[0m\u001b[0;34m)\u001b[0m\u001b[0;34m\u001b[0m\u001b[0;34m\u001b[0m\u001b[0m\n\u001b[1;32m     21\u001b[0m         \u001b[0mcorrect_train\u001b[0m \u001b[0;34m+=\u001b[0m \u001b[0mtorch\u001b[0m\u001b[0;34m.\u001b[0m\u001b[0msum\u001b[0m\u001b[0;34m(\u001b[0m\u001b[0mpreds\u001b[0m \u001b[0;34m==\u001b[0m \u001b[0mlabels\u001b[0m\u001b[0;34m.\u001b[0m\u001b[0mdata\u001b[0m\u001b[0;34m)\u001b[0m\u001b[0;34m\u001b[0m\u001b[0;34m\u001b[0m\u001b[0m\n",
            "\u001b[0;31mKeyboardInterrupt\u001b[0m: "
          ]
        }
      ],
      "source": [
        "# individual configuration\n",
        "alexnet = AlexNet().to(device)\n",
        "model_name = \"alexnet\"\n",
        "model = alexnet\n",
        "optimizer = optim.Adam(model.parameters(), lr=0.001)\n",
        "scheduler = OneCycleLR(optimizer, max_lr=0.01, steps_per_epoch=len(trainloader), epochs=num_epochs)\n",
        "\n",
        "# training model\n",
        "alexnet_results = train_network(model,\n",
        "                                  optimizer,\n",
        "                                  criterion,\n",
        "                                  scheduler,\n",
        "                                  trainloader,\n",
        "                                  valloader,\n",
        "                                  testloader,\n",
        "                                  num_epochs,\n",
        "                                  device,\n",
        "                                  num_class,\n",
        "                                  model_name,\n",
        "                                  dataset\n",
        "                                  )\n",
        "\n",
        "# Plot the results\n",
        "plot_loss(alexnet_results['train_loss'], alexnet_results['val_loss'])\n",
        "plot_acc(alexnet_results['train_accuracy'], alexnet_results['val_accuracy'])\n",
        "# Print Test Loss and Test Accuracy\n",
        "print(f'Test Loss: {alexnet_results[\"test_loss\"]:.4f}, Test Accuracy: {alexnet_results[\"test_accuracy\"]:.2f}%')"
      ]
    },
    {
      "cell_type": "markdown",
      "metadata": {
        "id": "_d4Pfmqg_riO"
      },
      "source": [
        "### Train the network - Resnet18"
      ]
    },
    {
      "cell_type": "code",
      "execution_count": 59,
      "metadata": {
        "id": "4xfqSsoN_riO",
        "outputId": "8ca12c38-c904-46d0-e9e1-66dd6a4be62f",
        "colab": {
          "base_uri": "https://localhost:8080/",
          "height": 1000
        }
      },
      "outputs": [
        {
          "output_type": "stream",
          "name": "stdout",
          "text": [
            "Model will be saved to: ./cifar10_resnet18.pth\n",
            "Using device: cuda with seed: 1311\n",
            "\n"
          ]
        },
        {
          "output_type": "stream",
          "name": "stderr",
          "text": [
            "Training: 100%|██████████| 410/410 [00:16<00:00, 25.59it/s]\n",
            "Evaluating: 100%|██████████| 103/103 [00:01<00:00, 58.52it/s]\n"
          ]
        },
        {
          "output_type": "stream",
          "name": "stdout",
          "text": [
            "Model improved and saved to ./cifar10_resnet18.pth\n",
            "Epoch 1/15, Train Loss: 1.7138, Train Acc: 35.94%, Val Loss: 1.6623, Val Acc: 40.25%, Time: 17.90s\n"
          ]
        },
        {
          "output_type": "stream",
          "name": "stderr",
          "text": [
            "Training: 100%|██████████| 410/410 [00:15<00:00, 26.03it/s]\n",
            "Evaluating: 100%|██████████| 103/103 [00:01<00:00, 59.00it/s]\n"
          ]
        },
        {
          "output_type": "stream",
          "name": "stdout",
          "text": [
            "Model improved and saved to ./cifar10_resnet18.pth\n",
            "Epoch 2/15, Train Loss: 1.4010, Train Acc: 49.02%, Val Loss: 1.3507, Val Acc: 51.45%, Time: 17.60s\n"
          ]
        },
        {
          "output_type": "stream",
          "name": "stderr",
          "text": [
            "Training: 100%|██████████| 410/410 [00:16<00:00, 25.34it/s]\n",
            "Evaluating: 100%|██████████| 103/103 [00:02<00:00, 51.47it/s]\n"
          ]
        },
        {
          "output_type": "stream",
          "name": "stdout",
          "text": [
            "Model improved and saved to ./cifar10_resnet18.pth\n",
            "Epoch 3/15, Train Loss: 1.2041, Train Acc: 56.71%, Val Loss: 1.1099, Val Acc: 59.32%, Time: 18.30s\n"
          ]
        },
        {
          "output_type": "stream",
          "name": "stderr",
          "text": [
            "Training: 100%|██████████| 410/410 [00:16<00:00, 25.61it/s]\n",
            "Evaluating: 100%|██████████| 103/103 [00:01<00:00, 55.78it/s]\n"
          ]
        },
        {
          "output_type": "stream",
          "name": "stdout",
          "text": [
            "Model improved and saved to ./cifar10_resnet18.pth\n",
            "Epoch 4/15, Train Loss: 1.0733, Train Acc: 62.04%, Val Loss: 1.0602, Val Acc: 63.01%, Time: 17.97s\n"
          ]
        },
        {
          "output_type": "stream",
          "name": "stderr",
          "text": [
            "Training: 100%|██████████| 410/410 [00:16<00:00, 25.61it/s]\n",
            "Evaluating: 100%|██████████| 103/103 [00:02<00:00, 37.59it/s]\n"
          ]
        },
        {
          "output_type": "stream",
          "name": "stdout",
          "text": [
            "Model improved and saved to ./cifar10_resnet18.pth\n",
            "Epoch 5/15, Train Loss: 0.9732, Train Acc: 65.48%, Val Loss: 0.9494, Val Acc: 67.07%, Time: 18.87s\n"
          ]
        },
        {
          "output_type": "stream",
          "name": "stderr",
          "text": [
            "Training: 100%|██████████| 410/410 [00:16<00:00, 25.60it/s]\n",
            "Evaluating: 100%|██████████| 103/103 [00:01<00:00, 58.69it/s]\n"
          ]
        },
        {
          "output_type": "stream",
          "name": "stdout",
          "text": [
            "Model improved and saved to ./cifar10_resnet18.pth\n",
            "Epoch 6/15, Train Loss: 0.9016, Train Acc: 68.11%, Val Loss: 0.9095, Val Acc: 67.68%, Time: 17.89s\n"
          ]
        },
        {
          "output_type": "stream",
          "name": "stderr",
          "text": [
            "Training: 100%|██████████| 410/410 [00:16<00:00, 25.42it/s]\n",
            "Evaluating: 100%|██████████| 103/103 [00:02<00:00, 43.82it/s]\n"
          ]
        },
        {
          "output_type": "stream",
          "name": "stdout",
          "text": [
            "Model improved and saved to ./cifar10_resnet18.pth\n",
            "Epoch 7/15, Train Loss: 0.8286, Train Acc: 70.77%, Val Loss: 0.8066, Val Acc: 72.05%, Time: 18.64s\n"
          ]
        },
        {
          "output_type": "stream",
          "name": "stderr",
          "text": [
            "Training: 100%|██████████| 410/410 [00:16<00:00, 24.92it/s]\n",
            "Evaluating: 100%|██████████| 103/103 [00:01<00:00, 59.04it/s]\n"
          ]
        },
        {
          "output_type": "stream",
          "name": "stdout",
          "text": [
            "Model improved and saved to ./cifar10_resnet18.pth\n",
            "Epoch 8/15, Train Loss: 0.7590, Train Acc: 73.47%, Val Loss: 0.7274, Val Acc: 74.28%, Time: 18.31s\n"
          ]
        },
        {
          "output_type": "stream",
          "name": "stderr",
          "text": [
            "Training: 100%|██████████| 410/410 [00:16<00:00, 25.23it/s]\n",
            "Evaluating: 100%|██████████| 103/103 [00:01<00:00, 57.90it/s]\n"
          ]
        },
        {
          "output_type": "stream",
          "name": "stdout",
          "text": [
            "Model improved and saved to ./cifar10_resnet18.pth\n",
            "Epoch 9/15, Train Loss: 0.6971, Train Acc: 76.12%, Val Loss: 0.7088, Val Acc: 75.56%, Time: 18.14s\n"
          ]
        },
        {
          "output_type": "stream",
          "name": "stderr",
          "text": [
            "Training: 100%|██████████| 410/410 [00:16<00:00, 24.43it/s]\n",
            "Evaluating: 100%|██████████| 103/103 [00:01<00:00, 57.80it/s]\n"
          ]
        },
        {
          "output_type": "stream",
          "name": "stdout",
          "text": [
            "Epoch 10/15, Train Loss: 0.6591, Train Acc: 77.27%, Val Loss: 0.7347, Val Acc: 73.70%, Time: 18.59s\n"
          ]
        },
        {
          "output_type": "stream",
          "name": "stderr",
          "text": [
            "Training: 100%|██████████| 410/410 [00:16<00:00, 25.11it/s]\n",
            "Evaluating: 100%|██████████| 103/103 [00:01<00:00, 59.24it/s]\n"
          ]
        },
        {
          "output_type": "stream",
          "name": "stdout",
          "text": [
            "Model improved and saved to ./cifar10_resnet18.pth\n",
            "Epoch 11/15, Train Loss: 0.6264, Train Acc: 78.63%, Val Loss: 0.6425, Val Acc: 77.60%, Time: 18.18s\n"
          ]
        },
        {
          "output_type": "stream",
          "name": "stderr",
          "text": [
            "Training: 100%|██████████| 410/410 [00:16<00:00, 24.25it/s]\n",
            "Evaluating: 100%|██████████| 103/103 [00:01<00:00, 58.12it/s]\n"
          ]
        },
        {
          "output_type": "stream",
          "name": "stdout",
          "text": [
            "Model improved and saved to ./cifar10_resnet18.pth\n",
            "Epoch 12/15, Train Loss: 0.5784, Train Acc: 80.06%, Val Loss: 0.5963, Val Acc: 79.34%, Time: 18.79s\n"
          ]
        },
        {
          "output_type": "stream",
          "name": "stderr",
          "text": [
            "Training: 100%|██████████| 410/410 [00:16<00:00, 25.01it/s]\n",
            "Evaluating: 100%|██████████| 103/103 [00:01<00:00, 58.75it/s]\n"
          ]
        },
        {
          "output_type": "stream",
          "name": "stdout",
          "text": [
            "Epoch 13/15, Train Loss: 0.5420, Train Acc: 81.25%, Val Loss: 0.6317, Val Acc: 78.55%, Time: 18.16s\n"
          ]
        },
        {
          "output_type": "stream",
          "name": "stderr",
          "text": [
            "Training: 100%|██████████| 410/410 [00:16<00:00, 24.44it/s]\n",
            "Evaluating: 100%|██████████| 103/103 [00:01<00:00, 52.56it/s]\n"
          ]
        },
        {
          "output_type": "stream",
          "name": "stdout",
          "text": [
            "Model improved and saved to ./cifar10_resnet18.pth\n",
            "Epoch 14/15, Train Loss: 0.5232, Train Acc: 81.86%, Val Loss: 0.5703, Val Acc: 80.90%, Time: 18.85s\n"
          ]
        },
        {
          "output_type": "stream",
          "name": "stderr",
          "text": [
            "Training: 100%|██████████| 410/410 [00:16<00:00, 25.03it/s]\n",
            "Evaluating: 100%|██████████| 103/103 [00:01<00:00, 58.18it/s]\n"
          ]
        },
        {
          "output_type": "stream",
          "name": "stdout",
          "text": [
            "Epoch 15/15, Train Loss: 0.4900, Train Acc: 82.88%, Val Loss: 0.5989, Val Acc: 79.80%, Time: 18.17s\n",
            "Training complete. Evaluating on test set with the best model...\n"
          ]
        },
        {
          "output_type": "stream",
          "name": "stderr",
          "text": [
            "Evaluating: 100%|██████████| 313/313 [00:04<00:00, 69.44it/s]\n"
          ]
        },
        {
          "output_type": "stream",
          "name": "stdout",
          "text": [
            "Test Loss: 0.6399, Test Acc: 79.94%\n"
          ]
        },
        {
          "output_type": "display_data",
          "data": {
            "text/plain": [
              "<Figure size 640x480 with 1 Axes>"
            ],
            "image/png": "[encoded data removed]"
          },
          "metadata": {}
        },
        {
          "output_type": "display_data",
          "data": {
            "text/plain": [
              "<Figure size 640x480 with 1 Axes>"
            ],
            "image/png": "[encoded data removed]"
          },
          "metadata": {}
        },
        {
          "output_type": "stream",
          "name": "stdout",
          "text": [
            "Test Loss: 0.6399, Test Accuracy: 79.94%\n"
          ]
        }
      ],
      "source": [
        "# individual configuration\n",
        "resnet18 = ResNet18().to(device)\n",
        "model_name = \"resnet18\"\n",
        "model = resnet18\n",
        "optimizer = optim.AdamW(model.parameters(), lr=0.001, weight_decay=8e-4)\n",
        "scheduler = OneCycleLR(optimizer, max_lr=0.01, steps_per_epoch=len(trainloader), epochs=num_epochs)\n",
        "\n",
        "# training model\n",
        "resnet18_results = train_network(model,\n",
        "                                  optimizer,\n",
        "                                  criterion,\n",
        "                                  scheduler,\n",
        "                                  trainloader,\n",
        "                                  valloader,\n",
        "                                  testloader,\n",
        "                                  num_epochs,\n",
        "                                  device,\n",
        "                                  num_class,\n",
        "                                  model_name,\n",
        "                                  dataset\n",
        "                                  )\n",
        "\n",
        "# Plot the results\n",
        "plot_loss(resnet18_results['train_loss'], resnet18_results['val_loss'])\n",
        "plot_acc(resnet18_results['train_accuracy'], resnet18_results['val_accuracy'])\n",
        "# Print Test Loss and Test Accuracy\n",
        "print(f'Test Loss: {resnet18_results[\"test_loss\"]:.4f}, Test Accuracy: {resnet18_results[\"test_accuracy\"]:.2f}%')"
      ]
    },
    {
      "cell_type": "markdown",
      "metadata": {
        "id": "BD5SYO-u_riP"
      },
      "source": [
        "### Train the network - Resnet34"
      ]
    },
    {
      "cell_type": "code",
      "execution_count": null,
      "metadata": {
        "id": "W5Pmadht_riP",
        "outputId": "2fc8c755-c2c3-47a4-b49b-c848cbbce7cf",
        "colab": {
          "base_uri": "https://localhost:8080/",
          "height": 1000
        }
      },
      "outputs": [
        {
          "output_type": "stream",
          "name": "stdout",
          "text": [
            "Using device: cuda with seed:  1311\n",
            "\n"
          ]
        },
        {
          "output_type": "stream",
          "name": "stderr",
          "text": [
            "Epoch 1/15 Training: 100%|██████████| 1563/1563 [00:47<00:00, 32.79it/s]\n",
            "Epoch 1/15 Testing: 100%|██████████| 313/313 [00:03<00:00, 78.49it/s]\n"
          ]
        },
        {
          "output_type": "stream",
          "name": "stdout",
          "text": [
            "Epoch 1/15, Train Loss: 1.5160, Train Acc: 44.35%, Test Loss: 1.1076, Test Acc: 59.77%, Time: 51.66s\n"
          ]
        },
        {
          "output_type": "stream",
          "name": "stderr",
          "text": [
            "Epoch 2/15 Training: 100%|██████████| 1563/1563 [00:47<00:00, 32.75it/s]\n",
            "Epoch 2/15 Testing: 100%|██████████| 313/313 [00:04<00:00, 78.08it/s]\n"
          ]
        },
        {
          "output_type": "stream",
          "name": "stdout",
          "text": [
            "Epoch 2/15, Train Loss: 1.0284, Train Acc: 63.54%, Test Loss: 0.9513, Test Acc: 67.09%, Time: 51.74s\n"
          ]
        },
        {
          "output_type": "stream",
          "name": "stderr",
          "text": [
            "Epoch 3/15 Training: 100%|██████████| 1563/1563 [00:47<00:00, 32.85it/s]\n",
            "Epoch 3/15 Testing: 100%|██████████| 313/313 [00:04<00:00, 78.11it/s]\n"
          ]
        },
        {
          "output_type": "stream",
          "name": "stdout",
          "text": [
            "Epoch 3/15, Train Loss: 0.7994, Train Acc: 71.87%, Test Loss: 0.7032, Test Acc: 75.56%, Time: 51.60s\n"
          ]
        },
        {
          "output_type": "stream",
          "name": "stderr",
          "text": [
            "Epoch 4/15 Training: 100%|██████████| 1563/1563 [00:47<00:00, 32.94it/s]\n",
            "Epoch 4/15 Testing: 100%|██████████| 313/313 [00:03<00:00, 78.33it/s]\n"
          ]
        },
        {
          "output_type": "stream",
          "name": "stdout",
          "text": [
            "Epoch 4/15, Train Loss: 0.6581, Train Acc: 77.31%, Test Loss: 0.5645, Test Acc: 80.59%, Time: 51.46s\n"
          ]
        },
        {
          "output_type": "stream",
          "name": "stderr",
          "text": [
            "Epoch 5/15 Training: 100%|██████████| 1563/1563 [00:47<00:00, 33.04it/s]\n",
            "Epoch 5/15 Testing: 100%|██████████| 313/313 [00:03<00:00, 78.35it/s]\n"
          ]
        },
        {
          "output_type": "stream",
          "name": "stdout",
          "text": [
            "Epoch 5/15, Train Loss: 0.5689, Train Acc: 80.18%, Test Loss: 0.5530, Test Acc: 81.22%, Time: 51.30s\n"
          ]
        },
        {
          "output_type": "stream",
          "name": "stderr",
          "text": [
            "Epoch 6/15 Training: 100%|██████████| 1563/1563 [00:47<00:00, 32.79it/s]\n",
            "Epoch 6/15 Testing: 100%|██████████| 313/313 [00:03<00:00, 78.35it/s]\n"
          ]
        },
        {
          "output_type": "stream",
          "name": "stdout",
          "text": [
            "Epoch 6/15, Train Loss: 0.5023, Train Acc: 82.54%, Test Loss: 0.4969, Test Acc: 83.09%, Time: 51.67s\n"
          ]
        },
        {
          "output_type": "stream",
          "name": "stderr",
          "text": [
            "Epoch 7/15 Training: 100%|██████████| 1563/1563 [00:47<00:00, 33.04it/s]\n",
            "Epoch 7/15 Testing: 100%|██████████| 313/313 [00:03<00:00, 78.72it/s]\n"
          ]
        },
        {
          "output_type": "stream",
          "name": "stdout",
          "text": [
            "Epoch 7/15, Train Loss: 0.4509, Train Acc: 84.48%, Test Loss: 0.4483, Test Acc: 84.87%, Time: 51.30s\n"
          ]
        },
        {
          "output_type": "stream",
          "name": "stderr",
          "text": [
            "Epoch 8/15 Training: 100%|██████████| 1563/1563 [00:47<00:00, 32.97it/s]\n",
            "Epoch 8/15 Testing: 100%|██████████| 313/313 [00:03<00:00, 78.30it/s]\n"
          ]
        },
        {
          "output_type": "stream",
          "name": "stdout",
          "text": [
            "Epoch 8/15, Train Loss: 0.4074, Train Acc: 85.90%, Test Loss: 0.4699, Test Acc: 84.55%, Time: 51.41s\n"
          ]
        },
        {
          "output_type": "stream",
          "name": "stderr",
          "text": [
            "Epoch 9/15 Training: 100%|██████████| 1563/1563 [00:47<00:00, 32.74it/s]\n",
            "Epoch 9/15 Testing: 100%|██████████| 313/313 [00:03<00:00, 79.45it/s]\n"
          ]
        },
        {
          "output_type": "stream",
          "name": "stdout",
          "text": [
            "Epoch 9/15, Train Loss: 0.3666, Train Acc: 87.31%, Test Loss: 0.4067, Test Acc: 86.21%, Time: 51.69s\n"
          ]
        },
        {
          "output_type": "stream",
          "name": "stderr",
          "text": [
            "Epoch 10/15 Training: 100%|██████████| 1563/1563 [00:47<00:00, 33.01it/s]\n",
            "Epoch 10/15 Testing: 100%|██████████| 313/313 [00:04<00:00, 76.17it/s]\n"
          ]
        },
        {
          "output_type": "stream",
          "name": "stdout",
          "text": [
            "Epoch 10/15, Train Loss: 0.3383, Train Acc: 88.41%, Test Loss: 0.3907, Test Acc: 86.93%, Time: 51.47s\n"
          ]
        },
        {
          "output_type": "stream",
          "name": "stderr",
          "text": [
            "Epoch 11/15 Training: 100%|██████████| 1563/1563 [00:47<00:00, 32.78it/s]\n",
            "Epoch 11/15 Testing: 100%|██████████| 313/313 [00:04<00:00, 77.14it/s]\n"
          ]
        },
        {
          "output_type": "stream",
          "name": "stdout",
          "text": [
            "Epoch 11/15, Train Loss: 0.3175, Train Acc: 88.95%, Test Loss: 0.4005, Test Acc: 86.85%, Time: 51.74s\n"
          ]
        },
        {
          "output_type": "stream",
          "name": "stderr",
          "text": [
            "Epoch 12/15 Training: 100%|██████████| 1563/1563 [00:47<00:00, 32.75it/s]\n",
            "Epoch 12/15 Testing: 100%|██████████| 313/313 [00:03<00:00, 78.49it/s]\n"
          ]
        },
        {
          "output_type": "stream",
          "name": "stdout",
          "text": [
            "Epoch 12/15, Train Loss: 0.2928, Train Acc: 89.95%, Test Loss: 0.3559, Test Acc: 88.29%, Time: 51.72s\n"
          ]
        },
        {
          "output_type": "stream",
          "name": "stderr",
          "text": [
            "Epoch 13/15 Training: 100%|██████████| 1563/1563 [00:47<00:00, 32.83it/s]\n",
            "Epoch 13/15 Testing: 100%|██████████| 313/313 [00:03<00:00, 79.04it/s]\n"
          ]
        },
        {
          "output_type": "stream",
          "name": "stdout",
          "text": [
            "Epoch 13/15, Train Loss: 0.2715, Train Acc: 90.57%, Test Loss: 0.3527, Test Acc: 88.91%, Time: 51.58s\n"
          ]
        },
        {
          "output_type": "stream",
          "name": "stderr",
          "text": [
            "Epoch 14/15 Training: 100%|██████████| 1563/1563 [00:47<00:00, 32.83it/s]\n",
            "Epoch 14/15 Testing: 100%|██████████| 313/313 [00:04<00:00, 78.24it/s]\n"
          ]
        },
        {
          "output_type": "stream",
          "name": "stdout",
          "text": [
            "Epoch 14/15, Train Loss: 0.2485, Train Acc: 91.29%, Test Loss: 0.3115, Test Acc: 89.70%, Time: 51.61s\n"
          ]
        },
        {
          "output_type": "stream",
          "name": "stderr",
          "text": [
            "Epoch 15/15 Training: 100%|██████████| 1563/1563 [00:47<00:00, 32.97it/s]\n",
            "Epoch 15/15 Testing: 100%|██████████| 313/313 [00:04<00:00, 65.91it/s]\n"
          ]
        },
        {
          "output_type": "stream",
          "name": "stdout",
          "text": [
            "Epoch 15/15, Train Loss: 0.2340, Train Acc: 91.95%, Test Loss: 0.3128, Test Acc: 89.82%, Time: 52.17s\n",
            "Accuracy for each class\n",
            "Accuracy of airplane : 88 %\n",
            "Accuracy of automobile : 95 %\n",
            "Accuracy of  bird : 83 %\n",
            "Accuracy of   cat : 81 %\n",
            "Accuracy of  deer : 91 %\n",
            "Accuracy of   dog : 81 %\n",
            "Accuracy of  frog : 94 %\n",
            "Accuracy of horse : 92 %\n",
            "Accuracy of  ship : 95 %\n",
            "Accuracy of truck : 95 %\n"
          ]
        },
        {
          "output_type": "display_data",
          "data": {
            "text/plain": [
              "<Figure size 640x480 with 1 Axes>"
            ],
            "image/png": "[encoded data removed]"
          },
          "metadata": {}
        },
        {
          "output_type": "display_data",
          "data": {
            "text/plain": [
              "<Figure size 640x480 with 1 Axes>"
            ],
            "image/png": "[encoded data removed]"
          },
          "metadata": {}
        },
        {
          "output_type": "stream",
          "name": "stdout",
          "text": [
            "./cifar10_resnet34.pth\n"
          ]
        }
      ],
      "source": [
        "# individual configuration\n",
        "resnet34 = ResNet34().to(device)\n",
        "model_name = \"resnet34\"\n",
        "model = resnet34\n",
        "optimizer = optim.AdamW(model.parameters(), lr=0.001, weight_decay=8e-4)\n",
        "scheduler = OneCycleLR(optimizer, max_lr=0.01, steps_per_epoch=len(trainloader), epochs=num_epochs)\n",
        "\n",
        "# training model\n",
        "resnet34_results = train_network(model,\n",
        "                            optimizer,\n",
        "                            criterion,\n",
        "                            trainloader,\n",
        "                            testloader,\n",
        "                            num_epochs\n",
        "                            )\n",
        "\n",
        "# plot the chart\n",
        "plot_loss(resnet34_results[0], resnet34_results[2])\n",
        "plot_acc(resnet34_results[1], resnet34_results[3])\n",
        "\n",
        "# save the model info\n",
        "PATH = f'./{dataset}_{str(model_name)}.pth'\n",
        "print(PATH)\n",
        "torch.save(resnet34.state_dict(), PATH)"
      ]
    },
    {
      "cell_type": "markdown",
      "source": [
        "### Train the network - Resnet50"
      ],
      "metadata": {
        "id": "q3j5wlmmPlrp"
      }
    },
    {
      "cell_type": "code",
      "source": [
        "# individual configuration\n",
        "resnet50 = ResNet50().to(device)\n",
        "model_name = \"resnet50\"\n",
        "model = resnet50\n",
        "optimizer = optim.AdamW(model.parameters(), lr=0.001, weight_decay=8e-4)\n",
        "scheduler = OneCycleLR(optimizer, max_lr=0.01, steps_per_epoch=len(trainloader), epochs=num_epochs)\n",
        "\n",
        "# training model\n",
        "resnet50_results = train_network(model,\n",
        "                            optimizer,\n",
        "                            criterion,\n",
        "                            trainloader,\n",
        "                            testloader,\n",
        "                            num_epochs\n",
        "                            )\n",
        "\n",
        "# plot the chart\n",
        "plot_loss(resnet50_results[0], resnet50_results[2])\n",
        "plot_acc(resnet50_results[1], resnet50_results[3])\n",
        "\n",
        "# save the model info\n",
        "PATH = f'./{dataset}_{str(model_name)}.pth'\n",
        "print(PATH)\n",
        "torch.save(resnet50.state_dict(), PATH)"
      ],
      "metadata": {
        "id": "J5IjayQuPkha",
        "outputId": "e79b057e-3749-4df0-d7ac-33b40e409ea9",
        "colab": {
          "base_uri": "https://localhost:8080/",
          "height": 1000
        }
      },
      "execution_count": null,
      "outputs": [
        {
          "output_type": "stream",
          "name": "stdout",
          "text": [
            "Using device: cuda with seed:  1311\n",
            "\n"
          ]
        },
        {
          "output_type": "stream",
          "name": "stderr",
          "text": [
            "Epoch 1/15 Training: 100%|██████████| 1563/1563 [00:57<00:00, 27.07it/s]\n",
            "Epoch 1/15 Testing: 100%|██████████| 313/313 [00:04<00:00, 67.09it/s]\n"
          ]
        },
        {
          "output_type": "stream",
          "name": "stdout",
          "text": [
            "Epoch 1/15, Train Loss: 1.4975, Train Acc: 45.73%, Test Loss: 1.0993, Test Acc: 60.89%, Time: 62.41s\n"
          ]
        },
        {
          "output_type": "stream",
          "name": "stderr",
          "text": [
            "Epoch 2/15 Training: 100%|██████████| 1563/1563 [00:58<00:00, 26.92it/s]\n",
            "Epoch 2/15 Testing: 100%|██████████| 313/313 [00:04<00:00, 66.79it/s]\n"
          ]
        },
        {
          "output_type": "stream",
          "name": "stdout",
          "text": [
            "Epoch 2/15, Train Loss: 0.9984, Train Acc: 64.73%, Test Loss: 1.1599, Test Acc: 63.13%, Time: 62.76s\n"
          ]
        },
        {
          "output_type": "stream",
          "name": "stderr",
          "text": [
            "Epoch 3/15 Training: 100%|██████████| 1563/1563 [00:58<00:00, 26.91it/s]\n",
            "Epoch 3/15 Testing: 100%|██████████| 313/313 [00:04<00:00, 66.83it/s]\n"
          ]
        },
        {
          "output_type": "stream",
          "name": "stdout",
          "text": [
            "Epoch 3/15, Train Loss: 0.8039, Train Acc: 71.97%, Test Loss: 0.8211, Test Acc: 72.63%, Time: 62.78s\n"
          ]
        },
        {
          "output_type": "stream",
          "name": "stderr",
          "text": [
            "Epoch 4/15 Training: 100%|██████████| 1563/1563 [00:57<00:00, 26.97it/s]\n",
            "Epoch 4/15 Testing: 100%|██████████| 313/313 [00:04<00:00, 65.48it/s]\n"
          ]
        },
        {
          "output_type": "stream",
          "name": "stdout",
          "text": [
            "Epoch 4/15, Train Loss: 0.6867, Train Acc: 76.23%, Test Loss: 0.6022, Test Acc: 78.82%, Time: 62.74s\n"
          ]
        },
        {
          "output_type": "stream",
          "name": "stderr",
          "text": [
            "Epoch 5/15 Training: 100%|██████████| 1563/1563 [00:58<00:00, 26.92it/s]\n",
            "Epoch 5/15 Testing: 100%|██████████| 313/313 [00:04<00:00, 66.08it/s]\n"
          ]
        },
        {
          "output_type": "stream",
          "name": "stdout",
          "text": [
            "Epoch 5/15, Train Loss: 0.5967, Train Acc: 79.47%, Test Loss: 0.6145, Test Acc: 78.45%, Time: 62.81s\n"
          ]
        },
        {
          "output_type": "stream",
          "name": "stderr",
          "text": [
            "Epoch 6/15 Training: 100%|██████████| 1563/1563 [00:57<00:00, 27.18it/s]\n",
            "Epoch 6/15 Testing: 100%|██████████| 313/313 [00:04<00:00, 67.74it/s]\n"
          ]
        },
        {
          "output_type": "stream",
          "name": "stdout",
          "text": [
            "Epoch 6/15, Train Loss: 0.5402, Train Acc: 81.45%, Test Loss: 0.5164, Test Acc: 82.54%, Time: 62.14s\n"
          ]
        },
        {
          "output_type": "stream",
          "name": "stderr",
          "text": [
            "Epoch 7/15 Training: 100%|██████████| 1563/1563 [00:57<00:00, 26.97it/s]\n",
            "Epoch 7/15 Testing: 100%|██████████| 313/313 [00:04<00:00, 66.95it/s]\n"
          ]
        },
        {
          "output_type": "stream",
          "name": "stdout",
          "text": [
            "Epoch 7/15, Train Loss: 0.4894, Train Acc: 83.22%, Test Loss: 0.5136, Test Acc: 82.89%, Time: 62.64s\n"
          ]
        },
        {
          "output_type": "stream",
          "name": "stderr",
          "text": [
            "Epoch 8/15 Training: 100%|██████████| 1563/1563 [00:57<00:00, 27.14it/s]\n",
            "Epoch 8/15 Testing: 100%|██████████| 313/313 [00:04<00:00, 67.23it/s]\n"
          ]
        },
        {
          "output_type": "stream",
          "name": "stdout",
          "text": [
            "Epoch 8/15, Train Loss: 0.4516, Train Acc: 84.48%, Test Loss: 0.4707, Test Acc: 83.82%, Time: 62.26s\n"
          ]
        },
        {
          "output_type": "stream",
          "name": "stderr",
          "text": [
            "Epoch 9/15 Training: 100%|██████████| 1563/1563 [00:58<00:00, 26.93it/s]\n",
            "Epoch 9/15 Testing: 100%|██████████| 313/313 [00:04<00:00, 66.14it/s]\n"
          ]
        },
        {
          "output_type": "stream",
          "name": "stdout",
          "text": [
            "Epoch 9/15, Train Loss: 0.4083, Train Acc: 86.05%, Test Loss: 0.4466, Test Acc: 85.16%, Time: 62.77s\n"
          ]
        },
        {
          "output_type": "stream",
          "name": "stderr",
          "text": [
            "Epoch 10/15 Training: 100%|██████████| 1563/1563 [00:57<00:00, 26.96it/s]\n",
            "Epoch 10/15 Testing: 100%|██████████| 313/313 [00:04<00:00, 67.58it/s]\n"
          ]
        },
        {
          "output_type": "stream",
          "name": "stdout",
          "text": [
            "Epoch 10/15, Train Loss: 0.3865, Train Acc: 86.64%, Test Loss: 0.4186, Test Acc: 86.44%, Time: 62.63s\n"
          ]
        },
        {
          "output_type": "stream",
          "name": "stderr",
          "text": [
            "Epoch 11/15 Training: 100%|██████████| 1563/1563 [00:58<00:00, 26.89it/s]\n",
            "Epoch 11/15 Testing: 100%|██████████| 313/313 [00:04<00:00, 66.58it/s]\n"
          ]
        },
        {
          "output_type": "stream",
          "name": "stdout",
          "text": [
            "Epoch 11/15, Train Loss: 0.3637, Train Acc: 87.40%, Test Loss: 0.4241, Test Acc: 86.02%, Time: 62.83s\n"
          ]
        },
        {
          "output_type": "stream",
          "name": "stderr",
          "text": [
            "Epoch 12/15 Training: 100%|██████████| 1563/1563 [00:58<00:00, 26.95it/s]\n",
            "Epoch 12/15 Testing: 100%|██████████| 313/313 [00:04<00:00, 66.85it/s]\n"
          ]
        },
        {
          "output_type": "stream",
          "name": "stdout",
          "text": [
            "Epoch 12/15, Train Loss: 0.3335, Train Acc: 88.54%, Test Loss: 0.3706, Test Acc: 87.67%, Time: 62.70s\n"
          ]
        },
        {
          "output_type": "stream",
          "name": "stderr",
          "text": [
            "Epoch 13/15 Training: 100%|██████████| 1563/1563 [00:57<00:00, 27.08it/s]\n",
            "Epoch 13/15 Testing: 100%|██████████| 313/313 [00:04<00:00, 66.85it/s]\n"
          ]
        },
        {
          "output_type": "stream",
          "name": "stdout",
          "text": [
            "Epoch 13/15, Train Loss: 0.3100, Train Acc: 89.25%, Test Loss: 0.3773, Test Acc: 87.97%, Time: 62.41s\n"
          ]
        },
        {
          "output_type": "stream",
          "name": "stderr",
          "text": [
            "Epoch 14/15 Training: 100%|██████████| 1563/1563 [00:58<00:00, 26.83it/s]\n",
            "Epoch 14/15 Testing: 100%|██████████| 313/313 [00:04<00:00, 65.21it/s]\n"
          ]
        },
        {
          "output_type": "stream",
          "name": "stdout",
          "text": [
            "Epoch 14/15, Train Loss: 0.2921, Train Acc: 89.91%, Test Loss: 0.3440, Test Acc: 88.92%, Time: 63.06s\n"
          ]
        },
        {
          "output_type": "stream",
          "name": "stderr",
          "text": [
            "Epoch 15/15 Training: 100%|██████████| 1563/1563 [00:59<00:00, 26.49it/s]\n",
            "Epoch 15/15 Testing: 100%|██████████| 313/313 [00:05<00:00, 56.84it/s]\n"
          ]
        },
        {
          "output_type": "stream",
          "name": "stdout",
          "text": [
            "Epoch 15/15, Train Loss: 0.2784, Train Acc: 90.34%, Test Loss: 0.3434, Test Acc: 88.81%, Time: 64.53s\n",
            "Accuracy for each class\n",
            "Accuracy of airplane : 90 %\n",
            "Accuracy of automobile : 88 %\n",
            "Accuracy of  bird : 86 %\n",
            "Accuracy of   cat : 77 %\n",
            "Accuracy of  deer : 91 %\n",
            "Accuracy of   dog : 77 %\n",
            "Accuracy of  frog : 92 %\n",
            "Accuracy of horse : 93 %\n",
            "Accuracy of  ship : 94 %\n",
            "Accuracy of truck : 96 %\n"
          ]
        },
        {
          "output_type": "display_data",
          "data": {
            "text/plain": [
              "<Figure size 640x480 with 1 Axes>"
            ],
            "image/png": "[encoded data removed]"
          },
          "metadata": {}
        },
        {
          "output_type": "display_data",
          "data": {
            "text/plain": [
              "<Figure size 640x480 with 1 Axes>"
            ],
            "image/png": "[encoded data removed]"
          },
          "metadata": {}
        },
        {
          "output_type": "stream",
          "name": "stdout",
          "text": [
            "./cifar10_resnet50.pth\n"
          ]
        }
      ]
    },
    {
      "cell_type": "markdown",
      "metadata": {
        "id": "kvOAFyC2rJg8"
      },
      "source": [
        "## Load the Model"
      ]
    },
    {
      "cell_type": "code",
      "execution_count": null,
      "metadata": {
        "id": "_V_MSARbwnzo",
        "outputId": "c1a66aa4-4924-4626-ff8d-61648f29f36d",
        "colab": {
          "base_uri": "https://localhost:8080/"
        }
      },
      "outputs": [
        {
          "output_type": "execute_result",
          "data": {
            "text/plain": [
              "<All keys matched successfully>"
            ]
          },
          "metadata": {},
          "execution_count": 165
        }
      ],
      "source": [
        "# net = Net()\n",
        "# net.load_state_dict(torch.load('./cifar_net.pth'))\n",
        "\n",
        "simplecnn = SimpleCNN()\n",
        "simplecnn.load_state_dict(torch.load(f'./{dataset}_simplecnn.pth'))\n",
        "\n",
        "alexnet = AlexNet()\n",
        "alexnet.load_state_dict(torch.load(f'./{dataset}_alexnet.pth'))\n",
        "\n",
        "resnet18 = ResNet18()\n",
        "resnet18.load_state_dict(torch.load(f'./{dataset}_resnet18.pth'))\n",
        "\n",
        "resnet34 = ResNet34()\n",
        "resnet34.load_state_dict(torch.load(f'./{dataset}_resnet34.pth'))\n",
        "\n",
        "resnet50 = ResNet50()\n",
        "resnet50.load_state_dict(torch.load(f'./{dataset}_resnet50.pth', map_location=device))"
      ]
    }
  ],
  "metadata": {
    "accelerator": "GPU",
    "colab": {
      "gpuType": "A100",
      "provenance": [],
      "machine_shape": "hm",
      "include_colab_link": true
    },
    "kernelspec": {
      "display_name": "Python 3",
      "name": "python3"
    },
    "language_info": {
      "codemirror_mode": {
        "name": "ipython",
        "version": 3
      },
      "file_extension": ".py",
      "mimetype": "text/x-python",
      "name": "python",
      "nbconvert_exporter": "python",
      "pygments_lexer": "ipython3",
      "version": "3.7.16"
    }
  },
  "nbformat": 4,
  "nbformat_minor": 0
}