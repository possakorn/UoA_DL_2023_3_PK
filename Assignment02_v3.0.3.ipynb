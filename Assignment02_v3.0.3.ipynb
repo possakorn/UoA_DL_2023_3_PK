{
  "cells": [
    {
      "cell_type": "markdown",
      "metadata": {
        "id": "view-in-github",
        "colab_type": "text"
      },
      "source": [
        "<a href=\"https://colab.research.google.com/github/possakorn/UoA_DL_2023_3_PK/blob/main/Assignment02_v3.0.3.ipynb\" target=\"_parent\"><img src=\"https://colab.research.google.com/assets/colab-badge.svg\" alt=\"Open In Colab\"/></a>"
      ]
    },
    {
      "cell_type": "markdown",
      "metadata": {
        "id": "2EP7shVVj0tL"
      },
      "source": [
        "# Assessment 2: CNNs for image classification"
      ]
    },
    {
      "cell_type": "markdown",
      "metadata": {
        "id": "XdoZXO-z_riF"
      },
      "source": [
        "## Setup: import lib"
      ]
    },
    {
      "cell_type": "code",
      "execution_count": 15,
      "metadata": {
        "id": "vqbmgXmni9po"
      },
      "outputs": [],
      "source": [
        "## section: Data manioulation\n",
        "import math\n",
        "import pandas as pd\n",
        "import numpy as np\n",
        "import random\n",
        "## visualization\n",
        "import plotly\n",
        "import matplotlib.pyplot as plt\n",
        "import seaborn as sns\n",
        "\n",
        "## section: neural network\n",
        "import torch\n",
        "## pytorch: dataset\n",
        "import torchvision\n",
        "from torchvision import models\n",
        "## pytorch: network and function\n",
        "import torch.nn as nn\n",
        "import torch.nn.functional as F\n",
        "import torch.optim as optim\n",
        "from torch.optim.lr_scheduler import ExponentialLR, OneCycleLR\n",
        "\n",
        "from torchsummary import summary\n",
        "\n",
        "from torchvision import datasets, transforms\n",
        "from torch.utils.data import DataLoader, Dataset, random_split\n",
        "\n",
        "from sklearn.model_selection import train_test_split\n",
        "from sklearn.preprocessing import StandardScaler"
      ]
    },
    {
      "cell_type": "code",
      "execution_count": 2,
      "metadata": {
        "colab": {
          "base_uri": "https://localhost:8080/"
        },
        "id": "bWdVE73zj_Lc",
        "outputId": "3379de94-1f04-4d64-d183-75785992140b"
      },
      "outputs": [
        {
          "output_type": "stream",
          "name": "stdout",
          "text": [
            "Using device: cuda Using number of workers:  4\n",
            "\n",
            "Tesla T4\n",
            "Memory Usage:\n",
            "Allocated: 0.0 GB\n",
            "Cached:    0.0 GB\n"
          ]
        },
        {
          "output_type": "stream",
          "name": "stderr",
          "text": [
            "/usr/local/lib/python3.10/dist-packages/torch/cuda/memory.py:444: FutureWarning: torch.cuda.memory_cached has been renamed to torch.cuda.memory_reserved\n",
            "  warnings.warn(\n"
          ]
        }
      ],
      "source": [
        "# setting device on GPU if available, else CPU\n",
        "torch.cuda.empty_cache()\n",
        "device = torch.device('cuda' if torch.cuda.is_available() else 'cpu')\n",
        "if device == torch.device('cuda'):\n",
        "  worker = 4\n",
        "else:\n",
        "  worker = 0\n",
        "print('Using device:', device, 'Using number of workers: ', worker)\n",
        "print()\n",
        "\n",
        "\n",
        "#Additional Info when using cuda\n",
        "if device.type == 'cuda':\n",
        "    print(torch.cuda.get_device_name(0))\n",
        "    print('Memory Usage:')\n",
        "    print('Allocated:', round(torch.cuda.memory_allocated(0)/1024**3,1), 'GB')\n",
        "    print('Cached:   ', round(torch.cuda.memory_cached(0)/1024**3,1), 'GB')\n",
        "\n",
        "# Set the seed for reproducibility\n",
        "def set_seed(seed):\n",
        "    np.random.seed(seed)\n",
        "    torch.manual_seed(seed)\n",
        "    if torch.cuda.is_available():\n",
        "        torch.cuda.manual_seed(seed)\n",
        "        torch.cuda.manual_seed_all(seed)  # if you are using multi-GPU.\n",
        "        torch.backends.cudnn.deterministic = True\n",
        "        torch.backends.cudnn.benchmark = False"
      ]
    },
    {
      "cell_type": "markdown",
      "metadata": {
        "id": "lL7naWpLkRJr"
      },
      "source": [
        "## Step01: Data exploration"
      ]
    },
    {
      "cell_type": "code",
      "execution_count": 3,
      "metadata": {
        "id": "oj7kB9S6kUEo",
        "colab": {
          "base_uri": "https://localhost:8080/"
        },
        "outputId": "12abacaf-6120-42f3-cc0c-1294b6317fe1"
      },
      "outputs": [
        {
          "output_type": "stream",
          "name": "stdout",
          "text": [
            "Downloading http://fashion-mnist.s3-website.eu-central-1.amazonaws.com/train-images-idx3-ubyte.gz\n",
            "Downloading http://fashion-mnist.s3-website.eu-central-1.amazonaws.com/train-images-idx3-ubyte.gz to data/FashionMNIST/raw/train-images-idx3-ubyte.gz\n"
          ]
        },
        {
          "output_type": "stream",
          "name": "stderr",
          "text": [
            "100%|██████████| 26421880/26421880 [00:02<00:00, 12655526.66it/s]\n"
          ]
        },
        {
          "output_type": "stream",
          "name": "stdout",
          "text": [
            "Extracting data/FashionMNIST/raw/train-images-idx3-ubyte.gz to data/FashionMNIST/raw\n",
            "\n",
            "Downloading http://fashion-mnist.s3-website.eu-central-1.amazonaws.com/train-labels-idx1-ubyte.gz\n",
            "Downloading http://fashion-mnist.s3-website.eu-central-1.amazonaws.com/train-labels-idx1-ubyte.gz to data/FashionMNIST/raw/train-labels-idx1-ubyte.gz\n"
          ]
        },
        {
          "output_type": "stream",
          "name": "stderr",
          "text": [
            "100%|██████████| 29515/29515 [00:00<00:00, 202623.88it/s]\n"
          ]
        },
        {
          "output_type": "stream",
          "name": "stdout",
          "text": [
            "Extracting data/FashionMNIST/raw/train-labels-idx1-ubyte.gz to data/FashionMNIST/raw\n",
            "\n",
            "Downloading http://fashion-mnist.s3-website.eu-central-1.amazonaws.com/t10k-images-idx3-ubyte.gz\n",
            "Downloading http://fashion-mnist.s3-website.eu-central-1.amazonaws.com/t10k-images-idx3-ubyte.gz to data/FashionMNIST/raw/t10k-images-idx3-ubyte.gz\n"
          ]
        },
        {
          "output_type": "stream",
          "name": "stderr",
          "text": [
            "100%|██████████| 4422102/4422102 [00:01<00:00, 3780668.10it/s]\n"
          ]
        },
        {
          "output_type": "stream",
          "name": "stdout",
          "text": [
            "Extracting data/FashionMNIST/raw/t10k-images-idx3-ubyte.gz to data/FashionMNIST/raw\n",
            "\n",
            "Downloading http://fashion-mnist.s3-website.eu-central-1.amazonaws.com/t10k-labels-idx1-ubyte.gz\n",
            "Downloading http://fashion-mnist.s3-website.eu-central-1.amazonaws.com/t10k-labels-idx1-ubyte.gz to data/FashionMNIST/raw/t10k-labels-idx1-ubyte.gz\n"
          ]
        },
        {
          "output_type": "stream",
          "name": "stderr",
          "text": [
            "100%|██████████| 5148/5148 [00:00<00:00, 6739162.61it/s]"
          ]
        },
        {
          "output_type": "stream",
          "name": "stdout",
          "text": [
            "Extracting data/FashionMNIST/raw/t10k-labels-idx1-ubyte.gz to data/FashionMNIST/raw\n",
            "\n"
          ]
        },
        {
          "output_type": "stream",
          "name": "stderr",
          "text": [
            "\n"
          ]
        }
      ],
      "source": [
        "## Download from cifar10\n",
        "dataset = 'FashionMNIST' # change this one\n",
        "set_seed(1311)\n",
        "training_data = datasets.FashionMNIST(\n",
        "    root=\"data\",\n",
        "    train=True,\n",
        "    download = True,\n",
        "    transform= transforms.Compose([\n",
        "        transforms.Grayscale(num_output_channels=3),\n",
        "        transforms.Resize((32, 32)),  # Resize all images to 64x64\n",
        "        transforms.RandomCrop(32, padding=4),\n",
        "        transforms.RandomHorizontalFlip(),\n",
        "        transforms.ToTensor(),\n",
        "        transforms.Normalize((0.5, 0.5, 0.5), (0.5, 0.5, 0.5))\n",
        "    ])\n",
        ")\n",
        "\n",
        "testing_data = datasets.FashionMNIST(\n",
        "    root=\"data\",\n",
        "    train=False,\n",
        "    download = True,\n",
        "    transform= transforms.Compose([\n",
        "        transforms.Grayscale(num_output_channels=3),\n",
        "        transforms.Resize((32, 32)),  # Resize all images to 64x64\n",
        "        transforms.ToTensor(),\n",
        "        transforms.Normalize((0.5, 0.5, 0.5), (0.5, 0.5, 0.5))\n",
        "    ])\n",
        ")"
      ]
    },
    {
      "cell_type": "markdown",
      "metadata": {
        "id": "h1L2jeNDMKmh"
      },
      "source": [
        "### Exploratory Image analysis"
      ]
    },
    {
      "cell_type": "code",
      "execution_count": 4,
      "metadata": {
        "colab": {
          "base_uri": "https://localhost:8080/",
          "height": 499
        },
        "id": "i6UCnEb7MQz7",
        "outputId": "cbba45ba-b783-4c9e-99db-361d5bea489b"
      },
      "outputs": [
        {
          "output_type": "stream",
          "name": "stderr",
          "text": [
            "WARNING:matplotlib.image:Clipping input data to the valid range for imshow with RGB data ([0..1] for floats or [0..255] for integers).\n"
          ]
        },
        {
          "output_type": "stream",
          "name": "stdout",
          "text": [
            "Check Shape of images:  torch.Size([3, 32, 32]) 3\n",
            "Preview Images with Label : T-shirt/top\n",
            "Show of images unique 10 labels:  ['T-shirt/top', 'Trouser', 'Pullover', 'Dress', 'Coat', 'Sandal', 'Shirt', 'Sneaker', 'Bag', 'Ankle boot']\n"
          ]
        },
        {
          "output_type": "display_data",
          "data": {
            "text/plain": [
              "<Figure size 640x480 with 1 Axes>"
            ],
            "image/png": "[encoded data removed]"
          },
          "metadata": {}
        }
      ],
      "source": [
        "## check shape and labels\n",
        "img, label = training_data[3]\n",
        "print(\"Check Shape of images: \",img.shape,label)\n",
        "\n",
        "def display_img(img,label):\n",
        "  print(f\"Preview Images with Label : {training_data.classes[label]}\")\n",
        "  plt.imshow(img.permute(1,2,0)) # for visualization following the plt need to change the shapes\n",
        "\n",
        "#display the first image in the dataset\n",
        "display_img(*training_data[2])\n",
        "\n",
        "#Show all labels\n",
        "classes = training_data.classes\n",
        "num_class = len(classes)\n",
        "print(f\"Show of images unique {num_class} labels: \",classes)\n"
      ]
    },
    {
      "cell_type": "markdown",
      "metadata": {
        "id": "lLhgGFMQ_riJ"
      },
      "source": [
        "### Tranforms to Dataloader"
      ]
    },
    {
      "cell_type": "code",
      "execution_count": 5,
      "metadata": {
        "id": "qgVgyazEqzku",
        "outputId": "62a14f80-a090-49f4-a1b0-9274c1d822f9",
        "colab": {
          "base_uri": "https://localhost:8080/"
        }
      },
      "outputs": [
        {
          "output_type": "stream",
          "name": "stdout",
          "text": [
            "Training set: 48000 items, 3000 batches\n",
            "Validation set: 12000 items, 750 batches\n",
            "Test set: 10000 items, 625 batches\n"
          ]
        },
        {
          "output_type": "stream",
          "name": "stderr",
          "text": [
            "/usr/local/lib/python3.10/dist-packages/torch/utils/data/dataloader.py:557: UserWarning: This DataLoader will create 4 worker processes in total. Our suggested max number of worker in current system is 2, which is smaller than what this DataLoader is going to create. Please be aware that excessive worker creation might get DataLoader running slow or even freeze, lower the worker number to avoid potential slowness/freeze if necessary.\n",
            "  warnings.warn(_create_warning_msg(\n"
          ]
        }
      ],
      "source": [
        "batch_size = 16\n",
        "\n",
        "## setting the split configuration\n",
        "set_seed(1311)\n",
        "train_size = int(0.8 * len(training_data))\n",
        "val_size = len(training_data) - train_size\n",
        "training_data, val_data = random_split(training_data, [train_size, val_size])\n",
        "\n",
        "## apply the dataloader\n",
        "set_seed(1311)\n",
        "\n",
        "trainloader = torch.utils.data.DataLoader(\n",
        "    training_data,\n",
        "    batch_size=batch_size,\n",
        "    shuffle=True,\n",
        "    num_workers=worker,\n",
        "    pin_memory = True\n",
        "    )\n",
        "valloader = torch.utils.data.DataLoader(\n",
        "    val_data,\n",
        "    batch_size=batch_size,\n",
        "    shuffle=False,\n",
        "    num_workers=worker,\n",
        "    pin_memory = True\n",
        "    )\n",
        "testloader = torch.utils.data.DataLoader(\n",
        "    testing_data,\n",
        "    batch_size=batch_size,\n",
        "    shuffle=False,\n",
        "    num_workers=worker,\n",
        "    pin_memory = True\n",
        "    )\n",
        "\n",
        "# check the splitting\n",
        "num_items_train = len(trainloader.dataset)\n",
        "num_items_val = len(valloader.dataset)\n",
        "num_items_test = len(testloader.dataset)\n",
        "\n",
        "num_batches_train = len(trainloader)\n",
        "num_batches_val = len(valloader)\n",
        "num_batches_test = len(testloader)\n",
        "\n",
        "print(\"Training set: {} items, {} batches\".format(num_items_train, num_batches_train))\n",
        "print(\"Validation set: {} items, {} batches\".format(num_items_val, num_batches_val))\n",
        "print(\"Test set: {} items, {} batches\".format(num_items_test, num_batches_test))"
      ]
    },
    {
      "cell_type": "markdown",
      "metadata": {
        "id": "hauxFqYP_riJ"
      },
      "source": [
        "### Review the Batch fig and size"
      ]
    },
    {
      "cell_type": "code",
      "execution_count": 6,
      "metadata": {
        "colab": {
          "base_uri": "https://localhost:8080/",
          "height": 153
        },
        "id": "fpEkgg_gZ03C",
        "outputId": "45531fc1-6a4f-4c4e-f6df-c66068bc43e5"
      },
      "outputs": [
        {
          "output_type": "stream",
          "name": "stderr",
          "text": [
            "WARNING:matplotlib.image:Clipping input data to the valid range for imshow with RGB data ([0..1] for floats or [0..255] for integers).\n"
          ]
        },
        {
          "output_type": "stream",
          "name": "stdout",
          "text": [
            "torch.Size([16, 3, 32, 32])\n"
          ]
        },
        {
          "output_type": "display_data",
          "data": {
            "text/plain": [
              "<Figure size 1600x1200 with 1 Axes>"
            ],
            "image/png": "[encoded data removed]"
          },
          "metadata": {}
        }
      ],
      "source": [
        "from torchvision.utils import make_grid\n",
        "import matplotlib.pyplot as plt\n",
        "\n",
        "def show_batch(dl):\n",
        "    \"\"\"Plot images grid of single batch\"\"\"\n",
        "    for images, labels in dl:\n",
        "        fig,ax = plt.subplots(figsize = (16,12))\n",
        "        ax.set_xticks([])\n",
        "        ax.set_yticks([])\n",
        "        ax.imshow(make_grid(images,nrow=16).permute(1,2,0))\n",
        "        break\n",
        "\n",
        "## show the batch fig\n",
        "show_batch(trainloader)\n",
        "\n",
        "## print the size\n",
        "for batch in trainloader:\n",
        "    print(batch[0].shape)  # Assuming batch[0] contains the data and batch[1] contains the labels\n",
        "    break"
      ]
    },
    {
      "cell_type": "markdown",
      "metadata": {
        "id": "QMBsC9B7tfL-"
      },
      "source": [
        "## Base Model Functions For Image Classification"
      ]
    },
    {
      "cell_type": "code",
      "source": [
        "import time\n",
        "from tqdm import tqdm\n",
        "\n",
        "def train_epoch(model, trainloader, criterion, optimizer, device):\n",
        "    model.train()\n",
        "    running_loss = 0.0\n",
        "    correct_train = 0\n",
        "    total_train = 0\n",
        "\n",
        "    for inputs, labels in tqdm(trainloader, desc='Training'):\n",
        "        inputs, labels = inputs.to(device), labels.to(device)\n",
        "\n",
        "        optimizer.zero_grad()\n",
        "        outputs = model(inputs)\n",
        "        loss = criterion(outputs, labels)\n",
        "        loss.backward()\n",
        "        optimizer.step()\n",
        "\n",
        "        running_loss += loss.item() * inputs.size(0)\n",
        "        _, preds = torch.max(outputs, 1)\n",
        "        correct_train += torch.sum(preds == labels.data)\n",
        "        total_train += labels.size(0)\n",
        "\n",
        "    epoch_loss = running_loss / total_train\n",
        "    epoch_acc = correct_train.double() / total_train\n",
        "    return epoch_loss, epoch_acc\n",
        "\n",
        "def evaluate(model, dataloader, criterion, device):\n",
        "    model.eval()\n",
        "    running_loss = 0.0\n",
        "    correct = 0\n",
        "    total = 0\n",
        "\n",
        "    with torch.no_grad():\n",
        "        for inputs, labels in tqdm(dataloader, desc='Evaluating'):\n",
        "            inputs, labels = inputs.to(device), labels.to(device)\n",
        "            outputs = model(inputs)\n",
        "            loss = criterion(outputs, labels)\n",
        "            running_loss += loss.item() * inputs.size(0)\n",
        "            _, preds = torch.max(outputs, 1)\n",
        "            correct += torch.sum(preds == labels.data)\n",
        "            total += labels.size(0)\n",
        "\n",
        "    loss = running_loss / total\n",
        "    accuracy = correct.double() / total\n",
        "    return loss, accuracy\n",
        "\n",
        "\n",
        "def train_network(model, optimizer, criterion, scheduler, trainloader, valloader, testloader, num_epochs, device, num_class, model_name, dataset):\n",
        "    set_seed(1311)\n",
        "    ## Set up the path for saving the model\n",
        "    PATH = f'./{dataset}_{model_name}.pth'\n",
        "    print('Model will be saved to:', PATH)\n",
        "    print('Using device:', device, 'with seed: 1311')\n",
        "    print()\n",
        "\n",
        "    ## Initialize variables\n",
        "    best_val_acc = 0  # to track the best validation accuracy\n",
        "    # create set to collect the output\n",
        "    history = {\n",
        "        'train_loss': [],\n",
        "        'train_accuracy': [],\n",
        "        'val_loss': [],\n",
        "        'val_accuracy': [],\n",
        "    }\n",
        "\n",
        "    class_correct = list(0. for i in range(num_class))\n",
        "    class_total = list(0. for i in range(num_class))\n",
        "\n",
        "    for epoch in range(num_epochs):\n",
        "        epoch_start_time = time.time()\n",
        "\n",
        "        train_loss, train_acc = train_epoch(model, trainloader, criterion, optimizer, device)\n",
        "        val_loss, val_acc = evaluate(model, valloader, criterion, device)\n",
        "\n",
        "\n",
        "        # Step the scheduler with the validation loss\n",
        "        scheduler.step()\n",
        "        # scheduler.step(val_acc) # for ReduceLROnPlateau\n",
        "\n",
        "        history['train_loss'].append(train_loss)\n",
        "        history['train_accuracy'].append(100 * train_acc)\n",
        "        history['val_loss'].append(val_loss)\n",
        "        history['val_accuracy'].append(100 * val_acc)\n",
        "\n",
        "        # Save the model if it has improved on validation accuracy\n",
        "        if val_acc > best_val_acc:\n",
        "            best_val_acc = val_acc\n",
        "            torch.save(model.state_dict(), PATH)\n",
        "            print(f'Model improved and saved to {PATH}')\n",
        "\n",
        "        # print epoch results\n",
        "        epoch_end_time = time.time()\n",
        "        print(f'Epoch {epoch+1}/{num_epochs}, '\n",
        "              f'Train Loss: {train_loss:.4f}, Train Acc: {100 * train_acc:.2f}%, '\n",
        "              f'Val Loss: {val_loss:.4f}, Val Acc: {100 * val_acc:.2f}%, '\n",
        "              f'Time: {epoch_end_time - epoch_start_time:.2f}s')\n",
        "\n",
        "    print('Training complete. Evaluating on test set with the best model...')\n",
        "\n",
        "    # Load the best model for final evaluation on test set\n",
        "    best_model = model\n",
        "    best_model.load_state_dict(torch.load(PATH))\n",
        "    test_loss, test_acc = evaluate(best_model, testloader, criterion, device)\n",
        "    print(f'Test Loss: {test_loss:.4f}, Test Acc: {100 * test_acc:.2f}%')\n",
        "\n",
        "    # Add test results to history\n",
        "    history['test_loss'] = test_loss\n",
        "    history['test_accuracy'] = 100 * test_acc\n",
        "\n",
        "    return history"
      ],
      "metadata": {
        "id": "POnZ3eTL34w7"
      },
      "execution_count": 7,
      "outputs": []
    },
    {
      "cell_type": "markdown",
      "metadata": {
        "id": "4QCY3e2prCKc"
      },
      "source": [
        "## Initialize network"
      ]
    },
    {
      "cell_type": "markdown",
      "metadata": {
        "id": "xgZCOURA_riL"
      },
      "source": [
        "### network: SimpleCNN"
      ]
    },
    {
      "cell_type": "code",
      "execution_count": 8,
      "metadata": {
        "id": "0m8ltkhf_riL"
      },
      "outputs": [],
      "source": [
        "import torch.nn as nn\n",
        "import torch.nn.functional as F\n",
        "\n",
        "class SimpleCNN(nn.Module):\n",
        "    def __init__(self, num_classes=num_class):\n",
        "        super(SimpleCNN, self).__init__()\n",
        "        self.conv1 = nn.Conv2d(3, 32, kernel_size=3, padding=1)\n",
        "        self.conv2 = nn.Conv2d(32, 64, kernel_size=3, padding=1)\n",
        "        self.conv3 = nn.Conv2d(64, 128, kernel_size=3, padding=1)\n",
        "        self.pool = nn.MaxPool2d(2, 2)\n",
        "        self.fc1 = nn.Linear(128 * 4 * 4, 512)\n",
        "        self.fc2 = nn.Linear(512, num_classes)\n",
        "\n",
        "    def forward(self, x):\n",
        "        x = self.pool(F.relu(self.conv1(x)))\n",
        "        x = self.pool(F.relu(self.conv2(x)))\n",
        "        x = self.pool(F.relu(self.conv3(x)))\n",
        "        x = x.view(-1, 128 * 4 * 4)\n",
        "        x = F.relu(self.fc1(x))\n",
        "        x = self.fc2(x)\n",
        "        return x"
      ]
    },
    {
      "cell_type": "markdown",
      "metadata": {
        "id": "dy7L_Orn_riM"
      },
      "source": [
        "### network: Alexnet"
      ]
    },
    {
      "cell_type": "code",
      "execution_count": 9,
      "metadata": {
        "id": "4vQ3SsFC_riM"
      },
      "outputs": [],
      "source": [
        "class AlexNet(nn.Module):\n",
        "    def __init__(self, num_classes=num_class):\n",
        "        super(AlexNet, self).__init__()\n",
        "        self.features = nn.Sequential(\n",
        "            nn.Conv2d(3, 64, kernel_size=3, stride=1, padding=1),\n",
        "            nn.ReLU(inplace=True),\n",
        "            nn.MaxPool2d(kernel_size=2, stride=2),\n",
        "            nn.Conv2d(64, 192, kernel_size=3, padding=1),\n",
        "            nn.ReLU(inplace=True),\n",
        "            nn.MaxPool2d(kernel_size=2, stride=2),\n",
        "            nn.Conv2d(192, 384, kernel_size=3, padding=1),\n",
        "            nn.ReLU(inplace=True),\n",
        "            nn.Conv2d(384, 256, kernel_size=3, padding=1),\n",
        "            nn.ReLU(inplace=True),\n",
        "            nn.Conv2d(256, 256, kernel_size=3, padding=1),\n",
        "            nn.ReLU(inplace=True),\n",
        "            nn.MaxPool2d(kernel_size=2, stride=2),\n",
        "        )\n",
        "        self.avgpool = nn.AdaptiveAvgPool2d((6, 6))\n",
        "        self.classifier = nn.Sequential(\n",
        "            nn.Dropout(),\n",
        "            nn.Linear(256 * 6 * 6, 4096),\n",
        "            nn.ReLU(inplace=True),\n",
        "            nn.Dropout(),\n",
        "            nn.Linear(4096, 4096),\n",
        "            nn.ReLU(inplace=True),\n",
        "            nn.Linear(4096, num_classes),\n",
        "        )\n",
        "\n",
        "    def forward(self, x):\n",
        "        x = self.features(x)\n",
        "        x = self.avgpool(x)\n",
        "        x = torch.flatten(x, 1)\n",
        "        x = self.classifier(x)\n",
        "        return x\n",
        "\n"
      ]
    },
    {
      "cell_type": "markdown",
      "source": [
        "### network: VGG19"
      ],
      "metadata": {
        "id": "TIlgdiphi40P"
      }
    },
    {
      "cell_type": "code",
      "source": [
        "__all__ = [\n",
        "    'VGG', 'vgg11', 'vgg11_bn', 'vgg13', 'vgg13_bn', 'vgg16', 'vgg16_bn',\n",
        "    'vgg19_bn', 'vgg19',\n",
        "]\n",
        "\n",
        "\n",
        "class VGG(nn.Module):\n",
        "    '''\n",
        "    VGG model\n",
        "    '''\n",
        "    def __init__(self, features):\n",
        "        super(VGG, self).__init__()\n",
        "        self.features = features\n",
        "        self.classifier = nn.Sequential(\n",
        "            nn.Dropout(),\n",
        "            nn.Linear(512, 512),\n",
        "            nn.ReLU(True),\n",
        "            nn.Dropout(),\n",
        "            nn.Linear(512, 512),\n",
        "            nn.ReLU(True),\n",
        "            nn.Linear(512, 10),\n",
        "        )\n",
        "         # Initialize weights\n",
        "        for m in self.modules():\n",
        "            if isinstance(m, nn.Conv2d):\n",
        "                n = m.kernel_size[0] * m.kernel_size[1] * m.out_channels\n",
        "                m.weight.data.normal_(0, math.sqrt(2. / n))\n",
        "                m.bias.data.zero_()\n",
        "\n",
        "\n",
        "    def forward(self, x):\n",
        "        x = self.features(x)\n",
        "        x = x.view(x.size(0), -1)\n",
        "        x = self.classifier(x)\n",
        "        return x\n",
        "\n",
        "\n",
        "def make_layers(cfg, batch_norm=False):\n",
        "    layers = []\n",
        "    in_channels = 3\n",
        "    for v in cfg:\n",
        "        if v == 'M':\n",
        "            layers += [nn.MaxPool2d(kernel_size=2, stride=2)]\n",
        "        else:\n",
        "            conv2d = nn.Conv2d(in_channels, v, kernel_size=3, padding=1)\n",
        "            if batch_norm:\n",
        "                layers += [conv2d, nn.BatchNorm2d(v), nn.ReLU(inplace=True)]\n",
        "            else:\n",
        "                layers += [conv2d, nn.ReLU(inplace=True)]\n",
        "            in_channels = v\n",
        "    return nn.Sequential(*layers)\n",
        "\n",
        "\n",
        "cfg = {\n",
        "    'A': [64, 'M', 128, 'M', 256, 256, 'M', 512, 512, 'M', 512, 512, 'M'],\n",
        "    'B': [64, 64, 'M', 128, 128, 'M', 256, 256, 'M', 512, 512, 'M', 512, 512, 'M'],\n",
        "    'D': [64, 64, 'M', 128, 128, 'M', 256, 256, 256, 'M', 512, 512, 512, 'M', 512, 512, 512, 'M'],\n",
        "    'E': [64, 64, 'M', 128, 128, 'M', 256, 256, 256, 256, 'M', 512, 512, 512, 512, 'M',\n",
        "          512, 512, 512, 512, 'M'],\n",
        "}\n",
        "\n",
        "\n",
        "def vgg11():\n",
        "    \"\"\"VGG 11-layer model (configuration \"A\")\"\"\"\n",
        "    return VGG(make_layers(cfg['A']))\n",
        "\n",
        "\n",
        "def vgg11_bn():\n",
        "    \"\"\"VGG 11-layer model (configuration \"A\") with batch normalization\"\"\"\n",
        "    return VGG(make_layers(cfg['A'], batch_norm=True))\n",
        "\n",
        "\n",
        "def vgg13():\n",
        "    \"\"\"VGG 13-layer model (configuration \"B\")\"\"\"\n",
        "    return VGG(make_layers(cfg['B']))\n",
        "\n",
        "\n",
        "def vgg13_bn():\n",
        "    \"\"\"VGG 13-layer model (configuration \"B\") with batch normalization\"\"\"\n",
        "    return VGG(make_layers(cfg['B'], batch_norm=True))\n",
        "\n",
        "\n",
        "def vgg16():\n",
        "    \"\"\"VGG 16-layer model (configuration \"D\")\"\"\"\n",
        "    return VGG(make_layers(cfg['D']))\n",
        "\n",
        "\n",
        "def vgg16_bn():\n",
        "    \"\"\"VGG 16-layer model (configuration \"D\") with batch normalization\"\"\"\n",
        "    return VGG(make_layers(cfg['D'], batch_norm=True))\n",
        "\n",
        "\n",
        "def vgg19():\n",
        "    \"\"\"VGG 19-layer model (configuration \"E\")\"\"\"\n",
        "    return VGG(make_layers(cfg['E']))\n",
        "\n",
        "\n",
        "def vgg19_bn():\n",
        "    \"\"\"VGG 19-layer model (configuration 'E') with batch normalization\"\"\"\n",
        "    return VGG(make_layers(cfg['E'], batch_norm=True))"
      ],
      "metadata": {
        "id": "l1i9stR-i2vr"
      },
      "execution_count": 10,
      "outputs": []
    },
    {
      "cell_type": "markdown",
      "metadata": {
        "id": "AfDY_J3v_riM"
      },
      "source": [
        "### network: ResNet18"
      ]
    },
    {
      "cell_type": "code",
      "execution_count": 11,
      "metadata": {
        "id": "Ms9Y_tB3_riM"
      },
      "outputs": [],
      "source": [
        "class BasicBlock(nn.Module):\n",
        "    expansion = 1\n",
        "\n",
        "    def __init__(self, in_planes, planes, stride=1):\n",
        "        super(BasicBlock, self).__init__()\n",
        "        self.conv1 = nn.Conv2d(in_planes, planes,\n",
        "                               kernel_size=3, stride=stride, padding=1,\n",
        "                               bias=False)\n",
        "        self.bn1 = nn.BatchNorm2d(planes)\n",
        "        self.conv2 = nn.Conv2d(planes, planes,\n",
        "                               kernel_size=3,stride=1, padding=1,\n",
        "                               bias=False)\n",
        "        self.bn2 = nn.BatchNorm2d(planes)\n",
        "\n",
        "        self.shortcut = nn.Sequential()\n",
        "        if stride != 1 or in_planes != self.expansion*planes:\n",
        "            self.shortcut = nn.Sequential(\n",
        "                nn.Conv2d(in_planes, self.expansion*planes,\n",
        "                          kernel_size=1, stride=stride,\n",
        "                          bias=False),\n",
        "                nn.BatchNorm2d(self.expansion*planes)\n",
        "            )\n",
        "\n",
        "    def forward(self, x):\n",
        "        out = F.relu(self.bn1(self.conv1(x)))\n",
        "        out = self.bn2(self.conv2(out))\n",
        "        out += self.shortcut(x)\n",
        "        out = F.relu(out)\n",
        "        return out\n",
        "\n",
        "class Bottleneck(nn.Module):\n",
        "    expansion = 4\n",
        "\n",
        "    def __init__(self, in_planes, planes, stride=1):\n",
        "        super(Bottleneck, self).__init__()\n",
        "        self.conv1 = nn.Conv2d(in_planes, planes, kernel_size=1, bias=False)\n",
        "        self.bn1 = nn.BatchNorm2d(planes)\n",
        "        self.conv2 = nn.Conv2d(planes, planes, kernel_size=3,\n",
        "                               stride=stride, padding=1, bias=False)\n",
        "        self.bn2 = nn.BatchNorm2d(planes)\n",
        "        self.conv3 = nn.Conv2d(planes, self.expansion *\n",
        "                               planes, kernel_size=1, bias=False)\n",
        "        self.bn3 = nn.BatchNorm2d(self.expansion*planes)\n",
        "\n",
        "        self.shortcut = nn.Sequential()\n",
        "        if stride != 1 or in_planes != self.expansion*planes:\n",
        "            self.shortcut = nn.Sequential(\n",
        "                nn.Conv2d(in_planes, self.expansion*planes,\n",
        "                          kernel_size=1, stride=stride, bias=False),\n",
        "                nn.BatchNorm2d(self.expansion*planes)\n",
        "            )\n",
        "\n",
        "    def forward(self, x):\n",
        "        out = F.relu(self.bn1(self.conv1(x)))\n",
        "        out = F.relu(self.bn2(self.conv2(out)))\n",
        "        out = self.bn3(self.conv3(out))\n",
        "        out += self.shortcut(x)\n",
        "        out = F.relu(out)\n",
        "        return out\n",
        "\n",
        "class ResNet(nn.Module):\n",
        "    def __init__(self, block, num_blocks, num_classes=num_class):\n",
        "        super(ResNet, self).__init__()\n",
        "        self.in_planes = 64\n",
        "\n",
        "        self.conv1 = nn.Conv2d(3, 64, kernel_size=3,\n",
        "                               stride=1, padding=1, bias=False)\n",
        "        self.bn1 = nn.BatchNorm2d(64)\n",
        "        self.layer1 = self._make_layer(block, 64, num_blocks[0], stride=1)\n",
        "        self.layer2 = self._make_layer(block, 128, num_blocks[1], stride=2)\n",
        "        self.layer3 = self._make_layer(block, 256, num_blocks[2], stride=2)\n",
        "        self.layer4 = self._make_layer(block, 512, num_blocks[3], stride=2)\n",
        "        self.linear = nn.Linear(512*block.expansion, num_classes)\n",
        "\n",
        "    def _make_layer(self, block, planes, num_blocks, stride):\n",
        "        strides = [stride] + [1]*(num_blocks-1)\n",
        "        layers = []\n",
        "        for stride in strides:\n",
        "            layers.append(block(self.in_planes, planes, stride))\n",
        "            self.in_planes = planes * block.expansion\n",
        "        return nn.Sequential(*layers)\n",
        "\n",
        "    def forward(self, x):\n",
        "        out = F.relu(self.bn1(self.conv1(x)))\n",
        "        out = self.layer1(out)\n",
        "        out = self.layer2(out)\n",
        "        out = self.layer3(out)\n",
        "        out = self.layer4(out)\n",
        "        out = F.avg_pool2d(out, 4)\n",
        "        out = out.view(out.size(0), -1)\n",
        "        out = self.linear(out)\n",
        "        return out\n",
        "\n",
        "def ResNet18():\n",
        "    return ResNet(BasicBlock, [2, 2, 2, 2])\n",
        "\n",
        "def ResNet34():\n",
        "    return ResNet(BasicBlock, [3, 4, 6, 3])\n",
        "\n",
        "def ResNet50():\n",
        "    return ResNet(Bottleneck, [3, 4, 6, 3])\n",
        "\n",
        "def test():\n",
        "    net = ResNet18()\n",
        "    y = net(torch.randn(1, 3, 32, 32))\n",
        "    print(y.size())"
      ]
    },
    {
      "cell_type": "markdown",
      "metadata": {
        "id": "NdBwZD2G_riN"
      },
      "source": [
        "## Train the network"
      ]
    },
    {
      "cell_type": "code",
      "execution_count": 12,
      "metadata": {
        "id": "Yi_8BJwm_riN"
      },
      "outputs": [],
      "source": [
        "def plot_loss(train_loss, val_loss):\n",
        "    if isinstance(train_loss[0], torch.Tensor):\n",
        "        train_loss = [x.cpu().numpy() for x in train_loss]\n",
        "    if isinstance(val_loss[0], torch.Tensor):\n",
        "        val_loss = [x.cpu().numpy() for x in val_loss]\n",
        "\n",
        "    plt.plot(train_loss, '-bx')\n",
        "    plt.plot(val_loss, '-rx')\n",
        "    plt.xlabel('epoch')\n",
        "    plt.ylabel('loss')\n",
        "    plt.legend(['Training', 'Validation'])\n",
        "    plt.title('Loss vs. No. of epochs')\n",
        "    plt.show()\n",
        "\n",
        "def plot_acc(train_acc, val_acc):\n",
        "    if isinstance(train_acc[0], torch.Tensor):\n",
        "        train_acc = [x.cpu().numpy() for x in train_acc]\n",
        "    if isinstance(val_acc[0], torch.Tensor):\n",
        "        val_acc = [x.cpu().numpy() for x in val_acc]\n",
        "\n",
        "    plt.plot(train_acc, '-bx')\n",
        "    plt.plot(val_acc, '-rx')\n",
        "    plt.xlabel('epoch')\n",
        "    plt.ylabel('accuracy')\n",
        "    plt.legend(['Training', 'Validation'])\n",
        "    plt.title('Accuracy vs. No. of epochs')\n",
        "    plt.show()"
      ]
    },
    {
      "cell_type": "code",
      "source": [
        "# set the whole network training\n",
        "num_epochs = 20\n",
        "criterion = nn.CrossEntropyLoss()"
      ],
      "metadata": {
        "id": "mYJujRlaNumT"
      },
      "execution_count": 13,
      "outputs": []
    },
    {
      "cell_type": "markdown",
      "metadata": {
        "id": "UYZ3A-92_riN"
      },
      "source": [
        "\n",
        "### Train the network - simpleCNN"
      ]
    },
    {
      "cell_type": "code",
      "execution_count": 13,
      "metadata": {
        "colab": {
          "base_uri": "https://localhost:8080/",
          "height": 1000
        },
        "id": "gzt-Tl9W_riO",
        "outputId": "2a50408d-c257-4f04-ac1e-88ce1e52932a"
      },
      "outputs": [
        {
          "output_type": "stream",
          "name": "stdout",
          "text": [
            "Model will be saved to: ./FashionMNIST_simplecnn.pth\n",
            "Using device: cuda with seed: 1311\n",
            "\n"
          ]
        },
        {
          "output_type": "stream",
          "name": "stderr",
          "text": [
            "Training: 100%|██████████| 3000/3000 [00:44<00:00, 67.60it/s]\n",
            "Evaluating: 100%|██████████| 750/750 [00:07<00:00, 103.65it/s]\n"
          ]
        },
        {
          "output_type": "stream",
          "name": "stdout",
          "text": [
            "Model improved and saved to ./FashionMNIST_simplecnn.pth\n",
            "Epoch 1/20, Train Loss: 1.0580, Train Acc: 60.03%, Val Loss: 0.7096, Val Acc: 72.26%, Time: 51.64s\n"
          ]
        },
        {
          "output_type": "stream",
          "name": "stderr",
          "text": [
            "Training: 100%|██████████| 3000/3000 [00:36<00:00, 82.61it/s]\n",
            "Evaluating: 100%|██████████| 750/750 [00:08<00:00, 85.83it/s] \n"
          ]
        },
        {
          "output_type": "stream",
          "name": "stdout",
          "text": [
            "Model improved and saved to ./FashionMNIST_simplecnn.pth\n",
            "Epoch 2/20, Train Loss: 0.6527, Train Acc: 74.87%, Val Loss: 0.5905, Val Acc: 77.07%, Time: 45.09s\n"
          ]
        },
        {
          "output_type": "stream",
          "name": "stderr",
          "text": [
            "Training: 100%|██████████| 3000/3000 [00:35<00:00, 84.89it/s]\n",
            "Evaluating: 100%|██████████| 750/750 [00:09<00:00, 75.48it/s]\n"
          ]
        },
        {
          "output_type": "stream",
          "name": "stdout",
          "text": [
            "Model improved and saved to ./FashionMNIST_simplecnn.pth\n",
            "Epoch 3/20, Train Loss: 0.5643, Train Acc: 78.31%, Val Loss: 0.5307, Val Acc: 79.38%, Time: 45.31s\n"
          ]
        },
        {
          "output_type": "stream",
          "name": "stderr",
          "text": [
            "Training: 100%|██████████| 3000/3000 [00:41<00:00, 71.68it/s]\n",
            "Evaluating: 100%|██████████| 750/750 [00:08<00:00, 86.40it/s] \n"
          ]
        },
        {
          "output_type": "stream",
          "name": "stdout",
          "text": [
            "Model improved and saved to ./FashionMNIST_simplecnn.pth\n",
            "Epoch 4/20, Train Loss: 0.5075, Train Acc: 80.57%, Val Loss: 0.4836, Val Acc: 80.99%, Time: 50.58s\n"
          ]
        },
        {
          "output_type": "stream",
          "name": "stderr",
          "text": [
            "Training: 100%|██████████| 3000/3000 [00:36<00:00, 81.59it/s]\n",
            "Evaluating: 100%|██████████| 750/750 [00:07<00:00, 100.73it/s]\n"
          ]
        },
        {
          "output_type": "stream",
          "name": "stdout",
          "text": [
            "Model improved and saved to ./FashionMNIST_simplecnn.pth\n",
            "Epoch 5/20, Train Loss: 0.4600, Train Acc: 82.59%, Val Loss: 0.4414, Val Acc: 83.25%, Time: 44.25s\n"
          ]
        },
        {
          "output_type": "stream",
          "name": "stderr",
          "text": [
            "Training: 100%|██████████| 3000/3000 [00:37<00:00, 80.35it/s]\n",
            "Evaluating: 100%|██████████| 750/750 [00:08<00:00, 85.72it/s] \n"
          ]
        },
        {
          "output_type": "stream",
          "name": "stdout",
          "text": [
            "Model improved and saved to ./FashionMNIST_simplecnn.pth\n",
            "Epoch 6/20, Train Loss: 0.4248, Train Acc: 84.07%, Val Loss: 0.4101, Val Acc: 84.33%, Time: 46.12s\n"
          ]
        },
        {
          "output_type": "stream",
          "name": "stderr",
          "text": [
            "Training: 100%|██████████| 3000/3000 [00:37<00:00, 79.98it/s]\n",
            "Evaluating: 100%|██████████| 750/750 [00:07<00:00, 96.01it/s] \n"
          ]
        },
        {
          "output_type": "stream",
          "name": "stdout",
          "text": [
            "Model improved and saved to ./FashionMNIST_simplecnn.pth\n",
            "Epoch 7/20, Train Loss: 0.4002, Train Acc: 84.94%, Val Loss: 0.3800, Val Acc: 85.96%, Time: 45.35s\n"
          ]
        },
        {
          "output_type": "stream",
          "name": "stderr",
          "text": [
            "Training: 100%|██████████| 3000/3000 [00:36<00:00, 81.36it/s]\n",
            "Evaluating: 100%|██████████| 750/750 [00:08<00:00, 85.69it/s]\n"
          ]
        },
        {
          "output_type": "stream",
          "name": "stdout",
          "text": [
            "Model improved and saved to ./FashionMNIST_simplecnn.pth\n",
            "Epoch 8/20, Train Loss: 0.3784, Train Acc: 85.93%, Val Loss: 0.3715, Val Acc: 86.05%, Time: 45.66s\n"
          ]
        },
        {
          "output_type": "stream",
          "name": "stderr",
          "text": [
            "Training: 100%|██████████| 3000/3000 [00:35<00:00, 83.94it/s]\n",
            "Evaluating: 100%|██████████| 750/750 [00:08<00:00, 85.68it/s] \n"
          ]
        },
        {
          "output_type": "stream",
          "name": "stdout",
          "text": [
            "Model improved and saved to ./FashionMNIST_simplecnn.pth\n",
            "Epoch 9/20, Train Loss: 0.3615, Train Acc: 86.41%, Val Loss: 0.3618, Val Acc: 86.93%, Time: 44.53s\n"
          ]
        },
        {
          "output_type": "stream",
          "name": "stderr",
          "text": [
            "Training: 100%|██████████| 3000/3000 [00:37<00:00, 79.80it/s]\n",
            "Evaluating: 100%|██████████| 750/750 [00:07<00:00, 101.34it/s]\n"
          ]
        },
        {
          "output_type": "stream",
          "name": "stdout",
          "text": [
            "Model improved and saved to ./FashionMNIST_simplecnn.pth\n",
            "Epoch 10/20, Train Loss: 0.3486, Train Acc: 86.89%, Val Loss: 0.3487, Val Acc: 86.98%, Time: 45.03s\n"
          ]
        },
        {
          "output_type": "stream",
          "name": "stderr",
          "text": [
            "Training: 100%|██████████| 3000/3000 [00:36<00:00, 81.59it/s]\n",
            "Evaluating: 100%|██████████| 750/750 [00:08<00:00, 84.89it/s] \n"
          ]
        },
        {
          "output_type": "stream",
          "name": "stdout",
          "text": [
            "Model improved and saved to ./FashionMNIST_simplecnn.pth\n",
            "Epoch 11/20, Train Loss: 0.3375, Train Acc: 87.39%, Val Loss: 0.3378, Val Acc: 87.24%, Time: 45.64s\n"
          ]
        },
        {
          "output_type": "stream",
          "name": "stderr",
          "text": [
            "Training: 100%|██████████| 3000/3000 [00:36<00:00, 81.51it/s]\n",
            "Evaluating: 100%|██████████| 750/750 [00:07<00:00, 97.99it/s] \n"
          ]
        },
        {
          "output_type": "stream",
          "name": "stdout",
          "text": [
            "Model improved and saved to ./FashionMNIST_simplecnn.pth\n",
            "Epoch 12/20, Train Loss: 0.3242, Train Acc: 87.85%, Val Loss: 0.3204, Val Acc: 87.81%, Time: 44.49s\n"
          ]
        },
        {
          "output_type": "stream",
          "name": "stderr",
          "text": [
            "Training: 100%|██████████| 3000/3000 [00:37<00:00, 79.07it/s]\n",
            "Evaluating: 100%|██████████| 750/750 [00:08<00:00, 84.65it/s]\n"
          ]
        },
        {
          "output_type": "stream",
          "name": "stdout",
          "text": [
            "Model improved and saved to ./FashionMNIST_simplecnn.pth\n",
            "Epoch 13/20, Train Loss: 0.3158, Train Acc: 88.07%, Val Loss: 0.3208, Val Acc: 88.18%, Time: 46.83s\n"
          ]
        },
        {
          "output_type": "stream",
          "name": "stderr",
          "text": [
            "Training: 100%|██████████| 3000/3000 [00:36<00:00, 81.26it/s]\n",
            "Evaluating: 100%|██████████| 750/750 [00:08<00:00, 91.43it/s] \n"
          ]
        },
        {
          "output_type": "stream",
          "name": "stdout",
          "text": [
            "Model improved and saved to ./FashionMNIST_simplecnn.pth\n",
            "Epoch 14/20, Train Loss: 0.3082, Train Acc: 88.49%, Val Loss: 0.2972, Val Acc: 89.38%, Time: 45.15s\n"
          ]
        },
        {
          "output_type": "stream",
          "name": "stderr",
          "text": [
            "Training: 100%|██████████| 3000/3000 [00:37<00:00, 80.05it/s]\n",
            "Evaluating: 100%|██████████| 750/750 [00:08<00:00, 85.81it/s]\n"
          ]
        },
        {
          "output_type": "stream",
          "name": "stdout",
          "text": [
            "Epoch 15/20, Train Loss: 0.3015, Train Acc: 88.78%, Val Loss: 0.3033, Val Acc: 88.77%, Time: 46.24s\n"
          ]
        },
        {
          "output_type": "stream",
          "name": "stderr",
          "text": [
            "Training: 100%|██████████| 3000/3000 [00:36<00:00, 81.84it/s]\n",
            "Evaluating: 100%|██████████| 750/750 [00:08<00:00, 86.41it/s]\n"
          ]
        },
        {
          "output_type": "stream",
          "name": "stdout",
          "text": [
            "Epoch 16/20, Train Loss: 0.2944, Train Acc: 89.09%, Val Loss: 0.2917, Val Acc: 89.27%, Time: 45.35s\n"
          ]
        },
        {
          "output_type": "stream",
          "name": "stderr",
          "text": [
            "Training: 100%|██████████| 3000/3000 [00:37<00:00, 79.24it/s]\n",
            "Evaluating: 100%|██████████| 750/750 [00:08<00:00, 84.42it/s]\n"
          ]
        },
        {
          "output_type": "stream",
          "name": "stdout",
          "text": [
            "Epoch 17/20, Train Loss: 0.2876, Train Acc: 89.24%, Val Loss: 0.2959, Val Acc: 89.31%, Time: 46.77s\n"
          ]
        },
        {
          "output_type": "stream",
          "name": "stderr",
          "text": [
            "Training: 100%|██████████| 3000/3000 [00:36<00:00, 81.46it/s]\n",
            "Evaluating: 100%|██████████| 750/750 [00:08<00:00, 87.46it/s]\n"
          ]
        },
        {
          "output_type": "stream",
          "name": "stdout",
          "text": [
            "Epoch 18/20, Train Loss: 0.2819, Train Acc: 89.42%, Val Loss: 0.2883, Val Acc: 89.31%, Time: 45.42s\n"
          ]
        },
        {
          "output_type": "stream",
          "name": "stderr",
          "text": [
            "Training: 100%|██████████| 3000/3000 [00:37<00:00, 79.98it/s]\n",
            "Evaluating: 100%|██████████| 750/750 [00:08<00:00, 85.73it/s]\n"
          ]
        },
        {
          "output_type": "stream",
          "name": "stdout",
          "text": [
            "Epoch 19/20, Train Loss: 0.2771, Train Acc: 89.74%, Val Loss: 0.2881, Val Acc: 89.38%, Time: 46.27s\n"
          ]
        },
        {
          "output_type": "stream",
          "name": "stderr",
          "text": [
            "Training: 100%|██████████| 3000/3000 [00:36<00:00, 82.70it/s]\n",
            "Evaluating: 100%|██████████| 750/750 [00:08<00:00, 83.77it/s] \n"
          ]
        },
        {
          "output_type": "stream",
          "name": "stdout",
          "text": [
            "Model improved and saved to ./FashionMNIST_simplecnn.pth\n",
            "Epoch 20/20, Train Loss: 0.2721, Train Acc: 89.83%, Val Loss: 0.2872, Val Acc: 89.46%, Time: 45.27s\n",
            "Training complete. Evaluating on test set with the best model...\n"
          ]
        },
        {
          "output_type": "stream",
          "name": "stderr",
          "text": [
            "Evaluating: 100%|██████████| 625/625 [00:05<00:00, 110.09it/s]\n"
          ]
        },
        {
          "output_type": "stream",
          "name": "stdout",
          "text": [
            "Test Loss: 0.2655, Test Acc: 90.46%\n"
          ]
        },
        {
          "output_type": "display_data",
          "data": {
            "text/plain": [
              "<Figure size 640x480 with 1 Axes>"
            ],
            "image/png": "[encoded data removed]"
          },
          "metadata": {}
        },
        {
          "output_type": "display_data",
          "data": {
            "text/plain": [
              "<Figure size 640x480 with 1 Axes>"
            ],
            "image/png": "[encoded data removed]"
          },
          "metadata": {}
        },
        {
          "output_type": "stream",
          "name": "stdout",
          "text": [
            "Test Loss: 0.2655, Test Accuracy: 90.46%\n"
          ]
        }
      ],
      "source": [
        "# individual configuration\n",
        "simplecnn = SimpleCNN().to(device)\n",
        "model_name = \"simplecnn\"\n",
        "model = simplecnn\n",
        "# Assuming `model` is your neural network model and `lr` is your learning rate\n",
        "optimizer = optim.SGD(model.parameters(), lr=0.001, momentum=0.9)\n",
        "from torch.optim.lr_scheduler import CosineAnnealingLR\n",
        "scheduler = CosineAnnealingLR(optimizer, T_max=50, eta_min=0)\n",
        "\n",
        "# training model\n",
        "simplecnn_results = train_network(model,\n",
        "                                  optimizer,\n",
        "                                  criterion,\n",
        "                                  scheduler,\n",
        "                                  trainloader,\n",
        "                                  valloader,\n",
        "                                  testloader,\n",
        "                                  num_epochs,\n",
        "                                  device,\n",
        "                                  num_class,\n",
        "                                  model_name,\n",
        "                                  dataset\n",
        "                                  )\n",
        "\n",
        "# Plot the results\n",
        "plot_loss(simplecnn_results['train_loss'], simplecnn_results['val_loss'])\n",
        "plot_acc(simplecnn_results['train_accuracy'], simplecnn_results['val_accuracy'])\n",
        "# Print Test Loss and Test Accuracy\n",
        "print(f'Test Loss: {simplecnn_results[\"test_loss\"]:.4f}, Test Accuracy: {simplecnn_results[\"test_accuracy\"]:.2f}%')"
      ]
    },
    {
      "cell_type": "markdown",
      "metadata": {
        "id": "qIgKMCms_riO"
      },
      "source": [
        "### Train the network - Alexnet"
      ]
    },
    {
      "cell_type": "code",
      "execution_count": 14,
      "metadata": {
        "id": "OzZey43z_riO",
        "colab": {
          "base_uri": "https://localhost:8080/",
          "height": 1000
        },
        "outputId": "24c60f01-50eb-4e9a-cd22-c23400276d74"
      },
      "outputs": [
        {
          "output_type": "stream",
          "name": "stdout",
          "text": [
            "Model will be saved to: ./FashionMNIST_alexnet.pth\n",
            "Using device: cuda with seed: 1311\n",
            "\n"
          ]
        },
        {
          "output_type": "stream",
          "name": "stderr",
          "text": [
            "Training: 100%|██████████| 3000/3000 [00:55<00:00, 54.46it/s]\n",
            "Evaluating: 100%|██████████| 750/750 [00:09<00:00, 79.61it/s]\n"
          ]
        },
        {
          "output_type": "stream",
          "name": "stdout",
          "text": [
            "Model improved and saved to ./FashionMNIST_alexnet.pth\n",
            "Epoch 1/20, Train Loss: 1.9754, Train Acc: 24.56%, Val Loss: 0.9646, Val Acc: 63.69%, Time: 65.03s\n"
          ]
        },
        {
          "output_type": "stream",
          "name": "stderr",
          "text": [
            "Training: 100%|██████████| 3000/3000 [00:54<00:00, 54.69it/s]\n",
            "Evaluating: 100%|██████████| 750/750 [00:08<00:00, 83.49it/s]\n"
          ]
        },
        {
          "output_type": "stream",
          "name": "stdout",
          "text": [
            "Model improved and saved to ./FashionMNIST_alexnet.pth\n",
            "Epoch 2/20, Train Loss: 0.8033, Train Acc: 69.29%, Val Loss: 0.6554, Val Acc: 74.23%, Time: 64.64s\n"
          ]
        },
        {
          "output_type": "stream",
          "name": "stderr",
          "text": [
            "Training: 100%|██████████| 3000/3000 [00:54<00:00, 55.02it/s]\n",
            "Evaluating: 100%|██████████| 750/750 [00:08<00:00, 91.22it/s]\n"
          ]
        },
        {
          "output_type": "stream",
          "name": "stdout",
          "text": [
            "Model improved and saved to ./FashionMNIST_alexnet.pth\n",
            "Epoch 3/20, Train Loss: 0.6556, Train Acc: 74.61%, Val Loss: 0.5954, Val Acc: 76.78%, Time: 63.57s\n"
          ]
        },
        {
          "output_type": "stream",
          "name": "stderr",
          "text": [
            "Training: 100%|██████████| 3000/3000 [00:54<00:00, 54.55it/s]\n",
            "Evaluating: 100%|██████████| 750/750 [00:07<00:00, 95.34it/s] \n"
          ]
        },
        {
          "output_type": "stream",
          "name": "stdout",
          "text": [
            "Model improved and saved to ./FashionMNIST_alexnet.pth\n",
            "Epoch 4/20, Train Loss: 0.5809, Train Acc: 77.30%, Val Loss: 0.5446, Val Acc: 78.20%, Time: 63.41s\n"
          ]
        },
        {
          "output_type": "stream",
          "name": "stderr",
          "text": [
            "Training: 100%|██████████| 3000/3000 [00:55<00:00, 54.34it/s]\n",
            "Evaluating: 100%|██████████| 750/750 [00:08<00:00, 92.14it/s]\n"
          ]
        },
        {
          "output_type": "stream",
          "name": "stdout",
          "text": [
            "Model improved and saved to ./FashionMNIST_alexnet.pth\n",
            "Epoch 5/20, Train Loss: 0.5240, Train Acc: 79.75%, Val Loss: 0.4940, Val Acc: 80.58%, Time: 63.90s\n"
          ]
        },
        {
          "output_type": "stream",
          "name": "stderr",
          "text": [
            "Training: 100%|██████████| 3000/3000 [00:54<00:00, 55.00it/s]\n",
            "Evaluating: 100%|██████████| 750/750 [00:08<00:00, 83.80it/s]\n"
          ]
        },
        {
          "output_type": "stream",
          "name": "stdout",
          "text": [
            "Model improved and saved to ./FashionMNIST_alexnet.pth\n",
            "Epoch 6/20, Train Loss: 0.4731, Train Acc: 82.07%, Val Loss: 0.4370, Val Acc: 83.56%, Time: 64.05s\n"
          ]
        },
        {
          "output_type": "stream",
          "name": "stderr",
          "text": [
            "Training: 100%|██████████| 3000/3000 [00:54<00:00, 55.39it/s]\n",
            "Evaluating: 100%|██████████| 750/750 [00:09<00:00, 80.74it/s] \n"
          ]
        },
        {
          "output_type": "stream",
          "name": "stdout",
          "text": [
            "Model improved and saved to ./FashionMNIST_alexnet.pth\n",
            "Epoch 7/20, Train Loss: 0.4357, Train Acc: 83.39%, Val Loss: 0.3953, Val Acc: 84.85%, Time: 63.99s\n"
          ]
        },
        {
          "output_type": "stream",
          "name": "stderr",
          "text": [
            "Training: 100%|██████████| 3000/3000 [00:54<00:00, 55.25it/s]\n",
            "Evaluating: 100%|██████████| 750/750 [00:09<00:00, 80.73it/s] \n"
          ]
        },
        {
          "output_type": "stream",
          "name": "stdout",
          "text": [
            "Model improved and saved to ./FashionMNIST_alexnet.pth\n",
            "Epoch 8/20, Train Loss: 0.4067, Train Acc: 84.67%, Val Loss: 0.3859, Val Acc: 85.65%, Time: 64.16s\n"
          ]
        },
        {
          "output_type": "stream",
          "name": "stderr",
          "text": [
            "Training: 100%|██████████| 3000/3000 [00:54<00:00, 55.35it/s]\n",
            "Evaluating: 100%|██████████| 750/750 [00:09<00:00, 82.53it/s]\n"
          ]
        },
        {
          "output_type": "stream",
          "name": "stdout",
          "text": [
            "Model improved and saved to ./FashionMNIST_alexnet.pth\n",
            "Epoch 9/20, Train Loss: 0.3855, Train Acc: 85.61%, Val Loss: 0.3686, Val Acc: 86.37%, Time: 63.84s\n"
          ]
        },
        {
          "output_type": "stream",
          "name": "stderr",
          "text": [
            "Training: 100%|██████████| 3000/3000 [00:54<00:00, 55.34it/s]\n",
            "Evaluating: 100%|██████████| 750/750 [00:09<00:00, 83.01it/s]\n"
          ]
        },
        {
          "output_type": "stream",
          "name": "stdout",
          "text": [
            "Model improved and saved to ./FashionMNIST_alexnet.pth\n",
            "Epoch 10/20, Train Loss: 0.3669, Train Acc: 86.29%, Val Loss: 0.3274, Val Acc: 87.43%, Time: 63.81s\n"
          ]
        },
        {
          "output_type": "stream",
          "name": "stderr",
          "text": [
            "Training: 100%|██████████| 3000/3000 [00:54<00:00, 55.31it/s]\n",
            "Evaluating: 100%|██████████| 750/750 [00:09<00:00, 82.45it/s]\n"
          ]
        },
        {
          "output_type": "stream",
          "name": "stdout",
          "text": [
            "Model improved and saved to ./FashionMNIST_alexnet.pth\n",
            "Epoch 11/20, Train Loss: 0.3501, Train Acc: 86.75%, Val Loss: 0.3242, Val Acc: 87.62%, Time: 63.90s\n"
          ]
        },
        {
          "output_type": "stream",
          "name": "stderr",
          "text": [
            "Training: 100%|██████████| 3000/3000 [00:53<00:00, 55.75it/s]\n",
            "Evaluating: 100%|██████████| 750/750 [00:08<00:00, 91.43it/s]\n"
          ]
        },
        {
          "output_type": "stream",
          "name": "stdout",
          "text": [
            "Model improved and saved to ./FashionMNIST_alexnet.pth\n",
            "Epoch 12/20, Train Loss: 0.3352, Train Acc: 87.31%, Val Loss: 0.3097, Val Acc: 88.24%, Time: 62.85s\n"
          ]
        },
        {
          "output_type": "stream",
          "name": "stderr",
          "text": [
            "Training: 100%|██████████| 3000/3000 [00:54<00:00, 55.15it/s]\n",
            "Evaluating: 100%|██████████| 750/750 [00:07<00:00, 95.74it/s] \n"
          ]
        },
        {
          "output_type": "stream",
          "name": "stdout",
          "text": [
            "Model improved and saved to ./FashionMNIST_alexnet.pth\n",
            "Epoch 13/20, Train Loss: 0.3241, Train Acc: 87.81%, Val Loss: 0.3036, Val Acc: 88.92%, Time: 62.78s\n"
          ]
        },
        {
          "output_type": "stream",
          "name": "stderr",
          "text": [
            "Training: 100%|██████████| 3000/3000 [00:54<00:00, 54.95it/s]\n",
            "Evaluating: 100%|██████████| 750/750 [00:08<00:00, 93.67it/s] \n"
          ]
        },
        {
          "output_type": "stream",
          "name": "stdout",
          "text": [
            "Model improved and saved to ./FashionMNIST_alexnet.pth\n",
            "Epoch 14/20, Train Loss: 0.3153, Train Acc: 88.09%, Val Loss: 0.2856, Val Acc: 89.44%, Time: 63.16s\n"
          ]
        },
        {
          "output_type": "stream",
          "name": "stderr",
          "text": [
            "Training: 100%|██████████| 3000/3000 [00:53<00:00, 55.80it/s]\n",
            "Evaluating: 100%|██████████| 750/750 [00:09<00:00, 82.34it/s]\n"
          ]
        },
        {
          "output_type": "stream",
          "name": "stdout",
          "text": [
            "Epoch 15/20, Train Loss: 0.3064, Train Acc: 88.49%, Val Loss: 0.2976, Val Acc: 88.61%, Time: 62.89s\n"
          ]
        },
        {
          "output_type": "stream",
          "name": "stderr",
          "text": [
            "Training: 100%|██████████| 3000/3000 [00:53<00:00, 56.00it/s]\n",
            "Evaluating: 100%|██████████| 750/750 [00:09<00:00, 81.69it/s]\n"
          ]
        },
        {
          "output_type": "stream",
          "name": "stdout",
          "text": [
            "Model improved and saved to ./FashionMNIST_alexnet.pth\n",
            "Epoch 16/20, Train Loss: 0.3004, Train Acc: 88.78%, Val Loss: 0.2793, Val Acc: 89.55%, Time: 63.30s\n"
          ]
        },
        {
          "output_type": "stream",
          "name": "stderr",
          "text": [
            "Training: 100%|██████████| 3000/3000 [00:53<00:00, 56.00it/s]\n",
            "Evaluating: 100%|██████████| 750/750 [00:09<00:00, 79.91it/s]\n"
          ]
        },
        {
          "output_type": "stream",
          "name": "stdout",
          "text": [
            "Epoch 17/20, Train Loss: 0.2902, Train Acc: 89.20%, Val Loss: 0.2900, Val Acc: 89.31%, Time: 62.98s\n"
          ]
        },
        {
          "output_type": "stream",
          "name": "stderr",
          "text": [
            "Training: 100%|██████████| 3000/3000 [00:54<00:00, 55.54it/s]\n",
            "Evaluating: 100%|██████████| 750/750 [00:08<00:00, 89.24it/s]\n"
          ]
        },
        {
          "output_type": "stream",
          "name": "stdout",
          "text": [
            "Model improved and saved to ./FashionMNIST_alexnet.pth\n",
            "Epoch 18/20, Train Loss: 0.2848, Train Acc: 89.38%, Val Loss: 0.2761, Val Acc: 89.70%, Time: 63.21s\n"
          ]
        },
        {
          "output_type": "stream",
          "name": "stderr",
          "text": [
            "Training: 100%|██████████| 3000/3000 [00:54<00:00, 55.16it/s]\n",
            "Evaluating: 100%|██████████| 750/750 [00:08<00:00, 93.01it/s]\n"
          ]
        },
        {
          "output_type": "stream",
          "name": "stdout",
          "text": [
            "Epoch 19/20, Train Loss: 0.2791, Train Acc: 89.58%, Val Loss: 0.2837, Val Acc: 89.69%, Time: 62.47s\n"
          ]
        },
        {
          "output_type": "stream",
          "name": "stderr",
          "text": [
            "Training: 100%|██████████| 3000/3000 [00:55<00:00, 53.93it/s]\n",
            "Evaluating: 100%|██████████| 750/750 [00:08<00:00, 91.80it/s]\n"
          ]
        },
        {
          "output_type": "stream",
          "name": "stdout",
          "text": [
            "Model improved and saved to ./FashionMNIST_alexnet.pth\n",
            "Epoch 20/20, Train Loss: 0.2713, Train Acc: 89.89%, Val Loss: 0.2677, Val Acc: 90.16%, Time: 64.43s\n",
            "Training complete. Evaluating on test set with the best model...\n"
          ]
        },
        {
          "output_type": "stream",
          "name": "stderr",
          "text": [
            "Evaluating: 100%|██████████| 625/625 [00:06<00:00, 89.95it/s] \n"
          ]
        },
        {
          "output_type": "stream",
          "name": "stdout",
          "text": [
            "Test Loss: 0.2585, Test Acc: 90.56%\n"
          ]
        },
        {
          "output_type": "display_data",
          "data": {
            "text/plain": [
              "<Figure size 640x480 with 1 Axes>"
            ],
            "image/png": "[encoded data removed]"
          },
          "metadata": {}
        },
        {
          "output_type": "display_data",
          "data": {
            "text/plain": [
              "<Figure size 640x480 with 1 Axes>"
            ],
            "image/png": "[encoded data removed]"
          },
          "metadata": {}
        },
        {
          "output_type": "stream",
          "name": "stdout",
          "text": [
            "Test Loss: 0.2585, Test Accuracy: 90.56%\n"
          ]
        }
      ],
      "source": [
        "# individual configuration\n",
        "alexnet = AlexNet().to(device)\n",
        "model_name = \"alexnet\"\n",
        "model = alexnet\n",
        "\n",
        "# Assuming `model` is your neural network model and `lr` is your learning rate\n",
        "optimizer = optim.SGD(model.parameters(), lr=0.001, momentum=0.9)\n",
        "from torch.optim.lr_scheduler import CosineAnnealingLR\n",
        "scheduler = CosineAnnealingLR(optimizer, T_max=50, eta_min=0)\n",
        "\n",
        "\n",
        "# training model\n",
        "alexnet_results = train_network(model,\n",
        "                                  optimizer,\n",
        "                                  criterion,\n",
        "                                  scheduler,\n",
        "                                  trainloader,\n",
        "                                  valloader,\n",
        "                                  testloader,\n",
        "                                  num_epochs,\n",
        "                                  device,\n",
        "                                  num_class,\n",
        "                                  model_name,\n",
        "                                  dataset\n",
        "                                  )\n",
        "\n",
        "# Plot the results\n",
        "plot_loss(alexnet_results['train_loss'], alexnet_results['val_loss'])\n",
        "plot_acc(alexnet_results['train_accuracy'], alexnet_results['val_accuracy'])\n",
        "# Print Test Loss and Test Accuracy\n",
        "print(f'Test Loss: {alexnet_results[\"test_loss\"]:.4f}, Test Accuracy: {alexnet_results[\"test_accuracy\"]:.2f}%')"
      ]
    },
    {
      "cell_type": "markdown",
      "source": [
        "### Train the network - VGG19"
      ],
      "metadata": {
        "id": "RkzCC7uviozH"
      }
    },
    {
      "cell_type": "code",
      "source": [
        "# individual configuration\n",
        "vggnet18 = vgg19().to(device)\n",
        "model_name = \"vggnet18\"\n",
        "model = vggnet18\n",
        "\n",
        "# Assuming `model` is your neural network model and `lr` is your learning rate\n",
        "optimizer = optim.SGD(model.parameters(), lr=0.001, momentum=0.9, weight_decay=0.001)\n",
        "from torch.optim.lr_scheduler import CosineAnnealingLR\n",
        "scheduler = CosineAnnealingLR(optimizer, T_max=50, eta_min=0)\n",
        "\n",
        "# training model\n",
        "vggnet18_results = train_network(model,\n",
        "                                  optimizer,\n",
        "                                  criterion,\n",
        "                                  scheduler,\n",
        "                                  trainloader,\n",
        "                                  valloader,\n",
        "                                  testloader,\n",
        "                                  num_epochs,\n",
        "                                  device,\n",
        "                                  num_class,\n",
        "                                  model_name,\n",
        "                                  dataset\n",
        "                                  )\n",
        "\n",
        "# Plot the results\n",
        "plot_loss(vggnet18_results['train_loss'], vggnet18_results['val_loss'])\n",
        "plot_acc(vggnet18_results['train_accuracy'], vggnet18_results['val_accuracy'])"
      ],
      "metadata": {
        "id": "Zx3-n9Tris-w",
        "outputId": "3e2334e0-9452-46e2-d53e-5bbaf6267a4b",
        "colab": {
          "base_uri": "https://localhost:8080/",
          "height": 1000
        }
      },
      "execution_count": 16,
      "outputs": [
        {
          "output_type": "stream",
          "name": "stdout",
          "text": [
            "Model will be saved to: ./FashionMNIST_vggnet18.pth\n",
            "Using device: cuda with seed: 1311\n",
            "\n"
          ]
        },
        {
          "output_type": "stream",
          "name": "stderr",
          "text": [
            "Training: 100%|██████████| 3000/3000 [01:12<00:00, 41.65it/s]\n",
            "Evaluating: 100%|██████████| 750/750 [00:08<00:00, 84.71it/s]\n"
          ]
        },
        {
          "output_type": "stream",
          "name": "stdout",
          "text": [
            "Model improved and saved to ./FashionMNIST_vggnet18.pth\n",
            "Epoch 1/20, Train Loss: 1.7875, Train Acc: 30.41%, Val Loss: 0.8884, Val Acc: 65.27%, Time: 81.02s\n"
          ]
        },
        {
          "output_type": "stream",
          "name": "stderr",
          "text": [
            "Training: 100%|██████████| 3000/3000 [01:05<00:00, 45.76it/s]\n",
            "Evaluating: 100%|██████████| 750/750 [00:09<00:00, 77.63it/s]\n"
          ]
        },
        {
          "output_type": "stream",
          "name": "stdout",
          "text": [
            "Model improved and saved to ./FashionMNIST_vggnet18.pth\n",
            "Epoch 2/20, Train Loss: 0.7902, Train Acc: 70.12%, Val Loss: 0.6715, Val Acc: 73.59%, Time: 75.43s\n"
          ]
        },
        {
          "output_type": "stream",
          "name": "stderr",
          "text": [
            "Training: 100%|██████████| 3000/3000 [01:05<00:00, 45.87it/s]\n",
            "Evaluating: 100%|██████████| 750/750 [00:09<00:00, 77.12it/s]\n"
          ]
        },
        {
          "output_type": "stream",
          "name": "stdout",
          "text": [
            "Model improved and saved to ./FashionMNIST_vggnet18.pth\n",
            "Epoch 3/20, Train Loss: 0.6519, Train Acc: 75.17%, Val Loss: 0.6199, Val Acc: 75.92%, Time: 75.32s\n"
          ]
        },
        {
          "output_type": "stream",
          "name": "stderr",
          "text": [
            "Training: 100%|██████████| 3000/3000 [01:05<00:00, 45.85it/s]\n",
            "Evaluating: 100%|██████████| 750/750 [00:09<00:00, 79.89it/s]\n"
          ]
        },
        {
          "output_type": "stream",
          "name": "stdout",
          "text": [
            "Model improved and saved to ./FashionMNIST_vggnet18.pth\n",
            "Epoch 4/20, Train Loss: 0.5820, Train Acc: 77.75%, Val Loss: 0.5482, Val Acc: 78.08%, Time: 75.00s\n"
          ]
        },
        {
          "output_type": "stream",
          "name": "stderr",
          "text": [
            "Training: 100%|██████████| 3000/3000 [01:05<00:00, 45.91it/s]\n",
            "Evaluating: 100%|██████████| 750/750 [00:08<00:00, 91.49it/s]\n"
          ]
        },
        {
          "output_type": "stream",
          "name": "stdout",
          "text": [
            "Model improved and saved to ./FashionMNIST_vggnet18.pth\n",
            "Epoch 5/20, Train Loss: 0.5317, Train Acc: 79.92%, Val Loss: 0.5057, Val Acc: 81.72%, Time: 73.82s\n"
          ]
        },
        {
          "output_type": "stream",
          "name": "stderr",
          "text": [
            "Training: 100%|██████████| 3000/3000 [01:05<00:00, 45.85it/s]\n",
            "Evaluating: 100%|██████████| 750/750 [00:08<00:00, 85.84it/s]\n"
          ]
        },
        {
          "output_type": "stream",
          "name": "stdout",
          "text": [
            "Model improved and saved to ./FashionMNIST_vggnet18.pth\n",
            "Epoch 6/20, Train Loss: 0.4946, Train Acc: 81.53%, Val Loss: 0.4699, Val Acc: 82.32%, Time: 74.36s\n"
          ]
        },
        {
          "output_type": "stream",
          "name": "stderr",
          "text": [
            "Training: 100%|██████████| 3000/3000 [01:05<00:00, 46.00it/s]\n",
            "Evaluating: 100%|██████████| 750/750 [00:09<00:00, 80.57it/s]\n"
          ]
        },
        {
          "output_type": "stream",
          "name": "stdout",
          "text": [
            "Model improved and saved to ./FashionMNIST_vggnet18.pth\n",
            "Epoch 7/20, Train Loss: 0.4685, Train Acc: 82.53%, Val Loss: 0.4372, Val Acc: 83.48%, Time: 74.71s\n"
          ]
        },
        {
          "output_type": "stream",
          "name": "stderr",
          "text": [
            "Training: 100%|██████████| 3000/3000 [01:05<00:00, 45.96it/s]\n",
            "Evaluating: 100%|██████████| 750/750 [00:09<00:00, 78.01it/s]\n"
          ]
        },
        {
          "output_type": "stream",
          "name": "stdout",
          "text": [
            "Epoch 8/20, Train Loss: 0.4448, Train Acc: 83.62%, Val Loss: 0.4476, Val Acc: 83.39%, Time: 74.90s\n"
          ]
        },
        {
          "output_type": "stream",
          "name": "stderr",
          "text": [
            "Training: 100%|██████████| 3000/3000 [01:05<00:00, 45.91it/s]\n",
            "Evaluating: 100%|██████████| 750/750 [00:09<00:00, 79.32it/s]\n"
          ]
        },
        {
          "output_type": "stream",
          "name": "stdout",
          "text": [
            "Model improved and saved to ./FashionMNIST_vggnet18.pth\n",
            "Epoch 9/20, Train Loss: 0.4251, Train Acc: 84.47%, Val Loss: 0.4123, Val Acc: 84.10%, Time: 74.98s\n"
          ]
        },
        {
          "output_type": "stream",
          "name": "stderr",
          "text": [
            "Training: 100%|██████████| 3000/3000 [01:05<00:00, 45.49it/s]\n",
            "Evaluating: 100%|██████████| 750/750 [00:08<00:00, 90.65it/s]\n"
          ]
        },
        {
          "output_type": "stream",
          "name": "stdout",
          "text": [
            "Model improved and saved to ./FashionMNIST_vggnet18.pth\n",
            "Epoch 10/20, Train Loss: 0.4070, Train Acc: 84.97%, Val Loss: 0.3951, Val Acc: 85.26%, Time: 74.41s\n"
          ]
        },
        {
          "output_type": "stream",
          "name": "stderr",
          "text": [
            "Training: 100%|██████████| 3000/3000 [01:06<00:00, 45.44it/s]\n",
            "Evaluating: 100%|██████████| 750/750 [00:08<00:00, 85.57it/s]\n"
          ]
        },
        {
          "output_type": "stream",
          "name": "stdout",
          "text": [
            "Model improved and saved to ./FashionMNIST_vggnet18.pth\n",
            "Epoch 11/20, Train Loss: 0.3907, Train Acc: 85.64%, Val Loss: 0.3547, Val Acc: 86.56%, Time: 74.97s\n"
          ]
        },
        {
          "output_type": "stream",
          "name": "stderr",
          "text": [
            "Training: 100%|██████████| 3000/3000 [01:05<00:00, 45.67it/s]\n",
            "Evaluating: 100%|██████████| 750/750 [00:09<00:00, 77.29it/s]\n"
          ]
        },
        {
          "output_type": "stream",
          "name": "stdout",
          "text": [
            "Model improved and saved to ./FashionMNIST_vggnet18.pth\n",
            "Epoch 12/20, Train Loss: 0.3730, Train Acc: 86.25%, Val Loss: 0.3718, Val Acc: 86.87%, Time: 75.60s\n"
          ]
        },
        {
          "output_type": "stream",
          "name": "stderr",
          "text": [
            "Training: 100%|██████████| 3000/3000 [01:05<00:00, 45.89it/s]\n",
            "Evaluating: 100%|██████████| 750/750 [00:09<00:00, 79.40it/s]\n"
          ]
        },
        {
          "output_type": "stream",
          "name": "stdout",
          "text": [
            "Epoch 13/20, Train Loss: 0.3640, Train Acc: 86.66%, Val Loss: 0.3601, Val Acc: 86.80%, Time: 74.84s\n"
          ]
        },
        {
          "output_type": "stream",
          "name": "stderr",
          "text": [
            "Training: 100%|██████████| 3000/3000 [01:05<00:00, 45.95it/s]\n",
            "Evaluating: 100%|██████████| 750/750 [00:09<00:00, 79.82it/s]\n"
          ]
        },
        {
          "output_type": "stream",
          "name": "stdout",
          "text": [
            "Model improved and saved to ./FashionMNIST_vggnet18.pth\n",
            "Epoch 14/20, Train Loss: 0.3548, Train Acc: 87.01%, Val Loss: 0.3296, Val Acc: 87.94%, Time: 74.87s\n"
          ]
        },
        {
          "output_type": "stream",
          "name": "stderr",
          "text": [
            "Training: 100%|██████████| 3000/3000 [01:05<00:00, 45.89it/s]\n",
            "Evaluating: 100%|██████████| 750/750 [00:08<00:00, 91.69it/s]\n"
          ]
        },
        {
          "output_type": "stream",
          "name": "stdout",
          "text": [
            "Epoch 15/20, Train Loss: 0.3439, Train Acc: 87.48%, Val Loss: 0.3396, Val Acc: 87.16%, Time: 73.57s\n"
          ]
        },
        {
          "output_type": "stream",
          "name": "stderr",
          "text": [
            "Training: 100%|██████████| 3000/3000 [01:05<00:00, 45.68it/s]\n",
            "Evaluating: 100%|██████████| 750/750 [00:08<00:00, 85.41it/s]\n"
          ]
        },
        {
          "output_type": "stream",
          "name": "stdout",
          "text": [
            "Epoch 16/20, Train Loss: 0.3346, Train Acc: 87.90%, Val Loss: 0.3351, Val Acc: 87.53%, Time: 74.47s\n"
          ]
        },
        {
          "output_type": "stream",
          "name": "stderr",
          "text": [
            "Training: 100%|██████████| 3000/3000 [01:05<00:00, 45.75it/s]\n",
            "Evaluating: 100%|██████████| 750/750 [00:09<00:00, 80.56it/s] \n"
          ]
        },
        {
          "output_type": "stream",
          "name": "stdout",
          "text": [
            "Model improved and saved to ./FashionMNIST_vggnet18.pth\n",
            "Epoch 17/20, Train Loss: 0.3256, Train Acc: 88.12%, Val Loss: 0.3288, Val Acc: 88.14%, Time: 75.07s\n"
          ]
        },
        {
          "output_type": "stream",
          "name": "stderr",
          "text": [
            "Training: 100%|██████████| 3000/3000 [01:05<00:00, 45.95it/s]\n",
            "Evaluating: 100%|██████████| 750/750 [00:09<00:00, 80.11it/s]\n"
          ]
        },
        {
          "output_type": "stream",
          "name": "stdout",
          "text": [
            "Model improved and saved to ./FashionMNIST_vggnet18.pth\n",
            "Epoch 18/20, Train Loss: 0.3179, Train Acc: 88.44%, Val Loss: 0.3101, Val Acc: 88.62%, Time: 74.83s\n"
          ]
        },
        {
          "output_type": "stream",
          "name": "stderr",
          "text": [
            "Training: 100%|██████████| 3000/3000 [01:05<00:00, 45.87it/s]\n",
            "Evaluating: 100%|██████████| 750/750 [00:09<00:00, 80.26it/s]\n"
          ]
        },
        {
          "output_type": "stream",
          "name": "stdout",
          "text": [
            "Epoch 19/20, Train Loss: 0.3114, Train Acc: 88.65%, Val Loss: 0.3145, Val Acc: 88.52%, Time: 74.76s\n"
          ]
        },
        {
          "output_type": "stream",
          "name": "stderr",
          "text": [
            "Training: 100%|██████████| 3000/3000 [01:05<00:00, 45.86it/s]\n",
            "Evaluating: 100%|██████████| 750/750 [00:08<00:00, 91.47it/s]\n"
          ]
        },
        {
          "output_type": "stream",
          "name": "stdout",
          "text": [
            "Model improved and saved to ./FashionMNIST_vggnet18.pth\n",
            "Epoch 20/20, Train Loss: 0.3063, Train Acc: 88.83%, Val Loss: 0.3038, Val Acc: 88.96%, Time: 73.82s\n",
            "Training complete. Evaluating on test set with the best model...\n"
          ]
        },
        {
          "output_type": "stream",
          "name": "stderr",
          "text": [
            "Evaluating: 100%|██████████| 625/625 [00:07<00:00, 89.13it/s] \n"
          ]
        },
        {
          "output_type": "stream",
          "name": "stdout",
          "text": [
            "Test Loss: 0.2835, Test Acc: 90.07%\n"
          ]
        },
        {
          "output_type": "display_data",
          "data": {
            "text/plain": [
              "<Figure size 640x480 with 1 Axes>"
            ],
            "image/png": "[encoded data removed]"
          },
          "metadata": {}
        },
        {
          "output_type": "display_data",
          "data": {
            "text/plain": [
              "<Figure size 640x480 with 1 Axes>"
            ],
            "image/png": "[encoded data removed]"
          },
          "metadata": {}
        }
      ]
    },
    {
      "cell_type": "markdown",
      "metadata": {
        "id": "_d4Pfmqg_riO"
      },
      "source": [
        "### Train the network - Resnet18"
      ]
    },
    {
      "cell_type": "code",
      "execution_count": 15,
      "metadata": {
        "id": "4xfqSsoN_riO",
        "outputId": "bc28ece3-3a12-4237-b811-8dfb84c7f86a",
        "colab": {
          "base_uri": "https://localhost:8080/",
          "height": 1000
        }
      },
      "outputs": [
        {
          "output_type": "stream",
          "name": "stdout",
          "text": [
            "Model will be saved to: ./FashionMNIST_resnet18.pth\n",
            "Using device: cuda with seed: 1311\n",
            "\n"
          ]
        },
        {
          "output_type": "stream",
          "name": "stderr",
          "text": [
            "Training: 100%|██████████| 3000/3000 [01:19<00:00, 37.87it/s]\n",
            "Evaluating: 100%|██████████| 750/750 [00:10<00:00, 70.94it/s]\n"
          ]
        },
        {
          "output_type": "stream",
          "name": "stdout",
          "text": [
            "Model improved and saved to ./FashionMNIST_resnet18.pth\n",
            "Epoch 1/20, Train Loss: 0.5895, Train Acc: 78.22%, Val Loss: 0.3950, Val Acc: 85.74%, Time: 89.90s\n"
          ]
        },
        {
          "output_type": "stream",
          "name": "stderr",
          "text": [
            "Training: 100%|██████████| 3000/3000 [01:18<00:00, 38.12it/s]\n",
            "Evaluating: 100%|██████████| 750/750 [00:10<00:00, 72.07it/s]\n"
          ]
        },
        {
          "output_type": "stream",
          "name": "stdout",
          "text": [
            "Model improved and saved to ./FashionMNIST_resnet18.pth\n",
            "Epoch 2/20, Train Loss: 0.3668, Train Acc: 86.53%, Val Loss: 0.2903, Val Acc: 89.37%, Time: 89.23s\n"
          ]
        },
        {
          "output_type": "stream",
          "name": "stderr",
          "text": [
            "Training: 100%|██████████| 3000/3000 [01:18<00:00, 38.33it/s]\n",
            "Evaluating: 100%|██████████| 750/750 [00:10<00:00, 72.10it/s]\n"
          ]
        },
        {
          "output_type": "stream",
          "name": "stdout",
          "text": [
            "Model improved and saved to ./FashionMNIST_resnet18.pth\n",
            "Epoch 3/20, Train Loss: 0.3133, Train Acc: 88.52%, Val Loss: 0.2766, Val Acc: 90.06%, Time: 88.80s\n"
          ]
        },
        {
          "output_type": "stream",
          "name": "stderr",
          "text": [
            "Training: 100%|██████████| 3000/3000 [01:18<00:00, 38.35it/s]\n",
            "Evaluating: 100%|██████████| 750/750 [00:09<00:00, 75.87it/s]\n"
          ]
        },
        {
          "output_type": "stream",
          "name": "stdout",
          "text": [
            "Model improved and saved to ./FashionMNIST_resnet18.pth\n",
            "Epoch 4/20, Train Loss: 0.2812, Train Acc: 89.81%, Val Loss: 0.2426, Val Acc: 91.29%, Time: 88.29s\n"
          ]
        },
        {
          "output_type": "stream",
          "name": "stderr",
          "text": [
            "Training: 100%|██████████| 3000/3000 [01:18<00:00, 38.40it/s]\n",
            "Evaluating: 100%|██████████| 750/750 [00:09<00:00, 81.05it/s]\n"
          ]
        },
        {
          "output_type": "stream",
          "name": "stdout",
          "text": [
            "Model improved and saved to ./FashionMNIST_resnet18.pth\n",
            "Epoch 5/20, Train Loss: 0.2568, Train Acc: 90.51%, Val Loss: 0.2311, Val Acc: 91.55%, Time: 87.50s\n"
          ]
        },
        {
          "output_type": "stream",
          "name": "stderr",
          "text": [
            "Training: 100%|██████████| 3000/3000 [01:18<00:00, 38.12it/s]\n",
            "Evaluating: 100%|██████████| 750/750 [00:09<00:00, 77.36it/s]\n"
          ]
        },
        {
          "output_type": "stream",
          "name": "stdout",
          "text": [
            "Epoch 6/20, Train Loss: 0.2424, Train Acc: 91.16%, Val Loss: 0.2317, Val Acc: 91.52%, Time: 88.42s\n"
          ]
        },
        {
          "output_type": "stream",
          "name": "stderr",
          "text": [
            "Training: 100%|██████████| 3000/3000 [01:18<00:00, 38.43it/s]\n",
            "Evaluating: 100%|██████████| 750/750 [00:10<00:00, 72.65it/s]\n"
          ]
        },
        {
          "output_type": "stream",
          "name": "stdout",
          "text": [
            "Model improved and saved to ./FashionMNIST_resnet18.pth\n",
            "Epoch 7/20, Train Loss: 0.2291, Train Acc: 91.55%, Val Loss: 0.2166, Val Acc: 92.07%, Time: 88.51s\n"
          ]
        },
        {
          "output_type": "stream",
          "name": "stderr",
          "text": [
            "Training: 100%|██████████| 3000/3000 [01:18<00:00, 38.36it/s]\n",
            "Evaluating: 100%|██████████| 750/750 [00:10<00:00, 71.92it/s]\n"
          ]
        },
        {
          "output_type": "stream",
          "name": "stdout",
          "text": [
            "Epoch 8/20, Train Loss: 0.2178, Train Acc: 91.93%, Val Loss: 0.2492, Val Acc: 90.66%, Time: 88.65s\n"
          ]
        },
        {
          "output_type": "stream",
          "name": "stderr",
          "text": [
            "Training: 100%|██████████| 3000/3000 [01:18<00:00, 38.21it/s]\n",
            "Evaluating: 100%|██████████| 750/750 [00:10<00:00, 71.33it/s]\n"
          ]
        },
        {
          "output_type": "stream",
          "name": "stdout",
          "text": [
            "Model improved and saved to ./FashionMNIST_resnet18.pth\n",
            "Epoch 9/20, Train Loss: 0.2095, Train Acc: 92.29%, Val Loss: 0.2167, Val Acc: 92.45%, Time: 89.14s\n"
          ]
        },
        {
          "output_type": "stream",
          "name": "stderr",
          "text": [
            "Training: 100%|██████████| 3000/3000 [01:18<00:00, 38.39it/s]\n",
            "Evaluating: 100%|██████████| 750/750 [00:10<00:00, 71.78it/s]\n"
          ]
        },
        {
          "output_type": "stream",
          "name": "stdout",
          "text": [
            "Model improved and saved to ./FashionMNIST_resnet18.pth\n",
            "Epoch 10/20, Train Loss: 0.2027, Train Acc: 92.40%, Val Loss: 0.2035, Val Acc: 92.75%, Time: 88.71s\n"
          ]
        },
        {
          "output_type": "stream",
          "name": "stderr",
          "text": [
            "Training: 100%|██████████| 3000/3000 [01:18<00:00, 38.36it/s]\n",
            "Evaluating: 100%|██████████| 750/750 [00:10<00:00, 72.72it/s]\n"
          ]
        },
        {
          "output_type": "stream",
          "name": "stdout",
          "text": [
            "Model improved and saved to ./FashionMNIST_resnet18.pth\n",
            "Epoch 11/20, Train Loss: 0.1971, Train Acc: 92.67%, Val Loss: 0.2017, Val Acc: 92.84%, Time: 88.65s\n"
          ]
        },
        {
          "output_type": "stream",
          "name": "stderr",
          "text": [
            "Training: 100%|██████████| 3000/3000 [01:18<00:00, 38.22it/s]\n",
            "Evaluating: 100%|██████████| 750/750 [00:09<00:00, 77.39it/s]\n"
          ]
        },
        {
          "output_type": "stream",
          "name": "stdout",
          "text": [
            "Model improved and saved to ./FashionMNIST_resnet18.pth\n",
            "Epoch 12/20, Train Loss: 0.1866, Train Acc: 93.02%, Val Loss: 0.1951, Val Acc: 93.04%, Time: 88.35s\n"
          ]
        },
        {
          "output_type": "stream",
          "name": "stderr",
          "text": [
            "Training: 100%|██████████| 3000/3000 [01:18<00:00, 37.99it/s]\n",
            "Evaluating: 100%|██████████| 750/750 [00:09<00:00, 81.70it/s]\n"
          ]
        },
        {
          "output_type": "stream",
          "name": "stdout",
          "text": [
            "Model improved and saved to ./FashionMNIST_resnet18.pth\n",
            "Epoch 13/20, Train Loss: 0.1802, Train Acc: 93.45%, Val Loss: 0.1961, Val Acc: 93.20%, Time: 88.28s\n"
          ]
        },
        {
          "output_type": "stream",
          "name": "stderr",
          "text": [
            "Training: 100%|██████████| 3000/3000 [01:18<00:00, 38.08it/s]\n",
            "Evaluating: 100%|██████████| 750/750 [00:09<00:00, 76.78it/s]\n"
          ]
        },
        {
          "output_type": "stream",
          "name": "stdout",
          "text": [
            "Model improved and saved to ./FashionMNIST_resnet18.pth\n",
            "Epoch 14/20, Train Loss: 0.1729, Train Acc: 93.54%, Val Loss: 0.1815, Val Acc: 93.47%, Time: 88.68s\n"
          ]
        },
        {
          "output_type": "stream",
          "name": "stderr",
          "text": [
            "Training: 100%|██████████| 3000/3000 [01:18<00:00, 38.25it/s]\n",
            "Evaluating: 100%|██████████| 750/750 [00:10<00:00, 72.50it/s]\n"
          ]
        },
        {
          "output_type": "stream",
          "name": "stdout",
          "text": [
            "Epoch 15/20, Train Loss: 0.1696, Train Acc: 93.82%, Val Loss: 0.1996, Val Acc: 92.71%, Time: 88.80s\n"
          ]
        },
        {
          "output_type": "stream",
          "name": "stderr",
          "text": [
            "Training: 100%|██████████| 3000/3000 [01:19<00:00, 37.88it/s]\n",
            "Evaluating: 100%|██████████| 750/750 [00:10<00:00, 69.02it/s]\n"
          ]
        },
        {
          "output_type": "stream",
          "name": "stdout",
          "text": [
            "Epoch 16/20, Train Loss: 0.1616, Train Acc: 93.97%, Val Loss: 0.1796, Val Acc: 93.47%, Time: 90.09s\n"
          ]
        },
        {
          "output_type": "stream",
          "name": "stderr",
          "text": [
            "Training: 100%|██████████| 3000/3000 [01:21<00:00, 37.02it/s]\n",
            "Evaluating: 100%|██████████| 750/750 [00:10<00:00, 69.19it/s]\n"
          ]
        },
        {
          "output_type": "stream",
          "name": "stdout",
          "text": [
            "Model improved and saved to ./FashionMNIST_resnet18.pth\n",
            "Epoch 17/20, Train Loss: 0.1555, Train Acc: 94.25%, Val Loss: 0.1801, Val Acc: 93.71%, Time: 92.00s\n"
          ]
        },
        {
          "output_type": "stream",
          "name": "stderr",
          "text": [
            "Training: 100%|██████████| 3000/3000 [01:21<00:00, 36.66it/s]\n",
            "Evaluating: 100%|██████████| 750/750 [00:10<00:00, 70.79it/s]\n"
          ]
        },
        {
          "output_type": "stream",
          "name": "stdout",
          "text": [
            "Epoch 18/20, Train Loss: 0.1540, Train Acc: 94.29%, Val Loss: 0.1879, Val Acc: 93.07%, Time: 92.44s\n"
          ]
        },
        {
          "output_type": "stream",
          "name": "stderr",
          "text": [
            "Training: 100%|██████████| 3000/3000 [01:20<00:00, 37.42it/s]\n",
            "Evaluating: 100%|██████████| 750/750 [00:10<00:00, 71.78it/s]\n"
          ]
        },
        {
          "output_type": "stream",
          "name": "stdout",
          "text": [
            "Model improved and saved to ./FashionMNIST_resnet18.pth\n",
            "Epoch 19/20, Train Loss: 0.1477, Train Acc: 94.69%, Val Loss: 0.1801, Val Acc: 93.82%, Time: 90.90s\n"
          ]
        },
        {
          "output_type": "stream",
          "name": "stderr",
          "text": [
            "Training: 100%|██████████| 3000/3000 [01:19<00:00, 37.72it/s]\n",
            "Evaluating: 100%|██████████| 750/750 [00:09<00:00, 75.88it/s]\n"
          ]
        },
        {
          "output_type": "stream",
          "name": "stdout",
          "text": [
            "Epoch 20/20, Train Loss: 0.1427, Train Acc: 94.70%, Val Loss: 0.1795, Val Acc: 93.68%, Time: 89.44s\n",
            "Training complete. Evaluating on test set with the best model...\n"
          ]
        },
        {
          "output_type": "stream",
          "name": "stderr",
          "text": [
            "Evaluating: 100%|██████████| 625/625 [00:07<00:00, 79.97it/s]\n"
          ]
        },
        {
          "output_type": "stream",
          "name": "stdout",
          "text": [
            "Test Loss: 0.1806, Test Acc: 93.66%\n"
          ]
        },
        {
          "output_type": "display_data",
          "data": {
            "text/plain": [
              "<Figure size 640x480 with 1 Axes>"
            ],
            "image/png": "[encoded data removed]"
          },
          "metadata": {}
        },
        {
          "output_type": "display_data",
          "data": {
            "text/plain": [
              "<Figure size 640x480 with 1 Axes>"
            ],
            "image/png": "[encoded data removed]"
          },
          "metadata": {}
        }
      ],
      "source": [
        "# individual configuration\n",
        "resnet18 = ResNet18().to(device)\n",
        "model_name = \"resnet18\"\n",
        "model = resnet18\n",
        "\n",
        "# Assuming `model` is your neural network model and `lr` is your learning rate\n",
        "optimizer = optim.SGD(model.parameters(), lr=0.001, momentum=0.9)\n",
        "from torch.optim.lr_scheduler import CosineAnnealingLR\n",
        "scheduler = CosineAnnealingLR(optimizer, T_max=50, eta_min=0)\n",
        "\n",
        "# training model\n",
        "resnet18_results = train_network(model,\n",
        "                                  optimizer,\n",
        "                                  criterion,\n",
        "                                  scheduler,\n",
        "                                  trainloader,\n",
        "                                  valloader,\n",
        "                                  testloader,\n",
        "                                  num_epochs,\n",
        "                                  device,\n",
        "                                  num_class,\n",
        "                                  model_name,\n",
        "                                  dataset\n",
        "                                  )\n",
        "\n",
        "# Plot the results\n",
        "plot_loss(resnet18_results['train_loss'], resnet18_results['val_loss'])\n",
        "plot_acc(resnet18_results['train_accuracy'], resnet18_results['val_accuracy'])"
      ]
    },
    {
      "cell_type": "markdown",
      "metadata": {
        "id": "BD5SYO-u_riP"
      },
      "source": [
        "### Train the network - Resnet34"
      ]
    },
    {
      "cell_type": "code",
      "execution_count": 16,
      "metadata": {
        "id": "W5Pmadht_riP",
        "outputId": "168d965c-4a13-49be-d156-d0c30095edab",
        "colab": {
          "base_uri": "https://localhost:8080/",
          "height": 1000
        }
      },
      "outputs": [
        {
          "output_type": "stream",
          "name": "stdout",
          "text": [
            "Model will be saved to: ./FashionMNIST_resnet34.pth\n",
            "Using device: cuda with seed: 1311\n",
            "\n"
          ]
        },
        {
          "output_type": "stream",
          "name": "stderr",
          "text": [
            "Training: 100%|██████████| 3000/3000 [02:09<00:00, 23.11it/s]\n",
            "Evaluating: 100%|██████████| 750/750 [00:12<00:00, 59.75it/s]\n"
          ]
        },
        {
          "output_type": "stream",
          "name": "stdout",
          "text": [
            "Model improved and saved to ./FashionMNIST_resnet34.pth\n",
            "Epoch 1/20, Train Loss: 0.5851, Train Acc: 78.47%, Val Loss: 0.3961, Val Acc: 85.63%, Time: 142.53s\n"
          ]
        },
        {
          "output_type": "stream",
          "name": "stderr",
          "text": [
            "Training: 100%|██████████| 3000/3000 [02:09<00:00, 23.18it/s]\n",
            "Evaluating: 100%|██████████| 750/750 [00:12<00:00, 60.28it/s]\n"
          ]
        },
        {
          "output_type": "stream",
          "name": "stdout",
          "text": [
            "Model improved and saved to ./FashionMNIST_resnet34.pth\n",
            "Epoch 2/20, Train Loss: 0.3627, Train Acc: 86.87%, Val Loss: 0.2987, Val Acc: 89.34%, Time: 142.09s\n"
          ]
        },
        {
          "output_type": "stream",
          "name": "stderr",
          "text": [
            "Training: 100%|██████████| 3000/3000 [02:09<00:00, 23.14it/s]\n",
            "Evaluating: 100%|██████████| 750/750 [00:12<00:00, 61.67it/s]\n"
          ]
        },
        {
          "output_type": "stream",
          "name": "stdout",
          "text": [
            "Model improved and saved to ./FashionMNIST_resnet34.pth\n",
            "Epoch 3/20, Train Loss: 0.3092, Train Acc: 88.87%, Val Loss: 0.2742, Val Acc: 90.17%, Time: 142.12s\n"
          ]
        },
        {
          "output_type": "stream",
          "name": "stderr",
          "text": [
            "Training: 100%|██████████| 3000/3000 [02:10<00:00, 23.07it/s]\n",
            "Evaluating: 100%|██████████| 750/750 [00:12<00:00, 59.83it/s]\n"
          ]
        },
        {
          "output_type": "stream",
          "name": "stdout",
          "text": [
            "Model improved and saved to ./FashionMNIST_resnet34.pth\n",
            "Epoch 4/20, Train Loss: 0.2794, Train Acc: 89.80%, Val Loss: 0.2483, Val Acc: 91.28%, Time: 142.81s\n"
          ]
        },
        {
          "output_type": "stream",
          "name": "stderr",
          "text": [
            "Training: 100%|██████████| 3000/3000 [02:09<00:00, 23.13it/s]\n",
            "Evaluating: 100%|██████████| 750/750 [00:12<00:00, 60.52it/s]\n"
          ]
        },
        {
          "output_type": "stream",
          "name": "stdout",
          "text": [
            "Epoch 5/20, Train Loss: 0.2542, Train Acc: 90.61%, Val Loss: 0.2428, Val Acc: 90.92%, Time: 142.09s\n"
          ]
        },
        {
          "output_type": "stream",
          "name": "stderr",
          "text": [
            "Training: 100%|██████████| 3000/3000 [02:09<00:00, 23.19it/s]\n",
            "Evaluating: 100%|██████████| 750/750 [00:12<00:00, 60.13it/s]\n"
          ]
        },
        {
          "output_type": "stream",
          "name": "stdout",
          "text": [
            "Model improved and saved to ./FashionMNIST_resnet34.pth\n",
            "Epoch 6/20, Train Loss: 0.2410, Train Acc: 91.25%, Val Loss: 0.2273, Val Acc: 91.76%, Time: 142.06s\n"
          ]
        },
        {
          "output_type": "stream",
          "name": "stderr",
          "text": [
            "Training: 100%|██████████| 3000/3000 [02:10<00:00, 23.07it/s]\n",
            "Evaluating: 100%|██████████| 750/750 [00:12<00:00, 59.93it/s]\n"
          ]
        },
        {
          "output_type": "stream",
          "name": "stdout",
          "text": [
            "Model improved and saved to ./FashionMNIST_resnet34.pth\n",
            "Epoch 7/20, Train Loss: 0.2269, Train Acc: 91.70%, Val Loss: 0.2162, Val Acc: 92.15%, Time: 142.80s\n"
          ]
        },
        {
          "output_type": "stream",
          "name": "stderr",
          "text": [
            "Training: 100%|██████████| 3000/3000 [02:09<00:00, 23.14it/s]\n",
            "Evaluating: 100%|██████████| 750/750 [00:12<00:00, 60.04it/s]\n"
          ]
        },
        {
          "output_type": "stream",
          "name": "stdout",
          "text": [
            "Epoch 8/20, Train Loss: 0.2162, Train Acc: 92.01%, Val Loss: 0.2586, Val Acc: 90.76%, Time: 142.14s\n"
          ]
        },
        {
          "output_type": "stream",
          "name": "stderr",
          "text": [
            "Training: 100%|██████████| 3000/3000 [02:09<00:00, 23.08it/s]\n",
            "Evaluating: 100%|██████████| 750/750 [00:12<00:00, 62.29it/s]\n"
          ]
        },
        {
          "output_type": "stream",
          "name": "stdout",
          "text": [
            "Model improved and saved to ./FashionMNIST_resnet34.pth\n",
            "Epoch 9/20, Train Loss: 0.2062, Train Acc: 92.48%, Val Loss: 0.2026, Val Acc: 92.70%, Time: 142.34s\n"
          ]
        },
        {
          "output_type": "stream",
          "name": "stderr",
          "text": [
            "Training: 100%|██████████| 3000/3000 [02:09<00:00, 23.11it/s]\n",
            "Evaluating: 100%|██████████| 750/750 [00:12<00:00, 60.40it/s]\n"
          ]
        },
        {
          "output_type": "stream",
          "name": "stdout",
          "text": [
            "Epoch 10/20, Train Loss: 0.2004, Train Acc: 92.60%, Val Loss: 0.2061, Val Acc: 92.62%, Time: 142.23s\n"
          ]
        },
        {
          "output_type": "stream",
          "name": "stderr",
          "text": [
            "Training: 100%|██████████| 3000/3000 [02:09<00:00, 23.10it/s]\n",
            "Evaluating: 100%|██████████| 750/750 [00:12<00:00, 59.84it/s]\n"
          ]
        },
        {
          "output_type": "stream",
          "name": "stdout",
          "text": [
            "Model improved and saved to ./FashionMNIST_resnet34.pth\n",
            "Epoch 11/20, Train Loss: 0.1964, Train Acc: 92.80%, Val Loss: 0.1952, Val Acc: 92.96%, Time: 142.63s\n"
          ]
        },
        {
          "output_type": "stream",
          "name": "stderr",
          "text": [
            "Training: 100%|██████████| 3000/3000 [02:09<00:00, 23.15it/s]\n",
            "Evaluating: 100%|██████████| 750/750 [00:12<00:00, 60.45it/s]\n"
          ]
        },
        {
          "output_type": "stream",
          "name": "stdout",
          "text": [
            "Model improved and saved to ./FashionMNIST_resnet34.pth\n",
            "Epoch 12/20, Train Loss: 0.1863, Train Acc: 93.16%, Val Loss: 0.1913, Val Acc: 93.36%, Time: 142.22s\n"
          ]
        },
        {
          "output_type": "stream",
          "name": "stderr",
          "text": [
            "Training: 100%|██████████| 3000/3000 [02:09<00:00, 23.10it/s]\n",
            "Evaluating: 100%|██████████| 750/750 [00:12<00:00, 59.79it/s]\n"
          ]
        },
        {
          "output_type": "stream",
          "name": "stdout",
          "text": [
            "Epoch 13/20, Train Loss: 0.1807, Train Acc: 93.54%, Val Loss: 0.1924, Val Acc: 93.31%, Time: 142.43s\n"
          ]
        },
        {
          "output_type": "stream",
          "name": "stderr",
          "text": [
            "Training: 100%|██████████| 3000/3000 [02:09<00:00, 23.13it/s]\n",
            "Evaluating: 100%|██████████| 750/750 [00:12<00:00, 59.88it/s]\n"
          ]
        },
        {
          "output_type": "stream",
          "name": "stdout",
          "text": [
            "Model improved and saved to ./FashionMNIST_resnet34.pth\n",
            "Epoch 14/20, Train Loss: 0.1747, Train Acc: 93.66%, Val Loss: 0.1837, Val Acc: 93.42%, Time: 142.44s\n"
          ]
        },
        {
          "output_type": "stream",
          "name": "stderr",
          "text": [
            "Training: 100%|██████████| 3000/3000 [02:09<00:00, 23.08it/s]\n",
            "Evaluating: 100%|██████████| 750/750 [00:12<00:00, 60.49it/s]\n"
          ]
        },
        {
          "output_type": "stream",
          "name": "stdout",
          "text": [
            "Epoch 15/20, Train Loss: 0.1683, Train Acc: 93.85%, Val Loss: 0.1965, Val Acc: 92.88%, Time: 142.38s\n"
          ]
        },
        {
          "output_type": "stream",
          "name": "stderr",
          "text": [
            "Training: 100%|██████████| 3000/3000 [02:10<00:00, 23.00it/s]\n",
            "Evaluating: 100%|██████████| 750/750 [00:12<00:00, 60.62it/s]\n"
          ]
        },
        {
          "output_type": "stream",
          "name": "stdout",
          "text": [
            "Model improved and saved to ./FashionMNIST_resnet34.pth\n",
            "Epoch 16/20, Train Loss: 0.1619, Train Acc: 94.09%, Val Loss: 0.1783, Val Acc: 93.57%, Time: 143.12s\n"
          ]
        },
        {
          "output_type": "stream",
          "name": "stderr",
          "text": [
            "Training: 100%|██████████| 3000/3000 [02:10<00:00, 23.05it/s]\n",
            "Evaluating: 100%|██████████| 750/750 [00:12<00:00, 60.18it/s]\n"
          ]
        },
        {
          "output_type": "stream",
          "name": "stdout",
          "text": [
            "Model improved and saved to ./FashionMNIST_resnet34.pth\n",
            "Epoch 17/20, Train Loss: 0.1541, Train Acc: 94.40%, Val Loss: 0.1796, Val Acc: 93.77%, Time: 142.81s\n"
          ]
        },
        {
          "output_type": "stream",
          "name": "stderr",
          "text": [
            "Training: 100%|██████████| 3000/3000 [02:09<00:00, 23.11it/s]\n",
            "Evaluating: 100%|██████████| 750/750 [00:12<00:00, 59.81it/s]\n"
          ]
        },
        {
          "output_type": "stream",
          "name": "stdout",
          "text": [
            "Epoch 18/20, Train Loss: 0.1536, Train Acc: 94.37%, Val Loss: 0.1820, Val Acc: 93.38%, Time: 142.37s\n"
          ]
        },
        {
          "output_type": "stream",
          "name": "stderr",
          "text": [
            "Training: 100%|██████████| 3000/3000 [02:10<00:00, 23.02it/s]\n",
            "Evaluating: 100%|██████████| 750/750 [00:12<00:00, 59.66it/s]\n"
          ]
        },
        {
          "output_type": "stream",
          "name": "stdout",
          "text": [
            "Epoch 19/20, Train Loss: 0.1477, Train Acc: 94.54%, Val Loss: 0.1891, Val Acc: 93.55%, Time: 142.90s\n"
          ]
        },
        {
          "output_type": "stream",
          "name": "stderr",
          "text": [
            "Training: 100%|██████████| 3000/3000 [02:10<00:00, 23.04it/s]\n",
            "Evaluating: 100%|██████████| 750/750 [00:12<00:00, 59.43it/s]\n"
          ]
        },
        {
          "output_type": "stream",
          "name": "stdout",
          "text": [
            "Epoch 20/20, Train Loss: 0.1421, Train Acc: 94.78%, Val Loss: 0.1783, Val Acc: 93.68%, Time: 142.86s\n",
            "Training complete. Evaluating on test set with the best model...\n"
          ]
        },
        {
          "output_type": "stream",
          "name": "stderr",
          "text": [
            "Evaluating: 100%|██████████| 625/625 [00:09<00:00, 65.34it/s]\n"
          ]
        },
        {
          "output_type": "stream",
          "name": "stdout",
          "text": [
            "Test Loss: 0.1873, Test Acc: 93.51%\n"
          ]
        },
        {
          "output_type": "display_data",
          "data": {
            "text/plain": [
              "<Figure size 640x480 with 1 Axes>"
            ],
            "image/png": "[encoded data removed]"
          },
          "metadata": {}
        },
        {
          "output_type": "display_data",
          "data": {
            "text/plain": [
              "<Figure size 640x480 with 1 Axes>"
            ],
            "image/png": "[encoded data removed]"
          },
          "metadata": {}
        }
      ],
      "source": [
        "# individual configuration\n",
        "resnet34 = ResNet34().to(device)\n",
        "model_name = \"resnet34\"\n",
        "model = resnet34\n",
        "\n",
        "# Assuming `model` is your neural network model and `lr` is your learning rate\n",
        "optimizer = optim.SGD(model.parameters(), lr=0.001, momentum=0.9, weight_decay=0.001)\n",
        "from torch.optim.lr_scheduler import CosineAnnealingLR\n",
        "scheduler = CosineAnnealingLR(optimizer, T_max=50, eta_min=0)\n",
        "\n",
        "# training model\n",
        "resnet34_results = train_network(model,\n",
        "                                  optimizer,\n",
        "                                  criterion,\n",
        "                                  scheduler,\n",
        "                                  trainloader,\n",
        "                                  valloader,\n",
        "                                  testloader,\n",
        "                                  num_epochs,\n",
        "                                  device,\n",
        "                                  num_class,\n",
        "                                  model_name,\n",
        "                                  dataset\n",
        "                                  )\n",
        "\n",
        "\n",
        "# Plot the results\n",
        "plot_loss(resnet34_results['train_loss'], resnet34_results['val_loss'])\n",
        "plot_acc(resnet34_results['train_accuracy'], resnet34_results['val_accuracy'])"
      ]
    },
    {
      "cell_type": "markdown",
      "source": [
        "### Train the network - Resnet50"
      ],
      "metadata": {
        "id": "q3j5wlmmPlrp"
      }
    },
    {
      "cell_type": "code",
      "source": [
        "# individual configuration\n",
        "resnet50 = ResNet50().to(device)\n",
        "model_name = \"resnet50\"\n",
        "model = resnet50\n",
        "\n",
        "# Assuming `model` is your neural network model and `lr` is your learning rate\n",
        "optimizer = optim.SGD(model.parameters(), lr=0.001, momentum=0.9, weight_decay=0.001)\n",
        "from torch.optim.lr_scheduler import CosineAnnealingLR\n",
        "scheduler = CosineAnnealingLR(optimizer, T_max=50, eta_min=0)\n",
        "\n",
        "# training model\n",
        "resnet50_results = train_network(model,\n",
        "                                  optimizer,\n",
        "                                  criterion,\n",
        "                                  scheduler,\n",
        "                                  trainloader,\n",
        "                                  valloader,\n",
        "                                  testloader,\n",
        "                                  num_epochs,\n",
        "                                  device,\n",
        "                                  num_class,\n",
        "                                  model_name,\n",
        "                                  dataset\n",
        "                                  )\n",
        "\n",
        "# Plot the results\n",
        "plot_loss(resnet50_results['train_loss'], resnet50_results['val_loss'])\n",
        "plot_acc(resnet50_results['train_accuracy'], resnet50_results['val_accuracy'])"
      ],
      "metadata": {
        "id": "J5IjayQuPkha",
        "outputId": "b79c803d-2f91-42da-bb27-039b02acfa93",
        "colab": {
          "base_uri": "https://localhost:8080/",
          "height": 1000
        }
      },
      "execution_count": 17,
      "outputs": [
        {
          "output_type": "stream",
          "name": "stdout",
          "text": [
            "Model will be saved to: ./FashionMNIST_resnet50.pth\n",
            "Using device: cuda with seed: 1311\n",
            "\n"
          ]
        },
        {
          "output_type": "stream",
          "name": "stderr",
          "text": [
            "Training: 100%|██████████| 3000/3000 [03:35<00:00, 13.89it/s]\n",
            "Evaluating: 100%|██████████| 750/750 [00:14<00:00, 51.19it/s]\n"
          ]
        },
        {
          "output_type": "stream",
          "name": "stdout",
          "text": [
            "Model improved and saved to ./FashionMNIST_resnet50.pth\n",
            "Epoch 1/20, Train Loss: 0.7337, Train Acc: 73.76%, Val Loss: 0.4223, Val Acc: 84.26%, Time: 230.80s\n"
          ]
        },
        {
          "output_type": "stream",
          "name": "stderr",
          "text": [
            "Training: 100%|██████████| 3000/3000 [03:35<00:00, 13.93it/s]\n",
            "Evaluating: 100%|██████████| 750/750 [00:14<00:00, 50.17it/s]\n"
          ]
        },
        {
          "output_type": "stream",
          "name": "stdout",
          "text": [
            "Model improved and saved to ./FashionMNIST_resnet50.pth\n",
            "Epoch 2/20, Train Loss: 0.4228, Train Acc: 84.64%, Val Loss: 0.3209, Val Acc: 88.46%, Time: 230.59s\n"
          ]
        },
        {
          "output_type": "stream",
          "name": "stderr",
          "text": [
            "Training: 100%|██████████| 3000/3000 [03:35<00:00, 13.94it/s]\n",
            "Evaluating: 100%|██████████| 750/750 [00:14<00:00, 50.33it/s]\n"
          ]
        },
        {
          "output_type": "stream",
          "name": "stdout",
          "text": [
            "Model improved and saved to ./FashionMNIST_resnet50.pth\n",
            "Epoch 3/20, Train Loss: 0.3517, Train Acc: 87.43%, Val Loss: 0.3115, Val Acc: 88.62%, Time: 230.32s\n"
          ]
        },
        {
          "output_type": "stream",
          "name": "stderr",
          "text": [
            "Training: 100%|██████████| 3000/3000 [03:34<00:00, 13.97it/s]\n",
            "Evaluating: 100%|██████████| 750/750 [00:14<00:00, 51.19it/s]\n"
          ]
        },
        {
          "output_type": "stream",
          "name": "stdout",
          "text": [
            "Model improved and saved to ./FashionMNIST_resnet50.pth\n",
            "Epoch 4/20, Train Loss: 0.3094, Train Acc: 88.83%, Val Loss: 0.2626, Val Acc: 90.42%, Time: 229.59s\n"
          ]
        },
        {
          "output_type": "stream",
          "name": "stderr",
          "text": [
            "Training: 100%|██████████| 3000/3000 [03:34<00:00, 13.97it/s]\n",
            "Evaluating: 100%|██████████| 750/750 [00:14<00:00, 51.42it/s]\n"
          ]
        },
        {
          "output_type": "stream",
          "name": "stdout",
          "text": [
            "Epoch 5/20, Train Loss: 0.2795, Train Acc: 89.87%, Val Loss: 0.2718, Val Acc: 90.13%, Time: 229.33s\n"
          ]
        },
        {
          "output_type": "stream",
          "name": "stderr",
          "text": [
            "Training: 100%|██████████| 3000/3000 [03:34<00:00, 13.99it/s]\n",
            "Evaluating: 100%|██████████| 750/750 [00:14<00:00, 51.51it/s]\n"
          ]
        },
        {
          "output_type": "stream",
          "name": "stdout",
          "text": [
            "Epoch 6/20, Train Loss: 0.2589, Train Acc: 90.61%, Val Loss: 0.2872, Val Acc: 89.65%, Time: 228.97s\n"
          ]
        },
        {
          "output_type": "stream",
          "name": "stderr",
          "text": [
            "Training: 100%|██████████| 3000/3000 [03:34<00:00, 13.98it/s]\n",
            "Evaluating: 100%|██████████| 750/750 [00:14<00:00, 51.37it/s]\n"
          ]
        },
        {
          "output_type": "stream",
          "name": "stdout",
          "text": [
            "Model improved and saved to ./FashionMNIST_resnet50.pth\n",
            "Epoch 7/20, Train Loss: 0.2458, Train Acc: 91.04%, Val Loss: 0.2442, Val Acc: 91.34%, Time: 229.40s\n"
          ]
        },
        {
          "output_type": "stream",
          "name": "stderr",
          "text": [
            "Training: 100%|██████████| 3000/3000 [03:34<00:00, 13.96it/s]\n",
            "Evaluating: 100%|██████████| 750/750 [00:14<00:00, 51.71it/s]\n"
          ]
        },
        {
          "output_type": "stream",
          "name": "stdout",
          "text": [
            "Model improved and saved to ./FashionMNIST_resnet50.pth\n",
            "Epoch 8/20, Train Loss: 0.2326, Train Acc: 91.57%, Val Loss: 0.2339, Val Acc: 91.59%, Time: 229.78s\n"
          ]
        },
        {
          "output_type": "stream",
          "name": "stderr",
          "text": [
            "Training: 100%|██████████| 3000/3000 [03:35<00:00, 13.95it/s]\n",
            "Evaluating: 100%|██████████| 750/750 [00:15<00:00, 49.19it/s]\n"
          ]
        },
        {
          "output_type": "stream",
          "name": "stdout",
          "text": [
            "Model improved and saved to ./FashionMNIST_resnet50.pth\n",
            "Epoch 9/20, Train Loss: 0.2207, Train Acc: 92.06%, Val Loss: 0.2126, Val Acc: 92.43%, Time: 230.52s\n"
          ]
        },
        {
          "output_type": "stream",
          "name": "stderr",
          "text": [
            "Training: 100%|██████████| 3000/3000 [03:34<00:00, 13.96it/s]\n",
            "Evaluating: 100%|██████████| 750/750 [00:14<00:00, 51.73it/s]\n"
          ]
        },
        {
          "output_type": "stream",
          "name": "stdout",
          "text": [
            "Model improved and saved to ./FashionMNIST_resnet50.pth\n",
            "Epoch 10/20, Train Loss: 0.2129, Train Acc: 92.17%, Val Loss: 0.2075, Val Acc: 92.66%, Time: 229.61s\n"
          ]
        },
        {
          "output_type": "stream",
          "name": "stderr",
          "text": [
            "Training: 100%|██████████| 3000/3000 [03:34<00:00, 13.98it/s]\n",
            "Evaluating: 100%|██████████| 750/750 [00:14<00:00, 51.81it/s]\n"
          ]
        },
        {
          "output_type": "stream",
          "name": "stdout",
          "text": [
            "Model improved and saved to ./FashionMNIST_resnet50.pth\n",
            "Epoch 11/20, Train Loss: 0.2071, Train Acc: 92.41%, Val Loss: 0.2051, Val Acc: 92.94%, Time: 229.26s\n"
          ]
        },
        {
          "output_type": "stream",
          "name": "stderr",
          "text": [
            "Training: 100%|██████████| 3000/3000 [03:34<00:00, 13.96it/s]\n",
            "Evaluating: 100%|██████████| 750/750 [00:14<00:00, 51.81it/s]\n"
          ]
        },
        {
          "output_type": "stream",
          "name": "stdout",
          "text": [
            "Model improved and saved to ./FashionMNIST_resnet50.pth\n",
            "Epoch 12/20, Train Loss: 0.1963, Train Acc: 92.75%, Val Loss: 0.1899, Val Acc: 93.27%, Time: 229.59s\n"
          ]
        },
        {
          "output_type": "stream",
          "name": "stderr",
          "text": [
            "Training: 100%|██████████| 3000/3000 [03:34<00:00, 13.97it/s]\n",
            "Evaluating: 100%|██████████| 750/750 [00:14<00:00, 51.62it/s]\n"
          ]
        },
        {
          "output_type": "stream",
          "name": "stdout",
          "text": [
            "Epoch 13/20, Train Loss: 0.1912, Train Acc: 93.05%, Val Loss: 0.2004, Val Acc: 93.18%, Time: 229.32s\n"
          ]
        },
        {
          "output_type": "stream",
          "name": "stderr",
          "text": [
            "Training: 100%|██████████| 3000/3000 [03:35<00:00, 13.95it/s]\n",
            "Evaluating: 100%|██████████| 750/750 [00:14<00:00, 51.26it/s]\n"
          ]
        },
        {
          "output_type": "stream",
          "name": "stdout",
          "text": [
            "Epoch 14/20, Train Loss: 0.1827, Train Acc: 93.31%, Val Loss: 0.1904, Val Acc: 93.22%, Time: 229.70s\n"
          ]
        },
        {
          "output_type": "stream",
          "name": "stderr",
          "text": [
            "Training: 100%|██████████| 3000/3000 [03:35<00:00, 13.92it/s]\n",
            "Evaluating: 100%|██████████| 750/750 [00:15<00:00, 49.12it/s]\n"
          ]
        },
        {
          "output_type": "stream",
          "name": "stdout",
          "text": [
            "Epoch 15/20, Train Loss: 0.1770, Train Acc: 93.55%, Val Loss: 0.1940, Val Acc: 92.93%, Time: 230.76s\n"
          ]
        },
        {
          "output_type": "stream",
          "name": "stderr",
          "text": [
            "Training: 100%|██████████| 3000/3000 [03:35<00:00, 13.94it/s]\n",
            "Evaluating: 100%|██████████| 750/750 [00:14<00:00, 51.27it/s]\n"
          ]
        },
        {
          "output_type": "stream",
          "name": "stdout",
          "text": [
            "Epoch 16/20, Train Loss: 0.1722, Train Acc: 93.67%, Val Loss: 0.1929, Val Acc: 93.10%, Time: 229.89s\n"
          ]
        },
        {
          "output_type": "stream",
          "name": "stderr",
          "text": [
            "Training: 100%|██████████| 3000/3000 [03:35<00:00, 13.91it/s]\n",
            "Evaluating: 100%|██████████| 750/750 [00:14<00:00, 50.63it/s]\n"
          ]
        },
        {
          "output_type": "stream",
          "name": "stdout",
          "text": [
            "Model improved and saved to ./FashionMNIST_resnet50.pth\n",
            "Epoch 17/20, Train Loss: 0.1649, Train Acc: 93.99%, Val Loss: 0.1834, Val Acc: 93.72%, Time: 230.68s\n"
          ]
        },
        {
          "output_type": "stream",
          "name": "stderr",
          "text": [
            "Training: 100%|██████████| 3000/3000 [03:34<00:00, 13.96it/s]\n",
            "Evaluating: 100%|██████████| 750/750 [00:14<00:00, 51.15it/s]\n"
          ]
        },
        {
          "output_type": "stream",
          "name": "stdout",
          "text": [
            "Epoch 18/20, Train Loss: 0.1616, Train Acc: 94.06%, Val Loss: 0.1913, Val Acc: 93.09%, Time: 229.55s\n"
          ]
        },
        {
          "output_type": "stream",
          "name": "stderr",
          "text": [
            "Training: 100%|██████████| 3000/3000 [03:35<00:00, 13.94it/s]\n",
            "Evaluating: 100%|██████████| 750/750 [00:14<00:00, 51.23it/s]\n"
          ]
        },
        {
          "output_type": "stream",
          "name": "stdout",
          "text": [
            "Epoch 19/20, Train Loss: 0.1579, Train Acc: 94.28%, Val Loss: 0.1967, Val Acc: 93.38%, Time: 229.91s\n"
          ]
        },
        {
          "output_type": "stream",
          "name": "stderr",
          "text": [
            "Training: 100%|██████████| 3000/3000 [03:34<00:00, 13.97it/s]\n",
            "Evaluating: 100%|██████████| 750/750 [00:15<00:00, 49.71it/s]\n"
          ]
        },
        {
          "output_type": "stream",
          "name": "stdout",
          "text": [
            "Epoch 20/20, Train Loss: 0.1521, Train Acc: 94.49%, Val Loss: 0.1838, Val Acc: 93.62%, Time: 229.80s\n",
            "Training complete. Evaluating on test set with the best model...\n"
          ]
        },
        {
          "output_type": "stream",
          "name": "stderr",
          "text": [
            "Evaluating: 100%|██████████| 625/625 [00:11<00:00, 52.95it/s]\n"
          ]
        },
        {
          "output_type": "stream",
          "name": "stdout",
          "text": [
            "Test Loss: 0.1850, Test Acc: 93.60%\n"
          ]
        },
        {
          "output_type": "display_data",
          "data": {
            "text/plain": [
              "<Figure size 640x480 with 1 Axes>"
            ],
            "image/png": "[encoded data removed]"
          },
          "metadata": {}
        },
        {
          "output_type": "display_data",
          "data": {
            "text/plain": [
              "<Figure size 640x480 with 1 Axes>"
            ],
            "image/png": "[encoded data removed]"
          },
          "metadata": {}
        }
      ]
    },
    {
      "cell_type": "markdown",
      "metadata": {
        "id": "kvOAFyC2rJg8"
      },
      "source": [
        "## Load the Model"
      ]
    }
  ],
  "metadata": {
    "accelerator": "GPU",
    "colab": {
      "gpuType": "T4",
      "provenance": [],
      "include_colab_link": true
    },
    "kernelspec": {
      "display_name": "Python 3",
      "name": "python3"
    },
    "language_info": {
      "codemirror_mode": {
        "name": "ipython",
        "version": 3
      },
      "file_extension": ".py",
      "mimetype": "text/x-python",
      "name": "python",
      "nbconvert_exporter": "python",
      "pygments_lexer": "ipython3",
      "version": "3.7.16"
    }
  },
  "nbformat": 4,
  "nbformat_minor": 0
}