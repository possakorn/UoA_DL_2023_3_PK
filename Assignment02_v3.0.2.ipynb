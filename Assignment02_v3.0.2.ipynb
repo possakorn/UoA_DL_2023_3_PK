{
  "cells": [
    {
      "cell_type": "markdown",
      "metadata": {
        "id": "view-in-github",
        "colab_type": "text"
      },
      "source": [
        "<a href=\"https://colab.research.google.com/github/possakorn/UoA_DL_2023_3_PK/blob/main/Assignment02_v3.0.2.ipynb\" target=\"_parent\"><img src=\"https://colab.research.google.com/assets/colab-badge.svg\" alt=\"Open In Colab\"/></a>"
      ]
    },
    {
      "cell_type": "markdown",
      "metadata": {
        "id": "2EP7shVVj0tL"
      },
      "source": [
        "# Assessment 2: CNNs for image classification"
      ]
    },
    {
      "cell_type": "markdown",
      "metadata": {
        "id": "XdoZXO-z_riF"
      },
      "source": [
        "## Setup: import lib"
      ]
    },
    {
      "cell_type": "code",
      "execution_count": 4,
      "metadata": {
        "id": "vqbmgXmni9po"
      },
      "outputs": [],
      "source": [
        "## section: Data manioulation\n",
        "import pandas as pd\n",
        "import numpy as np\n",
        "import random\n",
        "## visualization\n",
        "import plotly\n",
        "import matplotlib.pyplot as plt\n",
        "import seaborn as sns\n",
        "\n",
        "## section: neural network\n",
        "import torch\n",
        "## pytorch: dataset\n",
        "import torchvision\n",
        "from torchvision import models\n",
        "## pytorch: network and function\n",
        "import torch.nn as nn\n",
        "import torch.nn.functional as F\n",
        "import torch.optim as optim\n",
        "from torch.optim.lr_scheduler import ExponentialLR, OneCycleLR\n",
        "\n",
        "from torchsummary import summary\n",
        "\n",
        "from torchvision import datasets, transforms\n",
        "from torch.utils.data import DataLoader, Dataset, random_split\n",
        "\n",
        "from sklearn.model_selection import train_test_split\n",
        "from sklearn.preprocessing import StandardScaler"
      ]
    },
    {
      "cell_type": "code",
      "execution_count": 5,
      "metadata": {
        "colab": {
          "base_uri": "https://localhost:8080/"
        },
        "id": "bWdVE73zj_Lc",
        "outputId": "56a7768d-31bf-4572-ee58-b5192b27af22"
      },
      "outputs": [
        {
          "output_type": "stream",
          "name": "stdout",
          "text": [
            "Using device: cuda Using number of workers:  4\n",
            "\n",
            "Tesla V100-SXM2-16GB\n",
            "Memory Usage:\n",
            "Allocated: 0.0 GB\n",
            "Cached:    0.0 GB\n"
          ]
        },
        {
          "output_type": "stream",
          "name": "stderr",
          "text": [
            "/usr/local/lib/python3.10/dist-packages/torch/cuda/memory.py:444: FutureWarning: torch.cuda.memory_cached has been renamed to torch.cuda.memory_reserved\n",
            "  warnings.warn(\n"
          ]
        }
      ],
      "source": [
        "# setting device on GPU if available, else CPU\n",
        "torch.cuda.empty_cache()\n",
        "device = torch.device('cuda' if torch.cuda.is_available() else 'cpu')\n",
        "if device == torch.device('cuda'):\n",
        "  worker = 4\n",
        "else:\n",
        "  worker = 0\n",
        "print('Using device:', device, 'Using number of workers: ', worker)\n",
        "print()\n",
        "\n",
        "\n",
        "#Additional Info when using cuda\n",
        "if device.type == 'cuda':\n",
        "    print(torch.cuda.get_device_name(0))\n",
        "    print('Memory Usage:')\n",
        "    print('Allocated:', round(torch.cuda.memory_allocated(0)/1024**3,1), 'GB')\n",
        "    print('Cached:   ', round(torch.cuda.memory_cached(0)/1024**3,1), 'GB')\n",
        "\n",
        "# Set the seed for reproducibility\n",
        "def set_seed(seed):\n",
        "    np.random.seed(seed)\n",
        "    torch.manual_seed(seed)\n",
        "    if torch.cuda.is_available():\n",
        "        torch.cuda.manual_seed(seed)\n",
        "        torch.cuda.manual_seed_all(seed)  # if you are using multi-GPU.\n",
        "        torch.backends.cudnn.deterministic = True\n",
        "        torch.backends.cudnn.benchmark = False"
      ]
    },
    {
      "cell_type": "markdown",
      "metadata": {
        "id": "lL7naWpLkRJr"
      },
      "source": [
        "## Step01: Data exploration"
      ]
    },
    {
      "cell_type": "code",
      "execution_count": 6,
      "metadata": {
        "id": "oj7kB9S6kUEo",
        "colab": {
          "base_uri": "https://localhost:8080/"
        },
        "outputId": "3b780819-5d80-48c2-e2e3-aa31d49b09fd"
      },
      "outputs": [
        {
          "output_type": "stream",
          "name": "stdout",
          "text": [
            "Downloading https://www.cs.toronto.edu/~kriz/cifar-10-python.tar.gz to data/cifar-10-python.tar.gz\n"
          ]
        },
        {
          "output_type": "stream",
          "name": "stderr",
          "text": [
            "100%|██████████| 170498071/170498071 [00:06<00:00, 27447326.48it/s]\n"
          ]
        },
        {
          "output_type": "stream",
          "name": "stdout",
          "text": [
            "Extracting data/cifar-10-python.tar.gz to data\n",
            "Files already downloaded and verified\n"
          ]
        }
      ],
      "source": [
        "## Download from cifar10\n",
        "dataset = 'cifar10' # change this one\n",
        "set_seed(1311)\n",
        "training_data = datasets.CIFAR10(\n",
        "    root=\"data\",\n",
        "    train=True,\n",
        "    download = True,\n",
        "    transform= transforms.Compose([\n",
        "        transforms.RandomCrop(32, padding=4),\n",
        "        transforms.RandomHorizontalFlip(),\n",
        "        transforms.ToTensor(),\n",
        "        transforms.Normalize((0.5, 0.5, 0.5), (0.5, 0.5, 0.5))\n",
        "    ])\n",
        ")\n",
        "\n",
        "testing_data = datasets.CIFAR10(\n",
        "    root=\"data\",\n",
        "    train=False,\n",
        "    download = True,\n",
        "    transform= transforms.Compose([\n",
        "        transforms.ToTensor(),\n",
        "        transforms.Normalize((0.5, 0.5, 0.5), (0.5, 0.5, 0.5))\n",
        "    ])\n",
        ")"
      ]
    },
    {
      "cell_type": "markdown",
      "metadata": {
        "id": "h1L2jeNDMKmh"
      },
      "source": [
        "### Exploratory Image analysis"
      ]
    },
    {
      "cell_type": "code",
      "execution_count": 7,
      "metadata": {
        "colab": {
          "base_uri": "https://localhost:8080/",
          "height": 519
        },
        "id": "i6UCnEb7MQz7",
        "outputId": "b40f99ec-f5e1-407a-9109-fd4d84df7ddb"
      },
      "outputs": [
        {
          "output_type": "stream",
          "name": "stderr",
          "text": [
            "WARNING:matplotlib.image:Clipping input data to the valid range for imshow with RGB data ([0..1] for floats or [0..255] for integers).\n"
          ]
        },
        {
          "output_type": "stream",
          "name": "stdout",
          "text": [
            "Check Shape of images:  torch.Size([3, 32, 32]) 4\n",
            "Preview Images with Label : truck\n",
            "Show of images unique 10 labels:  ['airplane', 'automobile', 'bird', 'cat', 'deer', 'dog', 'frog', 'horse', 'ship', 'truck']\n"
          ]
        },
        {
          "output_type": "display_data",
          "data": {
            "text/plain": [
              "<Figure size 640x480 with 1 Axes>"
            ],
            "image/png": "[encoded data removed]"
          },
          "metadata": {}
        }
      ],
      "source": [
        "## check shape and labels\n",
        "img, label = training_data[3]\n",
        "print(\"Check Shape of images: \",img.shape,label)\n",
        "\n",
        "def display_img(img,label):\n",
        "  print(f\"Preview Images with Label : {training_data.classes[label]}\")\n",
        "  plt.imshow(img.permute(1,2,0)) # for visualization following the plt need to change the shapes\n",
        "\n",
        "#display the first image in the dataset\n",
        "display_img(*training_data[2])\n",
        "\n",
        "#Show all labels\n",
        "classes = training_data.classes\n",
        "num_class = len(classes)\n",
        "print(f\"Show of images unique {num_class} labels: \",classes)\n"
      ]
    },
    {
      "cell_type": "markdown",
      "metadata": {
        "id": "lLhgGFMQ_riJ"
      },
      "source": [
        "### Tranforms to Dataloader"
      ]
    },
    {
      "cell_type": "code",
      "execution_count": 8,
      "metadata": {
        "id": "qgVgyazEqzku",
        "outputId": "b9c7e314-103e-4c9b-9183-4de2c2069372",
        "colab": {
          "base_uri": "https://localhost:8080/"
        }
      },
      "outputs": [
        {
          "output_type": "stream",
          "name": "stdout",
          "text": [
            "Training set: 40000 items, 2500 batches\n",
            "Validation set: 10000 items, 625 batches\n",
            "Test set: 10000 items, 625 batches\n"
          ]
        }
      ],
      "source": [
        "batch_size = 16\n",
        "\n",
        "## setting the split configuration\n",
        "set_seed(1311)\n",
        "train_size = int(0.8 * len(training_data))\n",
        "val_size = len(training_data) - train_size\n",
        "training_data, val_data = random_split(training_data, [train_size, val_size])\n",
        "\n",
        "## apply the dataloader\n",
        "set_seed(1311)\n",
        "\n",
        "trainloader = torch.utils.data.DataLoader(\n",
        "    training_data,\n",
        "    batch_size=batch_size,\n",
        "    shuffle=True,\n",
        "    num_workers=worker,\n",
        "    pin_memory = True\n",
        "    )\n",
        "valloader = torch.utils.data.DataLoader(\n",
        "    val_data,\n",
        "    batch_size=batch_size,\n",
        "    shuffle=False,\n",
        "    num_workers=worker,\n",
        "    pin_memory = True\n",
        "    )\n",
        "testloader = torch.utils.data.DataLoader(\n",
        "    testing_data,\n",
        "    batch_size=batch_size,\n",
        "    shuffle=False,\n",
        "    num_workers=worker,\n",
        "    pin_memory = True\n",
        "    )\n",
        "\n",
        "# check the splitting\n",
        "num_items_train = len(trainloader.dataset)\n",
        "num_items_val = len(valloader.dataset)\n",
        "num_items_test = len(testloader.dataset)\n",
        "\n",
        "num_batches_train = len(trainloader)\n",
        "num_batches_val = len(valloader)\n",
        "num_batches_test = len(testloader)\n",
        "\n",
        "print(\"Training set: {} items, {} batches\".format(num_items_train, num_batches_train))\n",
        "print(\"Validation set: {} items, {} batches\".format(num_items_val, num_batches_val))\n",
        "print(\"Test set: {} items, {} batches\".format(num_items_test, num_batches_test))"
      ]
    },
    {
      "cell_type": "markdown",
      "metadata": {
        "id": "hauxFqYP_riJ"
      },
      "source": [
        "### Review the Batch fig and size"
      ]
    },
    {
      "cell_type": "code",
      "execution_count": 9,
      "metadata": {
        "colab": {
          "base_uri": "https://localhost:8080/",
          "height": 145
        },
        "id": "fpEkgg_gZ03C",
        "outputId": "f81ed66b-4850-4c46-ac95-15d76018749d"
      },
      "outputs": [
        {
          "output_type": "stream",
          "name": "stderr",
          "text": [
            "WARNING:matplotlib.image:Clipping input data to the valid range for imshow with RGB data ([0..1] for floats or [0..255] for integers).\n"
          ]
        },
        {
          "output_type": "stream",
          "name": "stdout",
          "text": [
            "torch.Size([16, 3, 32, 32])\n"
          ]
        },
        {
          "output_type": "display_data",
          "data": {
            "text/plain": [
              "<Figure size 1600x1200 with 1 Axes>"
            ],
            "image/png": "[encoded data removed]"
          },
          "metadata": {}
        }
      ],
      "source": [
        "from torchvision.utils import make_grid\n",
        "import matplotlib.pyplot as plt\n",
        "\n",
        "def show_batch(dl):\n",
        "    \"\"\"Plot images grid of single batch\"\"\"\n",
        "    for images, labels in dl:\n",
        "        fig,ax = plt.subplots(figsize = (16,12))\n",
        "        ax.set_xticks([])\n",
        "        ax.set_yticks([])\n",
        "        ax.imshow(make_grid(images,nrow=16).permute(1,2,0))\n",
        "        break\n",
        "\n",
        "## show the batch fig\n",
        "show_batch(trainloader)\n",
        "\n",
        "## print the size\n",
        "for batch in trainloader:\n",
        "    print(batch[0].shape)  # Assuming batch[0] contains the data and batch[1] contains the labels\n",
        "    break"
      ]
    },
    {
      "cell_type": "markdown",
      "metadata": {
        "id": "QMBsC9B7tfL-"
      },
      "source": [
        "## Base Model Functions For Image Classification"
      ]
    },
    {
      "cell_type": "code",
      "source": [
        "import time\n",
        "from tqdm import tqdm\n",
        "\n",
        "def train_epoch(model, trainloader, criterion, optimizer, device):\n",
        "    model.train()\n",
        "    running_loss = 0.0\n",
        "    correct_train = 0\n",
        "    total_train = 0\n",
        "\n",
        "    for inputs, labels in tqdm(trainloader, desc='Training'):\n",
        "        inputs, labels = inputs.to(device), labels.to(device)\n",
        "\n",
        "        optimizer.zero_grad()\n",
        "        outputs = model(inputs)\n",
        "        loss = criterion(outputs, labels)\n",
        "        loss.backward()\n",
        "        optimizer.step()\n",
        "\n",
        "        running_loss += loss.item() * inputs.size(0)\n",
        "        _, preds = torch.max(outputs, 1)\n",
        "        correct_train += torch.sum(preds == labels.data)\n",
        "        total_train += labels.size(0)\n",
        "\n",
        "    epoch_loss = running_loss / total_train\n",
        "    epoch_acc = correct_train.double() / total_train\n",
        "    return epoch_loss, epoch_acc\n",
        "\n",
        "def evaluate(model, dataloader, criterion, device):\n",
        "    model.eval()\n",
        "    running_loss = 0.0\n",
        "    correct = 0\n",
        "    total = 0\n",
        "\n",
        "    with torch.no_grad():\n",
        "        for inputs, labels in tqdm(dataloader, desc='Evaluating'):\n",
        "            inputs, labels = inputs.to(device), labels.to(device)\n",
        "            outputs = model(inputs)\n",
        "            loss = criterion(outputs, labels)\n",
        "            running_loss += loss.item() * inputs.size(0)\n",
        "            _, preds = torch.max(outputs, 1)\n",
        "            correct += torch.sum(preds == labels.data)\n",
        "            total += labels.size(0)\n",
        "\n",
        "    loss = running_loss / total\n",
        "    accuracy = correct.double() / total\n",
        "    return loss, accuracy\n",
        "\n",
        "\n",
        "def train_network(model, optimizer, criterion, scheduler, trainloader, valloader, testloader, num_epochs, device, num_class, model_name, dataset):\n",
        "    set_seed(1311)\n",
        "    ## Set up the path for saving the model\n",
        "    PATH = f'./{dataset}_{model_name}.pth'\n",
        "    print('Model will be saved to:', PATH)\n",
        "    print('Using device:', device, 'with seed: 1311')\n",
        "    print()\n",
        "\n",
        "    ## Initialize variables\n",
        "    best_val_acc = 0  # to track the best validation accuracy\n",
        "    # create set to collect the output\n",
        "    history = {\n",
        "        'train_loss': [],\n",
        "        'train_accuracy': [],\n",
        "        'val_loss': [],\n",
        "        'val_accuracy': [],\n",
        "    }\n",
        "\n",
        "    class_correct = list(0. for i in range(num_class))\n",
        "    class_total = list(0. for i in range(num_class))\n",
        "\n",
        "    for epoch in range(num_epochs):\n",
        "        epoch_start_time = time.time()\n",
        "\n",
        "        train_loss, train_acc = train_epoch(model, trainloader, criterion, optimizer, device)\n",
        "        val_loss, val_acc = evaluate(model, valloader, criterion, device)\n",
        "\n",
        "\n",
        "        # Step the scheduler with the validation loss\n",
        "        scheduler.step()\n",
        "        # scheduler.step(val_acc) # for ReduceLROnPlateau\n",
        "\n",
        "        history['train_loss'].append(train_loss)\n",
        "        history['train_accuracy'].append(100 * train_acc)\n",
        "        history['val_loss'].append(val_loss)\n",
        "        history['val_accuracy'].append(100 * val_acc)\n",
        "\n",
        "        # Save the model if it has improved on validation accuracy\n",
        "        if val_acc > best_val_acc:\n",
        "            best_val_acc = val_acc\n",
        "            torch.save(model.state_dict(), PATH)\n",
        "            print(f'Model improved and saved to {PATH}')\n",
        "\n",
        "        # print epoch results\n",
        "        epoch_end_time = time.time()\n",
        "        print(f'Epoch {epoch+1}/{num_epochs}, '\n",
        "              f'Train Loss: {train_loss:.4f}, Train Acc: {100 * train_acc:.2f}%, '\n",
        "              f'Val Loss: {val_loss:.4f}, Val Acc: {100 * val_acc:.2f}%, '\n",
        "              f'Time: {epoch_end_time - epoch_start_time:.2f}s')\n",
        "\n",
        "    print('Training complete. Evaluating on test set with the best model...')\n",
        "\n",
        "    # Load the best model for final evaluation on test set\n",
        "    best_model = model\n",
        "    best_model.load_state_dict(torch.load(PATH))\n",
        "    test_loss, test_acc = evaluate(best_model, testloader, criterion, device)\n",
        "    print(f'Test Loss: {test_loss:.4f}, Test Acc: {100 * test_acc:.2f}%')\n",
        "\n",
        "    # Add test results to history\n",
        "    history['test_loss'] = test_loss\n",
        "    history['test_accuracy'] = 100 * test_acc\n",
        "\n",
        "    return history"
      ],
      "metadata": {
        "id": "POnZ3eTL34w7"
      },
      "execution_count": 29,
      "outputs": []
    },
    {
      "cell_type": "markdown",
      "metadata": {
        "id": "4QCY3e2prCKc"
      },
      "source": [
        "## Initialize network"
      ]
    },
    {
      "cell_type": "markdown",
      "metadata": {
        "id": "xgZCOURA_riL"
      },
      "source": [
        "### network: SimpleCNN"
      ]
    },
    {
      "cell_type": "code",
      "execution_count": 13,
      "metadata": {
        "id": "0m8ltkhf_riL"
      },
      "outputs": [],
      "source": [
        "import torch.nn as nn\n",
        "import torch.nn.functional as F\n",
        "\n",
        "class SimpleCNN(nn.Module):\n",
        "    def __init__(self, num_classes=num_class):\n",
        "        super(SimpleCNN, self).__init__()\n",
        "        self.conv1 = nn.Conv2d(3, 32, kernel_size=3, padding=1)\n",
        "        self.conv2 = nn.Conv2d(32, 64, kernel_size=3, padding=1)\n",
        "        self.conv3 = nn.Conv2d(64, 128, kernel_size=3, padding=1)\n",
        "        self.pool = nn.MaxPool2d(2, 2)\n",
        "        self.fc1 = nn.Linear(128 * 4 * 4, 512)\n",
        "        self.fc2 = nn.Linear(512, num_classes)\n",
        "\n",
        "    def forward(self, x):\n",
        "        x = self.pool(F.relu(self.conv1(x)))\n",
        "        x = self.pool(F.relu(self.conv2(x)))\n",
        "        x = self.pool(F.relu(self.conv3(x)))\n",
        "        x = x.view(-1, 128 * 4 * 4)\n",
        "        x = F.relu(self.fc1(x))\n",
        "        x = self.fc2(x)\n",
        "        return x"
      ]
    },
    {
      "cell_type": "markdown",
      "metadata": {
        "id": "dy7L_Orn_riM"
      },
      "source": [
        "### network: Alexnet"
      ]
    },
    {
      "cell_type": "code",
      "execution_count": 30,
      "metadata": {
        "id": "4vQ3SsFC_riM"
      },
      "outputs": [],
      "source": [
        "class AlexNet(nn.Module):\n",
        "    def __init__(self, num_classes=num_class):\n",
        "        super(AlexNet, self).__init__()\n",
        "        self.features = nn.Sequential(\n",
        "            nn.Conv2d(3, 64, kernel_size=3, stride=1, padding=1),\n",
        "            nn.ReLU(inplace=True),\n",
        "            nn.MaxPool2d(kernel_size=2, stride=2),\n",
        "            nn.Conv2d(64, 192, kernel_size=3, padding=1),\n",
        "            nn.ReLU(inplace=True),\n",
        "            nn.MaxPool2d(kernel_size=2, stride=2),\n",
        "            nn.Conv2d(192, 384, kernel_size=3, padding=1),\n",
        "            nn.ReLU(inplace=True),\n",
        "            nn.Conv2d(384, 256, kernel_size=3, padding=1),\n",
        "            nn.ReLU(inplace=True),\n",
        "            nn.Conv2d(256, 256, kernel_size=3, padding=1),\n",
        "            nn.ReLU(inplace=True),\n",
        "            nn.MaxPool2d(kernel_size=2, stride=2),\n",
        "        )\n",
        "        self.avgpool = nn.AdaptiveAvgPool2d((6, 6))\n",
        "        self.classifier = nn.Sequential(\n",
        "            nn.Dropout(),\n",
        "            nn.Linear(256 * 6 * 6, 4096),\n",
        "            nn.ReLU(inplace=True),\n",
        "            nn.Dropout(),\n",
        "            nn.Linear(4096, 4096),\n",
        "            nn.ReLU(inplace=True),\n",
        "            nn.Linear(4096, num_classes),\n",
        "        )\n",
        "\n",
        "    def forward(self, x):\n",
        "        x = self.features(x)\n",
        "        x = self.avgpool(x)\n",
        "        x = torch.flatten(x, 1)\n",
        "        x = self.classifier(x)\n",
        "        return x\n",
        "\n"
      ]
    },
    {
      "cell_type": "markdown",
      "metadata": {
        "id": "AfDY_J3v_riM"
      },
      "source": [
        "### network: ResNet18"
      ]
    },
    {
      "cell_type": "code",
      "execution_count": 15,
      "metadata": {
        "id": "Ms9Y_tB3_riM"
      },
      "outputs": [],
      "source": [
        "class BasicBlock(nn.Module):\n",
        "    expansion = 1\n",
        "\n",
        "    def __init__(self, in_planes, planes, stride=1):\n",
        "        super(BasicBlock, self).__init__()\n",
        "        self.conv1 = nn.Conv2d(in_planes, planes,\n",
        "                               kernel_size=3, stride=stride, padding=1,\n",
        "                               bias=False)\n",
        "        self.bn1 = nn.BatchNorm2d(planes)\n",
        "        self.conv2 = nn.Conv2d(planes, planes,\n",
        "                               kernel_size=3,stride=1, padding=1,\n",
        "                               bias=False)\n",
        "        self.bn2 = nn.BatchNorm2d(planes)\n",
        "\n",
        "        self.shortcut = nn.Sequential()\n",
        "        if stride != 1 or in_planes != self.expansion*planes:\n",
        "            self.shortcut = nn.Sequential(\n",
        "                nn.Conv2d(in_planes, self.expansion*planes,\n",
        "                          kernel_size=1, stride=stride,\n",
        "                          bias=False),\n",
        "                nn.BatchNorm2d(self.expansion*planes)\n",
        "            )\n",
        "\n",
        "    def forward(self, x):\n",
        "        out = F.relu(self.bn1(self.conv1(x)))\n",
        "        out = self.bn2(self.conv2(out))\n",
        "        out += self.shortcut(x)\n",
        "        out = F.relu(out)\n",
        "        return out\n",
        "\n",
        "class Bottleneck(nn.Module):\n",
        "    expansion = 4\n",
        "\n",
        "    def __init__(self, in_planes, planes, stride=1):\n",
        "        super(Bottleneck, self).__init__()\n",
        "        self.conv1 = nn.Conv2d(in_planes, planes, kernel_size=1, bias=False)\n",
        "        self.bn1 = nn.BatchNorm2d(planes)\n",
        "        self.conv2 = nn.Conv2d(planes, planes, kernel_size=3,\n",
        "                               stride=stride, padding=1, bias=False)\n",
        "        self.bn2 = nn.BatchNorm2d(planes)\n",
        "        self.conv3 = nn.Conv2d(planes, self.expansion *\n",
        "                               planes, kernel_size=1, bias=False)\n",
        "        self.bn3 = nn.BatchNorm2d(self.expansion*planes)\n",
        "\n",
        "        self.shortcut = nn.Sequential()\n",
        "        if stride != 1 or in_planes != self.expansion*planes:\n",
        "            self.shortcut = nn.Sequential(\n",
        "                nn.Conv2d(in_planes, self.expansion*planes,\n",
        "                          kernel_size=1, stride=stride, bias=False),\n",
        "                nn.BatchNorm2d(self.expansion*planes)\n",
        "            )\n",
        "\n",
        "    def forward(self, x):\n",
        "        out = F.relu(self.bn1(self.conv1(x)))\n",
        "        out = F.relu(self.bn2(self.conv2(out)))\n",
        "        out = self.bn3(self.conv3(out))\n",
        "        out += self.shortcut(x)\n",
        "        out = F.relu(out)\n",
        "        return out\n",
        "\n",
        "class ResNet(nn.Module):\n",
        "    def __init__(self, block, num_blocks, num_classes=num_class):\n",
        "        super(ResNet, self).__init__()\n",
        "        self.in_planes = 64\n",
        "\n",
        "        self.conv1 = nn.Conv2d(3, 64, kernel_size=3,\n",
        "                               stride=1, padding=1, bias=False)\n",
        "        self.bn1 = nn.BatchNorm2d(64)\n",
        "        self.layer1 = self._make_layer(block, 64, num_blocks[0], stride=1)\n",
        "        self.layer2 = self._make_layer(block, 128, num_blocks[1], stride=2)\n",
        "        self.layer3 = self._make_layer(block, 256, num_blocks[2], stride=2)\n",
        "        self.layer4 = self._make_layer(block, 512, num_blocks[3], stride=2)\n",
        "        self.linear = nn.Linear(512*block.expansion, num_classes)\n",
        "\n",
        "    def _make_layer(self, block, planes, num_blocks, stride):\n",
        "        strides = [stride] + [1]*(num_blocks-1)\n",
        "        layers = []\n",
        "        for stride in strides:\n",
        "            layers.append(block(self.in_planes, planes, stride))\n",
        "            self.in_planes = planes * block.expansion\n",
        "        return nn.Sequential(*layers)\n",
        "\n",
        "    def forward(self, x):\n",
        "        out = F.relu(self.bn1(self.conv1(x)))\n",
        "        out = self.layer1(out)\n",
        "        out = self.layer2(out)\n",
        "        out = self.layer3(out)\n",
        "        out = self.layer4(out)\n",
        "        out = F.avg_pool2d(out, 4)\n",
        "        out = out.view(out.size(0), -1)\n",
        "        out = self.linear(out)\n",
        "        return out\n",
        "\n",
        "def ResNet18():\n",
        "    return ResNet(BasicBlock, [2, 2, 2, 2])\n",
        "\n",
        "def ResNet34():\n",
        "    return ResNet(BasicBlock, [3, 4, 6, 3])\n",
        "\n",
        "def ResNet50():\n",
        "    return ResNet(Bottleneck, [3, 4, 6, 3])\n",
        "\n",
        "def test():\n",
        "    net = ResNet18()\n",
        "    y = net(torch.randn(1, 3, 32, 32))\n",
        "    print(y.size())"
      ]
    },
    {
      "cell_type": "markdown",
      "metadata": {
        "id": "NdBwZD2G_riN"
      },
      "source": [
        "## Train the network"
      ]
    },
    {
      "cell_type": "code",
      "execution_count": 16,
      "metadata": {
        "id": "Yi_8BJwm_riN"
      },
      "outputs": [],
      "source": [
        "def plot_loss(train_loss, val_loss):\n",
        "    if isinstance(train_loss[0], torch.Tensor):\n",
        "        train_loss = [x.cpu().numpy() for x in train_loss]\n",
        "    if isinstance(val_loss[0], torch.Tensor):\n",
        "        val_loss = [x.cpu().numpy() for x in val_loss]\n",
        "\n",
        "    plt.plot(train_loss, '-bx')\n",
        "    plt.plot(val_loss, '-rx')\n",
        "    plt.xlabel('epoch')\n",
        "    plt.ylabel('loss')\n",
        "    plt.legend(['Training', 'Validation'])\n",
        "    plt.title('Loss vs. No. of epochs')\n",
        "    plt.show()\n",
        "\n",
        "def plot_acc(train_acc, val_acc):\n",
        "    if isinstance(train_acc[0], torch.Tensor):\n",
        "        train_acc = [x.cpu().numpy() for x in train_acc]\n",
        "    if isinstance(val_acc[0], torch.Tensor):\n",
        "        val_acc = [x.cpu().numpy() for x in val_acc]\n",
        "\n",
        "    plt.plot(train_acc, '-bx')\n",
        "    plt.plot(val_acc, '-rx')\n",
        "    plt.xlabel('epoch')\n",
        "    plt.ylabel('accuracy')\n",
        "    plt.legend(['Training', 'Validation'])\n",
        "    plt.title('Accuracy vs. No. of epochs')\n",
        "    plt.show()"
      ]
    },
    {
      "cell_type": "code",
      "source": [
        "# set the whole network training\n",
        "num_epochs = 20\n",
        "criterion = nn.CrossEntropyLoss()"
      ],
      "metadata": {
        "id": "mYJujRlaNumT"
      },
      "execution_count": 19,
      "outputs": []
    },
    {
      "cell_type": "markdown",
      "metadata": {
        "id": "UYZ3A-92_riN"
      },
      "source": [
        "\n",
        "### Train the network - simpleCNN"
      ]
    },
    {
      "cell_type": "code",
      "execution_count": 34,
      "metadata": {
        "colab": {
          "base_uri": "https://localhost:8080/",
          "height": 1000
        },
        "id": "gzt-Tl9W_riO",
        "outputId": "f2ee3263-6978-4ea2-8082-c260ddcb1b19"
      },
      "outputs": [
        {
          "metadata": {
            "tags": null
          },
          "name": "stdout",
          "output_type": "stream",
          "text": [
            "Model will be saved to: ./cifar10_simplecnn.pth\n",
            "Using device: cuda with seed: 1311\n",
            "\n"
          ]
        },
        {
          "metadata": {
            "tags": null
          },
          "name": "stderr",
          "output_type": "stream",
          "text": [
            "Training: 100%|██████████| 2500/2500 [00:10<00:00, 247.01it/s]\n",
            "Evaluating: 100%|██████████| 625/625 [00:02<00:00, 308.42it/s]\n"
          ]
        },
        {
          "metadata": {
            "tags": null
          },
          "name": "stdout",
          "output_type": "stream",
          "text": [
            "Model improved and saved to ./cifar10_simplecnn.pth\n",
            "Epoch 1/50, Train Loss: 2.0905, Train Acc: 23.46%, Val Loss: 1.8634, Val Acc: 31.66%, Time: 12.17s\n"
          ]
        },
        {
          "metadata": {
            "tags": null
          },
          "name": "stderr",
          "output_type": "stream",
          "text": [
            "Training: 100%|██████████| 2500/2500 [00:10<00:00, 246.12it/s]\n",
            "Evaluating: 100%|██████████| 625/625 [00:02<00:00, 297.27it/s]\n"
          ]
        },
        {
          "metadata": {
            "tags": null
          },
          "name": "stdout",
          "output_type": "stream",
          "text": [
            "Model improved and saved to ./cifar10_simplecnn.pth\n",
            "Epoch 2/50, Train Loss: 1.6604, Train Acc: 39.31%, Val Loss: 1.5667, Val Acc: 41.84%, Time: 12.28s\n"
          ]
        },
        {
          "metadata": {
            "tags": null
          },
          "name": "stderr",
          "output_type": "stream",
          "text": [
            "Training: 100%|██████████| 2500/2500 [00:10<00:00, 247.54it/s]\n",
            "Evaluating: 100%|██████████| 625/625 [00:02<00:00, 306.93it/s]\n"
          ]
        },
        {
          "metadata": {
            "tags": null
          },
          "name": "stdout",
          "output_type": "stream",
          "text": [
            "Model improved and saved to ./cifar10_simplecnn.pth\n",
            "Epoch 3/50, Train Loss: 1.4711, Train Acc: 46.30%, Val Loss: 1.4058, Val Acc: 48.66%, Time: 12.16s\n"
          ]
        },
        {
          "metadata": {
            "tags": null
          },
          "name": "stderr",
          "output_type": "stream",
          "text": [
            "Training: 100%|██████████| 2500/2500 [00:10<00:00, 244.95it/s]\n",
            "Evaluating: 100%|██████████| 625/625 [00:02<00:00, 305.49it/s]\n"
          ]
        },
        {
          "metadata": {
            "tags": null
          },
          "name": "stdout",
          "output_type": "stream",
          "text": [
            "Model improved and saved to ./cifar10_simplecnn.pth\n",
            "Epoch 4/50, Train Loss: 1.3573, Train Acc: 50.92%, Val Loss: 1.3056, Val Acc: 53.07%, Time: 12.27s\n"
          ]
        },
        {
          "metadata": {
            "tags": null
          },
          "name": "stderr",
          "output_type": "stream",
          "text": [
            "Training: 100%|██████████| 2500/2500 [00:10<00:00, 246.92it/s]\n",
            "Evaluating: 100%|██████████| 625/625 [00:02<00:00, 297.35it/s]\n"
          ]
        },
        {
          "metadata": {
            "tags": null
          },
          "name": "stdout",
          "output_type": "stream",
          "text": [
            "Model improved and saved to ./cifar10_simplecnn.pth\n",
            "Epoch 5/50, Train Loss: 1.2518, Train Acc: 54.91%, Val Loss: 1.2124, Val Acc: 56.64%, Time: 12.25s\n"
          ]
        },
        {
          "metadata": {
            "tags": null
          },
          "name": "stderr",
          "output_type": "stream",
          "text": [
            "Training: 100%|██████████| 2500/2500 [00:10<00:00, 248.50it/s]\n",
            "Evaluating: 100%|██████████| 625/625 [00:02<00:00, 303.69it/s]\n"
          ]
        },
        {
          "metadata": {
            "tags": null
          },
          "name": "stdout",
          "output_type": "stream",
          "text": [
            "Model improved and saved to ./cifar10_simplecnn.pth\n",
            "Epoch 6/50, Train Loss: 1.1620, Train Acc: 58.37%, Val Loss: 1.1182, Val Acc: 60.45%, Time: 12.14s\n"
          ]
        },
        {
          "metadata": {
            "tags": null
          },
          "name": "stderr",
          "output_type": "stream",
          "text": [
            "Training: 100%|██████████| 2500/2500 [00:10<00:00, 246.09it/s]\n",
            "Evaluating: 100%|██████████| 625/625 [00:02<00:00, 301.76it/s]\n"
          ]
        },
        {
          "metadata": {
            "tags": null
          },
          "name": "stdout",
          "output_type": "stream",
          "text": [
            "Model improved and saved to ./cifar10_simplecnn.pth\n",
            "Epoch 7/50, Train Loss: 1.0817, Train Acc: 61.44%, Val Loss: 1.0671, Val Acc: 61.55%, Time: 12.25s\n"
          ]
        },
        {
          "metadata": {
            "tags": null
          },
          "name": "stderr",
          "output_type": "stream",
          "text": [
            "Training: 100%|██████████| 2500/2500 [00:10<00:00, 247.51it/s]\n",
            "Evaluating: 100%|██████████| 625/625 [00:02<00:00, 303.85it/s]\n"
          ]
        },
        {
          "metadata": {
            "tags": null
          },
          "name": "stdout",
          "output_type": "stream",
          "text": [
            "Model improved and saved to ./cifar10_simplecnn.pth\n",
            "Epoch 8/50, Train Loss: 1.0133, Train Acc: 64.32%, Val Loss: 1.0336, Val Acc: 63.35%, Time: 12.18s\n"
          ]
        },
        {
          "metadata": {
            "tags": null
          },
          "name": "stderr",
          "output_type": "stream",
          "text": [
            "Training: 100%|██████████| 2500/2500 [00:10<00:00, 246.47it/s]\n",
            "Evaluating: 100%|██████████| 625/625 [00:02<00:00, 302.25it/s]\n"
          ]
        },
        {
          "metadata": {
            "tags": null
          },
          "name": "stdout",
          "output_type": "stream",
          "text": [
            "Model improved and saved to ./cifar10_simplecnn.pth\n",
            "Epoch 9/50, Train Loss: 0.9585, Train Acc: 66.22%, Val Loss: 0.9571, Val Acc: 65.78%, Time: 12.23s\n"
          ]
        },
        {
          "metadata": {
            "tags": null
          },
          "name": "stderr",
          "output_type": "stream",
          "text": [
            "Training: 100%|██████████| 2500/2500 [00:09<00:00, 250.93it/s]\n",
            "Evaluating: 100%|██████████| 625/625 [00:02<00:00, 306.06it/s]\n"
          ]
        },
        {
          "metadata": {
            "tags": null
          },
          "name": "stdout",
          "output_type": "stream",
          "text": [
            "Model improved and saved to ./cifar10_simplecnn.pth\n",
            "Epoch 10/50, Train Loss: 0.9093, Train Acc: 67.94%, Val Loss: 0.9289, Val Acc: 67.20%, Time: 12.03s\n"
          ]
        },
        {
          "metadata": {
            "tags": null
          },
          "name": "stderr",
          "output_type": "stream",
          "text": [
            "Training: 100%|██████████| 2500/2500 [00:10<00:00, 248.39it/s]\n",
            "Evaluating: 100%|██████████| 625/625 [00:02<00:00, 307.18it/s]\n"
          ]
        },
        {
          "metadata": {
            "tags": null
          },
          "name": "stdout",
          "output_type": "stream",
          "text": [
            "Epoch 11/50, Train Loss: 0.8613, Train Acc: 69.65%, Val Loss: 0.9232, Val Acc: 67.16%, Time: 12.11s\n"
          ]
        },
        {
          "metadata": {
            "tags": null
          },
          "name": "stderr",
          "output_type": "stream",
          "text": [
            "Training: 100%|██████████| 2500/2500 [00:10<00:00, 247.34it/s]\n",
            "Evaluating: 100%|██████████| 625/625 [00:02<00:00, 303.46it/s]\n"
          ]
        },
        {
          "metadata": {
            "tags": null
          },
          "name": "stdout",
          "output_type": "stream",
          "text": [
            "Model improved and saved to ./cifar10_simplecnn.pth\n",
            "Epoch 12/50, Train Loss: 0.8188, Train Acc: 71.05%, Val Loss: 0.8332, Val Acc: 70.56%, Time: 12.19s\n"
          ]
        },
        {
          "metadata": {
            "tags": null
          },
          "name": "stderr",
          "output_type": "stream",
          "text": [
            "Training: 100%|██████████| 2500/2500 [00:10<00:00, 245.97it/s]\n",
            "Evaluating: 100%|██████████| 625/625 [00:02<00:00, 300.66it/s]\n"
          ]
        },
        {
          "metadata": {
            "tags": null
          },
          "name": "stdout",
          "output_type": "stream",
          "text": [
            "Model improved and saved to ./cifar10_simplecnn.pth\n",
            "Epoch 13/50, Train Loss: 0.7902, Train Acc: 72.45%, Val Loss: 0.8240, Val Acc: 70.79%, Time: 12.27s\n"
          ]
        },
        {
          "metadata": {
            "tags": null
          },
          "name": "stderr",
          "output_type": "stream",
          "text": [
            "Training: 100%|██████████| 2500/2500 [00:10<00:00, 244.80it/s]\n",
            "Evaluating: 100%|██████████| 625/625 [00:02<00:00, 306.28it/s]\n"
          ]
        },
        {
          "metadata": {
            "tags": null
          },
          "name": "stdout",
          "output_type": "stream",
          "text": [
            "Model improved and saved to ./cifar10_simplecnn.pth\n",
            "Epoch 14/50, Train Loss: 0.7589, Train Acc: 73.18%, Val Loss: 0.7897, Val Acc: 72.26%, Time: 12.28s\n"
          ]
        },
        {
          "metadata": {
            "tags": null
          },
          "name": "stderr",
          "output_type": "stream",
          "text": [
            "Training: 100%|██████████| 2500/2500 [00:10<00:00, 245.18it/s]\n",
            "Evaluating: 100%|██████████| 625/625 [00:02<00:00, 307.25it/s]\n"
          ]
        },
        {
          "metadata": {
            "tags": null
          },
          "name": "stdout",
          "output_type": "stream",
          "text": [
            "Model improved and saved to ./cifar10_simplecnn.pth\n",
            "Epoch 15/50, Train Loss: 0.7374, Train Acc: 74.12%, Val Loss: 0.7718, Val Acc: 73.50%, Time: 12.25s\n"
          ]
        },
        {
          "metadata": {
            "tags": null
          },
          "name": "stderr",
          "output_type": "stream",
          "text": [
            "Training: 100%|██████████| 2500/2500 [00:10<00:00, 246.67it/s]\n",
            "Evaluating: 100%|██████████| 625/625 [00:02<00:00, 305.72it/s]\n"
          ]
        },
        {
          "metadata": {
            "tags": null
          },
          "name": "stdout",
          "output_type": "stream",
          "text": [
            "Model improved and saved to ./cifar10_simplecnn.pth\n",
            "Epoch 16/50, Train Loss: 0.7058, Train Acc: 75.29%, Val Loss: 0.7504, Val Acc: 73.85%, Time: 12.20s\n"
          ]
        },
        {
          "metadata": {
            "tags": null
          },
          "name": "stderr",
          "output_type": "stream",
          "text": [
            "Training: 100%|██████████| 2500/2500 [00:10<00:00, 245.73it/s]\n",
            "Evaluating: 100%|██████████| 625/625 [00:02<00:00, 301.22it/s]\n"
          ]
        },
        {
          "metadata": {
            "tags": null
          },
          "name": "stdout",
          "output_type": "stream",
          "text": [
            "Model improved and saved to ./cifar10_simplecnn.pth\n",
            "Epoch 17/50, Train Loss: 0.6811, Train Acc: 76.23%, Val Loss: 0.7218, Val Acc: 74.81%, Time: 12.27s\n"
          ]
        },
        {
          "metadata": {
            "tags": null
          },
          "name": "stderr",
          "output_type": "stream",
          "text": [
            "Training: 100%|██████████| 2500/2500 [00:10<00:00, 247.61it/s]\n",
            "Evaluating: 100%|██████████| 625/625 [00:02<00:00, 301.36it/s]\n"
          ]
        },
        {
          "metadata": {
            "tags": null
          },
          "name": "stdout",
          "output_type": "stream",
          "text": [
            "Epoch 18/50, Train Loss: 0.6577, Train Acc: 77.07%, Val Loss: 0.7353, Val Acc: 74.66%, Time: 12.18s\n"
          ]
        },
        {
          "metadata": {
            "tags": null
          },
          "name": "stderr",
          "output_type": "stream",
          "text": [
            "Training: 100%|██████████| 2500/2500 [00:10<00:00, 241.19it/s]\n",
            "Evaluating: 100%|██████████| 625/625 [00:02<00:00, 304.85it/s]\n"
          ]
        },
        {
          "metadata": {
            "tags": null
          },
          "name": "stdout",
          "output_type": "stream",
          "text": [
            "Epoch 19/50, Train Loss: 0.6410, Train Acc: 77.88%, Val Loss: 0.7145, Val Acc: 74.79%, Time: 12.43s\n"
          ]
        },
        {
          "metadata": {
            "tags": null
          },
          "name": "stderr",
          "output_type": "stream",
          "text": [
            "Training: 100%|██████████| 2500/2500 [00:10<00:00, 246.00it/s]\n",
            "Evaluating: 100%|██████████| 625/625 [00:02<00:00, 303.64it/s]\n"
          ]
        },
        {
          "metadata": {
            "tags": null
          },
          "name": "stdout",
          "output_type": "stream",
          "text": [
            "Model improved and saved to ./cifar10_simplecnn.pth\n",
            "Epoch 20/50, Train Loss: 0.6232, Train Acc: 78.10%, Val Loss: 0.6829, Val Acc: 76.19%, Time: 12.24s\n"
          ]
        },
        {
          "metadata": {
            "tags": null
          },
          "name": "stderr",
          "output_type": "stream",
          "text": [
            "Training: 100%|██████████| 2500/2500 [00:10<00:00, 245.96it/s]\n",
            "Evaluating: 100%|██████████| 625/625 [00:02<00:00, 306.27it/s]\n"
          ]
        },
        {
          "metadata": {
            "tags": null
          },
          "name": "stdout",
          "output_type": "stream",
          "text": [
            "Epoch 21/50, Train Loss: 0.6030, Train Acc: 78.96%, Val Loss: 0.6968, Val Acc: 75.96%, Time: 12.22s\n"
          ]
        },
        {
          "metadata": {
            "tags": null
          },
          "name": "stderr",
          "output_type": "stream",
          "text": [
            "Training: 100%|██████████| 2500/2500 [00:10<00:00, 246.10it/s]\n",
            "Evaluating: 100%|██████████| 625/625 [00:02<00:00, 299.30it/s]\n"
          ]
        },
        {
          "metadata": {
            "tags": null
          },
          "name": "stdout",
          "output_type": "stream",
          "text": [
            "Model improved and saved to ./cifar10_simplecnn.pth\n",
            "Epoch 22/50, Train Loss: 0.5809, Train Acc: 79.47%, Val Loss: 0.6746, Val Acc: 76.34%, Time: 12.27s\n"
          ]
        },
        {
          "metadata": {
            "tags": null
          },
          "name": "stderr",
          "output_type": "stream",
          "text": [
            "Training: 100%|██████████| 2500/2500 [00:10<00:00, 242.16it/s]\n",
            "Evaluating: 100%|██████████| 625/625 [00:02<00:00, 304.96it/s]\n"
          ]
        },
        {
          "metadata": {
            "tags": null
          },
          "name": "stdout",
          "output_type": "stream",
          "text": [
            "Model improved and saved to ./cifar10_simplecnn.pth\n",
            "Epoch 23/50, Train Loss: 0.5707, Train Acc: 79.98%, Val Loss: 0.6845, Val Acc: 76.47%, Time: 12.40s\n"
          ]
        },
        {
          "metadata": {
            "tags": null
          },
          "name": "stderr",
          "output_type": "stream",
          "text": [
            "Training: 100%|██████████| 2500/2500 [00:10<00:00, 248.60it/s]\n",
            "Evaluating: 100%|██████████| 625/625 [00:02<00:00, 303.26it/s]\n"
          ]
        },
        {
          "metadata": {
            "tags": null
          },
          "name": "stdout",
          "output_type": "stream",
          "text": [
            "Model improved and saved to ./cifar10_simplecnn.pth\n",
            "Epoch 24/50, Train Loss: 0.5553, Train Acc: 80.55%, Val Loss: 0.6741, Val Acc: 76.95%, Time: 12.14s\n"
          ]
        },
        {
          "metadata": {
            "tags": null
          },
          "name": "stderr",
          "output_type": "stream",
          "text": [
            "Training: 100%|██████████| 2500/2500 [00:10<00:00, 245.85it/s]\n",
            "Evaluating: 100%|██████████| 625/625 [00:02<00:00, 307.53it/s]\n"
          ]
        },
        {
          "metadata": {
            "tags": null
          },
          "name": "stdout",
          "output_type": "stream",
          "text": [
            "Model improved and saved to ./cifar10_simplecnn.pth\n",
            "Epoch 25/50, Train Loss: 0.5432, Train Acc: 81.12%, Val Loss: 0.6595, Val Acc: 77.54%, Time: 12.23s\n"
          ]
        },
        {
          "metadata": {
            "tags": null
          },
          "name": "stderr",
          "output_type": "stream",
          "text": [
            "Training: 100%|██████████| 2500/2500 [00:10<00:00, 244.55it/s]\n",
            "Evaluating: 100%|██████████| 625/625 [00:02<00:00, 302.72it/s]\n"
          ]
        },
        {
          "metadata": {
            "tags": null
          },
          "name": "stdout",
          "output_type": "stream",
          "text": [
            "Model improved and saved to ./cifar10_simplecnn.pth\n",
            "Epoch 26/50, Train Loss: 0.5271, Train Acc: 81.39%, Val Loss: 0.6568, Val Acc: 77.84%, Time: 12.31s\n"
          ]
        },
        {
          "metadata": {
            "tags": null
          },
          "name": "stderr",
          "output_type": "stream",
          "text": [
            "Training: 100%|██████████| 2500/2500 [00:10<00:00, 244.82it/s]\n",
            "Evaluating: 100%|██████████| 625/625 [00:02<00:00, 303.08it/s]\n"
          ]
        },
        {
          "metadata": {
            "tags": null
          },
          "name": "stdout",
          "output_type": "stream",
          "text": [
            "Model improved and saved to ./cifar10_simplecnn.pth\n",
            "Epoch 27/50, Train Loss: 0.5158, Train Acc: 81.76%, Val Loss: 0.6426, Val Acc: 78.02%, Time: 12.30s\n"
          ]
        },
        {
          "metadata": {
            "tags": null
          },
          "name": "stderr",
          "output_type": "stream",
          "text": [
            "Training: 100%|██████████| 2500/2500 [00:10<00:00, 241.78it/s]\n",
            "Evaluating: 100%|██████████| 625/625 [00:02<00:00, 303.36it/s]\n"
          ]
        },
        {
          "metadata": {
            "tags": null
          },
          "name": "stdout",
          "output_type": "stream",
          "text": [
            "Epoch 28/50, Train Loss: 0.4992, Train Acc: 82.40%, Val Loss: 0.6436, Val Acc: 77.67%, Time: 12.41s\n"
          ]
        },
        {
          "metadata": {
            "tags": null
          },
          "name": "stderr",
          "output_type": "stream",
          "text": [
            "Training: 100%|██████████| 2500/2500 [00:10<00:00, 245.51it/s]\n",
            "Evaluating: 100%|██████████| 625/625 [00:02<00:00, 297.88it/s]\n"
          ]
        },
        {
          "metadata": {
            "tags": null
          },
          "name": "stdout",
          "output_type": "stream",
          "text": [
            "Epoch 29/50, Train Loss: 0.4897, Train Acc: 82.89%, Val Loss: 0.6432, Val Acc: 77.97%, Time: 12.29s\n"
          ]
        },
        {
          "metadata": {
            "tags": null
          },
          "name": "stderr",
          "output_type": "stream",
          "text": [
            "Training: 100%|██████████| 2500/2500 [00:10<00:00, 243.12it/s]\n",
            "Evaluating: 100%|██████████| 625/625 [00:02<00:00, 304.26it/s]\n"
          ]
        },
        {
          "metadata": {
            "tags": null
          },
          "name": "stdout",
          "output_type": "stream",
          "text": [
            "Model improved and saved to ./cifar10_simplecnn.pth\n",
            "Epoch 30/50, Train Loss: 0.4740, Train Acc: 83.48%, Val Loss: 0.6228, Val Acc: 79.12%, Time: 12.36s\n"
          ]
        },
        {
          "metadata": {
            "tags": null
          },
          "name": "stderr",
          "output_type": "stream",
          "text": [
            "Training: 100%|██████████| 2500/2500 [00:10<00:00, 244.80it/s]\n",
            "Evaluating: 100%|██████████| 625/625 [00:02<00:00, 296.81it/s]\n"
          ]
        },
        {
          "metadata": {
            "tags": null
          },
          "name": "stdout",
          "output_type": "stream",
          "text": [
            "Epoch 31/50, Train Loss: 0.4679, Train Acc: 83.49%, Val Loss: 0.6265, Val Acc: 78.71%, Time: 12.33s\n"
          ]
        },
        {
          "metadata": {
            "tags": null
          },
          "name": "stderr",
          "output_type": "stream",
          "text": [
            "Training: 100%|██████████| 2500/2500 [00:10<00:00, 241.27it/s]\n",
            "Evaluating: 100%|██████████| 625/625 [00:02<00:00, 298.36it/s]\n"
          ]
        },
        {
          "metadata": {
            "tags": null
          },
          "name": "stdout",
          "output_type": "stream",
          "text": [
            "Model improved and saved to ./cifar10_simplecnn.pth\n",
            "Epoch 32/50, Train Loss: 0.4561, Train Acc: 83.98%, Val Loss: 0.5995, Val Acc: 79.87%, Time: 12.48s\n"
          ]
        },
        {
          "metadata": {
            "tags": null
          },
          "name": "stderr",
          "output_type": "stream",
          "text": [
            "Training: 100%|██████████| 2500/2500 [00:10<00:00, 245.22it/s]\n",
            "Evaluating: 100%|██████████| 625/625 [00:02<00:00, 297.63it/s]\n"
          ]
        },
        {
          "metadata": {
            "tags": null
          },
          "name": "stdout",
          "output_type": "stream",
          "text": [
            "Epoch 33/50, Train Loss: 0.4473, Train Acc: 84.49%, Val Loss: 0.5947, Val Acc: 79.70%, Time: 12.31s\n"
          ]
        },
        {
          "metadata": {
            "tags": null
          },
          "name": "stderr",
          "output_type": "stream",
          "text": [
            "Training: 100%|██████████| 2500/2500 [00:10<00:00, 245.04it/s]\n",
            "Evaluating: 100%|██████████| 625/625 [00:02<00:00, 295.40it/s]\n"
          ]
        },
        {
          "metadata": {
            "tags": null
          },
          "name": "stdout",
          "output_type": "stream",
          "text": [
            "Epoch 34/50, Train Loss: 0.4373, Train Acc: 84.62%, Val Loss: 0.6316, Val Acc: 79.34%, Time: 12.33s\n"
          ]
        },
        {
          "metadata": {
            "tags": null
          },
          "name": "stderr",
          "output_type": "stream",
          "text": [
            "Training: 100%|██████████| 2500/2500 [00:10<00:00, 244.27it/s]\n",
            "Evaluating: 100%|██████████| 625/625 [00:02<00:00, 294.68it/s]\n"
          ]
        },
        {
          "metadata": {
            "tags": null
          },
          "name": "stdout",
          "output_type": "stream",
          "text": [
            "Epoch 35/50, Train Loss: 0.4229, Train Acc: 85.10%, Val Loss: 0.6307, Val Acc: 79.26%, Time: 12.37s\n"
          ]
        },
        {
          "metadata": {
            "tags": null
          },
          "name": "stderr",
          "output_type": "stream",
          "text": [
            "Training: 100%|██████████| 2500/2500 [00:10<00:00, 242.44it/s]\n",
            "Evaluating: 100%|██████████| 625/625 [00:02<00:00, 302.08it/s]\n"
          ]
        },
        {
          "metadata": {
            "tags": null
          },
          "name": "stdout",
          "output_type": "stream",
          "text": [
            "Epoch 36/50, Train Loss: 0.4154, Train Acc: 85.23%, Val Loss: 0.6127, Val Acc: 79.24%, Time: 12.39s\n"
          ]
        },
        {
          "metadata": {
            "tags": null
          },
          "name": "stderr",
          "output_type": "stream",
          "text": [
            "Training: 100%|██████████| 2500/2500 [00:10<00:00, 243.66it/s]\n",
            "Evaluating: 100%|██████████| 625/625 [00:02<00:00, 299.75it/s]\n"
          ]
        },
        {
          "metadata": {
            "tags": null
          },
          "name": "stdout",
          "output_type": "stream",
          "text": [
            "Epoch 37/50, Train Loss: 0.4009, Train Acc: 85.84%, Val Loss: 0.6093, Val Acc: 79.08%, Time: 12.36s\n"
          ]
        },
        {
          "metadata": {
            "tags": null
          },
          "name": "stderr",
          "output_type": "stream",
          "text": [
            "Training: 100%|██████████| 2500/2500 [00:10<00:00, 242.54it/s]\n",
            "Evaluating: 100%|██████████| 625/625 [00:02<00:00, 305.78it/s]\n"
          ]
        },
        {
          "metadata": {
            "tags": null
          },
          "name": "stdout",
          "output_type": "stream",
          "text": [
            "Epoch 38/50, Train Loss: 0.3964, Train Acc: 86.09%, Val Loss: 0.6195, Val Acc: 79.75%, Time: 12.36s\n"
          ]
        },
        {
          "metadata": {
            "tags": null
          },
          "name": "stderr",
          "output_type": "stream",
          "text": [
            "Training: 100%|██████████| 2500/2500 [00:10<00:00, 243.44it/s]\n",
            "Evaluating: 100%|██████████| 625/625 [00:02<00:00, 301.79it/s]\n"
          ]
        },
        {
          "metadata": {
            "tags": null
          },
          "name": "stdout",
          "output_type": "stream",
          "text": [
            "Epoch 39/50, Train Loss: 0.3882, Train Acc: 86.41%, Val Loss: 0.6192, Val Acc: 79.57%, Time: 12.35s\n"
          ]
        },
        {
          "metadata": {
            "tags": null
          },
          "name": "stderr",
          "output_type": "stream",
          "text": [
            "Training: 100%|██████████| 2500/2500 [00:10<00:00, 238.94it/s]\n",
            "Evaluating: 100%|██████████| 625/625 [00:02<00:00, 298.91it/s]\n"
          ]
        },
        {
          "metadata": {
            "tags": null
          },
          "name": "stdout",
          "output_type": "stream",
          "text": [
            "Epoch 40/50, Train Loss: 0.3737, Train Acc: 86.78%, Val Loss: 0.6038, Val Acc: 79.78%, Time: 12.57s\n"
          ]
        },
        {
          "metadata": {
            "tags": null
          },
          "name": "stderr",
          "output_type": "stream",
          "text": [
            "Training: 100%|██████████| 2500/2500 [00:10<00:00, 243.18it/s]\n",
            "Evaluating: 100%|██████████| 625/625 [00:02<00:00, 293.60it/s]\n"
          ]
        },
        {
          "metadata": {
            "tags": null
          },
          "name": "stdout",
          "output_type": "stream",
          "text": [
            "Epoch 41/50, Train Loss: 0.3668, Train Acc: 86.99%, Val Loss: 0.6353, Val Acc: 79.17%, Time: 12.42s\n"
          ]
        },
        {
          "output_type": "stream",
          "name": "stderr",
          "text": [
            "Training: 100%|██████████| 2500/2500 [00:10<00:00, 245.67it/s]\n",
            "Evaluating: 100%|██████████| 625/625 [00:02<00:00, 292.84it/s]\n"
          ]
        },
        {
          "output_type": "stream",
          "name": "stdout",
          "text": [
            "Epoch 42/50, Train Loss: 0.3640, Train Acc: 87.24%, Val Loss: 0.6295, Val Acc: 79.70%, Time: 12.32s\n"
          ]
        },
        {
          "output_type": "stream",
          "name": "stderr",
          "text": [
            "Training: 100%|██████████| 2500/2500 [00:10<00:00, 247.46it/s]\n",
            "Evaluating: 100%|██████████| 625/625 [00:02<00:00, 287.63it/s]\n"
          ]
        },
        {
          "output_type": "stream",
          "name": "stdout",
          "text": [
            "Epoch 43/50, Train Loss: 0.3516, Train Acc: 87.63%, Val Loss: 0.6109, Val Acc: 79.83%, Time: 12.29s\n"
          ]
        },
        {
          "output_type": "stream",
          "name": "stderr",
          "text": [
            "Training: 100%|██████████| 2500/2500 [00:10<00:00, 238.71it/s]\n",
            "Evaluating: 100%|██████████| 625/625 [00:02<00:00, 290.18it/s]\n"
          ]
        },
        {
          "output_type": "stream",
          "name": "stdout",
          "text": [
            "Model improved and saved to ./cifar10_simplecnn.pth\n",
            "Epoch 44/50, Train Loss: 0.3425, Train Acc: 87.86%, Val Loss: 0.5941, Val Acc: 80.67%, Time: 12.65s\n"
          ]
        },
        {
          "output_type": "stream",
          "name": "stderr",
          "text": [
            "Training: 100%|██████████| 2500/2500 [00:10<00:00, 242.68it/s]\n",
            "Evaluating: 100%|██████████| 625/625 [00:02<00:00, 304.81it/s]\n"
          ]
        },
        {
          "output_type": "stream",
          "name": "stdout",
          "text": [
            "Epoch 45/50, Train Loss: 0.3363, Train Acc: 88.04%, Val Loss: 0.5971, Val Acc: 80.64%, Time: 12.36s\n"
          ]
        },
        {
          "output_type": "stream",
          "name": "stderr",
          "text": [
            "Training: 100%|██████████| 2500/2500 [00:10<00:00, 246.06it/s]\n",
            "Evaluating: 100%|██████████| 625/625 [00:02<00:00, 307.83it/s]\n"
          ]
        },
        {
          "output_type": "stream",
          "name": "stdout",
          "text": [
            "Epoch 46/50, Train Loss: 0.3341, Train Acc: 88.17%, Val Loss: 0.6143, Val Acc: 80.39%, Time: 12.20s\n"
          ]
        },
        {
          "output_type": "stream",
          "name": "stderr",
          "text": [
            "Training: 100%|██████████| 2500/2500 [00:10<00:00, 247.42it/s]\n",
            "Evaluating: 100%|██████████| 625/625 [00:02<00:00, 306.51it/s]\n"
          ]
        },
        {
          "output_type": "stream",
          "name": "stdout",
          "text": [
            "Model improved and saved to ./cifar10_simplecnn.pth\n",
            "Epoch 47/50, Train Loss: 0.3203, Train Acc: 88.80%, Val Loss: 0.6078, Val Acc: 80.72%, Time: 12.17s\n"
          ]
        },
        {
          "output_type": "stream",
          "name": "stderr",
          "text": [
            "Training: 100%|██████████| 2500/2500 [00:10<00:00, 246.60it/s]\n",
            "Evaluating: 100%|██████████| 625/625 [00:02<00:00, 299.05it/s]\n"
          ]
        },
        {
          "output_type": "stream",
          "name": "stdout",
          "text": [
            "Model improved and saved to ./cifar10_simplecnn.pth\n",
            "Epoch 48/50, Train Loss: 0.3209, Train Acc: 88.59%, Val Loss: 0.5901, Val Acc: 81.08%, Time: 12.25s\n"
          ]
        },
        {
          "output_type": "stream",
          "name": "stderr",
          "text": [
            "Training: 100%|██████████| 2500/2500 [00:10<00:00, 241.40it/s]\n",
            "Evaluating: 100%|██████████| 625/625 [00:02<00:00, 295.43it/s]\n"
          ]
        },
        {
          "output_type": "stream",
          "name": "stdout",
          "text": [
            "Epoch 49/50, Train Loss: 0.3123, Train Acc: 88.96%, Val Loss: 0.6098, Val Acc: 80.40%, Time: 12.48s\n"
          ]
        },
        {
          "output_type": "stream",
          "name": "stderr",
          "text": [
            "Training: 100%|██████████| 2500/2500 [00:10<00:00, 246.97it/s]\n",
            "Evaluating: 100%|██████████| 625/625 [00:02<00:00, 300.58it/s]\n"
          ]
        },
        {
          "output_type": "stream",
          "name": "stdout",
          "text": [
            "Epoch 50/50, Train Loss: 0.3012, Train Acc: 89.34%, Val Loss: 0.6302, Val Acc: 80.33%, Time: 12.21s\n",
            "Training complete. Evaluating on test set with the best model...\n"
          ]
        },
        {
          "output_type": "stream",
          "name": "stderr",
          "text": [
            "Evaluating: 100%|██████████| 625/625 [00:01<00:00, 368.49it/s]\n"
          ]
        },
        {
          "output_type": "stream",
          "name": "stdout",
          "text": [
            "Test Loss: 0.5649, Test Acc: 82.33%\n"
          ]
        },
        {
          "output_type": "display_data",
          "data": {
            "text/plain": [
              "<Figure size 640x480 with 1 Axes>"
            ],
            "image/png": "[encoded data removed]"
          },
          "metadata": {}
        },
        {
          "output_type": "display_data",
          "data": {
            "text/plain": [
              "<Figure size 640x480 with 1 Axes>"
            ],
            "image/png": "[encoded data removed]"
          },
          "metadata": {}
        },
        {
          "output_type": "stream",
          "name": "stdout",
          "text": [
            "Test Loss: 0.5649, Test Accuracy: 82.33%\n"
          ]
        }
      ],
      "source": [
        "# individual configuration\n",
        "simplecnn = SimpleCNN().to(device)\n",
        "model_name = \"simplecnn\"\n",
        "model = simplecnn\n",
        "# Assuming `model` is your neural network model and `lr` is your learning rate\n",
        "optimizer = optim.SGD(model.parameters(), lr=0.001, momentum=0.9)\n",
        "from torch.optim.lr_scheduler import CosineAnnealingLR\n",
        "scheduler = CosineAnnealingLR(optimizer, T_max=50, eta_min=0)\n",
        "\n",
        "# training model\n",
        "simplecnn_results = train_network(model,\n",
        "                                  optimizer,\n",
        "                                  criterion,\n",
        "                                  scheduler,\n",
        "                                  trainloader,\n",
        "                                  valloader,\n",
        "                                  testloader,\n",
        "                                  num_epochs,\n",
        "                                  device,\n",
        "                                  num_class,\n",
        "                                  model_name,\n",
        "                                  dataset\n",
        "                                  )\n",
        "\n",
        "# Plot the results\n",
        "plot_loss(simplecnn_results['train_loss'], simplecnn_results['val_loss'])\n",
        "plot_acc(simplecnn_results['train_accuracy'], simplecnn_results['val_accuracy'])\n",
        "# Print Test Loss and Test Accuracy\n",
        "print(f'Test Loss: {simplecnn_results[\"test_loss\"]:.4f}, Test Accuracy: {simplecnn_results[\"test_accuracy\"]:.2f}%')"
      ]
    },
    {
      "cell_type": "markdown",
      "metadata": {
        "id": "qIgKMCms_riO"
      },
      "source": [
        "### Train the network - Alexnet"
      ]
    },
    {
      "cell_type": "code",
      "execution_count": null,
      "metadata": {
        "id": "OzZey43z_riO"
      },
      "outputs": [],
      "source": [
        "# individual configuration\n",
        "alexnet = AlexNet().to(device)\n",
        "model_name = \"alexnet\"\n",
        "model = alexnet\n",
        "\n",
        "# Assuming `model` is your neural network model and `lr` is your learning rate\n",
        "optimizer = optim.SGD(model.parameters(), lr=0.001, momentum=0.9)\n",
        "from torch.optim.lr_scheduler import CosineAnnealingLR\n",
        "scheduler = CosineAnnealingLR(optimizer, T_max=50, eta_min=0)\n",
        "\n",
        "\n",
        "# training model\n",
        "alexnet_results = train_network(model,\n",
        "                                  optimizer,\n",
        "                                  criterion,\n",
        "                                  scheduler,\n",
        "                                  trainloader,\n",
        "                                  valloader,\n",
        "                                  testloader,\n",
        "                                  num_epochs,\n",
        "                                  device,\n",
        "                                  num_class,\n",
        "                                  model_name,\n",
        "                                  dataset\n",
        "                                  )\n",
        "\n",
        "# Plot the results\n",
        "plot_loss(alexnet_results['train_loss'], alexnet_results['val_loss'])\n",
        "plot_acc(alexnet_results['train_accuracy'], alexnet_results['val_accuracy'])\n",
        "# Print Test Loss and Test Accuracy\n",
        "print(f'Test Loss: {alexnet_results[\"test_loss\"]:.4f}, Test Accuracy: {alexnet_results[\"test_accuracy\"]:.2f}%')"
      ]
    },
    {
      "cell_type": "markdown",
      "metadata": {
        "id": "_d4Pfmqg_riO"
      },
      "source": [
        "### Train the network - Resnet18"
      ]
    },
    {
      "cell_type": "code",
      "execution_count": 18,
      "metadata": {
        "id": "4xfqSsoN_riO",
        "outputId": "025fad6a-d3b9-469b-8f95-aac0fe5add0f",
        "colab": {
          "base_uri": "https://localhost:8080/",
          "height": 1000
        }
      },
      "outputs": [
        {
          "output_type": "stream",
          "name": "stdout",
          "text": [
            "Model will be saved to: ./cifar10_resnet18.pth\n",
            "Using device: cuda with seed: 1311\n",
            "\n"
          ]
        },
        {
          "output_type": "stream",
          "name": "stderr",
          "text": [
            "Training: 100%|██████████| 2500/2500 [00:36<00:00, 68.21it/s]\n",
            "Evaluating: 100%|██████████| 625/625 [00:03<00:00, 202.51it/s]\n",
            "/usr/local/lib/python3.10/dist-packages/torch/optim/lr_scheduler.py:149: UserWarning: The epoch parameter in `scheduler.step()` was not necessary and is being deprecated where possible. Please use `scheduler.step()` to step the scheduler. During the deprecation, if epoch is different from None, the closed form is used instead of the new chainable form, where available. Please open an issue if you are unable to replicate your use case: https://github.com/pytorch/pytorch/issues/new/choose.\n",
            "  warnings.warn(EPOCH_DEPRECATION_WARNING, UserWarning)\n"
          ]
        },
        {
          "output_type": "stream",
          "name": "stdout",
          "text": [
            "Model improved and saved to ./cifar10_resnet18.pth\n",
            "Epoch 1/50, Train Loss: 1.5041, Train Acc: 45.11%, Val Loss: 1.1383, Val Acc: 59.28%, Time: 39.83s\n"
          ]
        },
        {
          "output_type": "stream",
          "name": "stderr",
          "text": [
            "Training: 100%|██████████| 2500/2500 [00:28<00:00, 87.85it/s]\n",
            "Evaluating: 100%|██████████| 625/625 [00:03<00:00, 206.44it/s]\n"
          ]
        },
        {
          "output_type": "stream",
          "name": "stdout",
          "text": [
            "Model improved and saved to ./cifar10_resnet18.pth\n",
            "Epoch 2/50, Train Loss: 1.0271, Train Acc: 63.93%, Val Loss: 0.8741, Val Acc: 69.24%, Time: 31.61s\n"
          ]
        },
        {
          "output_type": "stream",
          "name": "stderr",
          "text": [
            "Training: 100%|██████████| 2500/2500 [00:28<00:00, 87.45it/s]\n",
            "Evaluating: 100%|██████████| 625/625 [00:02<00:00, 213.44it/s]\n"
          ]
        },
        {
          "output_type": "stream",
          "name": "stdout",
          "text": [
            "Model improved and saved to ./cifar10_resnet18.pth\n",
            "Epoch 3/50, Train Loss: 0.8184, Train Acc: 71.55%, Val Loss: 0.7342, Val Acc: 74.37%, Time: 31.62s\n"
          ]
        },
        {
          "output_type": "stream",
          "name": "stderr",
          "text": [
            "Training: 100%|██████████| 2500/2500 [00:28<00:00, 88.78it/s]\n",
            "Evaluating: 100%|██████████| 625/625 [00:02<00:00, 216.31it/s]\n"
          ]
        },
        {
          "output_type": "stream",
          "name": "stdout",
          "text": [
            "Model improved and saved to ./cifar10_resnet18.pth\n",
            "Epoch 4/50, Train Loss: 0.6964, Train Acc: 76.13%, Val Loss: 0.6220, Val Acc: 78.40%, Time: 31.15s\n"
          ]
        },
        {
          "output_type": "stream",
          "name": "stderr",
          "text": [
            "Training: 100%|██████████| 2500/2500 [00:28<00:00, 88.16it/s]\n",
            "Evaluating: 100%|██████████| 625/625 [00:03<00:00, 206.23it/s]\n"
          ]
        },
        {
          "output_type": "stream",
          "name": "stdout",
          "text": [
            "Model improved and saved to ./cifar10_resnet18.pth\n",
            "Epoch 5/50, Train Loss: 0.6097, Train Acc: 78.70%, Val Loss: 0.5929, Val Acc: 79.67%, Time: 31.49s\n"
          ]
        },
        {
          "output_type": "stream",
          "name": "stderr",
          "text": [
            "Training: 100%|██████████| 2500/2500 [00:27<00:00, 89.85it/s]\n",
            "Evaluating: 100%|██████████| 625/625 [00:02<00:00, 211.91it/s]\n"
          ]
        },
        {
          "output_type": "stream",
          "name": "stdout",
          "text": [
            "Model improved and saved to ./cifar10_resnet18.pth\n",
            "Epoch 6/50, Train Loss: 0.5479, Train Acc: 80.98%, Val Loss: 0.5417, Val Acc: 81.70%, Time: 30.87s\n"
          ]
        },
        {
          "output_type": "stream",
          "name": "stderr",
          "text": [
            "Training: 100%|██████████| 2500/2500 [00:29<00:00, 85.00it/s]\n",
            "Evaluating: 100%|██████████| 625/625 [00:02<00:00, 212.28it/s]\n"
          ]
        },
        {
          "output_type": "stream",
          "name": "stdout",
          "text": [
            "Model improved and saved to ./cifar10_resnet18.pth\n",
            "Epoch 7/50, Train Loss: 0.4962, Train Acc: 82.85%, Val Loss: 0.5076, Val Acc: 82.78%, Time: 32.46s\n"
          ]
        },
        {
          "output_type": "stream",
          "name": "stderr",
          "text": [
            "Training: 100%|██████████| 2500/2500 [00:28<00:00, 86.79it/s]\n",
            "Evaluating: 100%|██████████| 625/625 [00:03<00:00, 207.13it/s]\n"
          ]
        },
        {
          "output_type": "stream",
          "name": "stdout",
          "text": [
            "Model improved and saved to ./cifar10_resnet18.pth\n",
            "Epoch 8/50, Train Loss: 0.4558, Train Acc: 84.10%, Val Loss: 0.4935, Val Acc: 83.20%, Time: 31.92s\n"
          ]
        },
        {
          "output_type": "stream",
          "name": "stderr",
          "text": [
            "Training: 100%|██████████| 2500/2500 [00:28<00:00, 86.92it/s]\n",
            "Evaluating: 100%|██████████| 625/625 [00:03<00:00, 200.53it/s]\n"
          ]
        },
        {
          "output_type": "stream",
          "name": "stdout",
          "text": [
            "Model improved and saved to ./cifar10_resnet18.pth\n",
            "Epoch 9/50, Train Loss: 0.4196, Train Acc: 85.64%, Val Loss: 0.4317, Val Acc: 85.41%, Time: 31.98s\n"
          ]
        },
        {
          "output_type": "stream",
          "name": "stderr",
          "text": [
            "Training: 100%|██████████| 2500/2500 [00:28<00:00, 87.61it/s]\n",
            "Evaluating: 100%|██████████| 625/625 [00:03<00:00, 206.86it/s]\n"
          ]
        },
        {
          "output_type": "stream",
          "name": "stdout",
          "text": [
            "Model improved and saved to ./cifar10_resnet18.pth\n",
            "Epoch 10/50, Train Loss: 0.3856, Train Acc: 86.56%, Val Loss: 0.4221, Val Acc: 85.68%, Time: 31.66s\n"
          ]
        },
        {
          "output_type": "stream",
          "name": "stderr",
          "text": [
            "Training: 100%|██████████| 2500/2500 [00:28<00:00, 87.36it/s]\n",
            "Evaluating: 100%|██████████| 625/625 [00:02<00:00, 219.93it/s]\n"
          ]
        },
        {
          "output_type": "stream",
          "name": "stdout",
          "text": [
            "Epoch 11/50, Train Loss: 0.3638, Train Acc: 87.22%, Val Loss: 0.4469, Val Acc: 84.88%, Time: 31.47s\n"
          ]
        },
        {
          "output_type": "stream",
          "name": "stderr",
          "text": [
            "Training: 100%|██████████| 2500/2500 [00:28<00:00, 86.77it/s]\n",
            "Evaluating: 100%|██████████| 625/625 [00:02<00:00, 214.87it/s]\n"
          ]
        },
        {
          "output_type": "stream",
          "name": "stdout",
          "text": [
            "Model improved and saved to ./cifar10_resnet18.pth\n",
            "Epoch 12/50, Train Loss: 0.3435, Train Acc: 88.15%, Val Loss: 0.4218, Val Acc: 85.91%, Time: 31.82s\n"
          ]
        },
        {
          "output_type": "stream",
          "name": "stderr",
          "text": [
            "Training: 100%|██████████| 2500/2500 [00:28<00:00, 88.03it/s]\n",
            "Evaluating: 100%|██████████| 625/625 [00:02<00:00, 209.88it/s]\n"
          ]
        },
        {
          "output_type": "stream",
          "name": "stdout",
          "text": [
            "Model improved and saved to ./cifar10_resnet18.pth\n",
            "Epoch 13/50, Train Loss: 0.3168, Train Acc: 89.13%, Val Loss: 0.3945, Val Acc: 86.81%, Time: 31.48s\n"
          ]
        },
        {
          "output_type": "stream",
          "name": "stderr",
          "text": [
            "Training: 100%|██████████| 2500/2500 [00:28<00:00, 88.88it/s]\n",
            "Evaluating: 100%|██████████| 625/625 [00:03<00:00, 204.99it/s]\n"
          ]
        },
        {
          "output_type": "stream",
          "name": "stdout",
          "text": [
            "Epoch 14/50, Train Loss: 0.3017, Train Acc: 89.52%, Val Loss: 0.4241, Val Acc: 86.20%, Time: 31.19s\n"
          ]
        },
        {
          "output_type": "stream",
          "name": "stderr",
          "text": [
            "Training: 100%|██████████| 2500/2500 [00:28<00:00, 87.29it/s]\n",
            "Evaluating: 100%|██████████| 625/625 [00:02<00:00, 211.34it/s]\n"
          ]
        },
        {
          "output_type": "stream",
          "name": "stdout",
          "text": [
            "Model improved and saved to ./cifar10_resnet18.pth\n",
            "Epoch 15/50, Train Loss: 0.2835, Train Acc: 90.13%, Val Loss: 0.3762, Val Acc: 87.37%, Time: 31.70s\n"
          ]
        },
        {
          "output_type": "stream",
          "name": "stderr",
          "text": [
            "Training: 100%|██████████| 2500/2500 [00:28<00:00, 87.34it/s]\n",
            "Evaluating: 100%|██████████| 625/625 [00:03<00:00, 201.67it/s]\n"
          ]
        },
        {
          "output_type": "stream",
          "name": "stdout",
          "text": [
            "Model improved and saved to ./cifar10_resnet18.pth\n",
            "Epoch 16/50, Train Loss: 0.2623, Train Acc: 90.91%, Val Loss: 0.3866, Val Acc: 87.58%, Time: 31.82s\n"
          ]
        },
        {
          "output_type": "stream",
          "name": "stderr",
          "text": [
            "Training: 100%|██████████| 2500/2500 [00:28<00:00, 86.26it/s]\n",
            "Evaluating: 100%|██████████| 625/625 [00:02<00:00, 209.43it/s]\n"
          ]
        },
        {
          "output_type": "stream",
          "name": "stdout",
          "text": [
            "Model improved and saved to ./cifar10_resnet18.pth\n",
            "Epoch 17/50, Train Loss: 0.2504, Train Acc: 91.40%, Val Loss: 0.3813, Val Acc: 87.66%, Time: 32.07s\n"
          ]
        },
        {
          "output_type": "stream",
          "name": "stderr",
          "text": [
            "Training: 100%|██████████| 2500/2500 [00:28<00:00, 86.51it/s]\n",
            "Evaluating: 100%|██████████| 625/625 [00:02<00:00, 216.27it/s]\n"
          ]
        },
        {
          "output_type": "stream",
          "name": "stdout",
          "text": [
            "Epoch 18/50, Train Loss: 0.2392, Train Acc: 91.67%, Val Loss: 0.3865, Val Acc: 87.23%, Time: 31.80s\n"
          ]
        },
        {
          "output_type": "stream",
          "name": "stderr",
          "text": [
            "Training: 100%|██████████| 2500/2500 [00:29<00:00, 86.15it/s]\n",
            "Evaluating: 100%|██████████| 625/625 [00:02<00:00, 214.80it/s]\n"
          ]
        },
        {
          "output_type": "stream",
          "name": "stdout",
          "text": [
            "Model improved and saved to ./cifar10_resnet18.pth\n",
            "Epoch 19/50, Train Loss: 0.2275, Train Acc: 92.03%, Val Loss: 0.3448, Val Acc: 88.72%, Time: 32.03s\n"
          ]
        },
        {
          "output_type": "stream",
          "name": "stderr",
          "text": [
            "Training: 100%|██████████| 2500/2500 [00:29<00:00, 85.83it/s]\n",
            "Evaluating: 100%|██████████| 625/625 [00:03<00:00, 204.53it/s]\n"
          ]
        },
        {
          "output_type": "stream",
          "name": "stdout",
          "text": [
            "Epoch 20/50, Train Loss: 0.2131, Train Acc: 92.58%, Val Loss: 0.3541, Val Acc: 88.44%, Time: 32.19s\n"
          ]
        },
        {
          "output_type": "stream",
          "name": "stderr",
          "text": [
            "Training: 100%|██████████| 2500/2500 [00:28<00:00, 88.22it/s]\n",
            "Evaluating: 100%|██████████| 625/625 [00:02<00:00, 210.44it/s]\n"
          ]
        },
        {
          "output_type": "stream",
          "name": "stdout",
          "text": [
            "Model improved and saved to ./cifar10_resnet18.pth\n",
            "Epoch 21/50, Train Loss: 0.1976, Train Acc: 93.03%, Val Loss: 0.3576, Val Acc: 88.91%, Time: 31.41s\n"
          ]
        },
        {
          "output_type": "stream",
          "name": "stderr",
          "text": [
            "Training: 100%|██████████| 2500/2500 [00:29<00:00, 84.78it/s]\n",
            "Evaluating: 100%|██████████| 625/625 [00:02<00:00, 214.65it/s]\n"
          ]
        },
        {
          "output_type": "stream",
          "name": "stdout",
          "text": [
            "Epoch 22/50, Train Loss: 0.1866, Train Acc: 93.53%, Val Loss: 0.3575, Val Acc: 88.60%, Time: 32.41s\n"
          ]
        },
        {
          "output_type": "stream",
          "name": "stderr",
          "text": [
            "Training: 100%|██████████| 2500/2500 [00:28<00:00, 87.89it/s]\n",
            "Evaluating: 100%|██████████| 625/625 [00:02<00:00, 210.50it/s]\n"
          ]
        },
        {
          "output_type": "stream",
          "name": "stdout",
          "text": [
            "Epoch 23/50, Train Loss: 0.1777, Train Acc: 93.68%, Val Loss: 0.3548, Val Acc: 88.79%, Time: 31.43s\n"
          ]
        },
        {
          "output_type": "stream",
          "name": "stderr",
          "text": [
            "Training: 100%|██████████| 2500/2500 [00:29<00:00, 86.13it/s]\n",
            "Evaluating: 100%|██████████| 625/625 [00:02<00:00, 216.89it/s]\n"
          ]
        },
        {
          "output_type": "stream",
          "name": "stdout",
          "text": [
            "Model improved and saved to ./cifar10_resnet18.pth\n",
            "Epoch 24/50, Train Loss: 0.1710, Train Acc: 94.07%, Val Loss: 0.3358, Val Acc: 89.22%, Time: 32.01s\n"
          ]
        },
        {
          "output_type": "stream",
          "name": "stderr",
          "text": [
            "Training: 100%|██████████| 2500/2500 [00:29<00:00, 86.11it/s]\n",
            "Evaluating: 100%|██████████| 625/625 [00:02<00:00, 217.38it/s]\n"
          ]
        },
        {
          "output_type": "stream",
          "name": "stdout",
          "text": [
            "Epoch 25/50, Train Loss: 0.1583, Train Acc: 94.48%, Val Loss: 0.3975, Val Acc: 87.57%, Time: 31.92s\n"
          ]
        },
        {
          "output_type": "stream",
          "name": "stderr",
          "text": [
            "Training: 100%|██████████| 2500/2500 [00:28<00:00, 87.65it/s]\n",
            "Evaluating: 100%|██████████| 625/625 [00:02<00:00, 213.14it/s]\n"
          ]
        },
        {
          "output_type": "stream",
          "name": "stdout",
          "text": [
            "Model improved and saved to ./cifar10_resnet18.pth\n",
            "Epoch 26/50, Train Loss: 0.1566, Train Acc: 94.56%, Val Loss: 0.3359, Val Acc: 89.54%, Time: 31.55s\n"
          ]
        },
        {
          "output_type": "stream",
          "name": "stderr",
          "text": [
            "Training: 100%|██████████| 2500/2500 [00:28<00:00, 87.41it/s]\n",
            "Evaluating: 100%|██████████| 625/625 [00:02<00:00, 211.57it/s]\n"
          ]
        },
        {
          "output_type": "stream",
          "name": "stdout",
          "text": [
            "Epoch 27/50, Train Loss: 0.1468, Train Acc: 94.89%, Val Loss: 0.3714, Val Acc: 89.11%, Time: 31.56s\n"
          ]
        },
        {
          "output_type": "stream",
          "name": "stderr",
          "text": [
            "Training: 100%|██████████| 2500/2500 [00:29<00:00, 86.14it/s]\n",
            "Evaluating: 100%|██████████| 625/625 [00:02<00:00, 218.25it/s]\n"
          ]
        },
        {
          "output_type": "stream",
          "name": "stdout",
          "text": [
            "Model improved and saved to ./cifar10_resnet18.pth\n",
            "Epoch 28/50, Train Loss: 0.1377, Train Acc: 95.14%, Val Loss: 0.3284, Val Acc: 89.88%, Time: 31.99s\n"
          ]
        },
        {
          "output_type": "stream",
          "name": "stderr",
          "text": [
            "Training: 100%|██████████| 2500/2500 [00:28<00:00, 87.65it/s]\n",
            "Evaluating: 100%|██████████| 625/625 [00:03<00:00, 205.19it/s]\n"
          ]
        },
        {
          "output_type": "stream",
          "name": "stdout",
          "text": [
            "Epoch 29/50, Train Loss: 0.1303, Train Acc: 95.44%, Val Loss: 0.3300, Val Acc: 89.85%, Time: 31.58s\n"
          ]
        },
        {
          "output_type": "stream",
          "name": "stderr",
          "text": [
            "Training: 100%|██████████| 2500/2500 [00:28<00:00, 88.98it/s]\n",
            "Evaluating: 100%|██████████| 625/625 [00:02<00:00, 217.47it/s]\n"
          ]
        },
        {
          "output_type": "stream",
          "name": "stdout",
          "text": [
            "Epoch 30/50, Train Loss: 0.1268, Train Acc: 95.54%, Val Loss: 0.3287, Val Acc: 89.76%, Time: 30.98s\n"
          ]
        },
        {
          "output_type": "stream",
          "name": "stderr",
          "text": [
            "Training: 100%|██████████| 2500/2500 [00:28<00:00, 87.82it/s]\n",
            "Evaluating: 100%|██████████| 625/625 [00:02<00:00, 215.91it/s]\n"
          ]
        },
        {
          "output_type": "stream",
          "name": "stdout",
          "text": [
            "Epoch 31/50, Train Loss: 0.1197, Train Acc: 95.78%, Val Loss: 0.3295, Val Acc: 89.72%, Time: 31.37s\n"
          ]
        },
        {
          "output_type": "stream",
          "name": "stderr",
          "text": [
            "Training: 100%|██████████| 2500/2500 [00:28<00:00, 87.19it/s]\n",
            "Evaluating: 100%|██████████| 625/625 [00:03<00:00, 199.46it/s]\n"
          ]
        },
        {
          "output_type": "stream",
          "name": "stdout",
          "text": [
            "Epoch 32/50, Train Loss: 0.1136, Train Acc: 95.97%, Val Loss: 0.3490, Val Acc: 89.67%, Time: 31.82s\n"
          ]
        },
        {
          "output_type": "stream",
          "name": "stderr",
          "text": [
            "Training: 100%|██████████| 2500/2500 [00:28<00:00, 87.75it/s]\n",
            "Evaluating: 100%|██████████| 625/625 [00:02<00:00, 209.77it/s]\n"
          ]
        },
        {
          "output_type": "stream",
          "name": "stdout",
          "text": [
            "Model improved and saved to ./cifar10_resnet18.pth\n",
            "Epoch 33/50, Train Loss: 0.1075, Train Acc: 96.20%, Val Loss: 0.3317, Val Acc: 90.13%, Time: 31.57s\n"
          ]
        },
        {
          "output_type": "stream",
          "name": "stderr",
          "text": [
            "Training: 100%|██████████| 2500/2500 [00:27<00:00, 90.29it/s]\n",
            "Evaluating: 100%|██████████| 625/625 [00:02<00:00, 208.54it/s]\n"
          ]
        },
        {
          "output_type": "stream",
          "name": "stdout",
          "text": [
            "Epoch 34/50, Train Loss: 0.1045, Train Acc: 96.29%, Val Loss: 0.3378, Val Acc: 90.08%, Time: 30.70s\n"
          ]
        },
        {
          "output_type": "stream",
          "name": "stderr",
          "text": [
            "Training: 100%|██████████| 2500/2500 [00:28<00:00, 87.01it/s]\n",
            "Evaluating: 100%|██████████| 625/625 [00:02<00:00, 211.63it/s]\n"
          ]
        },
        {
          "output_type": "stream",
          "name": "stdout",
          "text": [
            "Model improved and saved to ./cifar10_resnet18.pth\n",
            "Epoch 35/50, Train Loss: 0.0973, Train Acc: 96.56%, Val Loss: 0.3410, Val Acc: 90.27%, Time: 31.79s\n"
          ]
        },
        {
          "output_type": "stream",
          "name": "stderr",
          "text": [
            "Training: 100%|██████████| 2500/2500 [00:28<00:00, 89.04it/s]\n",
            "Evaluating: 100%|██████████| 625/625 [00:03<00:00, 203.52it/s]\n"
          ]
        },
        {
          "output_type": "stream",
          "name": "stdout",
          "text": [
            "Epoch 36/50, Train Loss: 0.0930, Train Acc: 96.78%, Val Loss: 0.3498, Val Acc: 89.92%, Time: 31.16s\n"
          ]
        },
        {
          "output_type": "stream",
          "name": "stderr",
          "text": [
            "Training: 100%|██████████| 2500/2500 [00:28<00:00, 88.13it/s]\n",
            "Evaluating: 100%|██████████| 625/625 [00:02<00:00, 213.40it/s]\n"
          ]
        },
        {
          "output_type": "stream",
          "name": "stdout",
          "text": [
            "Epoch 37/50, Train Loss: 0.0893, Train Acc: 96.83%, Val Loss: 0.3451, Val Acc: 89.48%, Time: 31.30s\n"
          ]
        },
        {
          "output_type": "stream",
          "name": "stderr",
          "text": [
            "Training: 100%|██████████| 2500/2500 [00:28<00:00, 88.79it/s]\n",
            "Evaluating: 100%|██████████| 625/625 [00:02<00:00, 210.30it/s]\n"
          ]
        },
        {
          "output_type": "stream",
          "name": "stdout",
          "text": [
            "Model improved and saved to ./cifar10_resnet18.pth\n",
            "Epoch 38/50, Train Loss: 0.0855, Train Acc: 96.97%, Val Loss: 0.3470, Val Acc: 90.33%, Time: 31.23s\n"
          ]
        },
        {
          "output_type": "stream",
          "name": "stderr",
          "text": [
            "Training: 100%|██████████| 2500/2500 [00:28<00:00, 87.34it/s]\n",
            "Evaluating: 100%|██████████| 625/625 [00:03<00:00, 199.06it/s]\n"
          ]
        },
        {
          "output_type": "stream",
          "name": "stdout",
          "text": [
            "Model improved and saved to ./cifar10_resnet18.pth\n",
            "Epoch 39/50, Train Loss: 0.0798, Train Acc: 97.25%, Val Loss: 0.3337, Val Acc: 90.57%, Time: 31.86s\n"
          ]
        },
        {
          "output_type": "stream",
          "name": "stderr",
          "text": [
            "Training: 100%|██████████| 2500/2500 [00:28<00:00, 87.92it/s]\n",
            "Evaluating: 100%|██████████| 625/625 [00:03<00:00, 207.48it/s]\n"
          ]
        },
        {
          "output_type": "stream",
          "name": "stdout",
          "text": [
            "Model improved and saved to ./cifar10_resnet18.pth\n",
            "Epoch 40/50, Train Loss: 0.0782, Train Acc: 97.28%, Val Loss: 0.3289, Val Acc: 90.88%, Time: 31.55s\n"
          ]
        },
        {
          "output_type": "stream",
          "name": "stderr",
          "text": [
            "Training: 100%|██████████| 2500/2500 [00:28<00:00, 86.99it/s]\n",
            "Evaluating: 100%|██████████| 625/625 [00:02<00:00, 217.12it/s]\n"
          ]
        },
        {
          "output_type": "stream",
          "name": "stdout",
          "text": [
            "Epoch 41/50, Train Loss: 0.0741, Train Acc: 97.40%, Val Loss: 0.3758, Val Acc: 89.80%, Time: 31.63s\n"
          ]
        },
        {
          "output_type": "stream",
          "name": "stderr",
          "text": [
            "Training: 100%|██████████| 2500/2500 [00:28<00:00, 87.89it/s]\n",
            "Evaluating: 100%|██████████| 625/625 [00:02<00:00, 215.92it/s]\n"
          ]
        },
        {
          "output_type": "stream",
          "name": "stdout",
          "text": [
            "Epoch 42/50, Train Loss: 0.0701, Train Acc: 97.59%, Val Loss: 0.3593, Val Acc: 90.30%, Time: 31.35s\n"
          ]
        },
        {
          "output_type": "stream",
          "name": "stderr",
          "text": [
            "Training: 100%|██████████| 2500/2500 [00:28<00:00, 88.28it/s]\n",
            "Evaluating: 100%|██████████| 625/625 [00:02<00:00, 210.81it/s]\n"
          ]
        },
        {
          "output_type": "stream",
          "name": "stdout",
          "text": [
            "Epoch 43/50, Train Loss: 0.0666, Train Acc: 97.70%, Val Loss: 0.3555, Val Acc: 90.38%, Time: 31.30s\n"
          ]
        },
        {
          "output_type": "stream",
          "name": "stderr",
          "text": [
            "Training: 100%|██████████| 2500/2500 [00:28<00:00, 87.01it/s]\n",
            "Evaluating: 100%|██████████| 625/625 [00:03<00:00, 206.54it/s]\n"
          ]
        },
        {
          "output_type": "stream",
          "name": "stdout",
          "text": [
            "Epoch 44/50, Train Loss: 0.0607, Train Acc: 97.93%, Val Loss: 0.3616, Val Acc: 90.01%, Time: 31.77s\n"
          ]
        },
        {
          "output_type": "stream",
          "name": "stderr",
          "text": [
            "Training: 100%|██████████| 2500/2500 [00:28<00:00, 87.88it/s]\n",
            "Evaluating: 100%|██████████| 625/625 [00:03<00:00, 203.35it/s]\n"
          ]
        },
        {
          "output_type": "stream",
          "name": "stdout",
          "text": [
            "Epoch 45/50, Train Loss: 0.0661, Train Acc: 97.60%, Val Loss: 0.3727, Val Acc: 89.55%, Time: 31.53s\n"
          ]
        },
        {
          "output_type": "stream",
          "name": "stderr",
          "text": [
            "Training: 100%|██████████| 2500/2500 [00:28<00:00, 88.07it/s]\n",
            "Evaluating: 100%|██████████| 625/625 [00:02<00:00, 211.87it/s]\n"
          ]
        },
        {
          "output_type": "stream",
          "name": "stdout",
          "text": [
            "Epoch 46/50, Train Loss: 0.0604, Train Acc: 97.88%, Val Loss: 0.3834, Val Acc: 89.61%, Time: 31.35s\n"
          ]
        },
        {
          "output_type": "stream",
          "name": "stderr",
          "text": [
            "Training: 100%|██████████| 2500/2500 [00:28<00:00, 86.68it/s]\n",
            "Evaluating: 100%|██████████| 625/625 [00:02<00:00, 218.08it/s]\n"
          ]
        },
        {
          "output_type": "stream",
          "name": "stdout",
          "text": [
            "Epoch 47/50, Train Loss: 0.0578, Train Acc: 97.98%, Val Loss: 0.3551, Val Acc: 90.67%, Time: 31.72s\n"
          ]
        },
        {
          "output_type": "stream",
          "name": "stderr",
          "text": [
            "Training: 100%|██████████| 2500/2500 [00:28<00:00, 89.18it/s]\n",
            "Evaluating: 100%|██████████| 625/625 [00:02<00:00, 219.16it/s]\n"
          ]
        },
        {
          "output_type": "stream",
          "name": "stdout",
          "text": [
            "Epoch 48/50, Train Loss: 0.0540, Train Acc: 98.12%, Val Loss: 0.3590, Val Acc: 90.80%, Time: 30.89s\n"
          ]
        },
        {
          "output_type": "stream",
          "name": "stderr",
          "text": [
            "Training: 100%|██████████| 2500/2500 [00:28<00:00, 87.70it/s]\n",
            "Evaluating: 100%|██████████| 625/625 [00:02<00:00, 209.41it/s]\n"
          ]
        },
        {
          "output_type": "stream",
          "name": "stdout",
          "text": [
            "Epoch 49/50, Train Loss: 0.0561, Train Acc: 98.05%, Val Loss: 0.3607, Val Acc: 90.41%, Time: 31.50s\n"
          ]
        },
        {
          "output_type": "stream",
          "name": "stderr",
          "text": [
            "Training: 100%|██████████| 2500/2500 [00:28<00:00, 87.93it/s]\n",
            "Evaluating: 100%|██████████| 625/625 [00:03<00:00, 204.13it/s]\n"
          ]
        },
        {
          "output_type": "stream",
          "name": "stdout",
          "text": [
            "Epoch 50/50, Train Loss: 0.0492, Train Acc: 98.34%, Val Loss: 0.3612, Val Acc: 90.61%, Time: 31.50s\n",
            "Training complete. Evaluating on test set with the best model...\n"
          ]
        },
        {
          "output_type": "stream",
          "name": "stderr",
          "text": [
            "Evaluating: 100%|██████████| 625/625 [00:02<00:00, 216.15it/s]\n"
          ]
        },
        {
          "output_type": "stream",
          "name": "stdout",
          "text": [
            "Test Loss: 0.3609, Test Acc: 90.56%\n"
          ]
        },
        {
          "output_type": "display_data",
          "data": {
            "text/plain": [
              "<Figure size 640x480 with 1 Axes>"
            ],
            "image/png": "[encoded data removed]"
          },
          "metadata": {}
        },
        {
          "output_type": "display_data",
          "data": {
            "text/plain": [
              "<Figure size 640x480 with 1 Axes>"
            ],
            "image/png": "[encoded data removed]"
          },
          "metadata": {}
        },
        {
          "output_type": "stream",
          "name": "stdout",
          "text": [
            "Test Loss: 0.3609, Test Accuracy: 90.56%\n"
          ]
        }
      ],
      "source": [
        "# individual configuration\n",
        "resnet18 = ResNet18().to(device)\n",
        "model_name = \"resnet18\"\n",
        "model = resnet18\n",
        "\n",
        "# Assuming `model` is your neural network model and `lr` is your learning rate\n",
        "optimizer = optim.SGD(model.parameters(), lr=0.001, momentum=0.9)\n",
        "from torch.optim.lr_scheduler import CosineAnnealingLR\n",
        "scheduler = CosineAnnealingLR(optimizer, T_max=50, eta_min=0)\n",
        "\n",
        "# training model\n",
        "resnet18_results = train_network(model,\n",
        "                                  optimizer,\n",
        "                                  criterion,\n",
        "                                  scheduler,\n",
        "                                  trainloader,\n",
        "                                  valloader,\n",
        "                                  testloader,\n",
        "                                  num_epochs,\n",
        "                                  device,\n",
        "                                  num_class,\n",
        "                                  model_name,\n",
        "                                  dataset\n",
        "                                  )\n",
        "\n",
        "# Plot the results\n",
        "plot_loss(resnet18_results['train_loss'], resnet18_results['val_loss'])\n",
        "plot_acc(resnet18_results['train_accuracy'], resnet18_results['val_accuracy'])"
      ]
    },
    {
      "cell_type": "markdown",
      "metadata": {
        "id": "BD5SYO-u_riP"
      },
      "source": [
        "### Train the network - Resnet34"
      ]
    },
    {
      "cell_type": "code",
      "execution_count": 27,
      "metadata": {
        "id": "W5Pmadht_riP",
        "outputId": "ccde5232-0d9d-42bb-f716-39b7fca5ebcb",
        "colab": {
          "base_uri": "https://localhost:8080/",
          "height": 1000
        }
      },
      "outputs": [
        {
          "output_type": "stream",
          "name": "stdout",
          "text": [
            "Model will be saved to: ./cifar10_resnet34.pth\n",
            "Using device: cuda with seed: 1311\n",
            "\n"
          ]
        },
        {
          "output_type": "stream",
          "name": "stderr",
          "text": [
            "Training: 100%|██████████| 2500/2500 [00:48<00:00, 51.06it/s]\n",
            "Evaluating: 100%|██████████| 625/625 [00:04<00:00, 144.04it/s]\n"
          ]
        },
        {
          "output_type": "stream",
          "name": "stdout",
          "text": [
            "Model improved and saved to ./cifar10_resnet34.pth\n",
            "Epoch 1/20, Train Loss: 1.5810, Train Acc: 42.77%, Val Loss: 1.2159, Val Acc: 56.49%, Time: 53.50s\n"
          ]
        },
        {
          "output_type": "stream",
          "name": "stderr",
          "text": [
            "Training: 100%|██████████| 2500/2500 [00:48<00:00, 51.80it/s]\n",
            "Evaluating: 100%|██████████| 625/625 [00:04<00:00, 148.11it/s]\n"
          ]
        },
        {
          "output_type": "stream",
          "name": "stdout",
          "text": [
            "Model improved and saved to ./cifar10_resnet34.pth\n",
            "Epoch 2/20, Train Loss: 1.0736, Train Acc: 62.30%, Val Loss: 0.9049, Val Acc: 68.95%, Time: 52.67s\n"
          ]
        },
        {
          "output_type": "stream",
          "name": "stderr",
          "text": [
            "Training: 100%|██████████| 2500/2500 [00:48<00:00, 51.30it/s]\n",
            "Evaluating: 100%|██████████| 625/625 [00:04<00:00, 142.46it/s]\n"
          ]
        },
        {
          "output_type": "stream",
          "name": "stdout",
          "text": [
            "Model improved and saved to ./cifar10_resnet34.pth\n",
            "Epoch 3/20, Train Loss: 0.8253, Train Acc: 71.22%, Val Loss: 0.7332, Val Acc: 74.95%, Time: 53.32s\n"
          ]
        },
        {
          "output_type": "stream",
          "name": "stderr",
          "text": [
            "Training: 100%|██████████| 2500/2500 [00:49<00:00, 50.79it/s]\n",
            "Evaluating: 100%|██████████| 625/625 [00:04<00:00, 139.81it/s]\n"
          ]
        },
        {
          "output_type": "stream",
          "name": "stdout",
          "text": [
            "Model improved and saved to ./cifar10_resnet34.pth\n",
            "Epoch 4/20, Train Loss: 0.6942, Train Acc: 76.22%, Val Loss: 0.6759, Val Acc: 76.62%, Time: 53.89s\n"
          ]
        },
        {
          "output_type": "stream",
          "name": "stderr",
          "text": [
            "Training: 100%|██████████| 2500/2500 [00:49<00:00, 50.91it/s]\n",
            "Evaluating: 100%|██████████| 625/625 [00:04<00:00, 145.19it/s]\n"
          ]
        },
        {
          "output_type": "stream",
          "name": "stdout",
          "text": [
            "Model improved and saved to ./cifar10_resnet34.pth\n",
            "Epoch 5/20, Train Loss: 0.6001, Train Acc: 79.51%, Val Loss: 0.5683, Val Acc: 80.70%, Time: 53.61s\n"
          ]
        },
        {
          "output_type": "stream",
          "name": "stderr",
          "text": [
            "Training: 100%|██████████| 2500/2500 [00:48<00:00, 51.74it/s]\n",
            "Evaluating: 100%|██████████| 625/625 [00:04<00:00, 146.97it/s]\n"
          ]
        },
        {
          "output_type": "stream",
          "name": "stdout",
          "text": [
            "Model improved and saved to ./cifar10_resnet34.pth\n",
            "Epoch 6/20, Train Loss: 0.5333, Train Acc: 81.68%, Val Loss: 0.5018, Val Acc: 82.94%, Time: 52.77s\n"
          ]
        },
        {
          "output_type": "stream",
          "name": "stderr",
          "text": [
            "Training: 100%|██████████| 2500/2500 [00:48<00:00, 51.29it/s]\n",
            "Evaluating: 100%|██████████| 625/625 [00:04<00:00, 144.51it/s]\n"
          ]
        },
        {
          "output_type": "stream",
          "name": "stdout",
          "text": [
            "Model improved and saved to ./cifar10_resnet34.pth\n",
            "Epoch 7/20, Train Loss: 0.4800, Train Acc: 83.60%, Val Loss: 0.4799, Val Acc: 83.80%, Time: 53.27s\n"
          ]
        },
        {
          "output_type": "stream",
          "name": "stderr",
          "text": [
            "Training: 100%|██████████| 2500/2500 [00:48<00:00, 51.77it/s]\n",
            "Evaluating: 100%|██████████| 625/625 [00:04<00:00, 146.03it/s]\n"
          ]
        },
        {
          "output_type": "stream",
          "name": "stdout",
          "text": [
            "Epoch 8/20, Train Loss: 0.4374, Train Acc: 85.00%, Val Loss: 0.4971, Val Acc: 83.08%, Time: 52.58s\n"
          ]
        },
        {
          "output_type": "stream",
          "name": "stderr",
          "text": [
            "Training: 100%|██████████| 2500/2500 [00:49<00:00, 50.90it/s]\n",
            "Evaluating: 100%|██████████| 625/625 [00:04<00:00, 147.11it/s]\n"
          ]
        },
        {
          "output_type": "stream",
          "name": "stdout",
          "text": [
            "Model improved and saved to ./cifar10_resnet34.pth\n",
            "Epoch 9/20, Train Loss: 0.4022, Train Acc: 86.30%, Val Loss: 0.4430, Val Acc: 84.93%, Time: 53.56s\n"
          ]
        },
        {
          "output_type": "stream",
          "name": "stderr",
          "text": [
            "Training: 100%|██████████| 2500/2500 [00:48<00:00, 51.56it/s]\n",
            "Evaluating: 100%|██████████| 625/625 [00:04<00:00, 148.85it/s]\n"
          ]
        },
        {
          "output_type": "stream",
          "name": "stdout",
          "text": [
            "Model improved and saved to ./cifar10_resnet34.pth\n",
            "Epoch 10/20, Train Loss: 0.3728, Train Acc: 87.24%, Val Loss: 0.4385, Val Acc: 85.27%, Time: 52.87s\n"
          ]
        },
        {
          "output_type": "stream",
          "name": "stderr",
          "text": [
            "Training: 100%|██████████| 2500/2500 [00:48<00:00, 51.29it/s]\n",
            "Evaluating: 100%|██████████| 625/625 [00:04<00:00, 146.95it/s]\n"
          ]
        },
        {
          "output_type": "stream",
          "name": "stdout",
          "text": [
            "Model improved and saved to ./cifar10_resnet34.pth\n",
            "Epoch 11/20, Train Loss: 0.3459, Train Acc: 88.13%, Val Loss: 0.4247, Val Acc: 85.45%, Time: 53.18s\n"
          ]
        },
        {
          "output_type": "stream",
          "name": "stderr",
          "text": [
            "Training: 100%|██████████| 2500/2500 [00:48<00:00, 51.40it/s]\n",
            "Evaluating: 100%|██████████| 625/625 [00:04<00:00, 143.05it/s]\n"
          ]
        },
        {
          "output_type": "stream",
          "name": "stdout",
          "text": [
            "Model improved and saved to ./cifar10_resnet34.pth\n",
            "Epoch 12/20, Train Loss: 0.3230, Train Acc: 88.81%, Val Loss: 0.3899, Val Acc: 86.80%, Time: 53.19s\n"
          ]
        },
        {
          "output_type": "stream",
          "name": "stderr",
          "text": [
            "Training: 100%|██████████| 2500/2500 [00:48<00:00, 51.06it/s]\n",
            "Evaluating: 100%|██████████| 625/625 [00:04<00:00, 147.93it/s]\n"
          ]
        },
        {
          "output_type": "stream",
          "name": "stdout",
          "text": [
            "Model improved and saved to ./cifar10_resnet34.pth\n",
            "Epoch 13/20, Train Loss: 0.2994, Train Acc: 89.59%, Val Loss: 0.3892, Val Acc: 87.13%, Time: 53.39s\n"
          ]
        },
        {
          "output_type": "stream",
          "name": "stderr",
          "text": [
            "Training: 100%|██████████| 2500/2500 [00:48<00:00, 51.21it/s]\n",
            "Evaluating: 100%|██████████| 625/625 [00:04<00:00, 145.83it/s]\n"
          ]
        },
        {
          "output_type": "stream",
          "name": "stdout",
          "text": [
            "Epoch 14/20, Train Loss: 0.2856, Train Acc: 90.02%, Val Loss: 0.3991, Val Acc: 86.86%, Time: 53.12s\n"
          ]
        },
        {
          "output_type": "stream",
          "name": "stderr",
          "text": [
            "Training: 100%|██████████| 2500/2500 [00:49<00:00, 50.82it/s]\n",
            "Evaluating: 100%|██████████| 625/625 [00:04<00:00, 143.37it/s]\n"
          ]
        },
        {
          "output_type": "stream",
          "name": "stdout",
          "text": [
            "Model improved and saved to ./cifar10_resnet34.pth\n",
            "Epoch 15/20, Train Loss: 0.2627, Train Acc: 91.00%, Val Loss: 0.3506, Val Acc: 88.26%, Time: 53.75s\n"
          ]
        },
        {
          "output_type": "stream",
          "name": "stderr",
          "text": [
            "Training: 100%|██████████| 2500/2500 [00:48<00:00, 51.53it/s]\n",
            "Evaluating: 100%|██████████| 625/625 [00:04<00:00, 143.14it/s]\n"
          ]
        },
        {
          "output_type": "stream",
          "name": "stdout",
          "text": [
            "Epoch 16/20, Train Loss: 0.2511, Train Acc: 91.47%, Val Loss: 0.3890, Val Acc: 87.27%, Time: 52.89s\n"
          ]
        },
        {
          "output_type": "stream",
          "name": "stderr",
          "text": [
            "Training: 100%|██████████| 2500/2500 [00:48<00:00, 51.66it/s]\n",
            "Evaluating: 100%|██████████| 625/625 [00:04<00:00, 146.14it/s]\n"
          ]
        },
        {
          "output_type": "stream",
          "name": "stdout",
          "text": [
            "Epoch 17/20, Train Loss: 0.2307, Train Acc: 92.00%, Val Loss: 0.4097, Val Acc: 86.95%, Time: 52.68s\n"
          ]
        },
        {
          "output_type": "stream",
          "name": "stderr",
          "text": [
            "Training: 100%|██████████| 2500/2500 [00:48<00:00, 51.35it/s]\n",
            "Evaluating: 100%|██████████| 625/625 [00:04<00:00, 141.86it/s]\n"
          ]
        },
        {
          "output_type": "stream",
          "name": "stdout",
          "text": [
            "Epoch 18/20, Train Loss: 0.2151, Train Acc: 92.69%, Val Loss: 0.3787, Val Acc: 87.41%, Time: 53.10s\n"
          ]
        },
        {
          "output_type": "stream",
          "name": "stderr",
          "text": [
            "Training: 100%|██████████| 2500/2500 [00:47<00:00, 52.25it/s]\n",
            "Evaluating: 100%|██████████| 625/625 [00:04<00:00, 145.88it/s]\n"
          ]
        },
        {
          "output_type": "stream",
          "name": "stdout",
          "text": [
            "Model improved and saved to ./cifar10_resnet34.pth\n",
            "Epoch 19/20, Train Loss: 0.1984, Train Acc: 93.25%, Val Loss: 0.3290, Val Acc: 89.04%, Time: 52.32s\n"
          ]
        },
        {
          "output_type": "stream",
          "name": "stderr",
          "text": [
            "Training: 100%|██████████| 2500/2500 [00:48<00:00, 51.50it/s]\n",
            "Evaluating: 100%|██████████| 625/625 [00:04<00:00, 148.20it/s]\n"
          ]
        },
        {
          "output_type": "stream",
          "name": "stdout",
          "text": [
            "Model improved and saved to ./cifar10_resnet34.pth\n",
            "Epoch 20/20, Train Loss: 0.1829, Train Acc: 93.70%, Val Loss: 0.3401, Val Acc: 89.08%, Time: 52.95s\n",
            "Training complete. Evaluating on test set with the best model...\n"
          ]
        },
        {
          "output_type": "stream",
          "name": "stderr",
          "text": [
            "Evaluating: 100%|██████████| 625/625 [00:04<00:00, 152.65it/s]\n"
          ]
        },
        {
          "output_type": "stream",
          "name": "stdout",
          "text": [
            "Test Loss: 0.3522, Test Acc: 89.20%\n",
            "Accuracy for each class\n",
            "Accuracy of airplane : N/A (no training examples)\n",
            "Accuracy of automobile : N/A (no training examples)\n",
            "Accuracy of  bird : N/A (no training examples)\n",
            "Accuracy of   cat : N/A (no training examples)\n",
            "Accuracy of  deer : N/A (no training examples)\n",
            "Accuracy of   dog : N/A (no training examples)\n",
            "Accuracy of  frog : N/A (no training examples)\n",
            "Accuracy of horse : N/A (no training examples)\n",
            "Accuracy of  ship : N/A (no training examples)\n",
            "Accuracy of truck : N/A (no training examples)\n"
          ]
        },
        {
          "output_type": "display_data",
          "data": {
            "text/plain": [
              "<Figure size 640x480 with 1 Axes>"
            ],
            "image/png": "[encoded data removed]"
          },
          "metadata": {}
        },
        {
          "output_type": "display_data",
          "data": {
            "text/plain": [
              "<Figure size 640x480 with 1 Axes>"
            ],
            "image/png": "[encoded data removed]"
          },
          "metadata": {}
        }
      ],
      "source": [
        "# individual configuration\n",
        "resnet34 = ResNet34().to(device)\n",
        "model_name = \"resnet34\"\n",
        "model = resnet34\n",
        "\n",
        "# Assuming `model` is your neural network model and `lr` is your learning rate\n",
        "optimizer = optim.SGD(model.parameters(), lr=0.001, momentum=0.9, weight_decay=0.001)\n",
        "from torch.optim.lr_scheduler import CosineAnnealingLR\n",
        "scheduler = CosineAnnealingLR(optimizer, T_max=50, eta_min=0)\n",
        "\n",
        "# training model\n",
        "resnet34_results = train_network(model,\n",
        "                                  optimizer,\n",
        "                                  criterion,\n",
        "                                  scheduler,\n",
        "                                  trainloader,\n",
        "                                  valloader,\n",
        "                                  testloader,\n",
        "                                  num_epochs,\n",
        "                                  device,\n",
        "                                  num_class,\n",
        "                                  model_name,\n",
        "                                  dataset\n",
        "                                  )\n",
        "\n",
        "\n",
        "# Plot the results\n",
        "plot_loss(resnet34_results['train_loss'], resnet34_results['val_loss'])\n",
        "plot_acc(resnet34_results['train_accuracy'], resnet34_results['val_accuracy'])"
      ]
    },
    {
      "cell_type": "markdown",
      "source": [
        "### Train the network - Resnet50"
      ],
      "metadata": {
        "id": "q3j5wlmmPlrp"
      }
    },
    {
      "cell_type": "code",
      "source": [
        "# individual configuration\n",
        "resnet50 = ResNet50().to(device)\n",
        "model_name = \"resnet50\"\n",
        "model = resnet50\n",
        "\n",
        "# Assuming `model` is your neural network model and `lr` is your learning rate\n",
        "optimizer = optim.SGD(model.parameters(), lr=0.001, momentum=0.9, weight_decay=0.001)\n",
        "from torch.optim.lr_scheduler import CosineAnnealingLR\n",
        "scheduler = CosineAnnealingLR(optimizer, T_max=50, eta_min=0)\n",
        "\n",
        "# training model\n",
        "resnet50_results = train_network(model,\n",
        "                                  optimizer,\n",
        "                                  criterion,\n",
        "                                  scheduler,\n",
        "                                  trainloader,\n",
        "                                  valloader,\n",
        "                                  testloader,\n",
        "                                  num_epochs,\n",
        "                                  device,\n",
        "                                  num_class,\n",
        "                                  model_name,\n",
        "                                  dataset\n",
        "                                  )\n",
        "\n",
        "# Plot the results\n",
        "plot_loss(resnet50_results['train_loss'], resnet50_results['val_loss'])\n",
        "plot_acc(resnet50_results['train_accuracy'], resnet50_results['val_accuracy'])"
      ],
      "metadata": {
        "id": "J5IjayQuPkha",
        "outputId": "d37a8e6b-cbdd-4946-f52a-5ab062a5d19e",
        "colab": {
          "base_uri": "https://localhost:8080/",
          "height": 477
        }
      },
      "execution_count": 28,
      "outputs": [
        {
          "output_type": "stream",
          "name": "stdout",
          "text": [
            "Model will be saved to: ./cifar10_resnet50.pth\n",
            "Using device: cuda with seed: 1311\n",
            "\n"
          ]
        },
        {
          "output_type": "stream",
          "name": "stderr",
          "text": [
            "Training:  12%|█▏        | 308/2500 [00:09<01:05, 33.36it/s]\n"
          ]
        },
        {
          "output_type": "error",
          "ename": "KeyboardInterrupt",
          "evalue": "ignored",
          "traceback": [
            "\u001b[0;31m---------------------------------------------------------------------------\u001b[0m",
            "\u001b[0;31mKeyboardInterrupt\u001b[0m                         Traceback (most recent call last)",
            "\u001b[0;32m<ipython-input-28-fab02e1e8818>\u001b[0m in \u001b[0;36m<cell line: 14>\u001b[0;34m()\u001b[0m\n\u001b[1;32m     12\u001b[0m \u001b[0;34m\u001b[0m\u001b[0m\n\u001b[1;32m     13\u001b[0m \u001b[0;31m# training model\u001b[0m\u001b[0;34m\u001b[0m\u001b[0;34m\u001b[0m\u001b[0m\n\u001b[0;32m---> 14\u001b[0;31m resnet50_results = train_network(model,\n\u001b[0m\u001b[1;32m     15\u001b[0m                                   \u001b[0moptimizer\u001b[0m\u001b[0;34m,\u001b[0m\u001b[0;34m\u001b[0m\u001b[0;34m\u001b[0m\u001b[0m\n\u001b[1;32m     16\u001b[0m                                   \u001b[0mcriterion\u001b[0m\u001b[0;34m,\u001b[0m\u001b[0;34m\u001b[0m\u001b[0;34m\u001b[0m\u001b[0m\n",
            "\u001b[0;32m<ipython-input-26-9f93bb42530b>\u001b[0m in \u001b[0;36mtrain_network\u001b[0;34m(model, optimizer, criterion, scheduler, trainloader, valloader, testloader, num_epochs, device, num_class, model_name, dataset)\u001b[0m\n\u001b[1;32m     71\u001b[0m         \u001b[0mepoch_start_time\u001b[0m \u001b[0;34m=\u001b[0m \u001b[0mtime\u001b[0m\u001b[0;34m.\u001b[0m\u001b[0mtime\u001b[0m\u001b[0;34m(\u001b[0m\u001b[0;34m)\u001b[0m\u001b[0;34m\u001b[0m\u001b[0;34m\u001b[0m\u001b[0m\n\u001b[1;32m     72\u001b[0m \u001b[0;34m\u001b[0m\u001b[0m\n\u001b[0;32m---> 73\u001b[0;31m         \u001b[0mtrain_loss\u001b[0m\u001b[0;34m,\u001b[0m \u001b[0mtrain_acc\u001b[0m \u001b[0;34m=\u001b[0m \u001b[0mtrain_epoch\u001b[0m\u001b[0;34m(\u001b[0m\u001b[0mmodel\u001b[0m\u001b[0;34m,\u001b[0m \u001b[0mtrainloader\u001b[0m\u001b[0;34m,\u001b[0m \u001b[0mcriterion\u001b[0m\u001b[0;34m,\u001b[0m \u001b[0moptimizer\u001b[0m\u001b[0;34m,\u001b[0m \u001b[0mdevice\u001b[0m\u001b[0;34m)\u001b[0m\u001b[0;34m\u001b[0m\u001b[0;34m\u001b[0m\u001b[0m\n\u001b[0m\u001b[1;32m     74\u001b[0m         \u001b[0mval_loss\u001b[0m\u001b[0;34m,\u001b[0m \u001b[0mval_acc\u001b[0m \u001b[0;34m=\u001b[0m \u001b[0mevaluate\u001b[0m\u001b[0;34m(\u001b[0m\u001b[0mmodel\u001b[0m\u001b[0;34m,\u001b[0m \u001b[0mvalloader\u001b[0m\u001b[0;34m,\u001b[0m \u001b[0mcriterion\u001b[0m\u001b[0;34m,\u001b[0m \u001b[0mdevice\u001b[0m\u001b[0;34m)\u001b[0m\u001b[0;34m\u001b[0m\u001b[0;34m\u001b[0m\u001b[0m\n\u001b[1;32m     75\u001b[0m \u001b[0;34m\u001b[0m\u001b[0m\n",
            "\u001b[0;32m<ipython-input-26-9f93bb42530b>\u001b[0m in \u001b[0;36mtrain_epoch\u001b[0;34m(model, trainloader, criterion, optimizer, device)\u001b[0m\n\u001b[1;32m     14\u001b[0m         \u001b[0moutputs\u001b[0m \u001b[0;34m=\u001b[0m \u001b[0mmodel\u001b[0m\u001b[0;34m(\u001b[0m\u001b[0minputs\u001b[0m\u001b[0;34m)\u001b[0m\u001b[0;34m\u001b[0m\u001b[0;34m\u001b[0m\u001b[0m\n\u001b[1;32m     15\u001b[0m         \u001b[0mloss\u001b[0m \u001b[0;34m=\u001b[0m \u001b[0mcriterion\u001b[0m\u001b[0;34m(\u001b[0m\u001b[0moutputs\u001b[0m\u001b[0;34m,\u001b[0m \u001b[0mlabels\u001b[0m\u001b[0;34m)\u001b[0m\u001b[0;34m\u001b[0m\u001b[0;34m\u001b[0m\u001b[0m\n\u001b[0;32m---> 16\u001b[0;31m         \u001b[0mloss\u001b[0m\u001b[0;34m.\u001b[0m\u001b[0mbackward\u001b[0m\u001b[0;34m(\u001b[0m\u001b[0;34m)\u001b[0m\u001b[0;34m\u001b[0m\u001b[0;34m\u001b[0m\u001b[0m\n\u001b[0m\u001b[1;32m     17\u001b[0m         \u001b[0moptimizer\u001b[0m\u001b[0;34m.\u001b[0m\u001b[0mstep\u001b[0m\u001b[0;34m(\u001b[0m\u001b[0;34m)\u001b[0m\u001b[0;34m\u001b[0m\u001b[0;34m\u001b[0m\u001b[0m\n\u001b[1;32m     18\u001b[0m \u001b[0;34m\u001b[0m\u001b[0m\n",
            "\u001b[0;32m/usr/local/lib/python3.10/dist-packages/torch/_tensor.py\u001b[0m in \u001b[0;36mbackward\u001b[0;34m(self, gradient, retain_graph, create_graph, inputs)\u001b[0m\n\u001b[1;32m    490\u001b[0m                 \u001b[0minputs\u001b[0m\u001b[0;34m=\u001b[0m\u001b[0minputs\u001b[0m\u001b[0;34m,\u001b[0m\u001b[0;34m\u001b[0m\u001b[0;34m\u001b[0m\u001b[0m\n\u001b[1;32m    491\u001b[0m             )\n\u001b[0;32m--> 492\u001b[0;31m         torch.autograd.backward(\n\u001b[0m\u001b[1;32m    493\u001b[0m             \u001b[0mself\u001b[0m\u001b[0;34m,\u001b[0m \u001b[0mgradient\u001b[0m\u001b[0;34m,\u001b[0m \u001b[0mretain_graph\u001b[0m\u001b[0;34m,\u001b[0m \u001b[0mcreate_graph\u001b[0m\u001b[0;34m,\u001b[0m \u001b[0minputs\u001b[0m\u001b[0;34m=\u001b[0m\u001b[0minputs\u001b[0m\u001b[0;34m\u001b[0m\u001b[0;34m\u001b[0m\u001b[0m\n\u001b[1;32m    494\u001b[0m         )\n",
            "\u001b[0;32m/usr/local/lib/python3.10/dist-packages/torch/autograd/__init__.py\u001b[0m in \u001b[0;36mbackward\u001b[0;34m(tensors, grad_tensors, retain_graph, create_graph, grad_variables, inputs)\u001b[0m\n\u001b[1;32m    249\u001b[0m     \u001b[0;31m# some Python versions print out the first line of a multi-line function\u001b[0m\u001b[0;34m\u001b[0m\u001b[0;34m\u001b[0m\u001b[0m\n\u001b[1;32m    250\u001b[0m     \u001b[0;31m# calls in the traceback and some print out the last line\u001b[0m\u001b[0;34m\u001b[0m\u001b[0;34m\u001b[0m\u001b[0m\n\u001b[0;32m--> 251\u001b[0;31m     Variable._execution_engine.run_backward(  # Calls into the C++ engine to run the backward pass\n\u001b[0m\u001b[1;32m    252\u001b[0m         \u001b[0mtensors\u001b[0m\u001b[0;34m,\u001b[0m\u001b[0;34m\u001b[0m\u001b[0;34m\u001b[0m\u001b[0m\n\u001b[1;32m    253\u001b[0m         \u001b[0mgrad_tensors_\u001b[0m\u001b[0;34m,\u001b[0m\u001b[0;34m\u001b[0m\u001b[0;34m\u001b[0m\u001b[0m\n",
            "\u001b[0;31mKeyboardInterrupt\u001b[0m: "
          ]
        }
      ]
    },
    {
      "cell_type": "markdown",
      "metadata": {
        "id": "kvOAFyC2rJg8"
      },
      "source": [
        "## Load the Model"
      ]
    }
  ],
  "metadata": {
    "accelerator": "GPU",
    "colab": {
      "gpuType": "A100",
      "provenance": [],
      "machine_shape": "hm",
      "include_colab_link": true
    },
    "kernelspec": {
      "display_name": "Python 3",
      "name": "python3"
    },
    "language_info": {
      "codemirror_mode": {
        "name": "ipython",
        "version": 3
      },
      "file_extension": ".py",
      "mimetype": "text/x-python",
      "name": "python",
      "nbconvert_exporter": "python",
      "pygments_lexer": "ipython3",
      "version": "3.7.16"
    }
  },
  "nbformat": 4,
  "nbformat_minor": 0
}