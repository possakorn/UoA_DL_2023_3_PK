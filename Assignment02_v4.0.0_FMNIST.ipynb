{
  "cells": [
    {
      "cell_type": "markdown",
      "metadata": {
        "id": "view-in-github",
        "colab_type": "text"
      },
      "source": [
        "<a href=\"https://colab.research.google.com/github/possakorn/UoA_DL_2023_3_PK/blob/main/Assignment02_v4.0.0_FMNIST.ipynb\" target=\"_parent\"><img src=\"https://colab.research.google.com/assets/colab-badge.svg\" alt=\"Open In Colab\"/></a>"
      ]
    },
    {
      "cell_type": "markdown",
      "metadata": {
        "id": "2EP7shVVj0tL"
      },
      "source": [
        "# Assessment 2: CNNs for image classification"
      ]
    },
    {
      "cell_type": "markdown",
      "metadata": {
        "id": "XdoZXO-z_riF"
      },
      "source": [
        "## Setup: import lib"
      ]
    },
    {
      "cell_type": "code",
      "execution_count": 1,
      "metadata": {
        "id": "vqbmgXmni9po"
      },
      "outputs": [],
      "source": [
        "## section: Data manioulation\n",
        "import math\n",
        "import pandas as pd\n",
        "import numpy as np\n",
        "import random\n",
        "## visualization\n",
        "import plotly\n",
        "import matplotlib.pyplot as plt\n",
        "import seaborn as sns\n",
        "\n",
        "## section: neural network\n",
        "import torch\n",
        "## pytorch: dataset\n",
        "import torchvision\n",
        "from torchvision import models\n",
        "## pytorch: network and function\n",
        "import torch.nn as nn\n",
        "import torch.nn.functional as F\n",
        "import torch.optim as optim\n",
        "from torch.optim.lr_scheduler import ExponentialLR, OneCycleLR\n",
        "\n",
        "from torchsummary import summary\n",
        "\n",
        "from torchvision import datasets, transforms\n",
        "from torch.utils.data import DataLoader, Dataset, random_split\n",
        "\n",
        "from sklearn.model_selection import train_test_split, StratifiedShuffleSplit\n",
        "from sklearn.preprocessing import StandardScaler"
      ]
    },
    {
      "cell_type": "code",
      "execution_count": 2,
      "metadata": {
        "colab": {
          "base_uri": "https://localhost:8080/"
        },
        "id": "bWdVE73zj_Lc",
        "outputId": "775a7e09-996b-413d-f602-b6b286b8f8cb"
      },
      "outputs": [
        {
          "output_type": "stream",
          "name": "stdout",
          "text": [
            "Using device: cuda Using number of workers:  4\n",
            "\n",
            "Tesla V100-SXM2-16GB\n",
            "Memory Usage:\n",
            "Allocated: 0.0 GB\n",
            "Cached:    0.0 GB\n"
          ]
        },
        {
          "output_type": "stream",
          "name": "stderr",
          "text": [
            "/usr/local/lib/python3.10/dist-packages/torch/cuda/memory.py:444: FutureWarning: torch.cuda.memory_cached has been renamed to torch.cuda.memory_reserved\n",
            "  warnings.warn(\n"
          ]
        }
      ],
      "source": [
        "# setting device on GPU if available, else CPU\n",
        "torch.cuda.empty_cache()\n",
        "device = torch.device('cuda' if torch.cuda.is_available() else 'cpu')\n",
        "if device == torch.device('cuda'):\n",
        "  worker = 4\n",
        "else:\n",
        "  worker = 0\n",
        "print('Using device:', device, 'Using number of workers: ', worker)\n",
        "print()\n",
        "\n",
        "\n",
        "#Additional Info when using cuda\n",
        "if device.type == 'cuda':\n",
        "    print(torch.cuda.get_device_name(0))\n",
        "    print('Memory Usage:')\n",
        "    print('Allocated:', round(torch.cuda.memory_allocated(0)/1024**3,1), 'GB')\n",
        "    print('Cached:   ', round(torch.cuda.memory_cached(0)/1024**3,1), 'GB')\n",
        "\n",
        "# Set the seed for reproducibility\n",
        "def set_seed(seed):\n",
        "    np.random.seed(seed)\n",
        "    torch.manual_seed(seed)\n",
        "    if torch.cuda.is_available():\n",
        "        torch.cuda.manual_seed(seed)\n",
        "        torch.cuda.manual_seed_all(seed)  # if you are using multi-GPU.\n",
        "        torch.backends.cudnn.deterministic = True\n",
        "        torch.backends.cudnn.benchmark = False"
      ]
    },
    {
      "cell_type": "markdown",
      "metadata": {
        "id": "lL7naWpLkRJr"
      },
      "source": [
        "## Step01: Data exploration"
      ]
    },
    {
      "cell_type": "code",
      "execution_count": 3,
      "metadata": {
        "id": "oj7kB9S6kUEo",
        "colab": {
          "base_uri": "https://localhost:8080/"
        },
        "outputId": "e1b837a8-b401-4dab-f139-670a9f843a61"
      },
      "outputs": [
        {
          "output_type": "stream",
          "name": "stdout",
          "text": [
            "Downloading http://fashion-mnist.s3-website.eu-central-1.amazonaws.com/train-images-idx3-ubyte.gz\n",
            "Downloading http://fashion-mnist.s3-website.eu-central-1.amazonaws.com/train-images-idx3-ubyte.gz to data/FashionMNIST/raw/train-images-idx3-ubyte.gz\n"
          ]
        },
        {
          "output_type": "stream",
          "name": "stderr",
          "text": [
            "100%|██████████| 26421880/26421880 [00:01<00:00, 13979239.16it/s]\n"
          ]
        },
        {
          "output_type": "stream",
          "name": "stdout",
          "text": [
            "Extracting data/FashionMNIST/raw/train-images-idx3-ubyte.gz to data/FashionMNIST/raw\n",
            "\n",
            "Downloading http://fashion-mnist.s3-website.eu-central-1.amazonaws.com/train-labels-idx1-ubyte.gz\n",
            "Downloading http://fashion-mnist.s3-website.eu-central-1.amazonaws.com/train-labels-idx1-ubyte.gz to data/FashionMNIST/raw/train-labels-idx1-ubyte.gz\n"
          ]
        },
        {
          "output_type": "stream",
          "name": "stderr",
          "text": [
            "100%|██████████| 29515/29515 [00:00<00:00, 268809.59it/s]\n"
          ]
        },
        {
          "output_type": "stream",
          "name": "stdout",
          "text": [
            "Extracting data/FashionMNIST/raw/train-labels-idx1-ubyte.gz to data/FashionMNIST/raw\n",
            "\n",
            "Downloading http://fashion-mnist.s3-website.eu-central-1.amazonaws.com/t10k-images-idx3-ubyte.gz\n",
            "Downloading http://fashion-mnist.s3-website.eu-central-1.amazonaws.com/t10k-images-idx3-ubyte.gz to data/FashionMNIST/raw/t10k-images-idx3-ubyte.gz\n"
          ]
        },
        {
          "output_type": "stream",
          "name": "stderr",
          "text": [
            "100%|██████████| 4422102/4422102 [00:00<00:00, 4957591.86it/s]\n"
          ]
        },
        {
          "output_type": "stream",
          "name": "stdout",
          "text": [
            "Extracting data/FashionMNIST/raw/t10k-images-idx3-ubyte.gz to data/FashionMNIST/raw\n",
            "\n",
            "Downloading http://fashion-mnist.s3-website.eu-central-1.amazonaws.com/t10k-labels-idx1-ubyte.gz\n",
            "Downloading http://fashion-mnist.s3-website.eu-central-1.amazonaws.com/t10k-labels-idx1-ubyte.gz to data/FashionMNIST/raw/t10k-labels-idx1-ubyte.gz\n"
          ]
        },
        {
          "output_type": "stream",
          "name": "stderr",
          "text": [
            "100%|██████████| 5148/5148 [00:00<00:00, 6049951.52it/s]"
          ]
        },
        {
          "output_type": "stream",
          "name": "stdout",
          "text": [
            "Extracting data/FashionMNIST/raw/t10k-labels-idx1-ubyte.gz to data/FashionMNIST/raw\n",
            "\n"
          ]
        },
        {
          "output_type": "stream",
          "name": "stderr",
          "text": [
            "\n"
          ]
        }
      ],
      "source": [
        "## Download from FashionMNIST\n",
        "dataset = 'FashionMNIST' # change this one\n",
        "torch.manual_seed(1311)\n",
        "training_data = datasets.FashionMNIST(\n",
        "    root=\"data\",\n",
        "    train=True,\n",
        "    download = True,\n",
        "    transform= transforms.Compose([\n",
        "        transforms.Grayscale(num_output_channels=3),\n",
        "        transforms.Resize((32, 32)),  # Resize all images to 64x64\n",
        "        transforms.ToTensor(),\n",
        "        transforms.Normalize((0.5, 0.5, 0.5), (0.5, 0.5, 0.5)),\n",
        "        transforms.RandomCrop(32, padding=4),\n",
        "        transforms.RandomHorizontalFlip()\n",
        "    ])\n",
        ")\n",
        "\n",
        "testing_data = datasets.FashionMNIST(\n",
        "    root=\"data\",\n",
        "    train=False,\n",
        "    download = True,\n",
        "    transform= transforms.Compose([\n",
        "        transforms.Grayscale(num_output_channels=3),\n",
        "        transforms.Resize((32, 32)),  # Resize all images to 64x64\n",
        "        transforms.ToTensor(),\n",
        "        transforms.Normalize((0.5, 0.5, 0.5), (0.5, 0.5, 0.5))\n",
        "    ])\n",
        ")"
      ]
    },
    {
      "cell_type": "markdown",
      "metadata": {
        "id": "h1L2jeNDMKmh"
      },
      "source": [
        "### Exploratory Image analysis"
      ]
    },
    {
      "cell_type": "code",
      "execution_count": 4,
      "metadata": {
        "colab": {
          "base_uri": "https://localhost:8080/",
          "height": 503
        },
        "id": "i6UCnEb7MQz7",
        "outputId": "0b13211c-b7d5-4584-8300-f82acbd86593"
      },
      "outputs": [
        {
          "output_type": "stream",
          "name": "stdout",
          "text": [
            "Check Shape of images:  torch.Size([3, 32, 32]) 3\n",
            "Preview Images with Label : T-shirt/top\n"
          ]
        },
        {
          "output_type": "stream",
          "name": "stderr",
          "text": [
            "WARNING:matplotlib.image:Clipping input data to the valid range for imshow with RGB data ([0..1] for floats or [0..255] for integers).\n"
          ]
        },
        {
          "output_type": "stream",
          "name": "stdout",
          "text": [
            "Show of images unique 10 labels:  ['T-shirt/top', 'Trouser', 'Pullover', 'Dress', 'Coat', 'Sandal', 'Shirt', 'Sneaker', 'Bag', 'Ankle boot']\n"
          ]
        },
        {
          "output_type": "display_data",
          "data": {
            "text/plain": [
              "<Figure size 640x480 with 1 Axes>"
            ],
            "image/png": "[encoded data removed]"
          },
          "metadata": {}
        }
      ],
      "source": [
        "## check shape and labels\n",
        "img, label = training_data[3]\n",
        "print(\"Check Shape of images: \",img.shape,label)\n",
        "\n",
        "def display_img(img,label):\n",
        "  print(f\"Preview Images with Label : {training_data.classes[label]}\")\n",
        "  plt.imshow(img.permute(1,2,0)) # for visualization following the plt need to change the shapes\n",
        "\n",
        "#display the first image in the dataset\n",
        "display_img(*training_data[2])\n",
        "\n",
        "#Show all labels\n",
        "classes = training_data.classes\n",
        "num_class = len(classes)\n",
        "print(f\"Show of images unique {num_class} labels: \",classes)\n"
      ]
    },
    {
      "cell_type": "markdown",
      "metadata": {
        "id": "lLhgGFMQ_riJ"
      },
      "source": [
        "### Tranforms to Dataloader"
      ]
    },
    {
      "cell_type": "code",
      "execution_count": 5,
      "metadata": {
        "id": "qgVgyazEqzku",
        "outputId": "bd71fb9a-a7b7-4f05-a6de-04ca69d0f716",
        "colab": {
          "base_uri": "https://localhost:8080/"
        }
      },
      "outputs": [
        {
          "output_type": "stream",
          "name": "stdout",
          "text": [
            "Training set: 48000 items, 3000 batches\n",
            "Validation set: 12000 items, 750 batches\n",
            "Test set: 10000 items, 625 batches\n"
          ]
        },
        {
          "output_type": "stream",
          "name": "stderr",
          "text": [
            "/usr/local/lib/python3.10/dist-packages/torch/utils/data/dataloader.py:557: UserWarning: This DataLoader will create 4 worker processes in total. Our suggested max number of worker in current system is 2, which is smaller than what this DataLoader is going to create. Please be aware that excessive worker creation might get DataLoader running slow or even freeze, lower the worker number to avoid potential slowness/freeze if necessary.\n",
            "  warnings.warn(_create_warning_msg(\n"
          ]
        }
      ],
      "source": [
        "batch_size = 16\n",
        "\n",
        "## setting the split configuration\n",
        "set_seed(1311)\n",
        "train_size = int(0.8 * len(training_data))\n",
        "val_size = len(training_data) - train_size\n",
        "training_data, val_data = random_split(training_data, [train_size, val_size])\n",
        "\n",
        "## apply the dataloader\n",
        "set_seed(1311)\n",
        "\n",
        "trainloader = torch.utils.data.DataLoader(\n",
        "    training_data,\n",
        "    batch_size=batch_size,\n",
        "    shuffle=True,\n",
        "    num_workers=worker,\n",
        "    pin_memory = True\n",
        "    )\n",
        "valloader = torch.utils.data.DataLoader(\n",
        "    val_data,\n",
        "    batch_size=batch_size,\n",
        "    shuffle=False,\n",
        "    num_workers=worker,\n",
        "    pin_memory = True\n",
        "    )\n",
        "testloader = torch.utils.data.DataLoader(\n",
        "    testing_data,\n",
        "    batch_size=batch_size,\n",
        "    shuffle=False,\n",
        "    num_workers=worker,\n",
        "    pin_memory = True\n",
        "    )\n",
        "\n",
        "# check the splitting\n",
        "num_items_train = len(trainloader.dataset)\n",
        "num_items_val = len(valloader.dataset)\n",
        "num_items_test = len(testloader.dataset)\n",
        "\n",
        "num_batches_train = len(trainloader)\n",
        "num_batches_val = len(valloader)\n",
        "num_batches_test = len(testloader)\n",
        "\n",
        "print(\"Training set: {} items, {} batches\".format(num_items_train, num_batches_train))\n",
        "print(\"Validation set: {} items, {} batches\".format(num_items_val, num_batches_val))\n",
        "print(\"Test set: {} items, {} batches\".format(num_items_test, num_batches_test))"
      ]
    },
    {
      "cell_type": "markdown",
      "source": [
        "### check test set classes distribution"
      ],
      "metadata": {
        "id": "JjKglimjqiyH"
      }
    },
    {
      "cell_type": "code",
      "source": [
        "from collections import Counter\n",
        "\n",
        "# Assuming testing_data is your test dataset\n",
        "test_labels = [label for _, label in testing_data]\n",
        "\n",
        "# Count the occurrences of each class\n",
        "class_distribution = Counter(test_labels)\n",
        "\n",
        "# Print the distribution\n",
        "total_samples = sum(class_distribution.values())\n",
        "for class_id, count in class_distribution.items():\n",
        "    percentage = (count / total_samples) * 100\n",
        "    print(f'Class {classes[class_id]}: {count} samples, {percentage:.2f}% of the test set')"
      ],
      "metadata": {
        "colab": {
          "base_uri": "https://localhost:8080/"
        },
        "id": "SytGnAChqlpW",
        "outputId": "40f71101-8f4c-47ec-c0d8-e4d2d9ff3f75"
      },
      "execution_count": 6,
      "outputs": [
        {
          "output_type": "stream",
          "name": "stdout",
          "text": [
            "Class Ankle boot: 1000 samples, 10.00% of the test set\n",
            "Class Pullover: 1000 samples, 10.00% of the test set\n",
            "Class Trouser: 1000 samples, 10.00% of the test set\n",
            "Class Shirt: 1000 samples, 10.00% of the test set\n",
            "Class Coat: 1000 samples, 10.00% of the test set\n",
            "Class Sandal: 1000 samples, 10.00% of the test set\n",
            "Class Sneaker: 1000 samples, 10.00% of the test set\n",
            "Class Dress: 1000 samples, 10.00% of the test set\n",
            "Class Bag: 1000 samples, 10.00% of the test set\n",
            "Class T-shirt/top: 1000 samples, 10.00% of the test set\n"
          ]
        }
      ]
    },
    {
      "cell_type": "markdown",
      "metadata": {
        "id": "hauxFqYP_riJ"
      },
      "source": [
        "### Review the Batch fig and size"
      ]
    },
    {
      "cell_type": "code",
      "execution_count": 7,
      "metadata": {
        "colab": {
          "base_uri": "https://localhost:8080/",
          "height": 154
        },
        "id": "fpEkgg_gZ03C",
        "outputId": "a1e81df5-e6b7-4ba5-98be-abddf2cf4636"
      },
      "outputs": [
        {
          "output_type": "stream",
          "name": "stderr",
          "text": [
            "WARNING:matplotlib.image:Clipping input data to the valid range for imshow with RGB data ([0..1] for floats or [0..255] for integers).\n"
          ]
        },
        {
          "output_type": "stream",
          "name": "stdout",
          "text": [
            "torch.Size([16, 3, 32, 32])\n"
          ]
        },
        {
          "output_type": "display_data",
          "data": {
            "text/plain": [
              "<Figure size 1600x1200 with 1 Axes>"
            ],
            "image/png": "[encoded data removed]"
          },
          "metadata": {}
        }
      ],
      "source": [
        "from torchvision.utils import make_grid\n",
        "import matplotlib.pyplot as plt\n",
        "\n",
        "def show_batch(dl):\n",
        "    \"\"\"Plot images grid of single batch\"\"\"\n",
        "    for images, labels in dl:\n",
        "        fig,ax = plt.subplots(figsize = (16,12))\n",
        "        ax.set_xticks([])\n",
        "        ax.set_yticks([])\n",
        "        ax.imshow(make_grid(images,nrow=16).permute(1,2,0))\n",
        "        break\n",
        "\n",
        "## show the batch fig\n",
        "show_batch(trainloader)\n",
        "\n",
        "## print the size\n",
        "for batch in trainloader:\n",
        "    print(batch[0].shape)  # Assuming batch[0] contains the data and batch[1] contains the labels\n",
        "    break"
      ]
    },
    {
      "cell_type": "markdown",
      "metadata": {
        "id": "QMBsC9B7tfL-"
      },
      "source": [
        "## Base Model Functions For Image Classification"
      ]
    },
    {
      "cell_type": "code",
      "source": [
        "import time\n",
        "from tqdm import tqdm\n",
        "\n",
        "def train_epoch(model, trainloader, criterion, optimizer, device):\n",
        "    model.train()\n",
        "    running_loss = 0.0\n",
        "    correct_train = 0\n",
        "    total_train = 0\n",
        "\n",
        "    for inputs, labels in tqdm(trainloader, desc='Training'):\n",
        "        inputs, labels = inputs.to(device), labels.to(device)\n",
        "\n",
        "        optimizer.zero_grad()\n",
        "        outputs = model(inputs)\n",
        "        loss = criterion(outputs, labels)\n",
        "        loss.backward()\n",
        "        optimizer.step()\n",
        "\n",
        "        running_loss += loss.item() * inputs.size(0)\n",
        "        _, preds = torch.max(outputs, 1)\n",
        "        correct_train += torch.sum(preds == labels.data)\n",
        "        total_train += labels.size(0)\n",
        "\n",
        "    epoch_loss = running_loss / total_train\n",
        "    epoch_acc = correct_train.double() / total_train\n",
        "    return epoch_loss, epoch_acc\n",
        "\n",
        "def evaluate(model, dataloader, criterion, device, num_class, class_eva = False):\n",
        "    model.eval()\n",
        "    running_loss = 0.0\n",
        "    correct = 0\n",
        "    total = 0\n",
        "    class_correct = list(0. for i in range(num_class))\n",
        "    class_total = list(0. for i in range(num_class))\n",
        "\n",
        "    with torch.no_grad():\n",
        "        for inputs, labels in tqdm(dataloader, desc='Evaluating'):\n",
        "            inputs, labels = inputs.to(device), labels.to(device)\n",
        "            outputs = model(inputs)\n",
        "            loss = criterion(outputs, labels)\n",
        "            running_loss += loss.item() * inputs.size(0)\n",
        "            _, preds = torch.max(outputs, 1)\n",
        "            correct += torch.sum(preds == labels.data)\n",
        "            total += labels.size(0)\n",
        "            if class_eva:\n",
        "                c = (preds == labels).squeeze()\n",
        "                for i in range(labels.size(0)):\n",
        "                    label = labels[i]\n",
        "                    class_correct[label] += c[i].item()\n",
        "                    class_total[label] += 1\n",
        "\n",
        "    loss = running_loss / total\n",
        "    accuracy = correct.double() / total\n",
        "\n",
        "    if class_eva:\n",
        "        return loss, accuracy, class_correct, class_total\n",
        "    else:\n",
        "        return loss, accuracy\n",
        "\n",
        "def evaluate(model, dataloader, criterion, device, num_class, class_eva=False, store_examples=False):\n",
        "    model.eval()\n",
        "    running_loss = 0.0\n",
        "    correct = 0\n",
        "    total = 0\n",
        "    class_correct = list(0. for i in range(num_class))\n",
        "    class_total = list(0. for i in range(num_class))\n",
        "\n",
        "    best_correct = None\n",
        "    worst_incorrect = None\n",
        "\n",
        "    with torch.no_grad():\n",
        "        for inputs, labels in tqdm(dataloader, desc='Evaluating'):\n",
        "            inputs, labels = inputs.to(device), labels.to(device)\n",
        "            outputs = model(inputs)\n",
        "            loss = criterion(outputs, labels)\n",
        "            running_loss += loss.item() * inputs.size(0)\n",
        "            _, preds = torch.max(outputs, 1)\n",
        "            correct += torch.sum(preds == labels.data)\n",
        "            total += labels.size(0)\n",
        "\n",
        "            if store_examples:\n",
        "                probabilities = F.softmax(outputs, dim=1)\n",
        "                for i in range(inputs.size(0)):\n",
        "                    confidence, predicted_label = torch.max(probabilities[i], 0)\n",
        "                    actual_label = labels[i].item()\n",
        "                    if predicted_label.item() == actual_label:\n",
        "                        if best_correct is None or confidence > best_correct['confidence']:\n",
        "                            best_correct = {\n",
        "                                'confidence': confidence,\n",
        "                                'image': inputs[i],\n",
        "                                'label': actual_label,\n",
        "                            }\n",
        "                    else:\n",
        "                        if worst_incorrect is None or confidence < worst_incorrect['confidence']:\n",
        "                            worst_incorrect = {\n",
        "                                'confidence': confidence,\n",
        "                                'image': inputs[i],\n",
        "                                'label': actual_label,\n",
        "                                'predicted_label': predicted_label.item(),\n",
        "                            }\n",
        "\n",
        "            if class_eva:\n",
        "                c = (preds == labels).squeeze()\n",
        "                for i in range(labels.size(0)):\n",
        "                    label = labels[i]\n",
        "                    class_correct[label] += c[i].item()\n",
        "                    class_total[label] += 1\n",
        "\n",
        "    loss = running_loss / total\n",
        "    accuracy = correct.double() / total\n",
        "\n",
        "    results = (loss, accuracy)\n",
        "    if class_eva:\n",
        "        results += (class_correct, class_total)\n",
        "    if store_examples:\n",
        "        results += (best_correct, worst_incorrect)\n",
        "\n",
        "    return results\n",
        "\n",
        "# def display_image(image):\n",
        "#     # Convert the image tensor to numpy and transpose the dimensions from (C, H, W) to (H, W, C)\n",
        "#     image = image.cpu().numpy().transpose(1, 2, 0)\n",
        "#     # Display the image\n",
        "#     plt.imshow(image)\n",
        "#     plt.show()\n",
        "\n",
        "def display_image(image):\n",
        "    if isinstance(image, dict):\n",
        "        image = image['image']\n",
        "    image = image.cpu().numpy().transpose(1, 2, 0)\n",
        "    plt.imshow(image)\n",
        "    plt.show()\n",
        "\n",
        "def train_network(model, optimizer, criterion, scheduler, trainloader, valloader, testloader, num_epochs, device, num_class, model_name, dataset):\n",
        "\n",
        "    ## section00: setting path for save the model\n",
        "    set_seed(1311)\n",
        "    PATH = f'./{dataset}_{model_name}.pth'\n",
        "    print('Model will be saved to:', PATH)\n",
        "    print('Using device:', device, 'with seed: 1311')\n",
        "    print()\n",
        "\n",
        "    ## section01: Initialize variables\n",
        "    best_val_acc = 0  # to track the best validation accuracy\n",
        "    # create set to collect the output\n",
        "    history = {\n",
        "        'train_loss': [],\n",
        "        'train_accuracy': [],\n",
        "        'val_loss': [],\n",
        "        'val_accuracy': [],\n",
        "        'best_correct': [],\n",
        "        'worst_incorrect': [],\n",
        "    }\n",
        "    class_correct = list(0. for i in range(num_class))\n",
        "    class_total = list(0. for i in range(num_class))\n",
        "\n",
        "    ## section02: Training and validation the model\n",
        "    for epoch in range(num_epochs):\n",
        "        epoch_start_time = time.time()\n",
        "\n",
        "        train_loss, train_acc = train_epoch(model, trainloader, criterion, optimizer, device)\n",
        "        val_loss, val_acc = evaluate(model, valloader, criterion, device, num_class)\n",
        "\n",
        "\n",
        "        # Step the scheduler with the validation loss\n",
        "        scheduler.step()\n",
        "        # scheduler.step(val_acc) # for ReduceLROnPlateau\n",
        "\n",
        "        history['train_loss'].append(train_loss)\n",
        "        history['train_accuracy'].append(100 * train_acc)\n",
        "        history['val_loss'].append(val_loss)\n",
        "        history['val_accuracy'].append(100 * val_acc)\n",
        "\n",
        "        # Save the model if it has improved on validation accuracy\n",
        "        if val_acc > best_val_acc:\n",
        "            best_val_acc = val_acc\n",
        "            torch.save(model.state_dict(), PATH)\n",
        "            print(f'Model improved and saved to {PATH}')\n",
        "\n",
        "        # print epoch results\n",
        "        epoch_end_time = time.time()\n",
        "        print(f'Epoch {epoch+1}/{num_epochs}, '\n",
        "              f'Train Loss: {train_loss:.4f}, Train Acc: {100 * train_acc:.2f}%, '\n",
        "              f'Val Loss: {val_loss:.4f}, Val Acc: {100 * val_acc:.2f}%, '\n",
        "              f'Time: {epoch_end_time - epoch_start_time:.2f}s')\n",
        "\n",
        "    print('Training complete. Evaluating on test set with the best model...')\n",
        "\n",
        "    ## section03: Load the best model for final evaluation on test set\n",
        "    best_model = model\n",
        "    best_model.load_state_dict(torch.load(PATH))\n",
        "\n",
        "    test_loss, test_acc, class_correct, class_total = evaluate(best_model, testloader, criterion, device, num_class, class_eva=True)\n",
        "    print(f'Test Loss: {test_loss:.4f}, Test Acc: {100 * test_acc:.2f}%')\n",
        "    # Add test results to history\n",
        "    history['test_loss'] = test_loss\n",
        "    history['test_accuracy'] = 100 * test_acc\n",
        "\n",
        "    ## section04: Load the best model for final evaluation on test set for each class\n",
        "    print(f'Test Acc on each class')\n",
        "    class_results = {}\n",
        "    for i in range(num_class):\n",
        "        if class_total[i] > 0:\n",
        "            results = 100 * class_correct[i] / class_total[i]\n",
        "            class_results[classes[i]] = results\n",
        "            print('Accuracy of class %s : %2d %%' % (classes[i], results))\n",
        "        else:\n",
        "            class_results[classes[i]] = 0\n",
        "            print('Accuracy of class %s : N/A (no samples in test set)' % classes[i])\n",
        "\n",
        "    history['class_results'] = class_results\n",
        "\n",
        "    ## section04: collect the best and worst image\n",
        "    test_loss, test_acc, best_correct, worst_incorrect = evaluate(\n",
        "        best_model,\n",
        "        testloader,\n",
        "        criterion,\n",
        "        device,\n",
        "        num_class,\n",
        "        class_eva=False,\n",
        "        store_examples=True\n",
        "    )\n",
        "    history['best_correct'].append(best_correct)\n",
        "    history['worst_incorrect'].append(worst_incorrect)\n",
        "    print('Best Correct Prediction:')\n",
        "    print('Confidence:', best_correct['confidence'].item())\n",
        "    # print('Label:', int(best_correct['label']))\n",
        "    print('Index:',  int(best_correct['label']), \"- Labels: \",classes[int(best_correct['label'])])\n",
        "    display_image(best_correct['image'])\n",
        "\n",
        "    print('\\nWorst Incorrect Prediction:')\n",
        "    print('Confidence:', worst_incorrect['confidence'].item())\n",
        "    print('Actual Index:', int(worst_incorrect['label']), \"- Labels: \",classes[int(worst_incorrect['label'])])\n",
        "    print('Predicted Index:', int(worst_incorrect['predicted_label']), \"- Labels: \",classes[int(worst_incorrect['predicted_label'])])\n",
        "    display_image(worst_incorrect['image'])\n",
        "\n",
        "    return history"
      ],
      "metadata": {
        "id": "POnZ3eTL34w7"
      },
      "execution_count": 8,
      "outputs": []
    },
    {
      "cell_type": "markdown",
      "metadata": {
        "id": "4QCY3e2prCKc"
      },
      "source": [
        "## Initialize network"
      ]
    },
    {
      "cell_type": "markdown",
      "source": [
        "### network: VGG19"
      ],
      "metadata": {
        "id": "bzhmSUp_dS1G"
      }
    },
    {
      "cell_type": "code",
      "source": [
        "__all__ = [\n",
        "    'VGG', 'vgg11', 'vgg11_bn', 'vgg13', 'vgg13_bn', 'vgg16', 'vgg16_bn',\n",
        "    'vgg19_bn', 'vgg19',\n",
        "]\n",
        "\n",
        "\n",
        "class VGG(nn.Module):\n",
        "    '''\n",
        "    VGG model\n",
        "    '''\n",
        "    def __init__(self, features):\n",
        "        super(VGG, self).__init__()\n",
        "        self.features = features\n",
        "        self.classifier = nn.Sequential(\n",
        "            nn.Dropout(),\n",
        "            nn.Linear(512, 512),\n",
        "            nn.ReLU(True),\n",
        "            nn.Dropout(),\n",
        "            nn.Linear(512, 512),\n",
        "            nn.ReLU(True),\n",
        "            nn.Linear(512, 10),\n",
        "        )\n",
        "         # Initialize weights\n",
        "        for m in self.modules():\n",
        "            if isinstance(m, nn.Conv2d):\n",
        "                n = m.kernel_size[0] * m.kernel_size[1] * m.out_channels\n",
        "                m.weight.data.normal_(0, math.sqrt(2. / n))\n",
        "                m.bias.data.zero_()\n",
        "\n",
        "\n",
        "    def forward(self, x):\n",
        "        x = self.features(x)\n",
        "        x = x.view(x.size(0), -1)\n",
        "        x = self.classifier(x)\n",
        "        return x\n",
        "\n",
        "\n",
        "def make_layers(cfg, batch_norm=False):\n",
        "    layers = []\n",
        "    in_channels = 3\n",
        "    for v in cfg:\n",
        "        if v == 'M':\n",
        "            layers += [nn.MaxPool2d(kernel_size=2, stride=2)]\n",
        "        else:\n",
        "            conv2d = nn.Conv2d(in_channels, v, kernel_size=3, padding=1)\n",
        "            if batch_norm:\n",
        "                layers += [conv2d, nn.BatchNorm2d(v), nn.ReLU(inplace=True)]\n",
        "            else:\n",
        "                layers += [conv2d, nn.ReLU(inplace=True)]\n",
        "            in_channels = v\n",
        "    return nn.Sequential(*layers)\n",
        "\n",
        "\n",
        "cfg = {\n",
        "    'A': [64, 'M', 128, 'M', 256, 256, 'M', 512, 512, 'M', 512, 512, 'M'],\n",
        "    'B': [64, 64, 'M', 128, 128, 'M', 256, 256, 'M', 512, 512, 'M', 512, 512, 'M'],\n",
        "    'D': [64, 64, 'M', 128, 128, 'M', 256, 256, 256, 'M', 512, 512, 512, 'M', 512, 512, 512, 'M'],\n",
        "    'E': [64, 64, 'M', 128, 128, 'M', 256, 256, 256, 256, 'M', 512, 512, 512, 512, 'M',\n",
        "          512, 512, 512, 512, 'M'],\n",
        "}\n",
        "\n",
        "\n",
        "def vgg11():\n",
        "    \"\"\"VGG 11-layer model (configuration \"A\")\"\"\"\n",
        "    return VGG(make_layers(cfg['A']))\n",
        "\n",
        "\n",
        "def vgg11_bn():\n",
        "    \"\"\"VGG 11-layer model (configuration \"A\") with batch normalization\"\"\"\n",
        "    return VGG(make_layers(cfg['A'], batch_norm=True))\n",
        "\n",
        "\n",
        "def vgg13():\n",
        "    \"\"\"VGG 13-layer model (configuration \"B\")\"\"\"\n",
        "    return VGG(make_layers(cfg['B']))\n",
        "\n",
        "\n",
        "def vgg13_bn():\n",
        "    \"\"\"VGG 13-layer model (configuration \"B\") with batch normalization\"\"\"\n",
        "    return VGG(make_layers(cfg['B'], batch_norm=True))\n",
        "\n",
        "\n",
        "def vgg16():\n",
        "    \"\"\"VGG 16-layer model (configuration \"D\")\"\"\"\n",
        "    return VGG(make_layers(cfg['D']))\n",
        "\n",
        "\n",
        "def vgg16_bn():\n",
        "    \"\"\"VGG 16-layer model (configuration \"D\") with batch normalization\"\"\"\n",
        "    return VGG(make_layers(cfg['D'], batch_norm=True))\n",
        "\n",
        "\n",
        "def vgg19():\n",
        "    \"\"\"VGG 19-layer model (configuration \"E\")\"\"\"\n",
        "    return VGG(make_layers(cfg['E']))\n",
        "\n",
        "\n",
        "def vgg19_bn():\n",
        "    \"\"\"VGG 19-layer model (configuration 'E') with batch normalization\"\"\"\n",
        "    return VGG(make_layers(cfg['E'], batch_norm=True))"
      ],
      "metadata": {
        "id": "GcAGvzTDdQAw"
      },
      "execution_count": 9,
      "outputs": []
    },
    {
      "cell_type": "markdown",
      "metadata": {
        "id": "dy7L_Orn_riM"
      },
      "source": [
        "### network: Alexnet"
      ]
    },
    {
      "cell_type": "code",
      "execution_count": 10,
      "metadata": {
        "id": "4vQ3SsFC_riM"
      },
      "outputs": [],
      "source": [
        "class AlexNet(nn.Module):\n",
        "    def __init__(self, num_classes=num_class):\n",
        "        super(AlexNet, self).__init__()\n",
        "        self.features = nn.Sequential(\n",
        "            nn.Conv2d(3, 64, kernel_size=3, stride=1, padding=1),\n",
        "            nn.ReLU(inplace=True),\n",
        "            nn.MaxPool2d(kernel_size=2, stride=2),\n",
        "            nn.Conv2d(64, 192, kernel_size=3, padding=1),\n",
        "            nn.ReLU(inplace=True),\n",
        "            nn.MaxPool2d(kernel_size=2, stride=2),\n",
        "            nn.Conv2d(192, 384, kernel_size=3, padding=1),\n",
        "            nn.ReLU(inplace=True),\n",
        "            nn.Conv2d(384, 256, kernel_size=3, padding=1),\n",
        "            nn.ReLU(inplace=True),\n",
        "            nn.Conv2d(256, 256, kernel_size=3, padding=1),\n",
        "            nn.ReLU(inplace=True),\n",
        "            nn.MaxPool2d(kernel_size=2, stride=2),\n",
        "        )\n",
        "        self.avgpool = nn.AdaptiveAvgPool2d((6, 6))\n",
        "        self.classifier = nn.Sequential(\n",
        "            nn.Dropout(),\n",
        "            nn.Linear(256 * 6 * 6, 4096),\n",
        "            nn.ReLU(inplace=True),\n",
        "            nn.Dropout(),\n",
        "            nn.Linear(4096, 4096),\n",
        "            nn.ReLU(inplace=True),\n",
        "            nn.Linear(4096, num_classes),\n",
        "        )\n",
        "\n",
        "    def forward(self, x):\n",
        "        x = self.features(x)\n",
        "        x = self.avgpool(x)\n",
        "        x = torch.flatten(x, 1)\n",
        "        x = self.classifier(x)\n",
        "        return x\n",
        "\n"
      ]
    },
    {
      "cell_type": "markdown",
      "metadata": {
        "id": "AfDY_J3v_riM"
      },
      "source": [
        "### network: ResNet18"
      ]
    },
    {
      "cell_type": "code",
      "execution_count": 11,
      "metadata": {
        "id": "Ms9Y_tB3_riM"
      },
      "outputs": [],
      "source": [
        "class BasicBlock(nn.Module):\n",
        "    expansion = 1\n",
        "\n",
        "    def __init__(self, in_planes, planes, stride=1):\n",
        "        super(BasicBlock, self).__init__()\n",
        "        self.conv1 = nn.Conv2d(in_planes, planes,\n",
        "                               kernel_size=3, stride=stride, padding=1,\n",
        "                               bias=False)\n",
        "        self.bn1 = nn.BatchNorm2d(planes)\n",
        "        self.conv2 = nn.Conv2d(planes, planes,\n",
        "                               kernel_size=3,stride=1, padding=1,\n",
        "                               bias=False)\n",
        "        self.bn2 = nn.BatchNorm2d(planes)\n",
        "\n",
        "        self.shortcut = nn.Sequential()\n",
        "        if stride != 1 or in_planes != self.expansion*planes:\n",
        "            self.shortcut = nn.Sequential(\n",
        "                nn.Conv2d(in_planes, self.expansion*planes,\n",
        "                          kernel_size=1, stride=stride,\n",
        "                          bias=False),\n",
        "                nn.BatchNorm2d(self.expansion*planes)\n",
        "            )\n",
        "\n",
        "    def forward(self, x):\n",
        "        out = F.relu(self.bn1(self.conv1(x)))\n",
        "        out = self.bn2(self.conv2(out))\n",
        "        out += self.shortcut(x)\n",
        "        out = F.relu(out)\n",
        "        return out\n",
        "\n",
        "class Bottleneck(nn.Module):\n",
        "    expansion = 4\n",
        "\n",
        "    def __init__(self, in_planes, planes, stride=1):\n",
        "        super(Bottleneck, self).__init__()\n",
        "        self.conv1 = nn.Conv2d(in_planes, planes, kernel_size=1, bias=False)\n",
        "        self.bn1 = nn.BatchNorm2d(planes)\n",
        "        self.conv2 = nn.Conv2d(planes, planes, kernel_size=3,\n",
        "                               stride=stride, padding=1, bias=False)\n",
        "        self.bn2 = nn.BatchNorm2d(planes)\n",
        "        self.conv3 = nn.Conv2d(planes, self.expansion *\n",
        "                               planes, kernel_size=1, bias=False)\n",
        "        self.bn3 = nn.BatchNorm2d(self.expansion*planes)\n",
        "\n",
        "        self.shortcut = nn.Sequential()\n",
        "        if stride != 1 or in_planes != self.expansion*planes:\n",
        "            self.shortcut = nn.Sequential(\n",
        "                nn.Conv2d(in_planes, self.expansion*planes,\n",
        "                          kernel_size=1, stride=stride, bias=False),\n",
        "                nn.BatchNorm2d(self.expansion*planes)\n",
        "            )\n",
        "\n",
        "    def forward(self, x):\n",
        "        out = F.relu(self.bn1(self.conv1(x)))\n",
        "        out = F.relu(self.bn2(self.conv2(out)))\n",
        "        out = self.bn3(self.conv3(out))\n",
        "        out += self.shortcut(x)\n",
        "        out = F.relu(out)\n",
        "        return out\n",
        "\n",
        "class ResNet(nn.Module):\n",
        "    def __init__(self, block, num_blocks, num_classes=num_class):\n",
        "        super(ResNet, self).__init__()\n",
        "        self.in_planes = 64\n",
        "\n",
        "        self.conv1 = nn.Conv2d(3, 64, kernel_size=3,\n",
        "                               stride=1, padding=1, bias=False)\n",
        "        self.bn1 = nn.BatchNorm2d(64)\n",
        "        self.layer1 = self._make_layer(block, 64, num_blocks[0], stride=1)\n",
        "        self.layer2 = self._make_layer(block, 128, num_blocks[1], stride=2)\n",
        "        self.layer3 = self._make_layer(block, 256, num_blocks[2], stride=2)\n",
        "        self.layer4 = self._make_layer(block, 512, num_blocks[3], stride=2)\n",
        "        self.linear = nn.Linear(512*block.expansion, num_classes)\n",
        "\n",
        "    def _make_layer(self, block, planes, num_blocks, stride):\n",
        "        strides = [stride] + [1]*(num_blocks-1)\n",
        "        layers = []\n",
        "        for stride in strides:\n",
        "            layers.append(block(self.in_planes, planes, stride))\n",
        "            self.in_planes = planes * block.expansion\n",
        "        return nn.Sequential(*layers)\n",
        "\n",
        "    def forward(self, x):\n",
        "        out = F.relu(self.bn1(self.conv1(x)))\n",
        "        out = self.layer1(out)\n",
        "        out = self.layer2(out)\n",
        "        out = self.layer3(out)\n",
        "        out = self.layer4(out)\n",
        "        out = F.avg_pool2d(out, 4)\n",
        "        out = out.view(out.size(0), -1)\n",
        "        out = self.linear(out)\n",
        "        return out\n",
        "\n",
        "def ResNet18():\n",
        "    return ResNet(BasicBlock, [2, 2, 2, 2])\n",
        "\n",
        "def ResNet34():\n",
        "    return ResNet(BasicBlock, [3, 4, 6, 3])\n",
        "\n",
        "def ResNet50():\n",
        "    return ResNet(Bottleneck, [3, 4, 6, 3])\n",
        "\n",
        "def test():\n",
        "    net = ResNet18()\n",
        "    y = net(torch.randn(1, 3, 32, 32))\n",
        "    print(y.size())"
      ]
    },
    {
      "cell_type": "markdown",
      "metadata": {
        "id": "NdBwZD2G_riN"
      },
      "source": [
        "## Train the network"
      ]
    },
    {
      "cell_type": "code",
      "execution_count": null,
      "metadata": {
        "id": "Yi_8BJwm_riN"
      },
      "outputs": [],
      "source": [
        "def plot_loss(train_loss, val_loss):\n",
        "    if isinstance(train_loss[0], torch.Tensor):\n",
        "        train_loss = [x.cpu().numpy() for x in train_loss]\n",
        "    if isinstance(val_loss[0], torch.Tensor):\n",
        "        val_loss = [x.cpu().numpy() for x in val_loss]\n",
        "\n",
        "    plt.plot(train_loss, '-bx')\n",
        "    plt.plot(val_loss, '-rx')\n",
        "    plt.xlabel('epoch')\n",
        "    plt.ylabel('loss')\n",
        "    plt.legend(['Training', 'Validation'])\n",
        "    plt.title('Loss vs. No. of epochs')\n",
        "    plt.show()\n",
        "\n",
        "def plot_acc(train_acc, val_acc):\n",
        "    if isinstance(train_acc[0], torch.Tensor):\n",
        "        train_acc = [x.cpu().numpy() for x in train_acc]\n",
        "    if isinstance(val_acc[0], torch.Tensor):\n",
        "        val_acc = [x.cpu().numpy() for x in val_acc]\n",
        "\n",
        "    plt.plot(train_acc, '-bx')\n",
        "    plt.plot(val_acc, '-rx')\n",
        "    plt.xlabel('epoch')\n",
        "    plt.ylabel('accuracy')\n",
        "    plt.legend(['Training', 'Validation'])\n",
        "    plt.title('Accuracy vs. No. of epochs')\n",
        "    plt.show()"
      ]
    },
    {
      "cell_type": "code",
      "source": [
        "# set the whole network training\n",
        "num_epochs = 1\n",
        "criterion = nn.CrossEntropyLoss()"
      ],
      "metadata": {
        "id": "mYJujRlaNumT"
      },
      "execution_count": 12,
      "outputs": []
    },
    {
      "cell_type": "markdown",
      "source": [
        "### Check number of parameter"
      ],
      "metadata": {
        "id": "3886dzWst7kQ"
      }
    },
    {
      "cell_type": "code",
      "source": [
        "from torchsummary import summary\n",
        "for i in [AlexNet(), vgg19(), ResNet18(), ResNet34(), ResNet50()]:\n",
        "    print(\"Model: \", i.__class__.__name__)\n",
        "    print(\"Number of parameters: \", sum(p.numel() for p in i.parameters() if p.requires_grad))\n",
        "    summary(i.to(device), (3, 32, 32))\n",
        "    print(\"-\"*50)"
      ],
      "metadata": {
        "id": "rBVmX7Qmt8Fj"
      },
      "execution_count": null,
      "outputs": []
    },
    {
      "cell_type": "markdown",
      "metadata": {
        "id": "qIgKMCms_riO"
      },
      "source": [
        "### Train the network - Alexnet"
      ]
    },
    {
      "cell_type": "code",
      "execution_count": 13,
      "metadata": {
        "colab": {
          "base_uri": "https://localhost:8080/",
          "height": 1000
        },
        "id": "OzZey43z_riO",
        "outputId": "7f18cbd3-5ea5-4ac7-8cb6-515e8ed9084c"
      },
      "outputs": [
        {
          "output_type": "stream",
          "name": "stdout",
          "text": [
            "Model will be saved to: ./FashionMNIST_alexnet.pth\n",
            "Using device: cuda with seed: 1311\n",
            "\n"
          ]
        },
        {
          "output_type": "stream",
          "name": "stderr",
          "text": [
            "Training: 100%|██████████| 3000/3000 [00:52<00:00, 56.74it/s]\n",
            "Evaluating: 100%|██████████| 750/750 [00:10<00:00, 74.55it/s]\n"
          ]
        },
        {
          "output_type": "stream",
          "name": "stdout",
          "text": [
            "Model improved and saved to ./FashionMNIST_alexnet.pth\n",
            "Epoch 1/1, Train Loss: 1.8451, Train Acc: 28.89%, Val Loss: 0.8845, Val Acc: 65.64%, Time: 63.49s\n",
            "Training complete. Evaluating on test set with the best model...\n"
          ]
        },
        {
          "output_type": "stream",
          "name": "stderr",
          "text": [
            "Evaluating: 100%|██████████| 625/625 [00:06<00:00, 94.24it/s]\n"
          ]
        },
        {
          "output_type": "stream",
          "name": "stdout",
          "text": [
            "Test Loss: 0.8920, Test Acc: 65.92%\n",
            "Test Acc on each class\n",
            "Accuracy of class T-shirt/top : 66 %\n",
            "Accuracy of class Trouser : 91 %\n",
            "Accuracy of class Pullover : 27 %\n",
            "Accuracy of class Dress : 66 %\n",
            "Accuracy of class Coat : 89 %\n",
            "Accuracy of class Sandal : 57 %\n",
            "Accuracy of class Shirt :  3 %\n",
            "Accuracy of class Sneaker : 94 %\n",
            "Accuracy of class Bag : 85 %\n",
            "Accuracy of class Ankle boot : 76 %\n"
          ]
        },
        {
          "output_type": "stream",
          "name": "stderr",
          "text": [
            "Evaluating: 100%|██████████| 625/625 [00:07<00:00, 86.95it/s]\n",
            "WARNING:matplotlib.image:Clipping input data to the valid range for imshow with RGB data ([0..1] for floats or [0..255] for integers).\n"
          ]
        },
        {
          "output_type": "stream",
          "name": "stdout",
          "text": [
            "Best Correct Prediction:\n",
            "Confidence: 0.9958502054214478\n",
            "Index: 8 - Labels:  Bag\n"
          ]
        },
        {
          "output_type": "display_data",
          "data": {
            "text/plain": [
              "<Figure size 640x480 with 1 Axes>"
            ],
            "image/png": "[encoded data removed]"
          },
          "metadata": {}
        },
        {
          "output_type": "stream",
          "name": "stderr",
          "text": [
            "WARNING:matplotlib.image:Clipping input data to the valid range for imshow with RGB data ([0..1] for floats or [0..255] for integers).\n"
          ]
        },
        {
          "output_type": "stream",
          "name": "stdout",
          "text": [
            "\n",
            "Worst Incorrect Prediction:\n",
            "Confidence: 0.17053723335266113\n",
            "Actual Index: 6 - Labels:  Shirt\n",
            "Predicted Index: 2 - Labels:  Pullover\n"
          ]
        },
        {
          "output_type": "display_data",
          "data": {
            "text/plain": [
              "<Figure size 640x480 with 1 Axes>"
            ],
            "image/png": "[encoded data removed]"
          },
          "metadata": {}
        },
        {
          "output_type": "error",
          "ename": "NameError",
          "evalue": "ignored",
          "traceback": [
            "\u001b[0;31m---------------------------------------------------------------------------\u001b[0m",
            "\u001b[0;31mNameError\u001b[0m                                 Traceback (most recent call last)",
            "\u001b[0;32m<ipython-input-13-bf0ed4d9dc85>\u001b[0m in \u001b[0;36m<cell line: 28>\u001b[0;34m()\u001b[0m\n\u001b[1;32m     26\u001b[0m \u001b[0;34m\u001b[0m\u001b[0m\n\u001b[1;32m     27\u001b[0m \u001b[0;31m# Plot the results\u001b[0m\u001b[0;34m\u001b[0m\u001b[0;34m\u001b[0m\u001b[0m\n\u001b[0;32m---> 28\u001b[0;31m \u001b[0mplot_loss\u001b[0m\u001b[0;34m(\u001b[0m\u001b[0malexnet_results\u001b[0m\u001b[0;34m[\u001b[0m\u001b[0;34m'train_loss'\u001b[0m\u001b[0;34m]\u001b[0m\u001b[0;34m,\u001b[0m \u001b[0malexnet_results\u001b[0m\u001b[0;34m[\u001b[0m\u001b[0;34m'val_loss'\u001b[0m\u001b[0;34m]\u001b[0m\u001b[0;34m)\u001b[0m\u001b[0;34m\u001b[0m\u001b[0;34m\u001b[0m\u001b[0m\n\u001b[0m\u001b[1;32m     29\u001b[0m \u001b[0mplot_acc\u001b[0m\u001b[0;34m(\u001b[0m\u001b[0malexnet_results\u001b[0m\u001b[0;34m[\u001b[0m\u001b[0;34m'train_accuracy'\u001b[0m\u001b[0;34m]\u001b[0m\u001b[0;34m,\u001b[0m \u001b[0malexnet_results\u001b[0m\u001b[0;34m[\u001b[0m\u001b[0;34m'val_accuracy'\u001b[0m\u001b[0;34m]\u001b[0m\u001b[0;34m)\u001b[0m\u001b[0;34m\u001b[0m\u001b[0;34m\u001b[0m\u001b[0m\n\u001b[1;32m     30\u001b[0m \u001b[0;31m# Print Test Loss and Test Accuracy\u001b[0m\u001b[0;34m\u001b[0m\u001b[0;34m\u001b[0m\u001b[0m\n",
            "\u001b[0;31mNameError\u001b[0m: name 'plot_loss' is not defined"
          ]
        }
      ],
      "source": [
        "# individual configuration\n",
        "alexnet = AlexNet().to(device)\n",
        "model_name = \"alexnet\"\n",
        "model = alexnet\n",
        "\n",
        "# Assuming `model` is your neural network model and `lr` is your learning rate\n",
        "optimizer = optim.SGD(model.parameters(), lr=0.001, momentum=0.9, weight_decay=0.001)\n",
        "from torch.optim.lr_scheduler import CosineAnnealingLR\n",
        "scheduler = CosineAnnealingLR(optimizer, T_max=50, eta_min=0)\n",
        "\n",
        "\n",
        "# training model\n",
        "alexnet_results = train_network(model,\n",
        "                                  optimizer,\n",
        "                                  criterion,\n",
        "                                  scheduler,\n",
        "                                  trainloader,\n",
        "                                  valloader,\n",
        "                                  testloader,\n",
        "                                  num_epochs,\n",
        "                                  device,\n",
        "                                  num_class,\n",
        "                                  model_name,\n",
        "                                  dataset\n",
        "                                  )\n",
        "\n",
        "# Plot the results\n",
        "plot_loss(alexnet_results['train_loss'], alexnet_results['val_loss'])\n",
        "plot_acc(alexnet_results['train_accuracy'], alexnet_results['val_accuracy'])\n",
        "# Print Test Loss and Test Accuracy\n",
        "\n",
        "print(f'Test Loss: {alexnet_results[\"test_loss\"]:.4f}, Test Accuracy: {alexnet_results[\"test_accuracy\"]:.2f}%')"
      ]
    },
    {
      "cell_type": "markdown",
      "source": [
        "### Train the network - VGG19"
      ],
      "metadata": {
        "id": "fDhJahL2dnNs"
      }
    },
    {
      "cell_type": "code",
      "source": [
        "# individual configuration\n",
        "vggnet19 = vgg19().to(device)\n",
        "model_name = \"vggnet19\"\n",
        "model = vggnet19\n",
        "\n",
        "# Assuming `model` is your neural network model and `lr` is your learning rate\n",
        "optimizer = optim.SGD(model.parameters(), lr=0.001, momentum=0.9, weight_decay=0.001)\n",
        "from torch.optim.lr_scheduler import CosineAnnealingLR\n",
        "scheduler = CosineAnnealingLR(optimizer, T_max=50, eta_min=0)\n",
        "\n",
        "# training model\n",
        "vggnet19_results = train_network(model,\n",
        "                                  optimizer,\n",
        "                                  criterion,\n",
        "                                  scheduler,\n",
        "                                  trainloader,\n",
        "                                  valloader,\n",
        "                                  testloader,\n",
        "                                  num_epochs,\n",
        "                                  device,\n",
        "                                  num_class,\n",
        "                                  model_name,\n",
        "                                  dataset\n",
        "                                  )\n",
        "\n",
        "# Plot the results\n",
        "plot_loss(vggnet19_results['train_loss'], vggnet19_results['val_loss'])\n",
        "plot_acc(vggnet19_results['train_accuracy'], vggnet19_results['val_accuracy'])"
      ],
      "metadata": {
        "id": "ZVe5hZWxdqeq"
      },
      "execution_count": null,
      "outputs": []
    },
    {
      "cell_type": "markdown",
      "metadata": {
        "id": "_d4Pfmqg_riO"
      },
      "source": [
        "### Train the network - Resnet18"
      ]
    },
    {
      "cell_type": "code",
      "execution_count": null,
      "metadata": {
        "id": "4xfqSsoN_riO"
      },
      "outputs": [],
      "source": [
        "# individual configuration\n",
        "resnet18 = ResNet18().to(device)\n",
        "model_name = \"resnet18\"\n",
        "model = resnet18\n",
        "\n",
        "# Assuming `model` is your neural network model and `lr` is your learning rate\n",
        "optimizer = optim.SGD(model.parameters(), lr=0.001, momentum=0.9, weight_decay=0.001)\n",
        "from torch.optim.lr_scheduler import CosineAnnealingLR\n",
        "scheduler = CosineAnnealingLR(optimizer, T_max=50, eta_min=0)\n",
        "\n",
        "# training model\n",
        "resnet18_results = train_network(model,\n",
        "                                  optimizer,\n",
        "                                  criterion,\n",
        "                                  scheduler,\n",
        "                                  trainloader,\n",
        "                                  valloader,\n",
        "                                  testloader,\n",
        "                                  num_epochs,\n",
        "                                  device,\n",
        "                                  num_class,\n",
        "                                  model_name,\n",
        "                                  dataset\n",
        "                                  )\n",
        "\n",
        "# Plot the results\n",
        "plot_loss(resnet18_results['train_loss'], resnet18_results['val_loss'])\n",
        "plot_acc(resnet18_results['train_accuracy'], resnet18_results['val_accuracy'])"
      ]
    },
    {
      "cell_type": "markdown",
      "metadata": {
        "id": "BD5SYO-u_riP"
      },
      "source": [
        "### Train the network - Resnet34"
      ]
    },
    {
      "cell_type": "code",
      "execution_count": null,
      "metadata": {
        "id": "W5Pmadht_riP"
      },
      "outputs": [],
      "source": [
        "# individual configuration\n",
        "resnet34 = ResNet34().to(device)\n",
        "model_name = \"resnet34\"\n",
        "model = resnet34\n",
        "\n",
        "# Assuming `model` is your neural network model and `lr` is your learning rate\n",
        "optimizer = optim.SGD(model.parameters(), lr=0.001, momentum=0.9, weight_decay=0.001)\n",
        "from torch.optim.lr_scheduler import CosineAnnealingLR\n",
        "scheduler = CosineAnnealingLR(optimizer, T_max=50, eta_min=0)\n",
        "\n",
        "# training model\n",
        "resnet34_results = train_network(model,\n",
        "                                  optimizer,\n",
        "                                  criterion,\n",
        "                                  scheduler,\n",
        "                                  trainloader,\n",
        "                                  valloader,\n",
        "                                  testloader,\n",
        "                                  num_epochs,\n",
        "                                  device,\n",
        "                                  num_class,\n",
        "                                  model_name,\n",
        "                                  dataset\n",
        "                                  )\n",
        "\n",
        "\n",
        "# Plot the results\n",
        "plot_loss(resnet34_results['train_loss'], resnet34_results['val_loss'])\n",
        "plot_acc(resnet34_results['train_accuracy'], resnet34_results['val_accuracy'])"
      ]
    },
    {
      "cell_type": "markdown",
      "source": [
        "### Train the network - Resnet50"
      ],
      "metadata": {
        "id": "q3j5wlmmPlrp"
      }
    },
    {
      "cell_type": "code",
      "source": [
        "# individual configuration\n",
        "resnet50 = ResNet50().to(device)\n",
        "model_name = \"resnet50\"\n",
        "model = resnet50\n",
        "\n",
        "# Assuming `model` is your neural network model and `lr` is your learning rate\n",
        "optimizer = optim.SGD(model.parameters(), lr=0.001, momentum=0.9, weight_decay=0.001)\n",
        "from torch.optim.lr_scheduler import CosineAnnealingLR\n",
        "scheduler = CosineAnnealingLR(optimizer, T_max=50, eta_min=0)\n",
        "\n",
        "# training model\n",
        "resnet50_results = train_network(model,\n",
        "                                  optimizer,\n",
        "                                  criterion,\n",
        "                                  scheduler,\n",
        "                                  trainloader,\n",
        "                                  valloader,\n",
        "                                  testloader,\n",
        "                                  num_epochs,\n",
        "                                  device,\n",
        "                                  num_class,\n",
        "                                  model_name,\n",
        "                                  dataset\n",
        "                                  )\n",
        "\n",
        "# Plot the results\n",
        "plot_loss(resnet50_results['train_loss'], resnet50_results['val_loss'])\n",
        "plot_acc(resnet50_results['train_accuracy'], resnet50_results['val_accuracy'])"
      ],
      "metadata": {
        "id": "J5IjayQuPkha"
      },
      "execution_count": null,
      "outputs": []
    },
    {
      "cell_type": "markdown",
      "metadata": {
        "id": "kvOAFyC2rJg8"
      },
      "source": [
        "## compare the accuracy on each class for each model"
      ]
    },
    {
      "cell_type": "code",
      "source": [
        "import pandas as pd\n",
        "import matplotlib.pyplot as plt\n",
        "import numpy as np\n",
        "\n",
        "def compare_models(class_results_dict):\n",
        "    # Create a DataFrame from the dictionary of class results\n",
        "    df = pd.DataFrame(class_results_dict)\n",
        "\n",
        "    # Calculate the median for all results\n",
        "    df['Median'] = df.median(axis=1)\n",
        "\n",
        "    # Sort the dataframe based on the median values\n",
        "    df = df.sort_values(by='Median', ascending=False)\n",
        "\n",
        "    # Select the best 5 and worst 5 classes\n",
        "    best_5 = df.head(5)\n",
        "    worst_5 = df.tail(5)\n",
        "\n",
        "    # Combine best 5 and worst 5\n",
        "    selected_classes = pd.concat([best_5, worst_5])\n",
        "\n",
        "    # Plotting\n",
        "    plt.style.use('seaborn-whitegrid')\n",
        "    fig, ax = plt.subplots(figsize=(10, 6))\n",
        "\n",
        "    # Bar plot for models\n",
        "    colors = plt.cm.viridis(np.linspace(0, 1, len(class_results_dict)))\n",
        "    selected_classes.drop(columns='Median').plot(kind='bar', ax=ax, color=colors)\n",
        "\n",
        "    # Scatter plot for median values\n",
        "    x_values = np.arange(len(selected_classes))\n",
        "    ax.scatter(x_values, selected_classes['Median'], color='black', s=100, label='Median')\n",
        "\n",
        "    # Horizontal line for overall median\n",
        "    overall_median = df['Median'].median()\n",
        "    ax.axhline(overall_median, color='gray', linewidth=2, linestyle='--', label='Overall Median')\n",
        "\n",
        "    # Annotating the median values on the chart\n",
        "    for i, value in enumerate(selected_classes['Median']):\n",
        "        ax.text(i, value+1, f'{value:.1f}', ha='center', va='bottom', fontsize=10)\n",
        "\n",
        "    # Setting labels and title\n",
        "    ax.set_ylabel('Accuracy (%)', fontsize=12)\n",
        "    ax.set_title('Comparison of Classification Accuracy Across Different Models', fontsize=14)\n",
        "    ax.legend()\n",
        "\n",
        "    # Setting x-ticks\n",
        "    ax.set_xticks(np.arange(len(selected_classes)))\n",
        "    ax.set_xticklabels(selected_classes.index, rotation=45, ha='right', fontsize=10)\n",
        "\n",
        "    # Show plot\n",
        "    plt.tight_layout()\n",
        "    plt.show()\n",
        "\n",
        "# Example class results\n",
        "class_results_dict = {\n",
        "    'AlexNet': alexnet_results['class_results'],\n",
        "    'Vgg19Net': vggnet19_results['class_results'],\n",
        "    'ResNet18': resnet18_results['class_results'],\n",
        "    'ResNet34': resnet34_results['class_results'],\n",
        "    'ResNet50': resnet50_results['class_results']\n",
        "}\n",
        "\n",
        "# Compare the models\n",
        "compare_models(class_results_dict)"
      ],
      "metadata": {
        "colab": {
          "base_uri": "https://localhost:8080/",
          "height": 663
        },
        "id": "6t2yrps6LFS6",
        "outputId": "486ab2df-1556-41b3-ae62-94ad46ef1984"
      },
      "execution_count": 14,
      "outputs": [
        {
          "output_type": "stream",
          "name": "stderr",
          "text": [
            "<ipython-input-14-64b556d95440>:23: MatplotlibDeprecationWarning: The seaborn styles shipped by Matplotlib are deprecated since 3.6, as they no longer correspond to the styles shipped by seaborn. However, they will remain available as 'seaborn-v0_8-<style>'. Alternatively, directly use the seaborn API instead.\n",
            "  plt.style.use('seaborn-whitegrid')\n"
          ]
        },
        {
          "output_type": "display_data",
          "data": {
            "text/plain": [
              "<Figure size 1000x600 with 1 Axes>"
            ],
            "image/png": "[encoded data removed]"
          },
          "metadata": {}
        }
      ]
    },
    {
      "cell_type": "markdown",
      "source": [
        "## compare the best image and worst confident on each class for each model"
      ],
      "metadata": {
        "id": "RKxE5g2zREcz"
      }
    },
    {
      "cell_type": "code",
      "source": [
        "import matplotlib.pyplot as plt\n",
        "import numpy as np\n",
        "import torch\n",
        "\n",
        "def plot_best_worst_predictions(model_histories, classes):\n",
        "    sns.set_style(\"whitegrid\")\n",
        "\n",
        "    num_models = len(model_histories)\n",
        "    fig_width = 3.3  # inches\n",
        "    fig_height = 2 * num_models  # Adjust the height based on the number of models\n",
        "    fig, axs = plt.subplots(num_models, 2, figsize=(fig_width, fig_height))\n",
        "\n",
        "    for i, (model_name, results) in enumerate(model_histories.items()):\n",
        "        # Best Prediction\n",
        "        best_correct = results['best_correct'][0]\n",
        "        image = best_correct['image'].cpu().numpy().transpose(1, 2, 0)\n",
        "        axs[i, 0].imshow(image)\n",
        "        axs[i, 0].set_title(f\"Best - {model_name} \\nConfidence: {best_correct['confidence'].item():.2f}, \\nLabel: {classes[best_correct['label']]}\", fontsize=8)\n",
        "        axs[i, 0].axis('off')\n",
        "\n",
        "        # Worst Prediction\n",
        "        worst_incorrect = results['worst_incorrect'][0]\n",
        "        image = worst_incorrect['image'].cpu().numpy().transpose(1, 2, 0)\n",
        "        axs[i, 1].imshow(image)\n",
        "        axs[i, 1].set_title(f\"Worst - {model_name} \\nConfidence: {worst_incorrect['confidence'].item():.2f}, \\nActual: {classes[worst_incorrect['label']]}, Predicted: {classes[worst_incorrect['predicted_label']]}\", fontsize=8)\n",
        "        axs[i, 1].axis('off')\n",
        "\n",
        "    # Adding labels and title\n",
        "    fig.text(0.04, 0.5, 'Models', va='center', rotation='vertical', fontsize=9)\n",
        "    # plt.suptitle('Best and Worst Predictions', fontsize=10, y=1.02)\n",
        "\n",
        "    # Adjust layout\n",
        "    plt.tight_layout()\n",
        "    plt.subplots_adjust(top=0.92, wspace=0.2, hspace=0.05)\n",
        "\n",
        "    plt.show()\n",
        "\n",
        "# Assuming model_results_1, model_results_2, and model_results_3 are dictionaries that hold the results from different models\n",
        "model_histories = {\n",
        "    'AlexNet': alexnet_results,\n",
        "    'Vgg19Net': vggnet19_results,\n",
        "    'ResNet18': resnet18_results,\n",
        "    'ResNet34': resnet34_results,\n",
        "    'ResNet50': resnet50_results\n",
        "}\n",
        "plot_best_worst_predictions(model_histories, classes)"
      ],
      "metadata": {
        "colab": {
          "base_uri": "https://localhost:8080/",
          "height": 1000
        },
        "id": "1poOGzayRFFE",
        "outputId": "48487cee-cd8b-4aa5-fa67-57550ae155a6"
      },
      "execution_count": 19,
      "outputs": [
        {
          "output_type": "stream",
          "name": "stderr",
          "text": [
            "WARNING:matplotlib.image:Clipping input data to the valid range for imshow with RGB data ([0..1] for floats or [0..255] for integers).\n",
            "WARNING:matplotlib.image:Clipping input data to the valid range for imshow with RGB data ([0..1] for floats or [0..255] for integers).\n",
            "WARNING:matplotlib.image:Clipping input data to the valid range for imshow with RGB data ([0..1] for floats or [0..255] for integers).\n",
            "WARNING:matplotlib.image:Clipping input data to the valid range for imshow with RGB data ([0..1] for floats or [0..255] for integers).\n",
            "WARNING:matplotlib.image:Clipping input data to the valid range for imshow with RGB data ([0..1] for floats or [0..255] for integers).\n",
            "WARNING:matplotlib.image:Clipping input data to the valid range for imshow with RGB data ([0..1] for floats or [0..255] for integers).\n",
            "WARNING:matplotlib.image:Clipping input data to the valid range for imshow with RGB data ([0..1] for floats or [0..255] for integers).\n",
            "WARNING:matplotlib.image:Clipping input data to the valid range for imshow with RGB data ([0..1] for floats or [0..255] for integers).\n",
            "WARNING:matplotlib.image:Clipping input data to the valid range for imshow with RGB data ([0..1] for floats or [0..255] for integers).\n",
            "WARNING:matplotlib.image:Clipping input data to the valid range for imshow with RGB data ([0..1] for floats or [0..255] for integers).\n"
          ]
        },
        {
          "output_type": "display_data",
          "data": {
            "text/plain": [
              "<Figure size 330x1000 with 10 Axes>"
            ],
            "image/png": "[encoded data removed]"
          },
          "metadata": {}
        }
      ]
    }
  ],
  "metadata": {
    "accelerator": "GPU",
    "colab": {
      "gpuType": "V100",
      "provenance": [],
      "include_colab_link": true
    },
    "kernelspec": {
      "display_name": "Python 3",
      "name": "python3"
    },
    "language_info": {
      "codemirror_mode": {
        "name": "ipython",
        "version": 3
      },
      "file_extension": ".py",
      "mimetype": "text/x-python",
      "name": "python",
      "nbconvert_exporter": "python",
      "pygments_lexer": "ipython3",
      "version": "3.7.16"
    }
  },
  "nbformat": 4,
  "nbformat_minor": 0
}