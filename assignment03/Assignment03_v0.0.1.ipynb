{
  "cells": [
    {
      "cell_type": "markdown",
      "metadata": {
        "id": "2EP7shVVj0tL"
      },
      "source": [
        "# Assessment 3: RNNs for stock price prediction"
      ]
    },
    {
      "cell_type": "code",
      "execution_count": 2,
      "metadata": {},
      "outputs": [],
      "source": [
        "import sys, site\n",
        "from pathlib import Path\n",
        "\n",
        "################################# NOTE #################################\n",
        "#  Please be aware that if colab installs the latest numpy and pyqlib  #\n",
        "#  in this cell, users should RESTART the runtime in order to run the  #\n",
        "#  following cells successfully.                                       #\n",
        "########################################################################\n",
        "\n",
        "try:\n",
        "    import qlib\n",
        "except ImportError:\n",
        "    # install qlib\n",
        "    ! pip install --upgrade numpy\n",
        "    ! pip install pyqlib\n",
        "    if \"google.colab\" in sys.modules:\n",
        "        # The Google colab environment is a little outdated. We have to downgrade the pyyaml to make it compatible with other packages\n",
        "        ! pip install pyyaml==5.4.1\n",
        "    # reload\n",
        "    site.main()\n",
        "\n",
        "scripts_dir = Path.cwd().parent.joinpath(\"scripts\")\n",
        "if not scripts_dir.joinpath(\"get_data.py\").exists():\n",
        "    # download get_data.py script\n",
        "    scripts_dir = Path(\"~/tmp/qlib_code/scripts\").expanduser().resolve()\n",
        "    scripts_dir.mkdir(parents=True, exist_ok=True)\n",
        "    import requests\n",
        "\n",
        "    with requests.get(\"https://raw.githubusercontent.com/microsoft/qlib/main/scripts/get_data.py\", timeout=10) as resp:\n",
        "        with open(scripts_dir.joinpath(\"get_data.py\"), \"wb\") as fp:\n",
        "            fp.write(resp.content)"
      ]
    },
    {
      "cell_type": "code",
      "execution_count": 60,
      "metadata": {
        "id": "vqbmgXmni9po"
      },
      "outputs": [],
      "source": [
        "## Dataset\n",
        "import qlib\n",
        "from qlib.constant import REG_US\n",
        "from qlib.utils import exists_qlib_data, init_instance_by_config\n",
        "from qlib.workflow import R\n",
        "from qlib.workflow.record_temp import SignalRecord, PortAnaRecord\n",
        "from qlib.utils import flatten_dict\n",
        "## Data manioulation\n",
        "import pandas as pd\n",
        "import numpy as np\n",
        "import datetime as dt\n",
        "## visualization\n",
        "import plotly\n",
        "import matplotlib.pyplot as plt\n",
        "import seaborn as sns\n",
        "\n",
        "## pytorch part\n",
        "import torch\n",
        "## pytorch: dataset\n",
        "import torchvision\n",
        "from torchvision import models\n",
        "## pytorch: network and function\n",
        "import torch.nn as nn\n",
        "import torch.nn.functional as F\n",
        "import torch.optim as optim\n",
        "from torch.autograd import Variable\n",
        "\n",
        "\n",
        "from torchsummary import summary\n",
        "\n",
        "from torchvision import datasets, transforms\n",
        "from torch.utils.data import DataLoader, TensorDataset, Dataset\n",
        "\n",
        "\n",
        "from sklearn.model_selection import train_test_split\n",
        "from sklearn.preprocessing import StandardScaler\n"
      ]
    },
    {
      "cell_type": "code",
      "execution_count": 4,
      "metadata": {
        "colab": {
          "base_uri": "https://localhost:8080/"
        },
        "id": "bWdVE73zj_Lc",
        "outputId": "a0d7651a-602f-480d-cf6c-8fbf98ffd884"
      },
      "outputs": [
        {
          "name": "stdout",
          "output_type": "stream",
          "text": [
            "Using device: cpu\n",
            "\n"
          ]
        }
      ],
      "source": [
        "# setting device on GPU if available, else CPU\n",
        "torch.cuda.empty_cache()\n",
        "# device = torch.device('cuda' if torch.cuda.is_available() else 'cpu')\n",
        "device = torch.device('cpu' if torch.cuda.is_available() else 'cpu')\n",
        "print('Using device:', device)\n",
        "print()\n",
        "\n",
        "\n",
        "#Additional Info when using cuda\n",
        "if device.type == 'cuda':\n",
        "    print(torch.cuda.get_device_name(0))\n",
        "    print('Memory Usage:')\n",
        "    print('Allocated:', round(torch.cuda.memory_allocated(0)/1024**3,1), 'GB')\n",
        "    print('Cached:   ', round(torch.cuda.memory_cached(0)/1024**3,1), 'GB')\n"
      ]
    },
    {
      "cell_type": "markdown",
      "metadata": {
        "id": "lL7naWpLkRJr"
      },
      "source": [
        "## Step01: Data exploration"
      ]
    },
    {
      "cell_type": "code",
      "execution_count": 5,
      "metadata": {},
      "outputs": [
        {
          "name": "stderr",
          "output_type": "stream",
          "text": [
            "[17592:MainThread](2023-11-15 13:23:22,372) INFO - qlib.Initialization - [config.py:416] - default_conf: client.\n",
            "[17592:MainThread](2023-11-15 13:23:22,372) INFO - qlib.Initialization - [__init__.py:74] - qlib successfully initialized based on client settings.\n",
            "[17592:MainThread](2023-11-15 13:23:22,372) INFO - qlib.Initialization - [__init__.py:76] - data_path={'__DEFAULT_FREQ': WindowsPath('C:/Users/possa/.qlib/qlib_data/us_data')}\n"
          ]
        }
      ],
      "source": [
        "# use default data\n",
        "# NOTE: need to download data from remote: python scripts/get_data.py qlib_data_cn --target_dir ~/.qlib/qlib_data/cn_data\n",
        "# from qlib.config import REG_US\n",
        "provider_uri = \"~/.qlib/qlib_data/us_data\"  # target_dir\n",
        "if not exists_qlib_data(provider_uri):\n",
        "    print(f\"Qlib data is not found in {provider_uri}\")\n",
        "    sys.path.append(str(scripts_dir))\n",
        "    from get_data import GetData\n",
        "\n",
        "    GetData().qlib_data(target_dir=provider_uri, region=REG_US)\n",
        "qlib.init(provider_uri=provider_uri, region=REG_US)"
      ]
    },
    {
      "cell_type": "code",
      "execution_count": 6,
      "metadata": {
        "id": "oj7kB9S6kUEo"
      },
      "outputs": [
        {
          "name": "stdout",
          "output_type": "stream",
          "text": [
            "Period since 1999-12-31 to 2020-11-10: 7620 days, 0:00:00\n"
          ]
        }
      ],
      "source": [
        "from qlib.data import D\n",
        "# parameter selection\n",
        "# index_list  = ['^GSPC','^IXIC','^DJI']\n",
        "# index_list  = ['AAPL', 'MSFT']\n",
        "# index_name  = ['Apple', 'Microsoft']\n",
        "# index_list  = ['AAPL']\n",
        "# index_name  = ['Apple']\n",
        "# fields = ['$close', '$volume', '$open', '$high', '$low']\n",
        "\n",
        "# df = D.features(D.instruments(\"all\"), [\"$close\"], freq=\"day\")\n",
        "# inst = D.list_instruments(D.instruments(symbols ), freq=\"day\", as_list=True) # show the selecting symbols \n",
        "\n",
        "# Fetch daily data for the indices\n",
        "def set_df():\n",
        "    # select the index & Fleids\n",
        "    index_list  = ['AAPL']\n",
        "    # index_list  = ['AAPL', 'MSFT']\n",
        "    fields = ['$close', '$volume', '$open', '$high', '$low']\n",
        "    \n",
        "    # download dataset\n",
        "    df = D.features(index_list , fields, freq='day')\n",
        "    \n",
        "    # manipulated the dataset\n",
        "    df = df.reset_index()\n",
        "    df.columns = ['symbols','date','close','volume','open','high','low']\n",
        "    df.date = df.date.dt.date\n",
        "    print(f\"Period since {min(df.date)} to {max(df.date)}: {max(df.date) - min(df.date)}\")\n",
        "    return df, index_list\n",
        "\n",
        "df, index_list = set_df()"
      ]
    },
    {
      "cell_type": "code",
      "execution_count": 7,
      "metadata": {},
      "outputs": [
        {
          "data": {
            "text/html": [
              "<div>\n",
              "<style scoped>\n",
              "    .dataframe tbody tr th:only-of-type {\n",
              "        vertical-align: middle;\n",
              "    }\n",
              "\n",
              "    .dataframe tbody tr th {\n",
              "        vertical-align: top;\n",
              "    }\n",
              "\n",
              "    .dataframe thead th {\n",
              "        text-align: right;\n",
              "    }\n",
              "</style>\n",
              "<table border=\"1\" class=\"dataframe\">\n",
              "  <thead>\n",
              "    <tr style=\"text-align: right;\">\n",
              "      <th></th>\n",
              "      <th>symbols</th>\n",
              "      <th>date</th>\n",
              "      <th>close</th>\n",
              "      <th>volume</th>\n",
              "      <th>open</th>\n",
              "      <th>high</th>\n",
              "      <th>low</th>\n",
              "    </tr>\n",
              "  </thead>\n",
              "  <tbody>\n",
              "    <tr>\n",
              "      <th>5245</th>\n",
              "      <td>AAPL</td>\n",
              "      <td>2020-11-04</td>\n",
              "      <td>146.096085</td>\n",
              "      <td>108765200.0</td>\n",
              "      <td>145.066620</td>\n",
              "      <td>146.909500</td>\n",
              "      <td>142.791611</td>\n",
              "    </tr>\n",
              "    <tr>\n",
              "      <th>5246</th>\n",
              "      <td>AAPL</td>\n",
              "      <td>2020-11-05</td>\n",
              "      <td>151.281586</td>\n",
              "      <td>99442752.0</td>\n",
              "      <td>149.908951</td>\n",
              "      <td>152.031448</td>\n",
              "      <td>148.536331</td>\n",
              "    </tr>\n",
              "    <tr>\n",
              "      <th>5247</th>\n",
              "      <td>AAPL</td>\n",
              "      <td>2020-11-06</td>\n",
              "      <td>151.109711</td>\n",
              "      <td>89901624.0</td>\n",
              "      <td>150.638641</td>\n",
              "      <td>151.759003</td>\n",
              "      <td>147.850449</td>\n",
              "    </tr>\n",
              "    <tr>\n",
              "      <th>5248</th>\n",
              "      <td>AAPL</td>\n",
              "      <td>2020-11-09</td>\n",
              "      <td>148.092346</td>\n",
              "      <td>121364944.0</td>\n",
              "      <td>153.414108</td>\n",
              "      <td>155.311081</td>\n",
              "      <td>147.748611</td>\n",
              "    </tr>\n",
              "    <tr>\n",
              "      <th>5249</th>\n",
              "      <td>AAPL</td>\n",
              "      <td>2020-11-10</td>\n",
              "      <td>147.646759</td>\n",
              "      <td>108411280.0</td>\n",
              "      <td>147.112030</td>\n",
              "      <td>149.709244</td>\n",
              "      <td>145.304153</td>\n",
              "    </tr>\n",
              "  </tbody>\n",
              "</table>\n",
              "</div>"
            ],
            "text/plain": [
              "     symbols        date       close       volume        open        high  \\\n",
              "5245    AAPL  2020-11-04  146.096085  108765200.0  145.066620  146.909500   \n",
              "5246    AAPL  2020-11-05  151.281586   99442752.0  149.908951  152.031448   \n",
              "5247    AAPL  2020-11-06  151.109711   89901624.0  150.638641  151.759003   \n",
              "5248    AAPL  2020-11-09  148.092346  121364944.0  153.414108  155.311081   \n",
              "5249    AAPL  2020-11-10  147.646759  108411280.0  147.112030  149.709244   \n",
              "\n",
              "             low  \n",
              "5245  142.791611  \n",
              "5246  148.536331  \n",
              "5247  147.850449  \n",
              "5248  147.748611  \n",
              "5249  145.304153  "
            ]
          },
          "execution_count": 7,
          "metadata": {},
          "output_type": "execute_result"
        }
      ],
      "source": [
        "df.tail(5)"
      ]
    },
    {
      "cell_type": "markdown",
      "metadata": {
        "id": "h1L2jeNDMKmh"
      },
      "source": [
        "### Exploratory Image analysis"
      ]
    },
    {
      "cell_type": "code",
      "execution_count": 8,
      "metadata": {
        "id": "qgVgyazEqzku"
      },
      "outputs": [
        {
          "data": {
            "image/png": "[encoded data removed]",
            "text/plain": [
              "<Figure size 1500x1000 with 1 Axes>"
            ]
          },
          "metadata": {},
          "output_type": "display_data"
        }
      ],
      "source": [
        "def plot_timeline(df):\n",
        "# Let's see a historical view of the closing price\n",
        "    plt.figure(figsize=(15, 10))\n",
        "    plt.subplots_adjust(top=1.25, bottom=1.2)\n",
        "\n",
        "    for i, company in enumerate(index_list, 1):\n",
        "        plt.subplot(1, 2, i)\n",
        "        df.loc[df['symbols'] == index_list[i-1]]['close'].plot()\n",
        "        plt.ylabel('Close')\n",
        "        plt.xlabel(None)\n",
        "        plt.title(f\"Closing Price of {index_list[i - 1]}\")\n",
        "        \n",
        "    plt.tight_layout()\n",
        "    \n",
        "plot_timeline(df)"
      ]
    },
    {
      "cell_type": "markdown",
      "metadata": {},
      "source": [
        "## Step 2: Data Preprocessing"
      ]
    },
    {
      "cell_type": "code",
      "execution_count": 9,
      "metadata": {},
      "outputs": [
        {
          "data": {
            "text/plain": [
              "array([[0.00437381],\n",
              "       [0.00489503],\n",
              "       [0.00435596],\n",
              "       ...,\n",
              "       [0.88591343],\n",
              "       [0.86819357],\n",
              "       [0.8655768 ]], dtype=float32)"
            ]
          },
          "execution_count": 9,
          "metadata": {},
          "output_type": "execute_result"
        }
      ],
      "source": [
        "from sklearn.preprocessing import MinMaxScaler\n",
        "scaler = MinMaxScaler(feature_range=(0,1))\n",
        "\n",
        "df_scaled = df['close'].values\n",
        "df_scaled = scaler.fit_transform(df_scaled.reshape(-1,1))\n",
        "df_scaled"
      ]
    },
    {
      "cell_type": "markdown",
      "metadata": {},
      "source": [
        "## Step 03: Data splitting"
      ]
    },
    {
      "cell_type": "code",
      "execution_count": 25,
      "metadata": {},
      "outputs": [
        {
          "name": "stdout",
          "output_type": "stream",
          "text": [
            "Training size: 3674 period 1999-12-31 to 2014-08-08 \n",
            "Validation size: 1050 period 2014-08-11 to 2018-10-09\n",
            "test_data size: 526 period 2018-10-10 to 2020-11-10\n"
          ]
        }
      ],
      "source": [
        "# splitting criteria training 70%, validation 20% and testing 10%\n",
        "train_size = int(len(df_scaled) * 0.7)\n",
        "valid_size = int(len(df_scaled) * 0.2)\n",
        "\n",
        "train_data = df_scaled[:train_size]\n",
        "valid_data = df_scaled[train_size:train_size + valid_size]\n",
        "test_data = df_scaled[train_size + valid_size:]\n",
        "\n",
        "print(f\"Training size: {len(train_data)} period {df.date[0]} to {df.date[train_size-1]} \\nValidation size: {len(valid_data)} period {df.date[train_size]} to {df.date[train_size + valid_size-1]}\\ntest_data size: {len(test_data)} period {df.date[train_size + valid_size]} to {df.date[len(df_scaled)-1]}\")"
      ]
    },
    {
      "cell_type": "code",
      "execution_count": 76,
      "metadata": {},
      "outputs": [
        {
          "data": {
            "text/plain": [
              "torch.Size([3623, 50])"
            ]
          },
          "execution_count": 76,
          "metadata": {},
          "output_type": "execute_result"
        }
      ],
      "source": [
        "def create_dataset(dataset,time_step):\n",
        "    X,y = [],[]\n",
        "    for i in range(len(dataset)-time_step-1):\n",
        "        a = dataset[i:i+time_step,0]\n",
        "        X.append(a)\n",
        "        y.append(dataset[i+time_step,0])\n",
        "        \n",
        "    # #RNN and LSTM takes 3D inputs, we need to change the shape of array to 3 dimensional.\n",
        "    X_output = torch.tensor(np.array(X))\n",
        "    # X_output = X_output.reshape(X_output.shape[0],X_output.shape[1],1)\n",
        "    Y_output = torch.tensor(np.array(y)).unsqueeze(dim=1)\n",
        "    return X_output,Y_output\n",
        "\n",
        "X_train , y_train = create_dataset(train_data,50)\n",
        "X_train.shape"
      ]
    },
    {
      "cell_type": "markdown",
      "metadata": {
        "id": "4QCY3e2prCKc"
      },
      "source": [
        "## Step 04: Define the RNN Model"
      ]
    },
    {
      "cell_type": "code",
      "execution_count": 77,
      "metadata": {
        "colab": {
          "base_uri": "https://localhost:8080/"
        },
        "id": "ywsbO2fUdE_h",
        "outputId": "684ef5c6-dd08-43bb-e966-5ad7ab9b4a22"
      },
      "outputs": [
        {
          "data": {
            "text/plain": [
              "RNN(\n",
              "  (RNN): RNN(1, 32, num_layers=2)\n",
              "  (out): Linear(in_features=32, out_features=1, bias=True)\n",
              ")"
            ]
          },
          "execution_count": 77,
          "metadata": {},
          "output_type": "execute_result"
        }
      ],
      "source": [
        "import torch\n",
        "import torch.nn as nn\n",
        "\n",
        "class RNN(nn.Module):\n",
        "    def __init__(self, input_size, hidden_size, num_layers, output_size):\n",
        "        super(RNN, self).__init__()\n",
        "\n",
        "        self.RNN = nn.RNN(\n",
        "            input_size=input_size,\n",
        "            hidden_size=hidden_size,\n",
        "            num_layers=num_layers\n",
        "        )\n",
        "        self.out = nn.Linear(hidden_size, output_size)\n",
        "\n",
        "    def forward(self, x, h_state):\n",
        "        r_out, hidden_state = self.RNN(x, h_state)\n",
        "        \n",
        "        hidden_size = hidden_state[-1].size(-1)\n",
        "        r_out = r_out.view(-1, hidden_size)\n",
        "        outs = self.out(r_out)\n",
        "\n",
        "        return outs, hidden_state\n",
        "    \n",
        "# RNN Module\n",
        "rnn = RNN(input_size = 1, hidden_size = 32, num_layers = 2,  output_size = 1)\n",
        "rnn"
      ]
    },
    {
      "cell_type": "code",
      "execution_count": 79,
      "metadata": {},
      "outputs": [
        {
          "name": "stderr",
          "output_type": "stream",
          "text": [
            "c:\\Users\\possa\\.conda\\envs\\Deep_learning\\lib\\site-packages\\torch\\nn\\modules\\loss.py:530: UserWarning: Using a target size (torch.Size([8, 1])) that is different to the input size (torch.Size([400, 1])). This will likely lead to incorrect results due to broadcasting. Please ensure they have the same size.\n",
            "  return F.mse_loss(input, target, reduction=self.reduction)\n"
          ]
        },
        {
          "ename": "RuntimeError",
          "evalue": "The size of tensor a (400) must match the size of tensor b (8) at non-singleton dimension 0",
          "output_type": "error",
          "traceback": [
            "\u001b[1;31m---------------------------------------------------------------------------\u001b[0m",
            "\u001b[1;31mRuntimeError\u001b[0m                              Traceback (most recent call last)",
            "\u001b[1;32m~\\AppData\\Local\\Temp\\ipykernel_17592\\4006636666.py\u001b[0m in \u001b[0;36m<module>\u001b[1;34m\u001b[0m\n\u001b[0;32m     18\u001b[0m     \u001b[0moutput\u001b[0m\u001b[1;33m,\u001b[0m \u001b[0mhidden_state\u001b[0m \u001b[1;33m=\u001b[0m \u001b[0mrnn\u001b[0m\u001b[1;33m(\u001b[0m\u001b[0minputs\u001b[0m\u001b[1;33m,\u001b[0m \u001b[0mhidden_state\u001b[0m\u001b[1;33m)\u001b[0m\u001b[1;33m\u001b[0m\u001b[1;33m\u001b[0m\u001b[0m\n\u001b[0;32m     19\u001b[0m \u001b[1;33m\u001b[0m\u001b[0m\n\u001b[1;32m---> 20\u001b[1;33m     \u001b[0mloss\u001b[0m \u001b[1;33m=\u001b[0m \u001b[0mcriterion\u001b[0m\u001b[1;33m(\u001b[0m\u001b[0moutput\u001b[0m\u001b[1;33m,\u001b[0m \u001b[0mlabels\u001b[0m\u001b[1;33m)\u001b[0m\u001b[1;33m\u001b[0m\u001b[1;33m\u001b[0m\u001b[0m\n\u001b[0m\u001b[0;32m     21\u001b[0m     \u001b[0moptimiser\u001b[0m\u001b[1;33m.\u001b[0m\u001b[0mzero_grad\u001b[0m\u001b[1;33m(\u001b[0m\u001b[1;33m)\u001b[0m\u001b[1;33m\u001b[0m\u001b[1;33m\u001b[0m\u001b[0m\n\u001b[0;32m     22\u001b[0m     \u001b[0mloss\u001b[0m\u001b[1;33m.\u001b[0m\u001b[0mbackward\u001b[0m\u001b[1;33m(\u001b[0m\u001b[0mretain_graph\u001b[0m\u001b[1;33m=\u001b[0m\u001b[1;32mTrue\u001b[0m\u001b[1;33m)\u001b[0m                     \u001b[1;31m# back propagation\u001b[0m\u001b[1;33m\u001b[0m\u001b[1;33m\u001b[0m\u001b[0m\n",
            "\u001b[1;32mc:\\Users\\possa\\.conda\\envs\\Deep_learning\\lib\\site-packages\\torch\\nn\\modules\\module.py\u001b[0m in \u001b[0;36m_call_impl\u001b[1;34m(self, *input, **kwargs)\u001b[0m\n\u001b[0;32m   1128\u001b[0m         if not (self._backward_hooks or self._forward_hooks or self._forward_pre_hooks or _global_backward_hooks\n\u001b[0;32m   1129\u001b[0m                 or _global_forward_hooks or _global_forward_pre_hooks):\n\u001b[1;32m-> 1130\u001b[1;33m             \u001b[1;32mreturn\u001b[0m \u001b[0mforward_call\u001b[0m\u001b[1;33m(\u001b[0m\u001b[1;33m*\u001b[0m\u001b[0minput\u001b[0m\u001b[1;33m,\u001b[0m \u001b[1;33m**\u001b[0m\u001b[0mkwargs\u001b[0m\u001b[1;33m)\u001b[0m\u001b[1;33m\u001b[0m\u001b[1;33m\u001b[0m\u001b[0m\n\u001b[0m\u001b[0;32m   1131\u001b[0m         \u001b[1;31m# Do not call functions when jit is used\u001b[0m\u001b[1;33m\u001b[0m\u001b[1;33m\u001b[0m\u001b[1;33m\u001b[0m\u001b[0m\n\u001b[0;32m   1132\u001b[0m         \u001b[0mfull_backward_hooks\u001b[0m\u001b[1;33m,\u001b[0m \u001b[0mnon_full_backward_hooks\u001b[0m \u001b[1;33m=\u001b[0m \u001b[1;33m[\u001b[0m\u001b[1;33m]\u001b[0m\u001b[1;33m,\u001b[0m \u001b[1;33m[\u001b[0m\u001b[1;33m]\u001b[0m\u001b[1;33m\u001b[0m\u001b[1;33m\u001b[0m\u001b[0m\n",
            "\u001b[1;32mc:\\Users\\possa\\.conda\\envs\\Deep_learning\\lib\\site-packages\\torch\\nn\\modules\\loss.py\u001b[0m in \u001b[0;36mforward\u001b[1;34m(self, input, target)\u001b[0m\n\u001b[0;32m    528\u001b[0m \u001b[1;33m\u001b[0m\u001b[0m\n\u001b[0;32m    529\u001b[0m     \u001b[1;32mdef\u001b[0m \u001b[0mforward\u001b[0m\u001b[1;33m(\u001b[0m\u001b[0mself\u001b[0m\u001b[1;33m,\u001b[0m \u001b[0minput\u001b[0m\u001b[1;33m:\u001b[0m \u001b[0mTensor\u001b[0m\u001b[1;33m,\u001b[0m \u001b[0mtarget\u001b[0m\u001b[1;33m:\u001b[0m \u001b[0mTensor\u001b[0m\u001b[1;33m)\u001b[0m \u001b[1;33m->\u001b[0m \u001b[0mTensor\u001b[0m\u001b[1;33m:\u001b[0m\u001b[1;33m\u001b[0m\u001b[1;33m\u001b[0m\u001b[0m\n\u001b[1;32m--> 530\u001b[1;33m         \u001b[1;32mreturn\u001b[0m \u001b[0mF\u001b[0m\u001b[1;33m.\u001b[0m\u001b[0mmse_loss\u001b[0m\u001b[1;33m(\u001b[0m\u001b[0minput\u001b[0m\u001b[1;33m,\u001b[0m \u001b[0mtarget\u001b[0m\u001b[1;33m,\u001b[0m \u001b[0mreduction\u001b[0m\u001b[1;33m=\u001b[0m\u001b[0mself\u001b[0m\u001b[1;33m.\u001b[0m\u001b[0mreduction\u001b[0m\u001b[1;33m)\u001b[0m\u001b[1;33m\u001b[0m\u001b[1;33m\u001b[0m\u001b[0m\n\u001b[0m\u001b[0;32m    531\u001b[0m \u001b[1;33m\u001b[0m\u001b[0m\n\u001b[0;32m    532\u001b[0m \u001b[1;33m\u001b[0m\u001b[0m\n",
            "\u001b[1;32mc:\\Users\\possa\\.conda\\envs\\Deep_learning\\lib\\site-packages\\torch\\nn\\functional.py\u001b[0m in \u001b[0;36mmse_loss\u001b[1;34m(input, target, size_average, reduce, reduction)\u001b[0m\n\u001b[0;32m   3277\u001b[0m         \u001b[0mreduction\u001b[0m \u001b[1;33m=\u001b[0m \u001b[0m_Reduction\u001b[0m\u001b[1;33m.\u001b[0m\u001b[0mlegacy_get_string\u001b[0m\u001b[1;33m(\u001b[0m\u001b[0msize_average\u001b[0m\u001b[1;33m,\u001b[0m \u001b[0mreduce\u001b[0m\u001b[1;33m)\u001b[0m\u001b[1;33m\u001b[0m\u001b[1;33m\u001b[0m\u001b[0m\n\u001b[0;32m   3278\u001b[0m \u001b[1;33m\u001b[0m\u001b[0m\n\u001b[1;32m-> 3279\u001b[1;33m     \u001b[0mexpanded_input\u001b[0m\u001b[1;33m,\u001b[0m \u001b[0mexpanded_target\u001b[0m \u001b[1;33m=\u001b[0m \u001b[0mtorch\u001b[0m\u001b[1;33m.\u001b[0m\u001b[0mbroadcast_tensors\u001b[0m\u001b[1;33m(\u001b[0m\u001b[0minput\u001b[0m\u001b[1;33m,\u001b[0m \u001b[0mtarget\u001b[0m\u001b[1;33m)\u001b[0m\u001b[1;33m\u001b[0m\u001b[1;33m\u001b[0m\u001b[0m\n\u001b[0m\u001b[0;32m   3280\u001b[0m     \u001b[1;32mreturn\u001b[0m \u001b[0mtorch\u001b[0m\u001b[1;33m.\u001b[0m\u001b[0m_C\u001b[0m\u001b[1;33m.\u001b[0m\u001b[0m_nn\u001b[0m\u001b[1;33m.\u001b[0m\u001b[0mmse_loss\u001b[0m\u001b[1;33m(\u001b[0m\u001b[0mexpanded_input\u001b[0m\u001b[1;33m,\u001b[0m \u001b[0mexpanded_target\u001b[0m\u001b[1;33m,\u001b[0m \u001b[0m_Reduction\u001b[0m\u001b[1;33m.\u001b[0m\u001b[0mget_enum\u001b[0m\u001b[1;33m(\u001b[0m\u001b[0mreduction\u001b[0m\u001b[1;33m)\u001b[0m\u001b[1;33m)\u001b[0m\u001b[1;33m\u001b[0m\u001b[1;33m\u001b[0m\u001b[0m\n\u001b[0;32m   3281\u001b[0m \u001b[1;33m\u001b[0m\u001b[0m\n",
            "\u001b[1;32mc:\\Users\\possa\\.conda\\envs\\Deep_learning\\lib\\site-packages\\torch\\functional.py\u001b[0m in \u001b[0;36mbroadcast_tensors\u001b[1;34m(*tensors)\u001b[0m\n\u001b[0;32m     71\u001b[0m     \u001b[1;32mif\u001b[0m \u001b[0mhas_torch_function\u001b[0m\u001b[1;33m(\u001b[0m\u001b[0mtensors\u001b[0m\u001b[1;33m)\u001b[0m\u001b[1;33m:\u001b[0m\u001b[1;33m\u001b[0m\u001b[1;33m\u001b[0m\u001b[0m\n\u001b[0;32m     72\u001b[0m         \u001b[1;32mreturn\u001b[0m \u001b[0mhandle_torch_function\u001b[0m\u001b[1;33m(\u001b[0m\u001b[0mbroadcast_tensors\u001b[0m\u001b[1;33m,\u001b[0m \u001b[0mtensors\u001b[0m\u001b[1;33m,\u001b[0m \u001b[1;33m*\u001b[0m\u001b[0mtensors\u001b[0m\u001b[1;33m)\u001b[0m\u001b[1;33m\u001b[0m\u001b[1;33m\u001b[0m\u001b[0m\n\u001b[1;32m---> 73\u001b[1;33m     \u001b[1;32mreturn\u001b[0m \u001b[0m_VF\u001b[0m\u001b[1;33m.\u001b[0m\u001b[0mbroadcast_tensors\u001b[0m\u001b[1;33m(\u001b[0m\u001b[0mtensors\u001b[0m\u001b[1;33m)\u001b[0m  \u001b[1;31m# type: ignore[attr-defined]\u001b[0m\u001b[1;33m\u001b[0m\u001b[1;33m\u001b[0m\u001b[0m\n\u001b[0m\u001b[0;32m     74\u001b[0m \u001b[1;33m\u001b[0m\u001b[0m\n\u001b[0;32m     75\u001b[0m \u001b[1;33m\u001b[0m\u001b[0m\n",
            "\u001b[1;31mRuntimeError\u001b[0m: The size of tensor a (400) must match the size of tensor b (8) at non-singleton dimension 0"
          ]
        }
      ],
      "source": [
        "from tqdm import tqdm\n",
        "import torch.autograd\n",
        "torch.autograd.set_detect_anomaly(True)\n",
        "\n",
        "optimiser = torch.optim.Adam(rnn.parameters(), lr=0.01)\n",
        "criterion = nn.MSELoss()\n",
        "trainloader = torch.utils.data.DataLoader(\n",
        "    torch.utils.data.TensorDataset(X_train, y_train), \n",
        "    shuffle=True, \n",
        "    batch_size=8\n",
        "    )\n",
        "\n",
        "hidden_state = None\n",
        "\n",
        "for epoch in range(100):\n",
        "    inputs, labels = inputs.to(device), labels.to(device)\n",
        "\n",
        "    output, hidden_state = rnn(inputs, hidden_state) \n",
        "\n",
        "    loss = criterion(output.view(-1).clone(), labels)\n",
        "    optimiser.zero_grad()\n",
        "    loss.backward(retain_graph=True)                     # back propagation\n",
        "    optimiser.step()                                     # update the parameters\n",
        "    \n",
        "    print('epoch {}, loss {}'.format(epoch,loss.item()))"
      ]
    },
    {
      "cell_type": "code",
      "execution_count": 128,
      "metadata": {},
      "outputs": [],
      "source": [
        "import torch\n",
        "import torch.nn as nn\n",
        "\n",
        "class StockRNN(nn.Module):\n",
        "    def __init__(self, input_size, hidden_size, num_layers):\n",
        "        super(StockRNN, self).__init__()\n",
        "        self.rnn = nn.RNN(input_size, hidden_size, num_layers, batch_first=True)\n",
        "        self.fc = nn.Linear(hidden_size, 1)\n",
        "\n",
        "    def forward(self, x):\n",
        "        out, _ = self.rnn(x)\n",
        "        out = self.fc(out[:, -1, :])\n",
        "        return out\n",
        "\n",
        "model = StockRNN(input_size=5, hidden_size=10, num_layers=2)"
      ]
    },
    {
      "cell_type": "markdown",
      "metadata": {},
      "source": [
        "## Step 05: training model"
      ]
    },
    {
      "cell_type": "code",
      "execution_count": 14,
      "metadata": {},
      "outputs": [],
      "source": [
        "def train_epoch(model, trainloader, criterion, optimizer, device):\n",
        "    model.train()\n",
        "    running_loss = 0.0\n",
        "    correct_train = 0\n",
        "    total_train = 0\n",
        "\n",
        "    for inputs, labels in tqdm(trainloader, desc='Training'):\n",
        "        inputs, labels = inputs.to(device), labels.to(device)\n",
        "\n",
        "        optimizer.zero_grad()\n",
        "        outputs = model(inputs)\n",
        "        loss = criterion(outputs, labels)\n",
        "        loss.backward()\n",
        "        optimizer.step()\n",
        "\n",
        "        running_loss += loss.item() * inputs.size(0)\n",
        "        _, preds = torch.max(outputs, 1)\n",
        "        correct_train += torch.sum(preds == labels.data)\n",
        "        total_train += labels.size(0)\n",
        "\n",
        "    epoch_loss = running_loss / total_train\n",
        "    epoch_acc = correct_train.double() / total_train\n",
        "    return epoch_loss, epoch_acc"
      ]
    },
    {
      "cell_type": "code",
      "execution_count": 121,
      "metadata": {},
      "outputs": [
        {
          "ename": "TypeError",
          "evalue": "forward() takes 2 positional arguments but 3 were given",
          "output_type": "error",
          "traceback": [
            "\u001b[1;31m---------------------------------------------------------------------------\u001b[0m",
            "\u001b[1;31mTypeError\u001b[0m                                 Traceback (most recent call last)",
            "\u001b[1;32m~\\AppData\\Local\\Temp\\ipykernel_21796\\2818711938.py\u001b[0m in \u001b[0;36m<module>\u001b[1;34m\u001b[0m\n\u001b[0;32m      4\u001b[0m \u001b[0moptimizer\u001b[0m \u001b[1;33m=\u001b[0m \u001b[0mtorch\u001b[0m\u001b[1;33m.\u001b[0m\u001b[0moptim\u001b[0m\u001b[1;33m.\u001b[0m\u001b[0mAdam\u001b[0m\u001b[1;33m(\u001b[0m\u001b[0mrnn\u001b[0m\u001b[1;33m.\u001b[0m\u001b[0mparameters\u001b[0m\u001b[1;33m(\u001b[0m\u001b[1;33m)\u001b[0m\u001b[1;33m,\u001b[0m \u001b[0mlr\u001b[0m\u001b[1;33m=\u001b[0m\u001b[1;36m0.001\u001b[0m\u001b[1;33m)\u001b[0m\u001b[1;33m\u001b[0m\u001b[1;33m\u001b[0m\u001b[0m\n\u001b[0;32m      5\u001b[0m \u001b[1;33m\u001b[0m\u001b[0m\n\u001b[1;32m----> 6\u001b[1;33m \u001b[0mtrain\u001b[0m\u001b[1;33m(\u001b[0m\u001b[0mrnn\u001b[0m\u001b[1;33m,\u001b[0m \u001b[0mnum_epochs\u001b[0m\u001b[1;33m,\u001b[0m \u001b[0mprint_every\u001b[0m\u001b[1;33m)\u001b[0m\u001b[1;33m\u001b[0m\u001b[1;33m\u001b[0m\u001b[0m\n\u001b[0m",
            "\u001b[1;32m~\\AppData\\Local\\Temp\\ipykernel_21796\\995982093.py\u001b[0m in \u001b[0;36mtrain\u001b[1;34m(rnn, n_steps, print_every)\u001b[0m\n\u001b[0;32m     23\u001b[0m \u001b[1;33m\u001b[0m\u001b[0m\n\u001b[0;32m     24\u001b[0m          \u001b[1;31m# Outputs from rnn\u001b[0m\u001b[1;33m\u001b[0m\u001b[1;33m\u001b[0m\u001b[1;33m\u001b[0m\u001b[0m\n\u001b[1;32m---> 25\u001b[1;33m         \u001b[0mprediction\u001b[0m\u001b[1;33m,\u001b[0m \u001b[0mhidden\u001b[0m \u001b[1;33m=\u001b[0m \u001b[0mrnn\u001b[0m\u001b[1;33m(\u001b[0m\u001b[0mx_tensor\u001b[0m\u001b[1;33m,\u001b[0m \u001b[0mhidden\u001b[0m\u001b[1;33m)\u001b[0m\u001b[1;33m\u001b[0m\u001b[1;33m\u001b[0m\u001b[0m\n\u001b[0m\u001b[0;32m     26\u001b[0m \u001b[1;33m\u001b[0m\u001b[0m\n\u001b[0;32m     27\u001b[0m         '''Representing memory by\n",
            "\u001b[1;32mc:\\Users\\possa\\.conda\\envs\\Deep_learning\\lib\\site-packages\\torch\\nn\\modules\\module.py\u001b[0m in \u001b[0;36m_call_impl\u001b[1;34m(self, *input, **kwargs)\u001b[0m\n\u001b[0;32m   1128\u001b[0m         if not (self._backward_hooks or self._forward_hooks or self._forward_pre_hooks or _global_backward_hooks\n\u001b[0;32m   1129\u001b[0m                 or _global_forward_hooks or _global_forward_pre_hooks):\n\u001b[1;32m-> 1130\u001b[1;33m             \u001b[1;32mreturn\u001b[0m \u001b[0mforward_call\u001b[0m\u001b[1;33m(\u001b[0m\u001b[1;33m*\u001b[0m\u001b[0minput\u001b[0m\u001b[1;33m,\u001b[0m \u001b[1;33m**\u001b[0m\u001b[0mkwargs\u001b[0m\u001b[1;33m)\u001b[0m\u001b[1;33m\u001b[0m\u001b[1;33m\u001b[0m\u001b[0m\n\u001b[0m\u001b[0;32m   1131\u001b[0m         \u001b[1;31m# Do not call functions when jit is used\u001b[0m\u001b[1;33m\u001b[0m\u001b[1;33m\u001b[0m\u001b[1;33m\u001b[0m\u001b[0m\n\u001b[0;32m   1132\u001b[0m         \u001b[0mfull_backward_hooks\u001b[0m\u001b[1;33m,\u001b[0m \u001b[0mnon_full_backward_hooks\u001b[0m \u001b[1;33m=\u001b[0m \u001b[1;33m[\u001b[0m\u001b[1;33m]\u001b[0m\u001b[1;33m,\u001b[0m \u001b[1;33m[\u001b[0m\u001b[1;33m]\u001b[0m\u001b[1;33m\u001b[0m\u001b[1;33m\u001b[0m\u001b[0m\n",
            "\u001b[1;31mTypeError\u001b[0m: forward() takes 2 positional arguments but 3 were given"
          ]
        }
      ],
      "source": [
        "criterion = nn.MSELoss()\n",
        "num_epochs = 10\n",
        "print_every = 1\n",
        "optimizer = torch.optim.Adam(rnn.parameters(), lr=0.001)\n",
        "\n",
        "train(rnn, num_epochs, print_every)"
      ]
    },
    {
      "cell_type": "code",
      "execution_count": null,
      "metadata": {
        "colab": {
          "base_uri": "https://localhost:8080/"
        },
        "id": "WAjIyn7VrJNj",
        "outputId": "d284c2d1-5609-47a7-e4c6-daa824e60129"
      },
      "outputs": [],
      "source": [
        "num_epochs = 5\n",
        "opt_func = torch.optim.Adam\n",
        "lr = 0.1\n",
        "model = NaturalSceneClassification()\n",
        "#fitting the model on training data and record the result after each epoch\n",
        "history = fit(num_epochs, lr, model, trainloader, testloader, opt_func)"
      ]
    },
    {
      "cell_type": "code",
      "execution_count": null,
      "metadata": {
        "colab": {
          "base_uri": "https://localhost:8080/",
          "height": 472
        },
        "id": "ZnDT13hkmbih",
        "outputId": "00c4fda7-88cc-47bd-f294-b5bbda6315ea"
      },
      "outputs": [],
      "source": [
        "def plot_accuracies(history):\n",
        "    \"\"\" Plot the history of accuracies\"\"\"\n",
        "    accuracies = [x['val_acc'] for x in history]\n",
        "    plt.plot(accuracies, '-x')\n",
        "    plt.xlabel('epoch')\n",
        "    plt.ylabel('accuracy')\n",
        "    plt.title('Accuracy vs. No. of epochs');\n",
        "def plot_losses(history):\n",
        "    \"\"\" Plot the losses in each epoch\"\"\"\n",
        "    train_losses = [x.get('train_loss') for x in history]\n",
        "    val_losses = [x['val_loss'] for x in history]\n",
        "    plt.plot(train_losses, '-bx')\n",
        "    plt.plot(val_losses, '-rx')\n",
        "    plt.xlabel('epoch')\n",
        "    plt.ylabel('loss')\n",
        "    plt.legend(['Training', 'Validation'])\n",
        "    plt.title('Loss vs. No. of epochs');"
      ]
    },
    {
      "cell_type": "markdown",
      "metadata": {
        "id": "BBy5cfontOOV"
      },
      "source": [
        "### 6. Evaluation with Testing Set"
      ]
    }
  ],
  "metadata": {
    "accelerator": "GPU",
    "colab": {
      "authorship_tag": "ABX9TyMC+s84TNkoeeWMnYMVbqgZ",
      "gpuType": "T4",
      "mount_file_id": "1xEZolkKP54VfWGnmb0PvoHpg6MRlUS8h",
      "provenance": []
    },
    "kernelspec": {
      "display_name": "Python 3",
      "name": "python3"
    },
    "language_info": {
      "codemirror_mode": {
        "name": "ipython",
        "version": 3
      },
      "file_extension": ".py",
      "mimetype": "text/x-python",
      "name": "python",
      "nbconvert_exporter": "python",
      "pygments_lexer": "ipython3",
      "version": "3.7.16"
    }
  },
  "nbformat": 4,
  "nbformat_minor": 0
}
