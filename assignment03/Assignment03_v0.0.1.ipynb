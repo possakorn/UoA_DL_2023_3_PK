{
  "cells": [
    {
      "cell_type": "markdown",
      "metadata": {
        "id": "2EP7shVVj0tL"
      },
      "source": [
        "# Assessment 2: CNNs for image classification"
      ]
    },
    {
      "cell_type": "code",
      "execution_count": 27,
      "metadata": {},
      "outputs": [],
      "source": [
        "import sys, site\n",
        "from pathlib import Path\n",
        "\n",
        "################################# NOTE #################################\n",
        "#  Please be aware that if colab installs the latest numpy and pyqlib  #\n",
        "#  in this cell, users should RESTART the runtime in order to run the  #\n",
        "#  following cells successfully.                                       #\n",
        "########################################################################\n",
        "\n",
        "try:\n",
        "    import qlib\n",
        "except ImportError:\n",
        "    # install qlib\n",
        "    ! pip install --upgrade numpy\n",
        "    ! pip install pyqlib\n",
        "    if \"google.colab\" in sys.modules:\n",
        "        # The Google colab environment is a little outdated. We have to downgrade the pyyaml to make it compatible with other packages\n",
        "        ! pip install pyyaml==5.4.1\n",
        "    # reload\n",
        "    site.main()\n",
        "\n",
        "scripts_dir = Path.cwd().parent.joinpath(\"scripts\")\n",
        "if not scripts_dir.joinpath(\"get_data.py\").exists():\n",
        "    # download get_data.py script\n",
        "    scripts_dir = Path(\"~/tmp/qlib_code/scripts\").expanduser().resolve()\n",
        "    scripts_dir.mkdir(parents=True, exist_ok=True)\n",
        "    import requests\n",
        "\n",
        "    with requests.get(\"https://raw.githubusercontent.com/microsoft/qlib/main/scripts/get_data.py\", timeout=10) as resp:\n",
        "        with open(scripts_dir.joinpath(\"get_data.py\"), \"wb\") as fp:\n",
        "            fp.write(resp.content)"
      ]
    },
    {
      "cell_type": "code",
      "execution_count": 31,
      "metadata": {
        "id": "vqbmgXmni9po"
      },
      "outputs": [],
      "source": [
        "## Dataset\n",
        "import qlib\n",
        "from qlib.constant import REG_US\n",
        "from qlib.utils import exists_qlib_data, init_instance_by_config\n",
        "from qlib.workflow import R\n",
        "from qlib.workflow.record_temp import SignalRecord, PortAnaRecord\n",
        "from qlib.utils import flatten_dict\n",
        "## Data manioulation\n",
        "import pandas as pd\n",
        "import numpy as np\n",
        "## visualization\n",
        "import plotly\n",
        "import matplotlib.pyplot as plt\n",
        "import seaborn as sns\n",
        "\n",
        "## pytorch part\n",
        "import torch\n",
        "## pytorch: dataset\n",
        "import torchvision\n",
        "from torchvision import models\n",
        "## pytorch: network and function\n",
        "import torch.nn as nn\n",
        "import torch.nn.functional as F\n",
        "import torch.optim as optim\n",
        "\n",
        "\n",
        "from torchsummary import summary\n",
        "\n",
        "from torchvision import datasets, transforms\n",
        "from torch.utils.data import DataLoader, TensorDataset, Dataset\n",
        "\n",
        "\n",
        "from sklearn.model_selection import train_test_split\n",
        "from sklearn.preprocessing import StandardScaler\n"
      ]
    },
    {
      "cell_type": "code",
      "execution_count": 29,
      "metadata": {
        "colab": {
          "base_uri": "https://localhost:8080/"
        },
        "id": "bWdVE73zj_Lc",
        "outputId": "a0d7651a-602f-480d-cf6c-8fbf98ffd884"
      },
      "outputs": [
        {
          "name": "stdout",
          "output_type": "stream",
          "text": [
            "Using device: cuda\n",
            "\n",
            "NVIDIA GeForce GTX 1650\n",
            "Memory Usage:\n",
            "Allocated: 0.0 GB\n",
            "Cached:    0.0 GB\n"
          ]
        },
        {
          "name": "stderr",
          "output_type": "stream",
          "text": [
            "c:\\Users\\possa\\.conda\\envs\\Deep_learning\\lib\\site-packages\\torch\\cuda\\memory.py:393: FutureWarning: torch.cuda.memory_cached has been renamed to torch.cuda.memory_reserved\n",
            "  FutureWarning)\n"
          ]
        }
      ],
      "source": [
        "# setting device on GPU if available, else CPU\n",
        "torch.cuda.empty_cache()\n",
        "device = torch.device('cuda' if torch.cuda.is_available() else 'cpu')\n",
        "print('Using device:', device)\n",
        "print()\n",
        "\n",
        "\n",
        "#Additional Info when using cuda\n",
        "if device.type == 'cuda':\n",
        "    print(torch.cuda.get_device_name(0))\n",
        "    print('Memory Usage:')\n",
        "    print('Allocated:', round(torch.cuda.memory_allocated(0)/1024**3,1), 'GB')\n",
        "    print('Cached:   ', round(torch.cuda.memory_cached(0)/1024**3,1), 'GB')\n"
      ]
    },
    {
      "cell_type": "markdown",
      "metadata": {
        "id": "lL7naWpLkRJr"
      },
      "source": [
        "## Step01: Data exploration"
      ]
    },
    {
      "cell_type": "code",
      "execution_count": 32,
      "metadata": {},
      "outputs": [
        {
          "name": "stdout",
          "output_type": "stream",
          "text": [
            "Qlib data is not found in ~/.qlib/qlib_data/us_data\n"
          ]
        },
        {
          "name": "stderr",
          "output_type": "stream",
          "text": [
            "\u001b[32m2023-11-14 17:58:52.888\u001b[0m | \u001b[33m\u001b[1mWARNING \u001b[0m | \u001b[36mqlib.tests.data\u001b[0m:\u001b[36mdownload_data\u001b[0m:\u001b[36m80\u001b[0m - \u001b[33m\u001b[1mThe data for the example is collected from Yahoo Finance. Please be aware that the quality of the data might not be perfect. (You can refer to the original data source: https://finance.yahoo.com/lookup.)\u001b[0m\n",
            "\u001b[32m2023-11-14 17:58:52.888\u001b[0m | \u001b[1mINFO    \u001b[0m | \u001b[36mqlib.tests.data\u001b[0m:\u001b[36mdownload_data\u001b[0m:\u001b[36m82\u001b[0m - \u001b[1mqlib_data_us_1d_latest.zip downloading......\u001b[0m\n",
            "450095104it [06:18, 1189699.08it/s]                               \n",
            "\u001b[32m2023-11-14 18:05:11.224\u001b[0m | \u001b[33m\u001b[1mWARNING \u001b[0m | \u001b[36mqlib.tests.data\u001b[0m:\u001b[36m_unzip\u001b[0m:\u001b[36m105\u001b[0m - \u001b[33m\u001b[1mwill delete the old qlib data directory(features, instruments, calendars, features_cache, dataset_cache): C:\\Users\\possa\\.qlib\\qlib_data\\us_data\u001b[0m\n",
            "\u001b[32m2023-11-14 18:05:11.231\u001b[0m | \u001b[1mINFO    \u001b[0m | \u001b[36mqlib.tests.data\u001b[0m:\u001b[36m_unzip\u001b[0m:\u001b[36m108\u001b[0m - \u001b[1mC:\\Users\\possa\\.qlib\\qlib_data\\us_data\\20231114175851_qlib_data_us_1d_latest.zip unzipping......\u001b[0m\n",
            "100%|██████████| 71959/71959 [01:34<00:00, 765.25it/s]\n",
            "[20840:MainThread](2023-11-14 18:06:46,322) INFO - qlib.Initialization - [config.py:416] - default_conf: client.\n",
            "[20840:MainThread](2023-11-14 18:06:46,327) INFO - qlib.Initialization - [__init__.py:74] - qlib successfully initialized based on client settings.\n",
            "[20840:MainThread](2023-11-14 18:06:46,327) INFO - qlib.Initialization - [__init__.py:76] - data_path={'__DEFAULT_FREQ': WindowsPath('C:/Users/possa/.qlib/qlib_data/us_data')}\n"
          ]
        }
      ],
      "source": [
        "# use default data\n",
        "# NOTE: need to download data from remote: python scripts/get_data.py qlib_data_cn --target_dir ~/.qlib/qlib_data/cn_data\n",
        "# from qlib.config import REG_US\n",
        "provider_uri = \"~/.qlib/qlib_data/us_data\"  # target_dir\n",
        "if not exists_qlib_data(provider_uri):\n",
        "    print(f\"Qlib data is not found in {provider_uri}\")\n",
        "    sys.path.append(str(scripts_dir))\n",
        "    from get_data import GetData\n",
        "\n",
        "    GetData().qlib_data(target_dir=provider_uri, region=REG_US)\n",
        "qlib.init(provider_uri=provider_uri, region=REG_US)"
      ]
    },
    {
      "cell_type": "code",
      "execution_count": 121,
      "metadata": {
        "id": "oj7kB9S6kUEo"
      },
      "outputs": [
        {
          "data": {
            "text/html": [
              "<div>\n",
              "<style scoped>\n",
              "    .dataframe tbody tr th:only-of-type {\n",
              "        vertical-align: middle;\n",
              "    }\n",
              "\n",
              "    .dataframe tbody tr th {\n",
              "        vertical-align: top;\n",
              "    }\n",
              "\n",
              "    .dataframe thead th {\n",
              "        text-align: right;\n",
              "    }\n",
              "</style>\n",
              "<table border=\"1\" class=\"dataframe\">\n",
              "  <thead>\n",
              "    <tr style=\"text-align: right;\">\n",
              "      <th></th>\n",
              "      <th></th>\n",
              "      <th>$close</th>\n",
              "      <th>$volume</th>\n",
              "      <th>$open</th>\n",
              "      <th>$high</th>\n",
              "      <th>$low</th>\n",
              "    </tr>\n",
              "    <tr>\n",
              "      <th>instrument</th>\n",
              "      <th>datetime</th>\n",
              "      <th></th>\n",
              "      <th></th>\n",
              "      <th></th>\n",
              "      <th></th>\n",
              "      <th></th>\n",
              "    </tr>\n",
              "  </thead>\n",
              "  <tbody>\n",
              "    <tr>\n",
              "      <th rowspan=\"5\" valign=\"top\">AAPL</th>\n",
              "      <th>1999-12-31</th>\n",
              "      <td>1.000000</td>\n",
              "      <td>1.503736e+08</td>\n",
              "      <td>0.981763</td>\n",
              "      <td>1.000608</td>\n",
              "      <td>0.967781</td>\n",
              "    </tr>\n",
              "    <tr>\n",
              "      <th>2000-01-03</th>\n",
              "      <td>1.088754</td>\n",
              "      <td>4.918448e+08</td>\n",
              "      <td>1.020061</td>\n",
              "      <td>1.094225</td>\n",
              "      <td>0.989058</td>\n",
              "    </tr>\n",
              "    <tr>\n",
              "      <th>2000-01-04</th>\n",
              "      <td>0.996960</td>\n",
              "      <td>4.703467e+08</td>\n",
              "      <td>1.052887</td>\n",
              "      <td>1.075988</td>\n",
              "      <td>0.984194</td>\n",
              "    </tr>\n",
              "    <tr>\n",
              "      <th>2000-01-05</th>\n",
              "      <td>1.011550</td>\n",
              "      <td>7.144751e+08</td>\n",
              "      <td>1.009118</td>\n",
              "      <td>1.075380</td>\n",
              "      <td>1.001823</td>\n",
              "    </tr>\n",
              "    <tr>\n",
              "      <th>2000-01-06</th>\n",
              "      <td>0.924012</td>\n",
              "      <td>7.049752e+08</td>\n",
              "      <td>1.032219</td>\n",
              "      <td>1.040729</td>\n",
              "      <td>0.924012</td>\n",
              "    </tr>\n",
              "    <tr>\n",
              "      <th>...</th>\n",
              "      <th>...</th>\n",
              "      <td>...</td>\n",
              "      <td>...</td>\n",
              "      <td>...</td>\n",
              "      <td>...</td>\n",
              "      <td>...</td>\n",
              "    </tr>\n",
              "    <tr>\n",
              "      <th rowspan=\"5\" valign=\"top\">MSFT</th>\n",
              "      <th>2020-11-04</th>\n",
              "      <td>5.807628</td>\n",
              "      <td>1.576521e+09</td>\n",
              "      <td>5.744020</td>\n",
              "      <td>5.859427</td>\n",
              "      <td>5.701078</td>\n",
              "    </tr>\n",
              "    <tr>\n",
              "      <th>2020-11-05</th>\n",
              "      <td>5.992815</td>\n",
              "      <td>1.344331e+09</td>\n",
              "      <td>5.959267</td>\n",
              "      <td>6.015091</td>\n",
              "      <td>5.935380</td>\n",
              "    </tr>\n",
              "    <tr>\n",
              "      <th>2020-11-06</th>\n",
              "      <td>6.004356</td>\n",
              "      <td>9.401309e+08</td>\n",
              "      <td>5.965171</td>\n",
              "      <td>6.021533</td>\n",
              "      <td>5.851644</td>\n",
              "    </tr>\n",
              "    <tr>\n",
              "      <th>2020-11-09</th>\n",
              "      <td>5.861306</td>\n",
              "      <td>1.654141e+09</td>\n",
              "      <td>6.023680</td>\n",
              "      <td>6.122446</td>\n",
              "      <td>5.847618</td>\n",
              "    </tr>\n",
              "    <tr>\n",
              "      <th>2020-11-10</th>\n",
              "      <td>5.663236</td>\n",
              "      <td>1.641103e+09</td>\n",
              "      <td>5.756903</td>\n",
              "      <td>5.810580</td>\n",
              "      <td>5.628614</td>\n",
              "    </tr>\n",
              "  </tbody>\n",
              "</table>\n",
              "<p>10500 rows × 5 columns</p>\n",
              "</div>"
            ],
            "text/plain": [
              "                         $close       $volume     $open     $high      $low\n",
              "instrument datetime                                                        \n",
              "AAPL       1999-12-31  1.000000  1.503736e+08  0.981763  1.000608  0.967781\n",
              "           2000-01-03  1.088754  4.918448e+08  1.020061  1.094225  0.989058\n",
              "           2000-01-04  0.996960  4.703467e+08  1.052887  1.075988  0.984194\n",
              "           2000-01-05  1.011550  7.144751e+08  1.009118  1.075380  1.001823\n",
              "           2000-01-06  0.924012  7.049752e+08  1.032219  1.040729  0.924012\n",
              "...                         ...           ...       ...       ...       ...\n",
              "MSFT       2020-11-04  5.807628  1.576521e+09  5.744020  5.859427  5.701078\n",
              "           2020-11-05  5.992815  1.344331e+09  5.959267  6.015091  5.935380\n",
              "           2020-11-06  6.004356  9.401309e+08  5.965171  6.021533  5.851644\n",
              "           2020-11-09  5.861306  1.654141e+09  6.023680  6.122446  5.847618\n",
              "           2020-11-10  5.663236  1.641103e+09  5.756903  5.810580  5.628614\n",
              "\n",
              "[10500 rows x 5 columns]"
            ]
          },
          "execution_count": 121,
          "metadata": {},
          "output_type": "execute_result"
        }
      ],
      "source": [
        "from qlib.data import D\n",
        "# parameter selection\n",
        "# index_list  = ['^GSPC','^IXIC','^DJI']\n",
        "index_list  = ['AAPL', 'MSFT']\n",
        "index_name  = ['Apple', 'Microsoft']\n",
        "fields = ['$close', '$volume', '$open', '$high', '$low']\n",
        "fields = ['$close', '$volume', '$open', '$high', '$low']\n",
        "\n",
        "# df = D.features(D.instruments(\"all\"), [\"$close\"], freq=\"day\")\n",
        "# inst = D.list_instruments(D.instruments(symbols ), freq=\"day\", as_list=True) # show the selecting symbols \n",
        "\n",
        "# Fetch daily data for the indices\n",
        "stocks_df = D.features(index_list , fields, freq='day')\n",
        "stocks_df"
      ]
    },
    {
      "cell_type": "markdown",
      "metadata": {
        "id": "h1L2jeNDMKmh"
      },
      "source": [
        "### Exploratory Image analysis"
      ]
    },
    {
      "cell_type": "code",
      "execution_count": 122,
      "metadata": {},
      "outputs": [
        {
          "data": {
            "text/html": [
              "<div>\n",
              "<style scoped>\n",
              "    .dataframe tbody tr th:only-of-type {\n",
              "        vertical-align: middle;\n",
              "    }\n",
              "\n",
              "    .dataframe tbody tr th {\n",
              "        vertical-align: top;\n",
              "    }\n",
              "\n",
              "    .dataframe thead th {\n",
              "        text-align: right;\n",
              "    }\n",
              "</style>\n",
              "<table border=\"1\" class=\"dataframe\">\n",
              "  <thead>\n",
              "    <tr style=\"text-align: right;\">\n",
              "      <th></th>\n",
              "      <th>instrument</th>\n",
              "      <th>$close</th>\n",
              "      <th>$volume</th>\n",
              "      <th>$open</th>\n",
              "      <th>$high</th>\n",
              "      <th>$low</th>\n",
              "    </tr>\n",
              "    <tr>\n",
              "      <th>datetime</th>\n",
              "      <th></th>\n",
              "      <th></th>\n",
              "      <th></th>\n",
              "      <th></th>\n",
              "      <th></th>\n",
              "      <th></th>\n",
              "    </tr>\n",
              "  </thead>\n",
              "  <tbody>\n",
              "    <tr>\n",
              "      <th>1999-12-31</th>\n",
              "      <td>AAPL</td>\n",
              "      <td>1.000000</td>\n",
              "      <td>1.503736e+08</td>\n",
              "      <td>0.981763</td>\n",
              "      <td>1.000608</td>\n",
              "      <td>0.967781</td>\n",
              "    </tr>\n",
              "    <tr>\n",
              "      <th>2000-01-03</th>\n",
              "      <td>AAPL</td>\n",
              "      <td>1.088754</td>\n",
              "      <td>4.918448e+08</td>\n",
              "      <td>1.020061</td>\n",
              "      <td>1.094225</td>\n",
              "      <td>0.989058</td>\n",
              "    </tr>\n",
              "    <tr>\n",
              "      <th>2000-01-04</th>\n",
              "      <td>AAPL</td>\n",
              "      <td>0.996960</td>\n",
              "      <td>4.703467e+08</td>\n",
              "      <td>1.052887</td>\n",
              "      <td>1.075988</td>\n",
              "      <td>0.984194</td>\n",
              "    </tr>\n",
              "    <tr>\n",
              "      <th>2000-01-05</th>\n",
              "      <td>AAPL</td>\n",
              "      <td>1.011550</td>\n",
              "      <td>7.144751e+08</td>\n",
              "      <td>1.009118</td>\n",
              "      <td>1.075380</td>\n",
              "      <td>1.001823</td>\n",
              "    </tr>\n",
              "    <tr>\n",
              "      <th>2000-01-06</th>\n",
              "      <td>AAPL</td>\n",
              "      <td>0.924012</td>\n",
              "      <td>7.049752e+08</td>\n",
              "      <td>1.032219</td>\n",
              "      <td>1.040729</td>\n",
              "      <td>0.924012</td>\n",
              "    </tr>\n",
              "    <tr>\n",
              "      <th>...</th>\n",
              "      <td>...</td>\n",
              "      <td>...</td>\n",
              "      <td>...</td>\n",
              "      <td>...</td>\n",
              "      <td>...</td>\n",
              "      <td>...</td>\n",
              "    </tr>\n",
              "    <tr>\n",
              "      <th>2020-11-04</th>\n",
              "      <td>MSFT</td>\n",
              "      <td>5.807628</td>\n",
              "      <td>1.576521e+09</td>\n",
              "      <td>5.744020</td>\n",
              "      <td>5.859427</td>\n",
              "      <td>5.701078</td>\n",
              "    </tr>\n",
              "    <tr>\n",
              "      <th>2020-11-05</th>\n",
              "      <td>MSFT</td>\n",
              "      <td>5.992815</td>\n",
              "      <td>1.344331e+09</td>\n",
              "      <td>5.959267</td>\n",
              "      <td>6.015091</td>\n",
              "      <td>5.935380</td>\n",
              "    </tr>\n",
              "    <tr>\n",
              "      <th>2020-11-06</th>\n",
              "      <td>MSFT</td>\n",
              "      <td>6.004356</td>\n",
              "      <td>9.401309e+08</td>\n",
              "      <td>5.965171</td>\n",
              "      <td>6.021533</td>\n",
              "      <td>5.851644</td>\n",
              "    </tr>\n",
              "    <tr>\n",
              "      <th>2020-11-09</th>\n",
              "      <td>MSFT</td>\n",
              "      <td>5.861306</td>\n",
              "      <td>1.654141e+09</td>\n",
              "      <td>6.023680</td>\n",
              "      <td>6.122446</td>\n",
              "      <td>5.847618</td>\n",
              "    </tr>\n",
              "    <tr>\n",
              "      <th>2020-11-10</th>\n",
              "      <td>MSFT</td>\n",
              "      <td>5.663236</td>\n",
              "      <td>1.641103e+09</td>\n",
              "      <td>5.756903</td>\n",
              "      <td>5.810580</td>\n",
              "      <td>5.628614</td>\n",
              "    </tr>\n",
              "  </tbody>\n",
              "</table>\n",
              "<p>10500 rows × 6 columns</p>\n",
              "</div>"
            ],
            "text/plain": [
              "           instrument    $close       $volume     $open     $high      $low\n",
              "datetime                                                                   \n",
              "1999-12-31       AAPL  1.000000  1.503736e+08  0.981763  1.000608  0.967781\n",
              "2000-01-03       AAPL  1.088754  4.918448e+08  1.020061  1.094225  0.989058\n",
              "2000-01-04       AAPL  0.996960  4.703467e+08  1.052887  1.075988  0.984194\n",
              "2000-01-05       AAPL  1.011550  7.144751e+08  1.009118  1.075380  1.001823\n",
              "2000-01-06       AAPL  0.924012  7.049752e+08  1.032219  1.040729  0.924012\n",
              "...               ...       ...           ...       ...       ...       ...\n",
              "2020-11-04       MSFT  5.807628  1.576521e+09  5.744020  5.859427  5.701078\n",
              "2020-11-05       MSFT  5.992815  1.344331e+09  5.959267  6.015091  5.935380\n",
              "2020-11-06       MSFT  6.004356  9.401309e+08  5.965171  6.021533  5.851644\n",
              "2020-11-09       MSFT  5.861306  1.654141e+09  6.023680  6.122446  5.847618\n",
              "2020-11-10       MSFT  5.663236  1.641103e+09  5.756903  5.810580  5.628614\n",
              "\n",
              "[10500 rows x 6 columns]"
            ]
          },
          "execution_count": 122,
          "metadata": {},
          "output_type": "execute_result"
        }
      ],
      "source": [
        "df = index_data.reset_index()\n",
        "df = df.set_index('datetime')\n",
        "df"
      ]
    },
    {
      "cell_type": "code",
      "execution_count": 123,
      "metadata": {
        "id": "qgVgyazEqzku"
      },
      "outputs": [
        {
          "name": "stdout",
          "output_type": "stream",
          "text": [
            "1\n",
            "2\n"
          ]
        },
        {
          "data": {
            "image/png": "[encoded data removed]",
            "text/plain": [
              "<Figure size 1500x1000 with 2 Axes>"
            ]
          },
          "metadata": {},
          "output_type": "display_data"
        }
      ],
      "source": [
        "# Let's see a historical view of the closing price\n",
        "plt.figure(figsize=(15, 10))\n",
        "plt.subplots_adjust(top=1.25, bottom=1.2)\n",
        "\n",
        "for i, company in enumerate(index_name, 1):\n",
        "    print(i)\n",
        "    plt.subplot(1, 2, i)\n",
        "    df.loc[df['instrument'] == index_list[i-1]]['$close'].plot()\n",
        "    plt.ylabel('Close')\n",
        "    plt.xlabel(None)\n",
        "    plt.title(f\"Closing Price of {index_list[i - 1]}\")\n",
        "    \n",
        "plt.tight_layout()"
      ]
    },
    {
      "cell_type": "markdown",
      "metadata": {},
      "source": [
        "## Step 3: Data Preprocessing"
      ]
    },
    {
      "cell_type": "code",
      "execution_count": 124,
      "metadata": {},
      "outputs": [
        {
          "data": {
            "text/plain": [
              "array([[0.00437381, 0.00423312, 0.00417523, 0.00424891, 0.00434857],\n",
              "       [0.00489503, 0.01557725, 0.00439456, 0.00478353, 0.00447701],\n",
              "       [0.00435596, 0.01486306, 0.00458255, 0.00467938, 0.00444765],\n",
              "       ...,\n",
              "       [0.03376257, 0.03046992, 0.03271419, 0.03292195, 0.03383157],\n",
              "       [0.03292249, 0.05419028, 0.03304925, 0.03349824, 0.03380727],\n",
              "       [0.03175929, 0.05375717, 0.03152148, 0.03171726, 0.03248518]],\n",
              "      dtype=float32)"
            ]
          },
          "execution_count": 124,
          "metadata": {},
          "output_type": "execute_result"
        }
      ],
      "source": [
        "from sklearn.preprocessing import MinMaxScaler\n",
        "\n",
        "scaler = MinMaxScaler()\n",
        "stocks_data_scaled = scaler.fit_transform(stocks_df)\n",
        "stocks_data_scaled"
      ]
    },
    {
      "cell_type": "code",
      "execution_count": 125,
      "metadata": {},
      "outputs": [],
      "source": [
        "train_size = int(len(stocks_data_scaled) * 0.7)\n",
        "valid_size = int(len(stocks_data_scaled) * 0.2)\n",
        "train_data = stocks_data_scaled[:train_size]\n",
        "valid_data = stocks_data_scaled[train_size:train_size + valid_size]\n",
        "test_data = stocks_data_scaled[train_size + valid_size:]"
      ]
    },
    {
      "cell_type": "code",
      "execution_count": 126,
      "metadata": {},
      "outputs": [],
      "source": [
        "# # Normalize your data\n",
        "# # Here you should write the normalization logic. It's a placeholder.\n",
        "# normalized_data = df.reset_index()\n",
        "# normalized_data = normalized_data.set_index(['instrument','datetime'])\n",
        "# normalized_data = (normalized_data - normalized_data.mean()) / normalized_data.std()\n",
        "# normalized_data = normalized_data.reset_index()\n",
        "# normalized_data = normalized_data.set_index(['datetime'])\n",
        "# normalized_data"
      ]
    },
    {
      "cell_type": "markdown",
      "metadata": {
        "id": "4QCY3e2prCKc"
      },
      "source": [
        "## Step 4: Define the RNN Model"
      ]
    },
    {
      "cell_type": "code",
      "execution_count": 127,
      "metadata": {
        "colab": {
          "base_uri": "https://localhost:8080/"
        },
        "id": "ywsbO2fUdE_h",
        "outputId": "684ef5c6-dd08-43bb-e966-5ad7ab9b4a22"
      },
      "outputs": [],
      "source": [
        "import torch\n",
        "import torch.nn as nn\n",
        "\n",
        "class RNN(nn.Module):\n",
        "    def __init__(self, input_size, hidden_size, num_layers, output_size):\n",
        "        super(RNN, self).__init__()\n",
        "        self.hidden_size = hidden_size\n",
        "        self.num_layers = num_layers\n",
        "        self.rnn = nn.RNN(input_size, hidden_size, num_layers, batch_first=True)\n",
        "        self.fc = nn.Linear(hidden_size, output_size)\n",
        "\n",
        "    def forward(self, x):\n",
        "        h0 = torch.zeros(self.num_layers, x.size(0), self.hidden_size).to(x.device)\n",
        "        out, _ = self.rnn(x, h0)\n",
        "        out = self.fc(out[:, -1, :])\n",
        "        return out"
      ]
    },
    {
      "cell_type": "code",
      "execution_count": 128,
      "metadata": {},
      "outputs": [],
      "source": [
        "import torch\n",
        "import torch.nn as nn\n",
        "\n",
        "class StockRNN(nn.Module):\n",
        "    def __init__(self, input_size, hidden_size, num_layers):\n",
        "        super(StockRNN, self).__init__()\n",
        "        self.rnn = nn.RNN(input_size, hidden_size, num_layers, batch_first=True)\n",
        "        self.fc = nn.Linear(hidden_size, 1)\n",
        "\n",
        "    def forward(self, x):\n",
        "        out, _ = self.rnn(x)\n",
        "        out = self.fc(out[:, -1, :])\n",
        "        return out\n",
        "\n",
        "model = StockRNN(input_size=5, hidden_size=10, num_layers=2)"
      ]
    },
    {
      "cell_type": "markdown",
      "metadata": {},
      "source": [
        "## training model"
      ]
    },
    {
      "cell_type": "code",
      "execution_count": 129,
      "metadata": {},
      "outputs": [
        {
          "ename": "IndexError",
          "evalue": "too many indices for tensor of dimension 2",
          "output_type": "error",
          "traceback": [
            "\u001b[1;31m---------------------------------------------------------------------------\u001b[0m",
            "\u001b[1;31mIndexError\u001b[0m                                Traceback (most recent call last)",
            "\u001b[1;32m~\\AppData\\Local\\Temp\\ipykernel_20840\\2199103189.py\u001b[0m in \u001b[0;36m<module>\u001b[1;34m\u001b[0m\n\u001b[0;32m     10\u001b[0m \u001b[1;33m\u001b[0m\u001b[0m\n\u001b[0;32m     11\u001b[0m     \u001b[1;31m# Forward pass\u001b[0m\u001b[1;33m\u001b[0m\u001b[1;33m\u001b[0m\u001b[1;33m\u001b[0m\u001b[0m\n\u001b[1;32m---> 12\u001b[1;33m     \u001b[0moutputs\u001b[0m \u001b[1;33m=\u001b[0m \u001b[0mmodel\u001b[0m\u001b[1;33m(\u001b[0m\u001b[0minputs\u001b[0m\u001b[1;33m)\u001b[0m\u001b[1;33m\u001b[0m\u001b[1;33m\u001b[0m\u001b[0m\n\u001b[0m\u001b[0;32m     13\u001b[0m     \u001b[0mloss\u001b[0m \u001b[1;33m=\u001b[0m \u001b[0mcriterion\u001b[0m\u001b[1;33m(\u001b[0m\u001b[0moutputs\u001b[0m\u001b[1;33m,\u001b[0m \u001b[0mtargets\u001b[0m\u001b[1;33m)\u001b[0m\u001b[1;33m\u001b[0m\u001b[1;33m\u001b[0m\u001b[0m\n\u001b[0;32m     14\u001b[0m \u001b[1;33m\u001b[0m\u001b[0m\n",
            "\u001b[1;32mc:\\Users\\possa\\.conda\\envs\\Deep_learning\\lib\\site-packages\\torch\\nn\\modules\\module.py\u001b[0m in \u001b[0;36m_call_impl\u001b[1;34m(self, *input, **kwargs)\u001b[0m\n\u001b[0;32m   1128\u001b[0m         if not (self._backward_hooks or self._forward_hooks or self._forward_pre_hooks or _global_backward_hooks\n\u001b[0;32m   1129\u001b[0m                 or _global_forward_hooks or _global_forward_pre_hooks):\n\u001b[1;32m-> 1130\u001b[1;33m             \u001b[1;32mreturn\u001b[0m \u001b[0mforward_call\u001b[0m\u001b[1;33m(\u001b[0m\u001b[1;33m*\u001b[0m\u001b[0minput\u001b[0m\u001b[1;33m,\u001b[0m \u001b[1;33m**\u001b[0m\u001b[0mkwargs\u001b[0m\u001b[1;33m)\u001b[0m\u001b[1;33m\u001b[0m\u001b[1;33m\u001b[0m\u001b[0m\n\u001b[0m\u001b[0;32m   1131\u001b[0m         \u001b[1;31m# Do not call functions when jit is used\u001b[0m\u001b[1;33m\u001b[0m\u001b[1;33m\u001b[0m\u001b[1;33m\u001b[0m\u001b[0m\n\u001b[0;32m   1132\u001b[0m         \u001b[0mfull_backward_hooks\u001b[0m\u001b[1;33m,\u001b[0m \u001b[0mnon_full_backward_hooks\u001b[0m \u001b[1;33m=\u001b[0m \u001b[1;33m[\u001b[0m\u001b[1;33m]\u001b[0m\u001b[1;33m,\u001b[0m \u001b[1;33m[\u001b[0m\u001b[1;33m]\u001b[0m\u001b[1;33m\u001b[0m\u001b[1;33m\u001b[0m\u001b[0m\n",
            "\u001b[1;32m~\\AppData\\Local\\Temp\\ipykernel_20840\\1143782451.py\u001b[0m in \u001b[0;36mforward\u001b[1;34m(self, x)\u001b[0m\n\u001b[0;32m     10\u001b[0m     \u001b[1;32mdef\u001b[0m \u001b[0mforward\u001b[0m\u001b[1;33m(\u001b[0m\u001b[0mself\u001b[0m\u001b[1;33m,\u001b[0m \u001b[0mx\u001b[0m\u001b[1;33m)\u001b[0m\u001b[1;33m:\u001b[0m\u001b[1;33m\u001b[0m\u001b[1;33m\u001b[0m\u001b[0m\n\u001b[0;32m     11\u001b[0m         \u001b[0mout\u001b[0m\u001b[1;33m,\u001b[0m \u001b[0m_\u001b[0m \u001b[1;33m=\u001b[0m \u001b[0mself\u001b[0m\u001b[1;33m.\u001b[0m\u001b[0mrnn\u001b[0m\u001b[1;33m(\u001b[0m\u001b[0mx\u001b[0m\u001b[1;33m)\u001b[0m\u001b[1;33m\u001b[0m\u001b[1;33m\u001b[0m\u001b[0m\n\u001b[1;32m---> 12\u001b[1;33m         \u001b[0mout\u001b[0m \u001b[1;33m=\u001b[0m \u001b[0mself\u001b[0m\u001b[1;33m.\u001b[0m\u001b[0mfc\u001b[0m\u001b[1;33m(\u001b[0m\u001b[0mout\u001b[0m\u001b[1;33m[\u001b[0m\u001b[1;33m:\u001b[0m\u001b[1;33m,\u001b[0m \u001b[1;33m-\u001b[0m\u001b[1;36m1\u001b[0m\u001b[1;33m,\u001b[0m \u001b[1;33m:\u001b[0m\u001b[1;33m]\u001b[0m\u001b[1;33m)\u001b[0m\u001b[1;33m\u001b[0m\u001b[1;33m\u001b[0m\u001b[0m\n\u001b[0m\u001b[0;32m     13\u001b[0m         \u001b[1;32mreturn\u001b[0m \u001b[0mout\u001b[0m\u001b[1;33m\u001b[0m\u001b[1;33m\u001b[0m\u001b[0m\n\u001b[0;32m     14\u001b[0m \u001b[1;33m\u001b[0m\u001b[0m\n",
            "\u001b[1;31mIndexError\u001b[0m: too many indices for tensor of dimension 2"
          ]
        }
      ],
      "source": [
        "criterion = nn.MSELoss()\n",
        "num_epochs = 5\n",
        "optimizer = torch.optim.Adam(model.parameters(), lr=0.001)\n",
        "\n",
        "# Training loop (pseudo-code)\n",
        "for epoch in range(num_epochs):\n",
        "    # Convert numpy arrays to torch tensors\n",
        "    inputs = torch.from_numpy(train_data)\n",
        "    targets = ...\n",
        "\n",
        "    # Forward pass\n",
        "    outputs = model(inputs)\n",
        "    loss = criterion(outputs, targets)\n",
        "\n",
        "    # Backward and optimize\n",
        "    optimizer.zero_grad()\n",
        "    loss.backward()\n",
        "    optimizer.step()"
      ]
    },
    {
      "cell_type": "code",
      "execution_count": null,
      "metadata": {
        "colab": {
          "base_uri": "https://localhost:8080/"
        },
        "id": "WAjIyn7VrJNj",
        "outputId": "d284c2d1-5609-47a7-e4c6-daa824e60129"
      },
      "outputs": [],
      "source": [
        "num_epochs = 5\n",
        "opt_func = torch.optim.Adam\n",
        "lr = 0.1\n",
        "model = NaturalSceneClassification()\n",
        "#fitting the model on training data and record the result after each epoch\n",
        "history = fit(num_epochs, lr, model, trainloader, testloader, opt_func)"
      ]
    },
    {
      "cell_type": "code",
      "execution_count": null,
      "metadata": {
        "colab": {
          "base_uri": "https://localhost:8080/",
          "height": 472
        },
        "id": "ZnDT13hkmbih",
        "outputId": "00c4fda7-88cc-47bd-f294-b5bbda6315ea"
      },
      "outputs": [],
      "source": [
        "def plot_accuracies(history):\n",
        "    \"\"\" Plot the history of accuracies\"\"\"\n",
        "    accuracies = [x['val_acc'] for x in history]\n",
        "    plt.plot(accuracies, '-x')\n",
        "    plt.xlabel('epoch')\n",
        "    plt.ylabel('accuracy')\n",
        "    plt.title('Accuracy vs. No. of epochs');\n",
        "def plot_losses(history):\n",
        "    \"\"\" Plot the losses in each epoch\"\"\"\n",
        "    train_losses = [x.get('train_loss') for x in history]\n",
        "    val_losses = [x['val_loss'] for x in history]\n",
        "    plt.plot(train_losses, '-bx')\n",
        "    plt.plot(val_losses, '-rx')\n",
        "    plt.xlabel('epoch')\n",
        "    plt.ylabel('loss')\n",
        "    plt.legend(['Training', 'Validation'])\n",
        "    plt.title('Loss vs. No. of epochs');"
      ]
    },
    {
      "cell_type": "markdown",
      "metadata": {
        "id": "BBy5cfontOOV"
      },
      "source": [
        "### 6. Evaluation with Testing Set"
      ]
    }
  ],
  "metadata": {
    "accelerator": "GPU",
    "colab": {
      "authorship_tag": "ABX9TyMC+s84TNkoeeWMnYMVbqgZ",
      "gpuType": "T4",
      "mount_file_id": "1xEZolkKP54VfWGnmb0PvoHpg6MRlUS8h",
      "provenance": []
    },
    "kernelspec": {
      "display_name": "Python 3",
      "name": "python3"
    },
    "language_info": {
      "codemirror_mode": {
        "name": "ipython",
        "version": 3
      },
      "file_extension": ".py",
      "mimetype": "text/x-python",
      "name": "python",
      "nbconvert_exporter": "python",
      "pygments_lexer": "ipython3",
      "version": "3.7.16"
    }
  },
  "nbformat": 4,
  "nbformat_minor": 0
}
