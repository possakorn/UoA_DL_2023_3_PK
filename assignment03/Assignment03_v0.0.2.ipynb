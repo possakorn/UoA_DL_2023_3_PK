{
  "cells": [
    {
      "cell_type": "markdown",
      "metadata": {
        "id": "2EP7shVVj0tL"
      },
      "source": [
        "# Assessment 3: RNNs for stock price prediction"
      ]
    },
    {
      "cell_type": "code",
      "execution_count": 2,
      "metadata": {},
      "outputs": [],
      "source": [
        "import sys, site\n",
        "from pathlib import Path\n",
        "\n",
        "################################# NOTE #################################\n",
        "#  Please be aware that if colab installs the latest numpy and pyqlib  #\n",
        "#  in this cell, users should RESTART the runtime in order to run the  #\n",
        "#  following cells successfully.                                       #\n",
        "########################################################################\n",
        "\n",
        "try:\n",
        "    import qlib\n",
        "except ImportError:\n",
        "    # install qlib\n",
        "    ! pip install --upgrade numpy\n",
        "    ! pip install pyqlib\n",
        "    if \"google.colab\" in sys.modules:\n",
        "        # The Google colab environment is a little outdated. We have to downgrade the pyyaml to make it compatible with other packages\n",
        "        ! pip install pyyaml==5.4.1\n",
        "    # reload\n",
        "    site.main()\n",
        "\n",
        "scripts_dir = Path.cwd().parent.joinpath(\"scripts\")\n",
        "if not scripts_dir.joinpath(\"get_data.py\").exists():\n",
        "    # download get_data.py script\n",
        "    scripts_dir = Path(\"~/tmp/qlib_code/scripts\").expanduser().resolve()\n",
        "    scripts_dir.mkdir(parents=True, exist_ok=True)\n",
        "    import requests\n",
        "\n",
        "    with requests.get(\"https://raw.githubusercontent.com/microsoft/qlib/main/scripts/get_data.py\", timeout=10) as resp:\n",
        "        with open(scripts_dir.joinpath(\"get_data.py\"), \"wb\") as fp:\n",
        "            fp.write(resp.content)"
      ]
    },
    {
      "cell_type": "code",
      "execution_count": 3,
      "metadata": {
        "id": "vqbmgXmni9po"
      },
      "outputs": [
        {
          "name": "stderr",
          "output_type": "stream",
          "text": [
            "c:\\Users\\possa\\.conda\\envs\\Deep_learning\\lib\\site-packages\\torchvision\\io\\image.py:13: UserWarning: Failed to load image Python extension: [WinError 127] The specified procedure could not be found\n",
            "  warn(f\"Failed to load image Python extension: {e}\")\n"
          ]
        }
      ],
      "source": [
        "## Dataset\n",
        "import qlib\n",
        "from qlib.constant import REG_US\n",
        "from qlib.utils import exists_qlib_data, init_instance_by_config\n",
        "from qlib.workflow import R\n",
        "from qlib.workflow.record_temp import SignalRecord, PortAnaRecord\n",
        "from qlib.utils import flatten_dict\n",
        "## Data manioulation\n",
        "import pandas as pd\n",
        "import numpy as np\n",
        "import datetime as dt\n",
        "## visualization\n",
        "import plotly\n",
        "import matplotlib.pyplot as plt\n",
        "import seaborn as sns\n",
        "\n",
        "## pytorch part\n",
        "import torch\n",
        "## pytorch: dataset\n",
        "import torchvision\n",
        "from torchvision import models\n",
        "## pytorch: network and function\n",
        "import torch.nn as nn\n",
        "import torch.nn.functional as F\n",
        "import torch.optim as optim\n",
        "from torch.autograd import Variable\n",
        "\n",
        "\n",
        "from torchsummary import summary\n",
        "\n",
        "from torchvision import datasets, transforms\n",
        "from torch.utils.data import DataLoader, TensorDataset, Dataset\n",
        "\n",
        "\n",
        "from sklearn.model_selection import train_test_split\n",
        "from sklearn.preprocessing import StandardScaler\n"
      ]
    },
    {
      "cell_type": "code",
      "execution_count": 4,
      "metadata": {
        "colab": {
          "base_uri": "https://localhost:8080/"
        },
        "id": "bWdVE73zj_Lc",
        "outputId": "a0d7651a-602f-480d-cf6c-8fbf98ffd884"
      },
      "outputs": [
        {
          "name": "stdout",
          "output_type": "stream",
          "text": [
            "Using device: cpu\n",
            "\n"
          ]
        }
      ],
      "source": [
        "# setting device on GPU if available, else CPU\n",
        "torch.cuda.empty_cache()\n",
        "# device = torch.device('cuda' if torch.cuda.is_available() else 'cpu')\n",
        "device = torch.device('cpu' if torch.cuda.is_available() else 'cpu')\n",
        "print('Using device:', device)\n",
        "print()\n",
        "\n",
        "\n",
        "#Additional Info when using cuda\n",
        "if device.type == 'cuda':\n",
        "    print(torch.cuda.get_device_name(0))\n",
        "    print('Memory Usage:')\n",
        "    print('Allocated:', round(torch.cuda.memory_allocated(0)/1024**3,1), 'GB')\n",
        "    print('Cached:   ', round(torch.cuda.memory_cached(0)/1024**3,1), 'GB')\n",
        "\n",
        "# Set the seed for reproducibility\n",
        "def set_seed(seed):\n",
        "    np.random.seed(seed)\n",
        "    torch.manual_seed(seed)\n",
        "    if torch.cuda.is_available():\n",
        "        torch.cuda.manual_seed(seed)\n",
        "        torch.cuda.manual_seed_all(seed)  # if you are using multi-GPU.\n",
        "        torch.backends.cudnn.deterministic = True\n",
        "        torch.backends.cudnn.benchmark = False\n"
      ]
    },
    {
      "cell_type": "markdown",
      "metadata": {
        "id": "lL7naWpLkRJr"
      },
      "source": [
        "## Step01: Data exploration"
      ]
    },
    {
      "cell_type": "code",
      "execution_count": 5,
      "metadata": {},
      "outputs": [
        {
          "name": "stderr",
          "output_type": "stream",
          "text": [
            "[4840:MainThread](2023-11-15 15:37:30,598) INFO - qlib.Initialization - [config.py:416] - default_conf: client.\n",
            "[4840:MainThread](2023-11-15 15:37:30,604) INFO - qlib.Initialization - [__init__.py:74] - qlib successfully initialized based on client settings.\n",
            "[4840:MainThread](2023-11-15 15:37:30,605) INFO - qlib.Initialization - [__init__.py:76] - data_path={'__DEFAULT_FREQ': WindowsPath('C:/Users/possa/.qlib/qlib_data/us_data')}\n"
          ]
        }
      ],
      "source": [
        "# use default data\n",
        "# NOTE: need to download data from remote: python scripts/get_data.py qlib_data_cn --target_dir ~/.qlib/qlib_data/cn_data\n",
        "# from qlib.config import REG_US\n",
        "provider_uri = \"~/.qlib/qlib_data/us_data\"  # target_dir\n",
        "if not exists_qlib_data(provider_uri):\n",
        "    print(f\"Qlib data is not found in {provider_uri}\")\n",
        "    sys.path.append(str(scripts_dir))\n",
        "    from get_data import GetData\n",
        "\n",
        "    GetData().qlib_data(target_dir=provider_uri, region=REG_US)\n",
        "qlib.init(provider_uri=provider_uri, region=REG_US)"
      ]
    },
    {
      "cell_type": "code",
      "execution_count": 6,
      "metadata": {
        "id": "oj7kB9S6kUEo"
      },
      "outputs": [
        {
          "name": "stdout",
          "output_type": "stream",
          "text": [
            "Period since 1999-12-31 to 2020-11-10: 7620 days, 0:00:00\n"
          ]
        }
      ],
      "source": [
        "from qlib.data import D\n",
        "# parameter selection\n",
        "# index_list  = ['^GSPC','^IXIC','^DJI']\n",
        "# index_list  = ['AAPL', 'MSFT']\n",
        "# index_name  = ['Apple', 'Microsoft']\n",
        "# index_list  = ['AAPL']\n",
        "# index_name  = ['Apple']\n",
        "# fields = ['$close', '$volume', '$open', '$high', '$low']\n",
        "\n",
        "# df = D.features(D.instruments(\"all\"), [\"$close\"], freq=\"day\")\n",
        "# inst = D.list_instruments(D.instruments(symbols ), freq=\"day\", as_list=True) # show the selecting symbols \n",
        "\n",
        "# Fetch daily data for the indices\n",
        "def set_df():\n",
        "    # select the index & Fleids\n",
        "    index_list  = ['AAPL']\n",
        "    # index_list  = ['AAPL', 'MSFT']\n",
        "    fields = ['$close', '$volume', '$open', '$high', '$low']\n",
        "    \n",
        "    # download dataset\n",
        "    df = D.features(index_list , fields, freq='day')\n",
        "    \n",
        "    # manipulated the dataset\n",
        "    df = df.reset_index()\n",
        "    df.columns = ['symbols','date','close','volume','open','high','low']\n",
        "    df.date = df.date.dt.date\n",
        "    print(f\"Period since {min(df.date)} to {max(df.date)}: {max(df.date) - min(df.date)}\")\n",
        "    return df, index_list\n",
        "\n",
        "df, index_list = set_df()"
      ]
    },
    {
      "cell_type": "code",
      "execution_count": 7,
      "metadata": {},
      "outputs": [
        {
          "data": {
            "text/html": [
              "<div>\n",
              "<style scoped>\n",
              "    .dataframe tbody tr th:only-of-type {\n",
              "        vertical-align: middle;\n",
              "    }\n",
              "\n",
              "    .dataframe tbody tr th {\n",
              "        vertical-align: top;\n",
              "    }\n",
              "\n",
              "    .dataframe thead th {\n",
              "        text-align: right;\n",
              "    }\n",
              "</style>\n",
              "<table border=\"1\" class=\"dataframe\">\n",
              "  <thead>\n",
              "    <tr style=\"text-align: right;\">\n",
              "      <th></th>\n",
              "      <th>symbols</th>\n",
              "      <th>date</th>\n",
              "      <th>close</th>\n",
              "      <th>volume</th>\n",
              "      <th>open</th>\n",
              "      <th>high</th>\n",
              "      <th>low</th>\n",
              "    </tr>\n",
              "  </thead>\n",
              "  <tbody>\n",
              "    <tr>\n",
              "      <th>5245</th>\n",
              "      <td>AAPL</td>\n",
              "      <td>2020-11-04</td>\n",
              "      <td>146.096085</td>\n",
              "      <td>108765200.0</td>\n",
              "      <td>145.066620</td>\n",
              "      <td>146.909500</td>\n",
              "      <td>142.791611</td>\n",
              "    </tr>\n",
              "    <tr>\n",
              "      <th>5246</th>\n",
              "      <td>AAPL</td>\n",
              "      <td>2020-11-05</td>\n",
              "      <td>151.281586</td>\n",
              "      <td>99442752.0</td>\n",
              "      <td>149.908951</td>\n",
              "      <td>152.031448</td>\n",
              "      <td>148.536331</td>\n",
              "    </tr>\n",
              "    <tr>\n",
              "      <th>5247</th>\n",
              "      <td>AAPL</td>\n",
              "      <td>2020-11-06</td>\n",
              "      <td>151.109711</td>\n",
              "      <td>89901624.0</td>\n",
              "      <td>150.638641</td>\n",
              "      <td>151.759003</td>\n",
              "      <td>147.850449</td>\n",
              "    </tr>\n",
              "    <tr>\n",
              "      <th>5248</th>\n",
              "      <td>AAPL</td>\n",
              "      <td>2020-11-09</td>\n",
              "      <td>148.092346</td>\n",
              "      <td>121364944.0</td>\n",
              "      <td>153.414108</td>\n",
              "      <td>155.311081</td>\n",
              "      <td>147.748611</td>\n",
              "    </tr>\n",
              "    <tr>\n",
              "      <th>5249</th>\n",
              "      <td>AAPL</td>\n",
              "      <td>2020-11-10</td>\n",
              "      <td>147.646759</td>\n",
              "      <td>108411280.0</td>\n",
              "      <td>147.112030</td>\n",
              "      <td>149.709244</td>\n",
              "      <td>145.304153</td>\n",
              "    </tr>\n",
              "  </tbody>\n",
              "</table>\n",
              "</div>"
            ],
            "text/plain": [
              "     symbols        date       close       volume        open        high  \\\n",
              "5245    AAPL  2020-11-04  146.096085  108765200.0  145.066620  146.909500   \n",
              "5246    AAPL  2020-11-05  151.281586   99442752.0  149.908951  152.031448   \n",
              "5247    AAPL  2020-11-06  151.109711   89901624.0  150.638641  151.759003   \n",
              "5248    AAPL  2020-11-09  148.092346  121364944.0  153.414108  155.311081   \n",
              "5249    AAPL  2020-11-10  147.646759  108411280.0  147.112030  149.709244   \n",
              "\n",
              "             low  \n",
              "5245  142.791611  \n",
              "5246  148.536331  \n",
              "5247  147.850449  \n",
              "5248  147.748611  \n",
              "5249  145.304153  "
            ]
          },
          "execution_count": 7,
          "metadata": {},
          "output_type": "execute_result"
        }
      ],
      "source": [
        "df.tail(5)"
      ]
    },
    {
      "cell_type": "markdown",
      "metadata": {
        "id": "h1L2jeNDMKmh"
      },
      "source": [
        "### Exploratory Image analysis"
      ]
    },
    {
      "cell_type": "code",
      "execution_count": 8,
      "metadata": {
        "id": "qgVgyazEqzku"
      },
      "outputs": [
        {
          "data": {
            "image/png": "[encoded data removed]",
            "text/plain": [
              "<Figure size 1500x1000 with 1 Axes>"
            ]
          },
          "metadata": {},
          "output_type": "display_data"
        }
      ],
      "source": [
        "def plot_timeline(df):\n",
        "# Let's see a historical view of the closing price\n",
        "    plt.figure(figsize=(15, 10))\n",
        "    plt.subplots_adjust(top=1.25, bottom=1.2)\n",
        "\n",
        "    for i, company in enumerate(index_list, 1):\n",
        "        plt.subplot(1, 2, i)\n",
        "        df.loc[df['symbols'] == index_list[i-1]]['close'].plot()\n",
        "        plt.ylabel('Close')\n",
        "        plt.xlabel(None)\n",
        "        plt.title(f\"Closing Price of {index_list[i - 1]}\")\n",
        "        \n",
        "    plt.tight_layout()\n",
        "    \n",
        "plot_timeline(df)"
      ]
    },
    {
      "cell_type": "markdown",
      "metadata": {},
      "source": [
        "## Step 2: Data Preprocessing"
      ]
    },
    {
      "cell_type": "code",
      "execution_count": 9,
      "metadata": {},
      "outputs": [
        {
          "data": {
            "text/plain": [
              "array([[0.00437381],\n",
              "       [0.00489503],\n",
              "       [0.00435596],\n",
              "       ...,\n",
              "       [0.88591343],\n",
              "       [0.86819357],\n",
              "       [0.8655768 ]], dtype=float32)"
            ]
          },
          "execution_count": 9,
          "metadata": {},
          "output_type": "execute_result"
        }
      ],
      "source": [
        "from sklearn.preprocessing import MinMaxScaler\n",
        "scaler = MinMaxScaler(feature_range=(0,1))\n",
        "\n",
        "df_scaled = df['close'].values\n",
        "df_scaled = scaler.fit_transform(df_scaled.reshape(-1,1))\n",
        "df_scaled"
      ]
    },
    {
      "cell_type": "markdown",
      "metadata": {},
      "source": [
        "## Step 03: Data splitting"
      ]
    },
    {
      "cell_type": "code",
      "execution_count": 10,
      "metadata": {},
      "outputs": [
        {
          "name": "stdout",
          "output_type": "stream",
          "text": [
            "Training size: 3674 period 1999-12-31 to 2014-08-08 \n",
            "Validation size: 1050 period 2014-08-11 to 2018-10-09\n",
            "test_data size: 526 period 2018-10-10 to 2020-11-10\n"
          ]
        }
      ],
      "source": [
        "# splitting criteria training 70%, validation 20% and testing 10%\n",
        "train_size = int(len(df_scaled) * 0.7)\n",
        "valid_size = int(len(df_scaled) * 0.2)\n",
        "\n",
        "train_data = df_scaled[:train_size]\n",
        "valid_data = df_scaled[train_size:train_size + valid_size]\n",
        "test_data = df_scaled[train_size + valid_size:]\n",
        "\n",
        "print(f\"Training size: {len(train_data)} period {df.date[0]} to {df.date[train_size-1]} \\nValidation size: {len(valid_data)} period {df.date[train_size]} to {df.date[train_size + valid_size-1]}\\ntest_data size: {len(test_data)} period {df.date[train_size + valid_size]} to {df.date[len(df_scaled)-1]}\")"
      ]
    },
    {
      "cell_type": "code",
      "execution_count": 71,
      "metadata": {},
      "outputs": [],
      "source": [
        "def create_dataset(dataset,time_step):\n",
        "    X,y = [],[]\n",
        "    for i in range(len(dataset)-time_step-1):\n",
        "        a = dataset[i:i+time_step,0]\n",
        "        X.append(a)\n",
        "        y.append(dataset[i+time_step,0])\n",
        "        \n",
        "    # #RNN and LSTM takes 3D inputs, we need to change the shape of array to 3 dimensional.\n",
        "    X_output = torch.tensor(np.array(X))\n",
        "    X_output = X_output.reshape(X_output.shape[0],X_output.shape[1],1)\n",
        "    Y_output = torch.tensor(np.array(y)).unsqueeze(dim=1)\n",
        "    # return X_output,Y_output\n",
        "    return torch.utils.data.TensorDataset(X_output, Y_output)\n",
        "\n",
        "# X_train , y_train = create_dataset(train_data,50)\n",
        "# X_val, y_val = create_dataset(train_data,50)\n",
        "# X_train.shape\n",
        "\n",
        "batch_size = 8\n",
        "trainloader = torch.utils.data.DataLoader(\n",
        "    # torch.utils.data.TensorDataset(X_train, y_train), \n",
        "    create_dataset(train_data,50),\n",
        "    shuffle=True, \n",
        "    batch_size=batch_size,\n",
        "    pin_memory = True\n",
        "    )\n",
        "valloader = torch.utils.data.DataLoader(\n",
        "    create_dataset(valid_data,50),\n",
        "    batch_size=batch_size,\n",
        "    shuffle=False,\n",
        "    # num_workers=worker,\n",
        "    pin_memory = True\n",
        "    )\n",
        "testloader = torch.utils.data.DataLoader(\n",
        "    create_dataset(test_data,50),\n",
        "    batch_size=batch_size,\n",
        "    shuffle=False,\n",
        "    pin_memory = True\n",
        "    )\n"
      ]
    },
    {
      "cell_type": "markdown",
      "metadata": {
        "id": "4QCY3e2prCKc"
      },
      "source": [
        "## Step 04: Define the RNN Model"
      ]
    },
    {
      "cell_type": "code",
      "execution_count": 12,
      "metadata": {
        "colab": {
          "base_uri": "https://localhost:8080/"
        },
        "id": "ywsbO2fUdE_h",
        "outputId": "684ef5c6-dd08-43bb-e966-5ad7ab9b4a22"
      },
      "outputs": [
        {
          "data": {
            "text/plain": [
              "RNN(\n",
              "  (RNN): RNN(1, 32, num_layers=2)\n",
              "  (out): Linear(in_features=32, out_features=1, bias=True)\n",
              ")"
            ]
          },
          "execution_count": 12,
          "metadata": {},
          "output_type": "execute_result"
        }
      ],
      "source": [
        "import torch\n",
        "import torch.nn as nn\n",
        "\n",
        "class RNN(nn.Module):\n",
        "    def __init__(self, input_size, hidden_size, num_layers, output_size):\n",
        "        super(RNN, self).__init__()\n",
        "\n",
        "        self.RNN = nn.RNN(\n",
        "            input_size=input_size,\n",
        "            hidden_size=hidden_size,\n",
        "            num_layers=num_layers\n",
        "        )\n",
        "        self.out = nn.Linear(hidden_size, output_size)\n",
        "\n",
        "    def forward(self, x, h_state):\n",
        "        r_out, hidden_state = self.RNN(x, h_state)\n",
        "        \n",
        "        hidden_size = hidden_state[-1].size(-1)\n",
        "        r_out = r_out.view(-1, hidden_size)\n",
        "        outs = self.out(r_out)\n",
        "\n",
        "        return outs, hidden_state\n",
        "rnn = RNN(input_size = 1, hidden_size = 32, num_layers = 2,  output_size = 1)\n",
        "rnn    "
      ]
    },
    {
      "cell_type": "code",
      "execution_count": 13,
      "metadata": {},
      "outputs": [],
      "source": [
        "import torch\n",
        "import torch.nn as nn\n",
        "\n",
        "class StockRNN(nn.Module):\n",
        "    def __init__(self, input_size, hidden_size, num_layers):\n",
        "        super(StockRNN, self).__init__()\n",
        "        self.rnn = nn.RNN(input_size, hidden_size, num_layers, batch_first=True)\n",
        "        self.fc = nn.Linear(hidden_size, 1)\n",
        "\n",
        "    def forward(self, x):\n",
        "        out, _ = self.rnn(x)\n",
        "        out = self.fc(out[:, -1, :])\n",
        "        return out\n",
        "\n",
        "model = StockRNN(input_size=5, hidden_size=10, num_layers=2)"
      ]
    },
    {
      "cell_type": "markdown",
      "metadata": {},
      "source": [
        "## Step 05: training model"
      ]
    },
    {
      "cell_type": "code",
      "execution_count": 59,
      "metadata": {},
      "outputs": [],
      "source": [
        "import time\n",
        "from tqdm import tqdm\n",
        "\n",
        "## apply the dataloader\n",
        "set_seed(1311)\n",
        "\n",
        "def train_epoch(model, dataloader, criterion, optimizer):\n",
        "    model.train()\n",
        "    \n",
        "    # Initializing variable\n",
        "    running_loss = 0.0\n",
        "    # correct_train = 0\n",
        "    total_train = 0\n",
        "    hidden = None\n",
        "    \n",
        "    for inputs, labels in tqdm(dataloader, desc='Training'):\n",
        "        inputs, labels = inputs.to(device), labels.to(device)\n",
        "        \n",
        "        optimizer.zero_grad()\n",
        "        outputs, hidden = model(inputs, hidden)\n",
        "        hidden = hidden.data\n",
        "        \n",
        "        loss = criterion(outputs.view(-1), labels)\n",
        "        loss.backward()\n",
        "        optimizer.step()\n",
        "        \n",
        "        running_loss += loss.item() * inputs.size(0)\n",
        "        # _, preds = torch.max(outputs, 1)\n",
        "        # correct_train += torch.sum(preds == labels.data)\n",
        "        total_train += labels.size(0)\n",
        "        \n",
        "    epoch_loss = running_loss / total_train\n",
        "    # epoch_acc = correct_train.double() / total_train\n",
        "    return epoch_loss #, epoch_acc\n",
        "    \n",
        "def evaluate(model, dataloader, criterion):\n",
        "    model.eval()\n",
        "    running_loss = 0.0\n",
        "    # correct = 0\n",
        "    total = 0\n",
        "    hidden = None\n",
        "    \n",
        "    with torch.no_grad():\n",
        "        for inputs, labels in tqdm(dataloader, desc='Evaluating'):\n",
        "            inputs, labels = inputs.to(device), labels.to(device)\n",
        "            outputs, hidden = model(inputs, hidden)\n",
        "            hidden = hidden.data\n",
        "            \n",
        "            # loss = criterion(outputs, labels)\n",
        "            loss = criterion(outputs.view(-1), labels)\n",
        "            running_loss += loss.item() * inputs.size(0)\n",
        "            # _, preds = torch.max(outputs, 1)\n",
        "            # correct += torch.sum(preds == labels.data)\n",
        "            total += labels.size(0)\n",
        "    \n",
        "    loss = running_loss / total\n",
        "    # accuracy = correct.double() / total\n",
        "\n",
        "    # results = (loss, accuracy)\n",
        "    return loss\n",
        "\n",
        "def train_network(model, optimizer, criterion, scheduler, trainloader, valloader, testloader, num_epochs, model_name, dataset):\n",
        "\n",
        "    ## section00: setting path for save the model\n",
        "    set_seed(1311)\n",
        "    PATH = f'./model/{dataset}_{model_name}.pth'\n",
        "    print('Model will be saved to:', PATH)\n",
        "    print('Using device:', device, 'with seed: 1311')\n",
        "    print()\n",
        "\n",
        "    ## section01: Initialize variables\n",
        "    best_val_loss = 100000  # to track the best validation accuracy\n",
        "    # create set to collect the output\n",
        "    history = {\n",
        "        'train_loss': [],\n",
        "        'val_loss': [],\n",
        "    }\n",
        "    \n",
        "     ## section02: Training and validation the model\n",
        "    for epoch in range(num_epochs):\n",
        "        epoch_start_time = time.time()\n",
        "\n",
        "        train_loss = train_epoch(model, trainloader, criterion, optimizer)\n",
        "        val_loss = evaluate(model, valloader, criterion)\n",
        "\n",
        "        # Step the scheduler with the validation loss\n",
        "        scheduler.step()\n",
        "        \n",
        "        history['train_loss'].append(train_loss)\n",
        "        # history['train_accuracy'].append(100 * train_acc)\n",
        "        history['val_loss'].append(val_loss)\n",
        "        # history['val_accuracy'].append(100 * val_acc)\n",
        "        \n",
        "        # Save the model if it has improved on validation accuracy\n",
        "        if best_val_loss > val_loss:\n",
        "            print(\"check loss: \",best_val_loss,val_loss)\n",
        "            best_val_loss = val_loss\n",
        "            torch.save(model.state_dict(), PATH)\n",
        "            print(f'Model improved and saved to {PATH}')\n",
        "            \n",
        "        # print epoch results\n",
        "        epoch_end_time = time.time()\n",
        "        print(f'Epoch {epoch+1}/{num_epochs}, '\n",
        "              f'Train Loss: {train_loss:.4f}, '\n",
        "              f'Val Loss: {val_loss:.4f}, '\n",
        "              f'Time: {epoch_end_time - epoch_start_time:.2f}s')\n",
        "        \n",
        "    print('Training complete. Evaluating on test set with the best model...')\n",
        "    \n",
        "    ## section03: Load the best model for final evaluation on test set\n",
        "    best_model = model\n",
        "    best_model.load_state_dict(torch.load(PATH))\n",
        "    \n",
        "    test_loss = evaluate(best_model, testloader, criterion)\n",
        "    # y_pred, h_State = best_model(torch.tensor(test_data))\n",
        "    print(f'Test Loss: {test_loss:.4f}')\n",
        "    # Add test results to history\n",
        "    history['test_loss'] = test_loss\n",
        "    history['best_model'] = best_model\n",
        "    \n",
        "    return history"
      ]
    },
    {
      "cell_type": "code",
      "execution_count": 46,
      "metadata": {
        "colab": {
          "base_uri": "https://localhost:8080/",
          "height": 472
        },
        "id": "ZnDT13hkmbih",
        "outputId": "00c4fda7-88cc-47bd-f294-b5bbda6315ea"
      },
      "outputs": [],
      "source": [
        "def plot_loss(train_loss, val_loss):\n",
        "    if isinstance(train_loss[0], torch.Tensor):\n",
        "        train_loss = [x.cpu().numpy() for x in train_loss]\n",
        "    if isinstance(val_loss[0], torch.Tensor):\n",
        "        val_loss = [x.cpu().numpy() for x in val_loss]\n",
        "\n",
        "    plt.plot(train_loss, '-bx')\n",
        "    plt.plot(val_loss, '-rx')\n",
        "    plt.xlabel('epoch')\n",
        "    plt.ylabel('loss')\n",
        "    plt.legend(['Training', 'Validation'])\n",
        "    plt.title('Loss vs. No. of epochs')\n",
        "    plt.show()\n"
      ]
    },
    {
      "cell_type": "code",
      "execution_count": 54,
      "metadata": {},
      "outputs": [
        {
          "name": "stdout",
          "output_type": "stream",
          "text": [
            "Model:  RNN\n",
            "Number of parameters:  3265\n",
            "--------------------------------------------------\n"
          ]
        }
      ],
      "source": [
        "from torchsummary import summary\n",
        "for i in [rnn]:\n",
        "    print(\"Model: \", i.__class__.__name__)\n",
        "    print(\"Number of parameters: \", sum(p.numel() for p in i.parameters() if p.requires_grad))\n",
        "    # summary(i.to(device), (3, 32, 32))\n",
        "    print(\"-\"*50)"
      ]
    },
    {
      "cell_type": "code",
      "execution_count": 78,
      "metadata": {},
      "outputs": [
        {
          "name": "stdout",
          "output_type": "stream",
          "text": [
            "Model will be saved to: ./model/AAPL_simepleRNN.pth\n",
            "Using device: cpu with seed: 1311\n",
            "\n"
          ]
        },
        {
          "name": "stderr",
          "output_type": "stream",
          "text": [
            "Training: 100%|██████████| 453/453 [00:02<00:00, 200.91it/s]\n",
            "Evaluating: 100%|██████████| 125/125 [00:00<00:00, 697.52it/s]\n"
          ]
        },
        {
          "name": "stdout",
          "output_type": "stream",
          "text": [
            "check loss:  100000 0.04218338798354934\n",
            "Model improved and saved to ./model/AAPL_simepleRNN.pth\n",
            "Epoch 1/20, Train Loss: 0.0021, Val Loss: 0.0422, Time: 2.43s\n"
          ]
        },
        {
          "name": "stderr",
          "output_type": "stream",
          "text": [
            "Training: 100%|██████████| 453/453 [00:02<00:00, 192.91it/s]\n",
            "Evaluating: 100%|██████████| 125/125 [00:00<00:00, 537.67it/s]\n"
          ]
        },
        {
          "name": "stdout",
          "output_type": "stream",
          "text": [
            "check loss:  0.04218338798354934 0.04143884298470882\n",
            "Model improved and saved to ./model/AAPL_simepleRNN.pth\n",
            "Epoch 2/20, Train Loss: 0.0021, Val Loss: 0.0414, Time: 2.61s\n"
          ]
        },
        {
          "name": "stderr",
          "output_type": "stream",
          "text": [
            "Training: 100%|██████████| 453/453 [00:02<00:00, 204.85it/s]\n",
            "Evaluating: 100%|██████████| 125/125 [00:00<00:00, 673.76it/s]\n"
          ]
        },
        {
          "name": "stdout",
          "output_type": "stream",
          "text": [
            "check loss:  0.04143884298470882 0.03981985462767942\n",
            "Model improved and saved to ./model/AAPL_simepleRNN.pth\n",
            "Epoch 3/20, Train Loss: 0.0021, Val Loss: 0.0398, Time: 2.41s\n"
          ]
        },
        {
          "name": "stderr",
          "output_type": "stream",
          "text": [
            "Training: 100%|██████████| 453/453 [00:02<00:00, 200.89it/s]\n",
            "Evaluating: 100%|██████████| 125/125 [00:00<00:00, 710.60it/s]\n"
          ]
        },
        {
          "name": "stdout",
          "output_type": "stream",
          "text": [
            "check loss:  0.03981985462767942 0.023333454044075223\n",
            "Model improved and saved to ./model/AAPL_simepleRNN.pth\n",
            "Epoch 4/20, Train Loss: 0.0021, Val Loss: 0.0233, Time: 2.45s\n"
          ]
        },
        {
          "name": "stderr",
          "output_type": "stream",
          "text": [
            "Training: 100%|██████████| 453/453 [00:02<00:00, 195.15it/s]\n",
            "Evaluating: 100%|██████████| 125/125 [00:00<00:00, 687.42it/s]\n"
          ]
        },
        {
          "name": "stdout",
          "output_type": "stream",
          "text": [
            "check loss:  0.023333454044075223 0.01624992229342759\n",
            "Model improved and saved to ./model/AAPL_simepleRNN.pth\n",
            "Epoch 5/20, Train Loss: 0.0020, Val Loss: 0.0162, Time: 2.50s\n"
          ]
        },
        {
          "name": "stderr",
          "output_type": "stream",
          "text": [
            "Training: 100%|██████████| 453/453 [00:02<00:00, 192.26it/s]\n",
            "Evaluating: 100%|██████████| 125/125 [00:00<00:00, 725.51it/s]\n"
          ]
        },
        {
          "name": "stdout",
          "output_type": "stream",
          "text": [
            "Epoch 6/20, Train Loss: 0.0020, Val Loss: 0.0217, Time: 2.53s\n"
          ]
        },
        {
          "name": "stderr",
          "output_type": "stream",
          "text": [
            "Training: 100%|██████████| 453/453 [00:02<00:00, 202.38it/s]\n",
            "Evaluating: 100%|██████████| 125/125 [00:00<00:00, 716.22it/s]\n"
          ]
        },
        {
          "name": "stdout",
          "output_type": "stream",
          "text": [
            "Epoch 7/20, Train Loss: 0.0020, Val Loss: 0.0282, Time: 2.41s\n"
          ]
        },
        {
          "name": "stderr",
          "output_type": "stream",
          "text": [
            "Training: 100%|██████████| 453/453 [00:02<00:00, 202.69it/s]\n",
            "Evaluating: 100%|██████████| 125/125 [00:00<00:00, 712.01it/s]\n"
          ]
        },
        {
          "name": "stdout",
          "output_type": "stream",
          "text": [
            "Epoch 8/20, Train Loss: 0.0020, Val Loss: 0.0198, Time: 2.41s\n"
          ]
        },
        {
          "name": "stderr",
          "output_type": "stream",
          "text": [
            "Training: 100%|██████████| 453/453 [00:02<00:00, 195.79it/s]\n",
            "Evaluating: 100%|██████████| 125/125 [00:00<00:00, 649.08it/s]\n"
          ]
        },
        {
          "name": "stdout",
          "output_type": "stream",
          "text": [
            "Epoch 9/20, Train Loss: 0.0020, Val Loss: 0.0268, Time: 2.51s\n"
          ]
        },
        {
          "name": "stderr",
          "output_type": "stream",
          "text": [
            "Training: 100%|██████████| 453/453 [00:02<00:00, 198.64it/s]\n",
            "Evaluating: 100%|██████████| 125/125 [00:00<00:00, 662.39it/s]\n"
          ]
        },
        {
          "name": "stdout",
          "output_type": "stream",
          "text": [
            "Epoch 10/20, Train Loss: 0.0020, Val Loss: 0.0245, Time: 2.47s\n"
          ]
        },
        {
          "name": "stderr",
          "output_type": "stream",
          "text": [
            "Training: 100%|██████████| 453/453 [00:02<00:00, 189.85it/s]\n",
            "Evaluating: 100%|██████████| 125/125 [00:00<00:00, 638.05it/s]\n"
          ]
        },
        {
          "name": "stdout",
          "output_type": "stream",
          "text": [
            "Epoch 11/20, Train Loss: 0.0020, Val Loss: 0.0191, Time: 2.58s\n"
          ]
        },
        {
          "name": "stderr",
          "output_type": "stream",
          "text": [
            "Training: 100%|██████████| 453/453 [00:02<00:00, 187.10it/s]\n",
            "Evaluating: 100%|██████████| 125/125 [00:00<00:00, 739.53it/s]\n"
          ]
        },
        {
          "name": "stdout",
          "output_type": "stream",
          "text": [
            "Epoch 12/20, Train Loss: 0.0020, Val Loss: 0.0323, Time: 2.59s\n"
          ]
        },
        {
          "name": "stderr",
          "output_type": "stream",
          "text": [
            "Training: 100%|██████████| 453/453 [00:02<00:00, 194.95it/s]\n",
            "Evaluating: 100%|██████████| 125/125 [00:00<00:00, 624.10it/s]\n"
          ]
        },
        {
          "name": "stdout",
          "output_type": "stream",
          "text": [
            "Epoch 13/20, Train Loss: 0.0020, Val Loss: 0.0237, Time: 2.54s\n"
          ]
        },
        {
          "name": "stderr",
          "output_type": "stream",
          "text": [
            "Training: 100%|██████████| 453/453 [00:02<00:00, 201.65it/s]\n",
            "Evaluating: 100%|██████████| 125/125 [00:00<00:00, 638.11it/s]\n"
          ]
        },
        {
          "name": "stdout",
          "output_type": "stream",
          "text": [
            "Epoch 14/20, Train Loss: 0.0020, Val Loss: 0.0234, Time: 2.45s\n"
          ]
        },
        {
          "name": "stderr",
          "output_type": "stream",
          "text": [
            "Training: 100%|██████████| 453/453 [00:02<00:00, 195.79it/s]\n",
            "Evaluating: 100%|██████████| 125/125 [00:00<00:00, 696.86it/s]\n"
          ]
        },
        {
          "name": "stdout",
          "output_type": "stream",
          "text": [
            "Epoch 15/20, Train Loss: 0.0020, Val Loss: 0.0267, Time: 2.50s\n"
          ]
        },
        {
          "name": "stderr",
          "output_type": "stream",
          "text": [
            "Training: 100%|██████████| 453/453 [00:02<00:00, 196.98it/s]\n",
            "Evaluating: 100%|██████████| 125/125 [00:00<00:00, 493.60it/s]\n"
          ]
        },
        {
          "name": "stdout",
          "output_type": "stream",
          "text": [
            "Epoch 16/20, Train Loss: 0.0020, Val Loss: 0.0218, Time: 2.55s\n"
          ]
        },
        {
          "name": "stderr",
          "output_type": "stream",
          "text": [
            "Training: 100%|██████████| 453/453 [00:02<00:00, 196.42it/s]\n",
            "Evaluating: 100%|██████████| 125/125 [00:00<00:00, 688.40it/s]\n"
          ]
        },
        {
          "name": "stdout",
          "output_type": "stream",
          "text": [
            "Epoch 17/20, Train Loss: 0.0020, Val Loss: 0.0210, Time: 2.49s\n"
          ]
        },
        {
          "name": "stderr",
          "output_type": "stream",
          "text": [
            "Training: 100%|██████████| 453/453 [00:02<00:00, 192.77it/s]\n",
            "Evaluating: 100%|██████████| 125/125 [00:00<00:00, 473.47it/s]\n"
          ]
        },
        {
          "name": "stdout",
          "output_type": "stream",
          "text": [
            "Epoch 18/20, Train Loss: 0.0020, Val Loss: 0.0244, Time: 2.63s\n"
          ]
        },
        {
          "name": "stderr",
          "output_type": "stream",
          "text": [
            "Training: 100%|██████████| 453/453 [00:02<00:00, 167.50it/s]\n",
            "Evaluating: 100%|██████████| 125/125 [00:00<00:00, 602.98it/s]\n"
          ]
        },
        {
          "name": "stdout",
          "output_type": "stream",
          "text": [
            "Epoch 19/20, Train Loss: 0.0020, Val Loss: 0.0251, Time: 2.92s\n"
          ]
        },
        {
          "name": "stderr",
          "output_type": "stream",
          "text": [
            "Training: 100%|██████████| 453/453 [00:02<00:00, 182.44it/s]\n",
            "Evaluating: 100%|██████████| 125/125 [00:00<00:00, 715.09it/s]\n"
          ]
        },
        {
          "name": "stdout",
          "output_type": "stream",
          "text": [
            "Epoch 20/20, Train Loss: 0.0020, Val Loss: 0.0270, Time: 2.66s\n",
            "Training complete. Evaluating on test set with the best model...\n"
          ]
        },
        {
          "name": "stderr",
          "output_type": "stream",
          "text": [
            "Evaluating: 100%|██████████| 60/60 [00:00<00:00, 566.67it/s]\n"
          ]
        },
        {
          "name": "stdout",
          "output_type": "stream",
          "text": [
            "Test Loss: 0.1680\n"
          ]
        },
        {
          "data": {
            "image/png": "[encoded data removed]",
            "text/plain": [
              "<Figure size 640x480 with 1 Axes>"
            ]
          },
          "metadata": {},
          "output_type": "display_data"
        }
      ],
      "source": [
        "num_epochs = 20\n",
        "model_name = \"simepleRNN\"\n",
        "dataset = index_list[0]\n",
        "model = rnn\n",
        "\n",
        "\n",
        "# optimizer = optim.SGD(model.parameters(), lr=0.0001, momentum=0.9, weight_decay=0.001)\n",
        "optimizer = torch.optim.Adam(model.parameters(),lr=0.001)\n",
        "criterion = nn.MSELoss()\n",
        "from torch.optim.lr_scheduler import CosineAnnealingLR\n",
        "scheduler = CosineAnnealingLR(optimizer, T_max=50, eta_min=0)\n",
        "\n",
        "\n",
        "rnn_results = train_network(model,\n",
        "                            optimizer,\n",
        "                            criterion,\n",
        "                            scheduler,\n",
        "                            trainloader,\n",
        "                            valloader,\n",
        "                            testloader,\n",
        "                            num_epochs,\n",
        "                            model_name,\n",
        "                            dataset\n",
        "                            )\n",
        "plot_loss(rnn_results['train_loss'], rnn_results['val_loss'])"
      ]
    },
    {
      "cell_type": "code",
      "execution_count": 85,
      "metadata": {},
      "outputs": [
        {
          "data": {
            "image/png": "[encoded data removed]",
            "text/plain": [
              "<Figure size 640x480 with 1 Axes>"
            ]
          },
          "metadata": {},
          "output_type": "display_data"
        }
      ],
      "source": [
        "# train_data\n",
        "# valid_data\n",
        "# test_data\n",
        "model_pred = rnn_results['best_model']\n",
        "outputs, hidden = model_pred(torch.tensor(train_data), None)\n",
        "outputs = outputs.detach().numpy()\n",
        "plot_loss(outputs,train_data)"
      ]
    },
    {
      "cell_type": "markdown",
      "metadata": {
        "id": "BBy5cfontOOV"
      },
      "source": [
        "### 6. Evaluation with Testing Set"
      ]
    },
    {
      "cell_type": "code",
      "execution_count": 74,
      "metadata": {},
      "outputs": [
        {
          "data": {
            "image/png": "[encoded data removed]",
            "text/plain": [
              "<Figure size 640x480 with 1 Axes>"
            ]
          },
          "metadata": {},
          "output_type": "display_data"
        }
      ],
      "source": [
        "plt.plot(train_data,c='b')\n",
        "plt.plot(outputs,c='r')\n",
        "plt.xlim(0,500)\n",
        "plt.ylim(0,0.5)\n",
        "plt.legend([\"Actual value\",\"Predicted value\"])\n",
        "plt.show()"
      ]
    }
  ],
  "metadata": {
    "accelerator": "GPU",
    "colab": {
      "authorship_tag": "ABX9TyMC+s84TNkoeeWMnYMVbqgZ",
      "gpuType": "T4",
      "mount_file_id": "1xEZolkKP54VfWGnmb0PvoHpg6MRlUS8h",
      "provenance": []
    },
    "kernelspec": {
      "display_name": "Python 3",
      "name": "python3"
    },
    "language_info": {
      "codemirror_mode": {
        "name": "ipython",
        "version": 3
      },
      "file_extension": ".py",
      "mimetype": "text/x-python",
      "name": "python",
      "nbconvert_exporter": "python",
      "pygments_lexer": "ipython3",
      "version": "3.7.16"
    }
  },
  "nbformat": 4,
  "nbformat_minor": 0
}
