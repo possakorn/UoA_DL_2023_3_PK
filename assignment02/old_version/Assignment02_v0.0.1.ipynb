{
  "nbformat": 4,
  "nbformat_minor": 0,
  "metadata": {
    "colab": {
      "provenance": [],
      "mount_file_id": "1xEZolkKP54VfWGnmb0PvoHpg6MRlUS8h",
      "authorship_tag": "ABX9TyOa2WGDAU5rqxIeh13sPeJH",
      "include_colab_link": true
    },
    "kernelspec": {
      "name": "python3",
      "display_name": "Python 3"
    },
    "language_info": {
      "name": "python"
    },
    "accelerator": "TPU"
  },
  "cells": [
    {
      "cell_type": "markdown",
      "metadata": {
        "id": "view-in-github",
        "colab_type": "text"
      },
      "source": [
        "<a href=\"https://colab.research.google.com/github/possakorn/UoA_DL_2023_3_PK/blob/main/Assignment02_v0.0.1.ipynb\" target=\"_parent\"><img src=\"https://colab.research.google.com/assets/colab-badge.svg\" alt=\"Open In Colab\"/></a>"
      ]
    },
    {
      "cell_type": "markdown",
      "source": [
        "# Assessment 2: CNNs for image classification"
      ],
      "metadata": {
        "id": "2EP7shVVj0tL"
      }
    },
    {
      "cell_type": "code",
      "execution_count": 1,
      "metadata": {
        "id": "vqbmgXmni9po"
      },
      "outputs": [],
      "source": [
        "## Data manioulation\n",
        "import pandas as pd\n",
        "import numpy as np\n",
        "## visualization\n",
        "import plotly\n",
        "import matplotlib.pyplot as plt\n",
        "import seaborn as sns\n",
        "\n",
        "## NN\n",
        "import torch\n",
        "import torch.nn as nn\n",
        "import torch.optim as optim\n",
        "import torchvision\n",
        "\n",
        "from torchvision import datasets, transforms\n",
        "from torch.utils.data import DataLoader, TensorDataset, Dataset\n",
        "\n",
        "\n",
        "from sklearn.model_selection import train_test_split\n",
        "from sklearn.preprocessing import StandardScaler\n",
        "\n",
        "from fastai.vision.all import *"
      ]
    },
    {
      "cell_type": "code",
      "source": [
        "# setting device on GPU if available, else CPU\n",
        "torch.cuda.empty_cache()\n",
        "device = torch.device('cuda' if torch.cuda.is_available() else 'cpu')\n",
        "print('Using device:', device)\n",
        "print()\n",
        "\n",
        "\n",
        "#Additional Info when using cuda\n",
        "if device.type == 'cuda':\n",
        "    print(torch.cuda.get_device_name(0))\n",
        "    print('Memory Usage:')\n",
        "    print('Allocated:', round(torch.cuda.memory_allocated(0)/1024**3,1), 'GB')\n",
        "    print('Cached:   ', round(torch.cuda.memory_cached(0)/1024**3,1), 'GB')\n"
      ],
      "metadata": {
        "colab": {
          "base_uri": "https://localhost:8080/"
        },
        "id": "bWdVE73zj_Lc",
        "outputId": "2139db90-302b-4925-c62c-e152c8a3f757"
      },
      "execution_count": 2,
      "outputs": [
        {
          "output_type": "stream",
          "name": "stdout",
          "text": [
            "Using device: cpu\n",
            "\n"
          ]
        }
      ]
    },
    {
      "cell_type": "markdown",
      "source": [
        "## Step01: Data exploration"
      ],
      "metadata": {
        "id": "lL7naWpLkRJr"
      }
    },
    {
      "cell_type": "code",
      "source": [
        "## Download from cifar10\n",
        "training_data = datasets.FashionMNIST(\n",
        "    root=\"data\",\n",
        "    train=True,\n",
        "    download=True,\n",
        "    transform= transforms.ToTensor()\n",
        ")\n",
        "\n",
        "test_data = datasets.FashionMNIST(\n",
        "    root=\"data\",\n",
        "    train=False,\n",
        "    download=True,\n",
        "    transform= transforms.ToTensor()\n",
        ")"
      ],
      "metadata": {
        "colab": {
          "base_uri": "https://localhost:8080/"
        },
        "id": "oj7kB9S6kUEo",
        "outputId": "ddca1ce1-3c6e-44fe-b611-7bc709910cb4"
      },
      "execution_count": 3,
      "outputs": [
        {
          "output_type": "stream",
          "name": "stdout",
          "text": [
            "Downloading https://www.cs.toronto.edu/~kriz/cifar-10-python.tar.gz to data/cifar-10-python.tar.gz\n"
          ]
        },
        {
          "output_type": "stream",
          "name": "stderr",
          "text": [
            "100%|██████████| 170498071/170498071 [00:01<00:00, 97137078.19it/s] \n"
          ]
        },
        {
          "output_type": "stream",
          "name": "stdout",
          "text": [
            "Extracting data/cifar-10-python.tar.gz to data\n",
            "Files already downloaded and verified\n"
          ]
        }
      ]
    },
    {
      "cell_type": "code",
      "source": [
        "batch_size = 2\n",
        "## apply the dataloader\n",
        "torch.manual_seed(0)\n",
        "trainloader = torch.utils.data.DataLoader(\n",
        "    training_data,\n",
        "    batch_size=batch_size,\n",
        "    shuffle=True\n",
        "    # num_workers=2\n",
        "    )\n",
        "\n",
        "testloader = torch.utils.data.DataLoader(\n",
        "    test_data,\n",
        "    batch_size=batch_size,\n",
        "    shuffle=False\n",
        "    # num_workers=2\n",
        "    )\n",
        "\n",
        "## the class labels\n",
        "classes = ('plane', 'car', 'bird', 'cat','deer', 'dog', 'frog', 'horse', 'ship', 'truck')"
      ],
      "metadata": {
        "id": "qgVgyazEqzku"
      },
      "execution_count": 4,
      "outputs": []
    },
    {
      "cell_type": "code",
      "source": [
        "labels_map = {\n",
        "    0: \"plane\",\n",
        "    1: \"car\",\n",
        "    2: \"bird\",\n",
        "    3: \"cat\",\n",
        "    4: \"deer\",\n",
        "    5: \"dog\",\n",
        "    6: \"frog\",\n",
        "    7: \"horse\",\n",
        "    8: \"ship\",\n",
        "    9: \"truck\",\n",
        "}\n",
        "figure = plt.figure(figsize=(8, 8))\n",
        "cols, rows = 3, 3\n",
        "torch.manual_seed(0)\n",
        "for i in range(1, cols * rows + 1):\n",
        "  sample_idx = torch.randint(len(training_data), size=(1,)).item()\n",
        "  img, label = training_data[sample_idx]\n",
        "  figure.add_subplot(rows, cols, i)\n",
        "  plt.title(labels_map[label])\n",
        "  plt.axis(\"off\")\n",
        "  plt.imshow(img.permute(1, 2, 0), cmap=\"gray\")\n",
        "plt.show()"
      ],
      "metadata": {
        "colab": {
          "base_uri": "https://localhost:8080/",
          "height": 675
        },
        "id": "H6tl-2qLksQ1",
        "outputId": "3a824ac6-086b-4797-f5b4-27b96b876cbe"
      },
      "execution_count": 6,
      "outputs": [
        {
          "output_type": "display_data",
          "data": {
            "text/plain": [
              "<Figure size 800x800 with 9 Axes>"
            ],
            "image/png": "[encoded data removed]"
          },
          "metadata": {}
        }
      ]
    },
    {
      "cell_type": "markdown",
      "source": [
        "### Calculation function"
      ],
      "metadata": {
        "id": "QMBsC9B7tfL-"
      }
    },
    {
      "cell_type": "code",
      "source": [
        "# Defining functions for getting accuracy and training the network.\n",
        "def get_accuracy(pred_arr, original_arr):\n",
        "    pred_arr = (pred_arr >= 0.5).float()*2 - 1  # Convert probabilities to binary predictions\n",
        "    correct = (pred_arr == original_arr).float().sum()\n",
        "    return (correct / original_arr.numel()) * 100  # use numel to get the number of elements in the tensor\n",
        "\n",
        "def train_network(model, optimizer, criterion, X_train, y_train, X_test, y_test, num_epochs):\n",
        "    train_loss=[]\n",
        "    train_accuracy=[]\n",
        "    test_accuracy=[]\n",
        "\n",
        "    for epoch in range(num_epochs):\n",
        "        #forward feed\n",
        "        output_train = model(X_train)\n",
        "        train_accuracy.append(get_accuracy(output_train, y_train))\n",
        "        #calculate the loss\n",
        "        loss = criterion(output_train, y_train)\n",
        "        train_loss.append(loss.item())\n",
        "\n",
        "        #clear out the gradients from the last step loss.backward()\n",
        "        optimizer.zero_grad()\n",
        "\n",
        "        #backward propagation: calculate gradients\n",
        "        loss.backward()\n",
        "\n",
        "        #update the weights\n",
        "        optimizer.step()\n",
        "\n",
        "        with torch.no_grad():\n",
        "            output_test = model(X_test)\n",
        "            # print(output_test,y_test)\n",
        "            test_accuracy.append(get_accuracy(output_test, y_test))\n",
        "\n",
        "        if (epoch + 1) % 100 == 0:\n",
        "            # print(f\"Epoch {epoch+1}/{num_epochs}, Train Loss: {loss.item():.4f}, Train Accuracy: {sum(train_accuracy)/len(train_accuracy):.2f}, Test Accuracy: {sum(test_accuracy)/len(test_accuracy):.2f}\")\n",
        "            print(f\"Epoch {epoch+1}/{num_epochs}, Train Loss: {loss.item():.4f}, Train Accuracy: {train_accuracy[-1]:.2f}, Test Accuracy: {test_accuracy[-1]:.2f}\")\n",
        "\n",
        "    return train_loss, train_accuracy, test_accuracy\n",
        "\n",
        "\n",
        "def plot_performance_loss(metric):\n",
        "\n",
        "    df = pd.DataFrame(dict(\n",
        "        epoch = [i+1 for i in range(len(metric[0]))],\n",
        "        train_loss = metric[0],\n",
        "        train_accuracy = [ float(i) for i in metric[1] ],\n",
        "        test_accuracy = [ float(i) for i in metric[2] ]\n",
        "    ))\n",
        "\n",
        "    plt.figure()\n",
        "    plt.plot(df['epoch'], df['train_loss'])\n",
        "\n",
        "    plt.xlabel(\"Epoch\")\n",
        "    plt.ylabel(\"Binary Loss\")\n",
        "    # plt.title(\"With Labels\")\n",
        "    plt.show()\n",
        "\n",
        "def plot_performance_accuracy(metric):\n",
        "\n",
        "    df = pd.DataFrame(dict(\n",
        "        epoch = [i+1 for i in range(len(metric[0]))],\n",
        "        train_loss = metric[0],\n",
        "        train_accuracy = [ float(i) for i in metric[1] ],\n",
        "        test_accuracy = [ float(i) for i in metric[2] ]\n",
        "    ))\n",
        "\n",
        "    plt.figure()\n",
        "    plt.plot(df['epoch'], df['train_accuracy'])\n",
        "    plt.plot(df['epoch'], df['test_accuracy'],\n",
        "         color='red',\n",
        "         linewidth=1.0,\n",
        "         linestyle='--'\n",
        "        )\n",
        "\n",
        "    plt.xlabel(\"Epoch\")\n",
        "    plt.ylabel(\"Binary Loss\")\n",
        "    # plt.title(\"With Labels\")\n",
        "    plt.show()"
      ],
      "metadata": {
        "id": "cXaSeGH9tcph"
      },
      "execution_count": 7,
      "outputs": []
    },
    {
      "cell_type": "markdown",
      "source": [
        "## Initialize network"
      ],
      "metadata": {
        "id": "4QCY3e2prCKc"
      }
    },
    {
      "cell_type": "code",
      "source": [
        "class Net(nn.Module):\n",
        "    def __init__(self):\n",
        "        super(Net, self).__init__()\n",
        "        self.conv1 = nn.Conv2d(3, 6, 5)\n",
        "        self.pool = nn.MaxPool2d(2, 2)\n",
        "        self.conv2 = nn.Conv2d(6, 16, 5)\n",
        "        self.fc1 = nn.Linear(16 * 5 * 5, 120)\n",
        "        self.fc2 = nn.Linear(120, 84)\n",
        "        self.fc3 = nn.Linear(84, 10)\n",
        "\n",
        "    def forward(self, x):\n",
        "        x = self.pool(F.relu(self.conv1(x)))\n",
        "        x = self.pool(F.relu(self.conv2(x)))\n",
        "        x = x.view(-1, 16 * 5 * 5)\n",
        "        x = F.relu(self.fc1(x))\n",
        "        x = F.relu(self.fc2(x))\n",
        "        x = self.fc3(x)\n",
        "        return x\n",
        "\n",
        "simple_net = nn.Sequential(\n",
        "    nn.Linear(28*28,30),\n",
        "    nn.ReLU(),\n",
        "    nn.Linear(30,1)\n",
        ")\n",
        "\n",
        "net = Net()\n",
        "print(net)\n",
        "print(simple_net)"
      ],
      "metadata": {
        "colab": {
          "base_uri": "https://localhost:8080/"
        },
        "id": "WAjIyn7VrJNj",
        "outputId": "d235d621-a905-4880-c547-9b8bdc11fc41"
      },
      "execution_count": 8,
      "outputs": [
        {
          "output_type": "stream",
          "name": "stdout",
          "text": [
            "Net(\n",
            "  (conv1): Conv2d(3, 6, kernel_size=(5, 5), stride=(1, 1))\n",
            "  (pool): MaxPool2d(kernel_size=2, stride=2, padding=0, dilation=1, ceil_mode=False)\n",
            "  (conv2): Conv2d(6, 16, kernel_size=(5, 5), stride=(1, 1))\n",
            "  (fc1): Linear(in_features=400, out_features=120, bias=True)\n",
            "  (fc2): Linear(in_features=120, out_features=84, bias=True)\n",
            "  (fc3): Linear(in_features=84, out_features=10, bias=True)\n",
            ")\n",
            "Sequential(\n",
            "  (0): Linear(in_features=784, out_features=30, bias=True)\n",
            "  (1): ReLU()\n",
            "  (2): Linear(in_features=30, out_features=1, bias=True)\n",
            ")\n"
          ]
        }
      ]
    },
    {
      "cell_type": "markdown",
      "source": [
        "## Loss and optimizer"
      ],
      "metadata": {
        "id": "kvOAFyC2rJg8"
      }
    },
    {
      "cell_type": "code",
      "source": [
        "criterion = nn.CrossEntropyLoss()\n",
        "optimizer = optim.SGD(net.parameters(), lr=0.001, momentum=0.9)"
      ],
      "metadata": {
        "id": "ZYrUVmURrNP4"
      },
      "execution_count": 9,
      "outputs": []
    },
    {
      "cell_type": "code",
      "source": [
        "epoch_num = 2\n",
        "for epoch in range(epoch_num):  # loop over the dataset multiple times\n",
        "    running_loss = 0.0\n",
        "    for i, data in enumerate(trainloader, 0):\n",
        "        # get the inputs; data is a list of [inputs, labels]\n",
        "        inputs, labels = data\n",
        "        inputs, labels = inputs.to(device), labels.to(device)\n",
        "\n",
        "        # zero the parameter gradients\n",
        "        optimizer.zero_grad()\n",
        "\n",
        "        # forward + backward + optimize\n",
        "        outputs = net(inputs)\n",
        "        loss = criterion(outputs, labels)\n",
        "        loss.backward()\n",
        "        optimizer.step()\n",
        "\n",
        "        # print statistics\n",
        "        running_loss += loss.item()\n",
        "        if i % 2000 == 1999:    # print every 2000 mini-batches\n",
        "            print('[%d, %5d] loss: %.3f' %\n",
        "                  (epoch + 1, i + 1, running_loss / 2000))\n",
        "            running_loss = 0.0\n",
        "\n",
        "print('Finished Training')"
      ],
      "metadata": {
        "colab": {
          "base_uri": "https://localhost:8080/"
        },
        "id": "Q_TvS9a7uPYD",
        "outputId": "d1b56846-f3ee-4fe5-c337-f6bfa80f6d9a"
      },
      "execution_count": 10,
      "outputs": [
        {
          "output_type": "stream",
          "name": "stdout",
          "text": [
            "[1,  2000] loss: 2.297\n",
            "[1,  4000] loss: 2.129\n",
            "[1,  6000] loss: 2.006\n",
            "[1,  8000] loss: 1.912\n",
            "[1, 10000] loss: 1.802\n",
            "[1, 12000] loss: 1.734\n",
            "[1, 14000] loss: 1.716\n",
            "[1, 16000] loss: 1.657\n",
            "[1, 18000] loss: 1.616\n",
            "[1, 20000] loss: 1.608\n",
            "[1, 22000] loss: 1.571\n",
            "[1, 24000] loss: 1.560\n",
            "[2,  2000] loss: 1.549\n",
            "[2,  4000] loss: 1.516\n",
            "[2,  6000] loss: 1.482\n",
            "[2,  8000] loss: 1.496\n",
            "[2, 10000] loss: 1.454\n",
            "[2, 12000] loss: 1.469\n",
            "[2, 14000] loss: 1.445\n",
            "[2, 16000] loss: 1.447\n",
            "[2, 18000] loss: 1.453\n",
            "[2, 20000] loss: 1.432\n",
            "[2, 22000] loss: 1.460\n",
            "[2, 24000] loss: 1.417\n",
            "Finished Training\n"
          ]
        }
      ]
    },
    {
      "cell_type": "code",
      "source": [
        "PATH = './cifar_net.pth'\n",
        "torch.save(net.state_dict(), PATH)"
      ],
      "metadata": {
        "id": "wIkYIT9UwOPe"
      },
      "execution_count": 11,
      "outputs": []
    },
    {
      "cell_type": "markdown",
      "source": [
        "### Testing data"
      ],
      "metadata": {
        "id": "BBy5cfontOOV"
      }
    },
    {
      "cell_type": "code",
      "source": [
        "dataiter = iter(testloader)\n",
        "images, labels = next(dataiter)\n",
        "\n",
        "def imshow(img):\n",
        "    img = img / 2 + 0.5     # unnormalize\n",
        "    npimg = img.numpy()\n",
        "    plt.imshow(np.transpose(npimg, (1, 2, 0)))\n",
        "    plt.show()\n",
        "# print images\n",
        "imshow(torchvision.utils.make_grid(images))\n",
        "print('GroundTruth: ', ' '.join('%5s' % classes[labels[j]] for j in range(len(labels))))"
      ],
      "metadata": {
        "colab": {
          "base_uri": "https://localhost:8080/",
          "height": 334
        },
        "id": "uJeIKQALsy5w",
        "outputId": "2e41ab72-807e-42dc-bf2f-33a96251ba63"
      },
      "execution_count": 19,
      "outputs": [
        {
          "output_type": "display_data",
          "data": {
            "text/plain": [
              "<Figure size 640x480 with 1 Axes>"
            ],
            "image/png": "[encoded data removed]"
          },
          "metadata": {}
        },
        {
          "output_type": "stream",
          "name": "stdout",
          "text": [
            "GroundTruth:    cat  ship\n"
          ]
        }
      ]
    },
    {
      "cell_type": "code",
      "source": [
        "net = Net()\n",
        "net.load_state_dict(torch.load(PATH))"
      ],
      "metadata": {
        "colab": {
          "base_uri": "https://localhost:8080/"
        },
        "id": "_V_MSARbwnzo",
        "outputId": "a04ae9fc-6a03-4138-e187-9fac39c33847"
      },
      "execution_count": 13,
      "outputs": [
        {
          "output_type": "execute_result",
          "data": {
            "text/plain": [
              "<All keys matched successfully>"
            ]
          },
          "metadata": {},
          "execution_count": 13
        }
      ]
    },
    {
      "cell_type": "code",
      "source": [
        "outputs = net(images)"
      ],
      "metadata": {
        "id": "1QGrzAsvwpU0"
      },
      "execution_count": 14,
      "outputs": []
    },
    {
      "cell_type": "code",
      "source": [
        "_, predicted = torch.max(outputs, 1)\n",
        "\n",
        "print('Predicted: ', ' '.join('%5s' % classes[predicted[j]]\n",
        "                              for j in range(2)))"
      ],
      "metadata": {
        "colab": {
          "base_uri": "https://localhost:8080/"
        },
        "id": "fGQJJlOTwuw5",
        "outputId": "5daaefbb-3e30-428c-b3f1-8570ef92974a"
      },
      "execution_count": 15,
      "outputs": [
        {
          "output_type": "stream",
          "name": "stdout",
          "text": [
            "Predicted:    cat plane\n"
          ]
        }
      ]
    },
    {
      "cell_type": "code",
      "source": [
        "correct = 0\n",
        "total = 0\n",
        "with torch.no_grad():\n",
        "    for data in testloader:\n",
        "        images, labels = data\n",
        "        outputs = net(images)\n",
        "        _, predicted = torch.max(outputs.data, 1)\n",
        "        total += labels.size(0)\n",
        "        correct += (predicted == labels).sum().item()\n",
        "\n",
        "print('Accuracy of the network on the 10000 test images: %d %%' % (\n",
        "    100 * correct / total))"
      ],
      "metadata": {
        "colab": {
          "base_uri": "https://localhost:8080/"
        },
        "id": "ev0EeNeawzYs",
        "outputId": "509de45e-7045-4a54-be45-699c203b8bd5"
      },
      "execution_count": 16,
      "outputs": [
        {
          "output_type": "stream",
          "name": "stdout",
          "text": [
            "Accuracy of the network on the 10000 test images: 49 %\n"
          ]
        }
      ]
    },
    {
      "cell_type": "code",
      "source": [
        "class_correct = list(0. for i in range(10))\n",
        "class_total = list(0. for i in range(10))\n",
        "with torch.no_grad():\n",
        "    for data in testloader:\n",
        "        images, labels = data\n",
        "        outputs = net(images)\n",
        "        _, predicted = torch.max(outputs, 1)\n",
        "        c = (predicted == labels).squeeze()\n",
        "        for i in range(len(labels)):\n",
        "            label = labels[i]\n",
        "            class_correct[label] += c[i].item()\n",
        "            class_total[label] += 1\n",
        "\n",
        "\n",
        "for i in range(10):\n",
        "    print('Accuracy of %5s : %2d %%' % (\n",
        "        classes[i], 100 * class_correct[i] / class_total[i]))"
      ],
      "metadata": {
        "colab": {
          "base_uri": "https://localhost:8080/"
        },
        "id": "TCl10zvbw3ZN",
        "outputId": "4c64c053-4c50-4e69-cd23-64d009a42e5b"
      },
      "execution_count": 18,
      "outputs": [
        {
          "output_type": "stream",
          "name": "stdout",
          "text": [
            "Accuracy of plane : 54 %\n",
            "Accuracy of   car : 44 %\n",
            "Accuracy of  bird : 37 %\n",
            "Accuracy of   cat : 45 %\n",
            "Accuracy of  deer : 44 %\n",
            "Accuracy of   dog : 43 %\n",
            "Accuracy of  frog : 54 %\n",
            "Accuracy of horse : 53 %\n",
            "Accuracy of  ship : 63 %\n",
            "Accuracy of truck : 50 %\n"
          ]
        }
      ]
    }
  ]
}